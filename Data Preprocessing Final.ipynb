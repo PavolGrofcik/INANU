{
 "cells": [
  {
   "cell_type": "markdown",
   "metadata": {},
   "source": [
    "<p style=\"font-family: Arial; font-size:4.05em; color:gold; font-style:bold\"><br>\n",
    "Intelligent Data Analysis</p><br>"
   ]
  },
  {
   "cell_type": "markdown",
   "metadata": {},
   "source": [
    "## Part II Preprocessing  \n",
    "Pavol Grofčík  \n",
    "Dennis Sobolev"
   ]
  },
  {
   "cell_type": "code",
   "execution_count": 1,
   "metadata": {},
   "outputs": [],
   "source": [
    "#Importing of libraries\n",
    "import numpy as np\n",
    "import pandas as pd\n",
    "import matplotlib.pyplot as plt\n",
    "import seaborn as sns\n",
    "import warnings\n",
    "import math\n",
    "import json as js\n",
    "import scipy.stats as stats\n",
    "import re\n",
    "import statsmodels.api as sm\n",
    "from sklearn import neighbors\n",
    "from sklearn import datasets, linear_model\n",
    "from sklearn.metrics import mean_squared_error, r2_score\n",
    "from sklearn.preprocessing import Normalizer\n",
    "\n",
    "#Filter out warnings\n",
    "warnings.simplefilter(action='ignore', category=FutureWarning)\n",
    "warnings.simplefilter(action='ignore', category=RuntimeWarning)\n",
    "warnings.simplefilter(action=\"ignore\", category=DeprecationWarning)\n",
    "\n",
    "%matplotlib inline"
   ]
  },
  {
   "cell_type": "markdown",
   "metadata": {},
   "source": [
    "<p style=\"font-family: Arial; font-size:2.95em; color:darkblue; font-style:bold\"><br>\n",
    "Content</p><br>"
   ]
  },
  {
   "cell_type": "markdown",
   "metadata": {},
   "source": [
    "## Following Sections  \n"
   ]
  },
  {
   "cell_type": "markdown",
   "metadata": {},
   "source": [
    "In this Notebook we do repeated analysis after we make new scripts to cleanse and merge our datasets and finally prepare for phase III - **ML using Decision Trees**.  \n",
    "The sections our notebook include are as follows: \n",
    "* __Scripts for merging & cleansing datasets__\n",
    "* __Real time application of the scripts__\n",
    "* __Analysis on cleansed dataset with comparison__\n",
    "* __Description of new columns__\n",
    "* __Conclusion__"
   ]
  },
  {
   "cell_type": "markdown",
   "metadata": {},
   "source": [
    "## Part I Scripts for merging & cleansing datasets"
   ]
  },
  {
   "cell_type": "code",
   "execution_count": 2,
   "metadata": {},
   "outputs": [
    {
     "data": {
      "text/html": [
       "<div>\n",
       "<style scoped>\n",
       "    .dataframe tbody tr th:only-of-type {\n",
       "        vertical-align: middle;\n",
       "    }\n",
       "\n",
       "    .dataframe tbody tr th {\n",
       "        vertical-align: top;\n",
       "    }\n",
       "\n",
       "    .dataframe thead th {\n",
       "        text-align: right;\n",
       "    }\n",
       "</style>\n",
       "<table border=\"1\" class=\"dataframe\">\n",
       "  <thead>\n",
       "    <tr style=\"text-align: right;\">\n",
       "      <th></th>\n",
       "      <th>name</th>\n",
       "      <th>address</th>\n",
       "      <th>age</th>\n",
       "      <th>sex</th>\n",
       "      <th>date_of_birth</th>\n",
       "    </tr>\n",
       "  </thead>\n",
       "  <tbody>\n",
       "    <tr>\n",
       "      <th>0</th>\n",
       "      <td>Terry Terry</td>\n",
       "      <td>11818 Lori Crossing Apt. 802\\r\\nPughstad, DC 7...</td>\n",
       "      <td>68.0</td>\n",
       "      <td>M</td>\n",
       "      <td>1949-11-16</td>\n",
       "    </tr>\n",
       "    <tr>\n",
       "      <th>1</th>\n",
       "      <td>Edith Boudreaux</td>\n",
       "      <td>PSC 4657, Box 5446\\r\\nAPO AP 58412</td>\n",
       "      <td>75.0</td>\n",
       "      <td>F</td>\n",
       "      <td>1943-08-10</td>\n",
       "    </tr>\n",
       "    <tr>\n",
       "      <th>2</th>\n",
       "      <td>Stephen Lalk</td>\n",
       "      <td>Unit 9759 Box 9470\\r\\nDPO AP 45549</td>\n",
       "      <td>67.0</td>\n",
       "      <td>M</td>\n",
       "      <td>1951-05-28</td>\n",
       "    </tr>\n",
       "    <tr>\n",
       "      <th>3</th>\n",
       "      <td>Abraham Bruce</td>\n",
       "      <td>137 Lewis Flat Suite 762\\r\\nWest Elizabeth, AL...</td>\n",
       "      <td>34.0</td>\n",
       "      <td>?</td>\n",
       "      <td>1984-02-13</td>\n",
       "    </tr>\n",
       "    <tr>\n",
       "      <th>4</th>\n",
       "      <td>Janet Washington</td>\n",
       "      <td>995 Frank Stravenue\\r\\nSouth Matthewport, TX 8...</td>\n",
       "      <td>65.0</td>\n",
       "      <td>F</td>\n",
       "      <td>1953/06/24</td>\n",
       "    </tr>\n",
       "  </tbody>\n",
       "</table>\n",
       "</div>"
      ],
      "text/plain": [
       "               name                                            address   age  \\\n",
       "0       Terry Terry  11818 Lori Crossing Apt. 802\\r\\nPughstad, DC 7...  68.0   \n",
       "1   Edith Boudreaux                 PSC 4657, Box 5446\\r\\nAPO AP 58412  75.0   \n",
       "2      Stephen Lalk                 Unit 9759 Box 9470\\r\\nDPO AP 45549  67.0   \n",
       "3     Abraham Bruce  137 Lewis Flat Suite 762\\r\\nWest Elizabeth, AL...  34.0   \n",
       "4  Janet Washington  995 Frank Stravenue\\r\\nSouth Matthewport, TX 8...  65.0   \n",
       "\n",
       "  sex date_of_birth  \n",
       "0   M    1949-11-16  \n",
       "1   F    1943-08-10  \n",
       "2   M    1951-05-28  \n",
       "3   ?    1984-02-13  \n",
       "4   F    1953/06/24  "
      ]
     },
     "execution_count": 2,
     "metadata": {},
     "output_type": "execute_result"
    }
   ],
   "source": [
    "#Reading the dataset file and loading it into work environment. Firstly, brief look on a sample.\n",
    "df_personal = pd.read_csv(\"Datasets/personal_train.csv\", index_col=0)\n",
    "df_personal.head()"
   ]
  },
  {
   "cell_type": "code",
   "execution_count": 3,
   "metadata": {},
   "outputs": [
    {
     "data": {
      "text/html": [
       "<div>\n",
       "<style scoped>\n",
       "    .dataframe tbody tr th:only-of-type {\n",
       "        vertical-align: middle;\n",
       "    }\n",
       "\n",
       "    .dataframe tbody tr th {\n",
       "        vertical-align: top;\n",
       "    }\n",
       "\n",
       "    .dataframe thead th {\n",
       "        text-align: right;\n",
       "    }\n",
       "</style>\n",
       "<table border=\"1\" class=\"dataframe\">\n",
       "  <thead>\n",
       "    <tr style=\"text-align: right;\">\n",
       "      <th></th>\n",
       "      <th>name</th>\n",
       "      <th>address</th>\n",
       "      <th>query hyperthyroid</th>\n",
       "      <th>FTI measured</th>\n",
       "      <th>education</th>\n",
       "      <th>lithium</th>\n",
       "      <th>TT4</th>\n",
       "      <th>T4U</th>\n",
       "      <th>capital-loss</th>\n",
       "      <th>capital-gain</th>\n",
       "      <th>...</th>\n",
       "      <th>hypopituitary</th>\n",
       "      <th>medical_info</th>\n",
       "      <th>on antithyroid medication</th>\n",
       "      <th>referral source</th>\n",
       "      <th>education-num</th>\n",
       "      <th>occupation</th>\n",
       "      <th>TBG measured</th>\n",
       "      <th>TBG</th>\n",
       "      <th>race</th>\n",
       "      <th>FTI</th>\n",
       "    </tr>\n",
       "  </thead>\n",
       "  <tbody>\n",
       "    <tr>\n",
       "      <th>0</th>\n",
       "      <td>John Kasprzak</td>\n",
       "      <td>3856 Kayla Track\\r\\nLake Sara, HI 31241</td>\n",
       "      <td>f</td>\n",
       "      <td>t</td>\n",
       "      <td>HS-grad</td>\n",
       "      <td>f</td>\n",
       "      <td>118.0</td>\n",
       "      <td>1.42</td>\n",
       "      <td>0.0</td>\n",
       "      <td>0.0</td>\n",
       "      <td>...</td>\n",
       "      <td>f</td>\n",
       "      <td>{'query hypothyroid':'f','T4U measured':'t','p...</td>\n",
       "      <td>f</td>\n",
       "      <td>other</td>\n",
       "      <td>9.0</td>\n",
       "      <td>Craft-repair</td>\n",
       "      <td>f</td>\n",
       "      <td>?</td>\n",
       "      <td>White</td>\n",
       "      <td>83</td>\n",
       "    </tr>\n",
       "    <tr>\n",
       "      <th>1</th>\n",
       "      <td>Stephen Harvey</td>\n",
       "      <td>34782 Kayla Field\\r\\nSarahmouth, VT 75984</td>\n",
       "      <td>f</td>\n",
       "      <td>t</td>\n",
       "      <td>HS-grad</td>\n",
       "      <td>f</td>\n",
       "      <td>112.0</td>\n",
       "      <td>1.03</td>\n",
       "      <td>0.0</td>\n",
       "      <td>0.0</td>\n",
       "      <td>...</td>\n",
       "      <td>f</td>\n",
       "      <td>{'query hypothyroid':'f','T4U measured':'t','p...</td>\n",
       "      <td>FALSE</td>\n",
       "      <td>other</td>\n",
       "      <td>-900.0</td>\n",
       "      <td>Adm-clerical</td>\n",
       "      <td>f</td>\n",
       "      <td>?</td>\n",
       "      <td>White</td>\n",
       "      <td>109</td>\n",
       "    </tr>\n",
       "    <tr>\n",
       "      <th>2</th>\n",
       "      <td>Paul Moe</td>\n",
       "      <td>USNV Mooney\\r\\nFPO AE 29375</td>\n",
       "      <td>f</td>\n",
       "      <td>t</td>\n",
       "      <td>Some-college</td>\n",
       "      <td>f</td>\n",
       "      <td>87.0</td>\n",
       "      <td>0.96</td>\n",
       "      <td>0.0</td>\n",
       "      <td>0.0</td>\n",
       "      <td>...</td>\n",
       "      <td>f</td>\n",
       "      <td>{'query hypothyroid':'f','T4U measured':'t','p...</td>\n",
       "      <td>f</td>\n",
       "      <td>SVI</td>\n",
       "      <td>10.0</td>\n",
       "      <td>Other-service</td>\n",
       "      <td>f</td>\n",
       "      <td>?</td>\n",
       "      <td>White</td>\n",
       "      <td>90</td>\n",
       "    </tr>\n",
       "    <tr>\n",
       "      <th>3</th>\n",
       "      <td>Sarah Johnson</td>\n",
       "      <td>3633 Bryan Isle\\r\\nNorth Jamesshire, HI 69484</td>\n",
       "      <td>f</td>\n",
       "      <td>t</td>\n",
       "      <td>Doctorate</td>\n",
       "      <td>f</td>\n",
       "      <td>102.0</td>\n",
       "      <td>0.85</td>\n",
       "      <td>0.0</td>\n",
       "      <td>0.0</td>\n",
       "      <td>...</td>\n",
       "      <td>f</td>\n",
       "      <td>{'query hypothyroid':'t','T4U measured':'t','p...</td>\n",
       "      <td>f</td>\n",
       "      <td>SVI</td>\n",
       "      <td>16.0</td>\n",
       "      <td>Prof-specialty</td>\n",
       "      <td>f</td>\n",
       "      <td>?</td>\n",
       "      <td>White</td>\n",
       "      <td>119</td>\n",
       "    </tr>\n",
       "    <tr>\n",
       "      <th>4</th>\n",
       "      <td>Stacy Martinson</td>\n",
       "      <td>65701 Choi Course Apt. 280\\r\\nNorth Williamton...</td>\n",
       "      <td>f</td>\n",
       "      <td>t</td>\n",
       "      <td>Some-college</td>\n",
       "      <td>f</td>\n",
       "      <td>129.0</td>\n",
       "      <td>0.97</td>\n",
       "      <td>0.0</td>\n",
       "      <td>0.0</td>\n",
       "      <td>...</td>\n",
       "      <td>f</td>\n",
       "      <td>{'query hypothyroid':'f','T4U measured':'t','p...</td>\n",
       "      <td>F</td>\n",
       "      <td>SVI</td>\n",
       "      <td>10.0</td>\n",
       "      <td>Other-service</td>\n",
       "      <td>f</td>\n",
       "      <td>?</td>\n",
       "      <td>White</td>\n",
       "      <td>133</td>\n",
       "    </tr>\n",
       "  </tbody>\n",
       "</table>\n",
       "<p>5 rows × 33 columns</p>\n",
       "</div>"
      ],
      "text/plain": [
       "              name                                            address  \\\n",
       "0    John Kasprzak            3856 Kayla Track\\r\\nLake Sara, HI 31241   \n",
       "1   Stephen Harvey          34782 Kayla Field\\r\\nSarahmouth, VT 75984   \n",
       "2         Paul Moe                        USNV Mooney\\r\\nFPO AE 29375   \n",
       "3    Sarah Johnson      3633 Bryan Isle\\r\\nNorth Jamesshire, HI 69484   \n",
       "4  Stacy Martinson  65701 Choi Course Apt. 280\\r\\nNorth Williamton...   \n",
       "\n",
       "  query hyperthyroid FTI measured      education lithium    TT4   T4U  \\\n",
       "0                  f            t        HS-grad       f  118.0  1.42   \n",
       "1                  f            t        HS-grad       f  112.0  1.03   \n",
       "2                  f            t   Some-college       f   87.0  0.96   \n",
       "3                  f            t      Doctorate       f  102.0  0.85   \n",
       "4                  f            t   Some-college       f  129.0  0.97   \n",
       "\n",
       "   capital-loss  capital-gain ...  hypopituitary  \\\n",
       "0           0.0           0.0 ...              f   \n",
       "1           0.0           0.0 ...              f   \n",
       "2           0.0           0.0 ...              f   \n",
       "3           0.0           0.0 ...              f   \n",
       "4           0.0           0.0 ...              f   \n",
       "\n",
       "                                        medical_info  \\\n",
       "0  {'query hypothyroid':'f','T4U measured':'t','p...   \n",
       "1  {'query hypothyroid':'f','T4U measured':'t','p...   \n",
       "2  {'query hypothyroid':'f','T4U measured':'t','p...   \n",
       "3  {'query hypothyroid':'t','T4U measured':'t','p...   \n",
       "4  {'query hypothyroid':'f','T4U measured':'t','p...   \n",
       "\n",
       "   on antithyroid medication  referral source  education-num       occupation  \\\n",
       "0                          f            other            9.0     Craft-repair   \n",
       "1                      FALSE            other         -900.0     Adm-clerical   \n",
       "2                          f              SVI           10.0    Other-service   \n",
       "3                          f              SVI           16.0   Prof-specialty   \n",
       "4                          F              SVI           10.0    Other-service   \n",
       "\n",
       "  TBG measured TBG    race  FTI  \n",
       "0            f   ?   White   83  \n",
       "1            f   ?   White  109  \n",
       "2            f   ?   White   90  \n",
       "3            f   ?   White  119  \n",
       "4            f   ?   White  133  \n",
       "\n",
       "[5 rows x 33 columns]"
      ]
     },
     "execution_count": 3,
     "metadata": {},
     "output_type": "execute_result"
    }
   ],
   "source": [
    "df_other = pd.read_csv(\"Datasets/other_train.csv\", index_col=0)\n",
    "df_other.head()"
   ]
  },
  {
   "cell_type": "markdown",
   "metadata": {},
   "source": [
    "## Merging datasets"
   ]
  },
  {
   "cell_type": "markdown",
   "metadata": {},
   "source": [
    "It is obvious that both datasets have *name and address* column in common. Then we can merge our datasets to one using pandas built-in function **pd.merge()**"
   ]
  },
  {
   "cell_type": "markdown",
   "metadata": {},
   "source": [
    "The principle how me merged both datasets is based on **name** and **address** column using *inner* JOIN  \n",
    "Also we sorted it according the columns to deal with potential duplicates"
   ]
  },
  {
   "cell_type": "code",
   "execution_count": 4,
   "metadata": {},
   "outputs": [],
   "source": [
    "df_new = pd.merge(df_personal, df_other, on=[\"name\", \"address\"], how=\"inner\", sort = True, copy = True)"
   ]
  },
  {
   "cell_type": "code",
   "execution_count": 5,
   "metadata": {},
   "outputs": [
    {
     "data": {
      "text/html": [
       "<div>\n",
       "<style scoped>\n",
       "    .dataframe tbody tr th:only-of-type {\n",
       "        vertical-align: middle;\n",
       "    }\n",
       "\n",
       "    .dataframe tbody tr th {\n",
       "        vertical-align: top;\n",
       "    }\n",
       "\n",
       "    .dataframe thead th {\n",
       "        text-align: right;\n",
       "    }\n",
       "</style>\n",
       "<table border=\"1\" class=\"dataframe\">\n",
       "  <thead>\n",
       "    <tr style=\"text-align: right;\">\n",
       "      <th></th>\n",
       "      <th>name</th>\n",
       "      <th>address</th>\n",
       "      <th>age</th>\n",
       "      <th>sex</th>\n",
       "      <th>date_of_birth</th>\n",
       "      <th>query hyperthyroid</th>\n",
       "      <th>FTI measured</th>\n",
       "      <th>education</th>\n",
       "      <th>lithium</th>\n",
       "      <th>TT4</th>\n",
       "      <th>...</th>\n",
       "      <th>hypopituitary</th>\n",
       "      <th>medical_info</th>\n",
       "      <th>on antithyroid medication</th>\n",
       "      <th>referral source</th>\n",
       "      <th>education-num</th>\n",
       "      <th>occupation</th>\n",
       "      <th>TBG measured</th>\n",
       "      <th>TBG</th>\n",
       "      <th>race</th>\n",
       "      <th>FTI</th>\n",
       "    </tr>\n",
       "  </thead>\n",
       "  <tbody>\n",
       "    <tr>\n",
       "      <th>0</th>\n",
       "      <td>Aaron Johansen</td>\n",
       "      <td>744 Sandoval Causeway\\r\\nEast Robertburgh, NC ...</td>\n",
       "      <td>59.0</td>\n",
       "      <td>M</td>\n",
       "      <td>1959-08-05</td>\n",
       "      <td>f</td>\n",
       "      <td>t</td>\n",
       "      <td>Assoc-acdm</td>\n",
       "      <td>f</td>\n",
       "      <td>118.0</td>\n",
       "      <td>...</td>\n",
       "      <td>f</td>\n",
       "      <td>{'query hypothyroid':'f','T4U measured':'t','p...</td>\n",
       "      <td>f</td>\n",
       "      <td>SVHC</td>\n",
       "      <td>12.0</td>\n",
       "      <td>Craft-repair</td>\n",
       "      <td>f</td>\n",
       "      <td>?</td>\n",
       "      <td>White</td>\n",
       "      <td>129</td>\n",
       "    </tr>\n",
       "    <tr>\n",
       "      <th>1</th>\n",
       "      <td>Abigail Martinez</td>\n",
       "      <td>59351 Craig Courts\\r\\nGordonbury, WI 53797</td>\n",
       "      <td>18.0</td>\n",
       "      <td>F</td>\n",
       "      <td>99-12-09</td>\n",
       "      <td>f</td>\n",
       "      <td>t</td>\n",
       "      <td>Bachelors</td>\n",
       "      <td>f</td>\n",
       "      <td>143.0</td>\n",
       "      <td>...</td>\n",
       "      <td>f</td>\n",
       "      <td>{'query hypothyroid':'f','T4U measured':'t','p...</td>\n",
       "      <td>f</td>\n",
       "      <td>other</td>\n",
       "      <td>13.0</td>\n",
       "      <td>Exec-managerial</td>\n",
       "      <td>f</td>\n",
       "      <td>?</td>\n",
       "      <td>Black</td>\n",
       "      <td>108</td>\n",
       "    </tr>\n",
       "    <tr>\n",
       "      <th>2</th>\n",
       "      <td>Abraham Bruce</td>\n",
       "      <td>137 Lewis Flat Suite 762\\r\\nWest Elizabeth, AL...</td>\n",
       "      <td>34.0</td>\n",
       "      <td>?</td>\n",
       "      <td>1984-02-13</td>\n",
       "      <td>f</td>\n",
       "      <td>t</td>\n",
       "      <td>HS-grad</td>\n",
       "      <td>f</td>\n",
       "      <td>95.0</td>\n",
       "      <td>...</td>\n",
       "      <td>f</td>\n",
       "      <td>{'query hypothyroid':'f','T4U measured':'t','p...</td>\n",
       "      <td>f</td>\n",
       "      <td>STMW</td>\n",
       "      <td>9.0</td>\n",
       "      <td>Sales</td>\n",
       "      <td>f</td>\n",
       "      <td>?</td>\n",
       "      <td>White</td>\n",
       "      <td>96</td>\n",
       "    </tr>\n",
       "    <tr>\n",
       "      <th>3</th>\n",
       "      <td>Abraham Hicks</td>\n",
       "      <td>031 Wood Wall Apt. 152\\r\\nVictorburgh, CA 40253</td>\n",
       "      <td>29.0</td>\n",
       "      <td>M</td>\n",
       "      <td>1989-10-04</td>\n",
       "      <td>f</td>\n",
       "      <td>t</td>\n",
       "      <td>Bachelors</td>\n",
       "      <td>f</td>\n",
       "      <td>135.0</td>\n",
       "      <td>...</td>\n",
       "      <td>f</td>\n",
       "      <td>{'query hypothyroid':'f','T4U measured':'t','p...</td>\n",
       "      <td>f</td>\n",
       "      <td>other</td>\n",
       "      <td>13.0</td>\n",
       "      <td>Adm-clerical</td>\n",
       "      <td>f</td>\n",
       "      <td>?</td>\n",
       "      <td>White</td>\n",
       "      <td>157</td>\n",
       "    </tr>\n",
       "    <tr>\n",
       "      <th>4</th>\n",
       "      <td>Ada Jeffries</td>\n",
       "      <td>66827 Ortiz Radial\\r\\nWest Justin, IL 04779</td>\n",
       "      <td>70.0</td>\n",
       "      <td>F</td>\n",
       "      <td>48-04-24</td>\n",
       "      <td>f</td>\n",
       "      <td>t</td>\n",
       "      <td>Some-college</td>\n",
       "      <td>f</td>\n",
       "      <td>122.0</td>\n",
       "      <td>...</td>\n",
       "      <td>f</td>\n",
       "      <td>{'query hypothyroid':'f','T4U measured':'t','p...</td>\n",
       "      <td>f</td>\n",
       "      <td>SVI</td>\n",
       "      <td>10.0</td>\n",
       "      <td>Other-service</td>\n",
       "      <td>f</td>\n",
       "      <td>?</td>\n",
       "      <td>Black</td>\n",
       "      <td>144</td>\n",
       "    </tr>\n",
       "  </tbody>\n",
       "</table>\n",
       "<p>5 rows × 36 columns</p>\n",
       "</div>"
      ],
      "text/plain": [
       "               name                                            address   age  \\\n",
       "0    Aaron Johansen  744 Sandoval Causeway\\r\\nEast Robertburgh, NC ...  59.0   \n",
       "1  Abigail Martinez         59351 Craig Courts\\r\\nGordonbury, WI 53797  18.0   \n",
       "2     Abraham Bruce  137 Lewis Flat Suite 762\\r\\nWest Elizabeth, AL...  34.0   \n",
       "3     Abraham Hicks    031 Wood Wall Apt. 152\\r\\nVictorburgh, CA 40253  29.0   \n",
       "4      Ada Jeffries        66827 Ortiz Radial\\r\\nWest Justin, IL 04779  70.0   \n",
       "\n",
       "  sex date_of_birth query hyperthyroid FTI measured      education lithium  \\\n",
       "0   M    1959-08-05                  f            t     Assoc-acdm       f   \n",
       "1   F      99-12-09                  f            t      Bachelors       f   \n",
       "2   ?    1984-02-13                  f            t        HS-grad       f   \n",
       "3   M    1989-10-04                  f            t      Bachelors       f   \n",
       "4   F      48-04-24                  f            t   Some-college       f   \n",
       "\n",
       "     TT4 ...   hypopituitary  \\\n",
       "0  118.0 ...               f   \n",
       "1  143.0 ...               f   \n",
       "2   95.0 ...               f   \n",
       "3  135.0 ...               f   \n",
       "4  122.0 ...               f   \n",
       "\n",
       "                                        medical_info  \\\n",
       "0  {'query hypothyroid':'f','T4U measured':'t','p...   \n",
       "1  {'query hypothyroid':'f','T4U measured':'t','p...   \n",
       "2  {'query hypothyroid':'f','T4U measured':'t','p...   \n",
       "3  {'query hypothyroid':'f','T4U measured':'t','p...   \n",
       "4  {'query hypothyroid':'f','T4U measured':'t','p...   \n",
       "\n",
       "   on antithyroid medication referral source  education-num        occupation  \\\n",
       "0                          f            SVHC           12.0      Craft-repair   \n",
       "1                          f           other           13.0   Exec-managerial   \n",
       "2                          f            STMW            9.0             Sales   \n",
       "3                          f           other           13.0      Adm-clerical   \n",
       "4                          f             SVI           10.0     Other-service   \n",
       "\n",
       "   TBG measured  TBG    race  FTI  \n",
       "0             f    ?   White  129  \n",
       "1             f    ?   Black  108  \n",
       "2             f    ?   White   96  \n",
       "3             f    ?   White  157  \n",
       "4             f    ?   Black  144  \n",
       "\n",
       "[5 rows x 36 columns]"
      ]
     },
     "execution_count": 5,
     "metadata": {},
     "output_type": "execute_result"
    }
   ],
   "source": [
    "df_new.head()"
   ]
  },
  {
   "cell_type": "code",
   "execution_count": 6,
   "metadata": {
    "scrolled": true
   },
   "outputs": [
    {
     "name": "stdout",
     "output_type": "stream",
     "text": [
      "<class 'pandas.core.frame.DataFrame'>\n",
      "Int64Index: 2287 entries, 0 to 2286\n",
      "Data columns (total 36 columns):\n",
      "name                         2287 non-null object\n",
      "address                      2287 non-null object\n",
      "age                          2286 non-null float64\n",
      "sex                          2287 non-null object\n",
      "date_of_birth                2286 non-null object\n",
      "query hyperthyroid           2277 non-null object\n",
      "FTI measured                 2278 non-null object\n",
      "education                    2280 non-null object\n",
      "lithium                      2277 non-null object\n",
      "TT4                          2125 non-null float64\n",
      "T4U                          2042 non-null float64\n",
      "capital-loss                 2049 non-null float64\n",
      "capital-gain                 2282 non-null float64\n",
      "tumor                        2277 non-null object\n",
      "TSH                          2040 non-null float64\n",
      "T3                           1805 non-null float64\n",
      "fnlwgt                       2279 non-null float64\n",
      "hours-per-week               2278 non-null float64\n",
      "relationship                 2278 non-null object\n",
      "sick                         2277 non-null object\n",
      "workclass                    2140 non-null object\n",
      "TT4 measured                 2278 non-null object\n",
      "class                        2279 non-null object\n",
      "marital-status               2277 non-null object\n",
      "goitre                       2279 non-null object\n",
      "native-country               2281 non-null object\n",
      "hypopituitary                2279 non-null object\n",
      "medical_info                 2277 non-null object\n",
      "on antithyroid medication    2278 non-null object\n",
      "referral source              2276 non-null object\n",
      "education-num                2277 non-null float64\n",
      "occupation                   2274 non-null object\n",
      "TBG measured                 2280 non-null object\n",
      "TBG                          2275 non-null object\n",
      "race                         2279 non-null object\n",
      "FTI                          2276 non-null object\n",
      "dtypes: float64(10), object(26)\n",
      "memory usage: 661.1+ KB\n"
     ]
    }
   ],
   "source": [
    "#Showing the count of rows for each column in the merged dataset\n",
    "#We can see there are many Nan values\n",
    "df_new.info()"
   ]
  },
  {
   "cell_type": "markdown",
   "metadata": {},
   "source": [
    "## Removing duplicates"
   ]
  },
  {
   "cell_type": "markdown",
   "metadata": {},
   "source": [
    "The way of getting rid of duplicates can be very important, because some of duplicates can **contain specific data** that are not the same in all duplicates rows.  \n",
    "So our suggested approach is to check column in duplicates that contain Nan values and **fill it using other duplicates**. It can be very time expensive, but for every cons there are pros, and because our dataset is not so big, we can sacrifice some time and possibly extract some new information."
   ]
  },
  {
   "cell_type": "code",
   "execution_count": 7,
   "metadata": {},
   "outputs": [
    {
     "data": {
      "text/html": [
       "<div>\n",
       "<style scoped>\n",
       "    .dataframe tbody tr th:only-of-type {\n",
       "        vertical-align: middle;\n",
       "    }\n",
       "\n",
       "    .dataframe tbody tr th {\n",
       "        vertical-align: top;\n",
       "    }\n",
       "\n",
       "    .dataframe thead th {\n",
       "        text-align: right;\n",
       "    }\n",
       "</style>\n",
       "<table border=\"1\" class=\"dataframe\">\n",
       "  <thead>\n",
       "    <tr style=\"text-align: right;\">\n",
       "      <th></th>\n",
       "      <th>name</th>\n",
       "      <th>address</th>\n",
       "      <th>age</th>\n",
       "      <th>sex</th>\n",
       "      <th>date_of_birth</th>\n",
       "      <th>query hyperthyroid</th>\n",
       "      <th>FTI measured</th>\n",
       "      <th>education</th>\n",
       "      <th>lithium</th>\n",
       "      <th>TT4</th>\n",
       "      <th>...</th>\n",
       "      <th>hypopituitary</th>\n",
       "      <th>medical_info</th>\n",
       "      <th>on antithyroid medication</th>\n",
       "      <th>referral source</th>\n",
       "      <th>education-num</th>\n",
       "      <th>occupation</th>\n",
       "      <th>TBG measured</th>\n",
       "      <th>TBG</th>\n",
       "      <th>race</th>\n",
       "      <th>FTI</th>\n",
       "    </tr>\n",
       "  </thead>\n",
       "  <tbody>\n",
       "    <tr>\n",
       "      <th>754</th>\n",
       "      <td>Flora Jackson</td>\n",
       "      <td>4798 Carter Turnpike\\r\\nJosemouth, WV 19340</td>\n",
       "      <td>39.0</td>\n",
       "      <td>F</td>\n",
       "      <td>1979-02-26 00 00 00</td>\n",
       "      <td>t</td>\n",
       "      <td>t</td>\n",
       "      <td>HS-grad</td>\n",
       "      <td>f</td>\n",
       "      <td>84.0</td>\n",
       "      <td>...</td>\n",
       "      <td>NaN</td>\n",
       "      <td>{'query hypothyroid':'f','T4U measured':'t','p...</td>\n",
       "      <td>f</td>\n",
       "      <td>other</td>\n",
       "      <td>9.0</td>\n",
       "      <td>Adm-clerical</td>\n",
       "      <td>f</td>\n",
       "      <td>?</td>\n",
       "      <td>White</td>\n",
       "      <td>85</td>\n",
       "    </tr>\n",
       "    <tr>\n",
       "      <th>755</th>\n",
       "      <td>Flora Jackson</td>\n",
       "      <td>4798 Carter Turnpike\\r\\nJosemouth, WV 19340</td>\n",
       "      <td>39.0</td>\n",
       "      <td>F</td>\n",
       "      <td>1979-02-26 00 00 00</td>\n",
       "      <td>t</td>\n",
       "      <td>t</td>\n",
       "      <td>HS-grad</td>\n",
       "      <td>f</td>\n",
       "      <td>84.0</td>\n",
       "      <td>...</td>\n",
       "      <td>f</td>\n",
       "      <td>{'query hypothyroid':'f','T4U measured':'t','p...</td>\n",
       "      <td>NaN</td>\n",
       "      <td>other</td>\n",
       "      <td>9.0</td>\n",
       "      <td>Adm-clerical</td>\n",
       "      <td>NaN</td>\n",
       "      <td>?</td>\n",
       "      <td>White</td>\n",
       "      <td>85</td>\n",
       "    </tr>\n",
       "  </tbody>\n",
       "</table>\n",
       "<p>2 rows × 36 columns</p>\n",
       "</div>"
      ],
      "text/plain": [
       "              name                                      address   age sex  \\\n",
       "754  Flora Jackson  4798 Carter Turnpike\\r\\nJosemouth, WV 19340  39.0   F   \n",
       "755  Flora Jackson  4798 Carter Turnpike\\r\\nJosemouth, WV 19340  39.0   F   \n",
       "\n",
       "           date_of_birth query hyperthyroid FTI measured education lithium  \\\n",
       "754  1979-02-26 00 00 00                  t            t   HS-grad       f   \n",
       "755  1979-02-26 00 00 00                  t            t   HS-grad       f   \n",
       "\n",
       "      TT4 ...  hypopituitary  \\\n",
       "754  84.0 ...            NaN   \n",
       "755  84.0 ...              f   \n",
       "\n",
       "                                          medical_info  \\\n",
       "754  {'query hypothyroid':'f','T4U measured':'t','p...   \n",
       "755  {'query hypothyroid':'f','T4U measured':'t','p...   \n",
       "\n",
       "     on antithyroid medication referral source  education-num     occupation  \\\n",
       "754                          f           other            9.0   Adm-clerical   \n",
       "755                        NaN           other            9.0   Adm-clerical   \n",
       "\n",
       "     TBG measured  TBG    race FTI  \n",
       "754             f    ?   White  85  \n",
       "755           NaN    ?   White  85  \n",
       "\n",
       "[2 rows x 36 columns]"
      ]
     },
     "execution_count": 7,
     "metadata": {},
     "output_type": "execute_result"
    }
   ],
   "source": [
    "#Let's have a look at one duplicate\n",
    "df_new[df_new[\"name\"] == \"Flora Jackson\"].head()"
   ]
  },
  {
   "cell_type": "markdown",
   "metadata": {},
   "source": [
    "We have created a **mask** that is a boolean value if the row is or is not duplicate. You may ask why we sort new merged dataset and voila this is why. Pandas function *duplicated* needs to have **sorted dataset** to find duplicates using specific subset of columns "
   ]
  },
  {
   "cell_type": "code",
   "execution_count": 8,
   "metadata": {},
   "outputs": [],
   "source": [
    "mask = df_new.duplicated(subset=[\"name\", \"address\"])"
   ]
  },
  {
   "cell_type": "code",
   "execution_count": 9,
   "metadata": {},
   "outputs": [
    {
     "data": {
      "text/plain": [
       "0    False\n",
       "1    False\n",
       "2    False\n",
       "3    False\n",
       "4    False\n",
       "dtype: bool"
      ]
     },
     "execution_count": 9,
     "metadata": {},
     "output_type": "execute_result"
    }
   ],
   "source": [
    "#Showing first rows on dataset in mask\n",
    "mask.head()"
   ]
  },
  {
   "cell_type": "code",
   "execution_count": 10,
   "metadata": {},
   "outputs": [],
   "source": [
    "#The we assign all found duplicates\n",
    "duplicates = df_new[mask == True]"
   ]
  },
  {
   "cell_type": "code",
   "execution_count": 11,
   "metadata": {},
   "outputs": [
    {
     "data": {
      "text/html": [
       "<div>\n",
       "<style scoped>\n",
       "    .dataframe tbody tr th:only-of-type {\n",
       "        vertical-align: middle;\n",
       "    }\n",
       "\n",
       "    .dataframe tbody tr th {\n",
       "        vertical-align: top;\n",
       "    }\n",
       "\n",
       "    .dataframe thead th {\n",
       "        text-align: right;\n",
       "    }\n",
       "</style>\n",
       "<table border=\"1\" class=\"dataframe\">\n",
       "  <thead>\n",
       "    <tr style=\"text-align: right;\">\n",
       "      <th></th>\n",
       "      <th>name</th>\n",
       "      <th>address</th>\n",
       "      <th>age</th>\n",
       "      <th>sex</th>\n",
       "      <th>date_of_birth</th>\n",
       "      <th>query hyperthyroid</th>\n",
       "      <th>FTI measured</th>\n",
       "      <th>education</th>\n",
       "      <th>lithium</th>\n",
       "      <th>TT4</th>\n",
       "      <th>...</th>\n",
       "      <th>hypopituitary</th>\n",
       "      <th>medical_info</th>\n",
       "      <th>on antithyroid medication</th>\n",
       "      <th>referral source</th>\n",
       "      <th>education-num</th>\n",
       "      <th>occupation</th>\n",
       "      <th>TBG measured</th>\n",
       "      <th>TBG</th>\n",
       "      <th>race</th>\n",
       "      <th>FTI</th>\n",
       "    </tr>\n",
       "  </thead>\n",
       "  <tbody>\n",
       "    <tr>\n",
       "      <th>44</th>\n",
       "      <td>Alice Stein</td>\n",
       "      <td>910 Peterson Flats Suite 519\\r\\nSouth Donald, ...</td>\n",
       "      <td>27.0</td>\n",
       "      <td>F</td>\n",
       "      <td>1991-02-25 00 00 00</td>\n",
       "      <td>f</td>\n",
       "      <td>t</td>\n",
       "      <td>Some-college</td>\n",
       "      <td>f</td>\n",
       "      <td>272.0</td>\n",
       "      <td>...</td>\n",
       "      <td>f</td>\n",
       "      <td>{'query hypothyroid':'f','T4U measured':'t','p...</td>\n",
       "      <td>F</td>\n",
       "      <td>other</td>\n",
       "      <td>10.0</td>\n",
       "      <td>Sales</td>\n",
       "      <td>f</td>\n",
       "      <td>?</td>\n",
       "      <td>Black</td>\n",
       "      <td>NaN</td>\n",
       "    </tr>\n",
       "    <tr>\n",
       "      <th>101</th>\n",
       "      <td>Angelica Dowd</td>\n",
       "      <td>990 Dana Plaza Apt. 875\\r\\nLake Maryberg, AZ 7...</td>\n",
       "      <td>20.0</td>\n",
       "      <td>F</td>\n",
       "      <td>1998-02-28 00 00 00</td>\n",
       "      <td>f</td>\n",
       "      <td>t</td>\n",
       "      <td>HS-grad</td>\n",
       "      <td>f</td>\n",
       "      <td>93.0</td>\n",
       "      <td>...</td>\n",
       "      <td>NaN</td>\n",
       "      <td>{'query hypothyroid':'f','T4U measured':'t','p...</td>\n",
       "      <td>t</td>\n",
       "      <td>other</td>\n",
       "      <td>9.0</td>\n",
       "      <td>Adm-clerical</td>\n",
       "      <td>f</td>\n",
       "      <td>?</td>\n",
       "      <td>White</td>\n",
       "      <td>93</td>\n",
       "    </tr>\n",
       "    <tr>\n",
       "      <th>110</th>\n",
       "      <td>Ann Hernandez</td>\n",
       "      <td>87511 Raven Falls Apt. 369\\r\\nNew Brian, AZ 19649</td>\n",
       "      <td>34.0</td>\n",
       "      <td>F</td>\n",
       "      <td>1984-09-05</td>\n",
       "      <td>f</td>\n",
       "      <td>t</td>\n",
       "      <td>Bachelors</td>\n",
       "      <td>f</td>\n",
       "      <td>96.0</td>\n",
       "      <td>...</td>\n",
       "      <td>f</td>\n",
       "      <td>NaN</td>\n",
       "      <td>NaN</td>\n",
       "      <td>other</td>\n",
       "      <td>-1300.0</td>\n",
       "      <td>Adm-clerical</td>\n",
       "      <td>f</td>\n",
       "      <td>NaN</td>\n",
       "      <td>Black</td>\n",
       "      <td>90</td>\n",
       "    </tr>\n",
       "    <tr>\n",
       "      <th>162</th>\n",
       "      <td>Arlene Smith</td>\n",
       "      <td>574 Shelton Loop\\r\\nEast Nicholas, KY 33054</td>\n",
       "      <td>40.0</td>\n",
       "      <td>F</td>\n",
       "      <td>1978-04-20 00 00 00</td>\n",
       "      <td>f</td>\n",
       "      <td>t</td>\n",
       "      <td>NaN</td>\n",
       "      <td>f</td>\n",
       "      <td>112.0</td>\n",
       "      <td>...</td>\n",
       "      <td>f</td>\n",
       "      <td>{'query hypothyroid':'f','T4U measured':'t','p...</td>\n",
       "      <td>f</td>\n",
       "      <td>SVI</td>\n",
       "      <td>9.0</td>\n",
       "      <td>Prof-specialty</td>\n",
       "      <td>f</td>\n",
       "      <td>?</td>\n",
       "      <td>Black</td>\n",
       "      <td>90</td>\n",
       "    </tr>\n",
       "    <tr>\n",
       "      <th>309</th>\n",
       "      <td>Carmela Respress</td>\n",
       "      <td>656 Stevenson Springs\\r\\nLake Audreyview, MO 0...</td>\n",
       "      <td>68.0</td>\n",
       "      <td>F</td>\n",
       "      <td>1950-01-22</td>\n",
       "      <td>f</td>\n",
       "      <td>NaN</td>\n",
       "      <td>Some-college</td>\n",
       "      <td>f</td>\n",
       "      <td>NaN</td>\n",
       "      <td>...</td>\n",
       "      <td>f</td>\n",
       "      <td>{'query hypothyroid':'f','T4U measured':'t','p...</td>\n",
       "      <td>F</td>\n",
       "      <td>SVI</td>\n",
       "      <td>10.0</td>\n",
       "      <td>Other-service</td>\n",
       "      <td>f</td>\n",
       "      <td>?</td>\n",
       "      <td>White</td>\n",
       "      <td>113</td>\n",
       "    </tr>\n",
       "  </tbody>\n",
       "</table>\n",
       "<p>5 rows × 36 columns</p>\n",
       "</div>"
      ],
      "text/plain": [
       "                 name                                            address  \\\n",
       "44        Alice Stein  910 Peterson Flats Suite 519\\r\\nSouth Donald, ...   \n",
       "101     Angelica Dowd  990 Dana Plaza Apt. 875\\r\\nLake Maryberg, AZ 7...   \n",
       "110     Ann Hernandez  87511 Raven Falls Apt. 369\\r\\nNew Brian, AZ 19649   \n",
       "162      Arlene Smith        574 Shelton Loop\\r\\nEast Nicholas, KY 33054   \n",
       "309  Carmela Respress  656 Stevenson Springs\\r\\nLake Audreyview, MO 0...   \n",
       "\n",
       "      age sex        date_of_birth query hyperthyroid FTI measured  \\\n",
       "44   27.0   F  1991-02-25 00 00 00                  f            t   \n",
       "101  20.0   F  1998-02-28 00 00 00                  f            t   \n",
       "110  34.0   F           1984-09-05                  f            t   \n",
       "162  40.0   F  1978-04-20 00 00 00                  f            t   \n",
       "309  68.0   F           1950-01-22                  f          NaN   \n",
       "\n",
       "         education lithium    TT4 ...   hypopituitary  \\\n",
       "44    Some-college       f  272.0 ...               f   \n",
       "101        HS-grad       f   93.0 ...             NaN   \n",
       "110      Bachelors       f   96.0 ...               f   \n",
       "162            NaN       f  112.0 ...               f   \n",
       "309   Some-college       f    NaN ...               f   \n",
       "\n",
       "                                          medical_info  \\\n",
       "44   {'query hypothyroid':'f','T4U measured':'t','p...   \n",
       "101  {'query hypothyroid':'f','T4U measured':'t','p...   \n",
       "110                                                NaN   \n",
       "162  {'query hypothyroid':'f','T4U measured':'t','p...   \n",
       "309  {'query hypothyroid':'f','T4U measured':'t','p...   \n",
       "\n",
       "     on antithyroid medication referral source  education-num  \\\n",
       "44                           F           other           10.0   \n",
       "101                          t           other            9.0   \n",
       "110                        NaN           other        -1300.0   \n",
       "162                          f             SVI            9.0   \n",
       "309                          F             SVI           10.0   \n",
       "\n",
       "          occupation  TBG measured  TBG    race  FTI  \n",
       "44             Sales             f    ?   Black  NaN  \n",
       "101     Adm-clerical             f    ?   White   93  \n",
       "110     Adm-clerical             f  NaN   Black   90  \n",
       "162   Prof-specialty             f    ?   Black   90  \n",
       "309    Other-service             f    ?   White  113  \n",
       "\n",
       "[5 rows x 36 columns]"
      ]
     },
     "execution_count": 11,
     "metadata": {},
     "output_type": "execute_result"
    }
   ],
   "source": [
    "#Showing found duplicates based on name & address\n",
    "duplicates.head()"
   ]
  },
  {
   "cell_type": "code",
   "execution_count": 12,
   "metadata": {},
   "outputs": [
    {
     "name": "stdout",
     "output_type": "stream",
     "text": [
      "Number of found duplicates 50\n"
     ]
    }
   ],
   "source": [
    "print(\"Number of found duplicates %d\" % (len(duplicates)))"
   ]
  },
  {
   "cell_type": "code",
   "execution_count": 13,
   "metadata": {},
   "outputs": [],
   "source": [
    "#The we determine index of duplicates\n",
    "indexes = duplicates.index"
   ]
  },
  {
   "cell_type": "code",
   "execution_count": 14,
   "metadata": {},
   "outputs": [],
   "source": [
    "#Here is a function that gets rid off duplicates and keeps data from other duplicates\n",
    "def fill_from_duplicates(df, duplicates, indexes):\n",
    "    \"\"\" This is function that get rid off duplicates in \n",
    "        dataframe df on indices indexes\n",
    "    \"\"\"\n",
    "    \n",
    "    indexes = indexes.tolist()\n",
    "    \n",
    "    #Iterating row by row\n",
    "    for i in range(0, len(df)):\n",
    "        if((i+1) == indexes[0]):\n",
    "            \n",
    "           #For Nan column we search over all duplicates to fill proper value\n",
    "            for col in df.columns:\n",
    "                if (pd.isnull(df.at[i,col]) or df.at[i,col] == \"?\"):\n",
    "                    df.at[i,col] = df.at[i+1,col]\n",
    "            \n",
    "            indexes.pop(0)\n",
    "            \n",
    "            #Then we drop the duplicated row\n",
    "            df.drop(i+1, inplace = True)\n",
    "            if(len(indexes) == 0):\n",
    "                #At the end we reset index\n",
    "                df_new.reset_index(drop=True,inplace=True)\n",
    "                print(\"Done\")\n",
    "                break"
   ]
  },
  {
   "cell_type": "code",
   "execution_count": 15,
   "metadata": {},
   "outputs": [
    {
     "data": {
      "text/html": [
       "<div>\n",
       "<style scoped>\n",
       "    .dataframe tbody tr th:only-of-type {\n",
       "        vertical-align: middle;\n",
       "    }\n",
       "\n",
       "    .dataframe tbody tr th {\n",
       "        vertical-align: top;\n",
       "    }\n",
       "\n",
       "    .dataframe thead th {\n",
       "        text-align: right;\n",
       "    }\n",
       "</style>\n",
       "<table border=\"1\" class=\"dataframe\">\n",
       "  <thead>\n",
       "    <tr style=\"text-align: right;\">\n",
       "      <th></th>\n",
       "      <th>name</th>\n",
       "      <th>address</th>\n",
       "      <th>age</th>\n",
       "      <th>sex</th>\n",
       "      <th>date_of_birth</th>\n",
       "      <th>query hyperthyroid</th>\n",
       "      <th>FTI measured</th>\n",
       "      <th>education</th>\n",
       "      <th>lithium</th>\n",
       "      <th>TT4</th>\n",
       "      <th>...</th>\n",
       "      <th>hypopituitary</th>\n",
       "      <th>medical_info</th>\n",
       "      <th>on antithyroid medication</th>\n",
       "      <th>referral source</th>\n",
       "      <th>education-num</th>\n",
       "      <th>occupation</th>\n",
       "      <th>TBG measured</th>\n",
       "      <th>TBG</th>\n",
       "      <th>race</th>\n",
       "      <th>FTI</th>\n",
       "    </tr>\n",
       "  </thead>\n",
       "  <tbody>\n",
       "    <tr>\n",
       "      <th>754</th>\n",
       "      <td>Flora Jackson</td>\n",
       "      <td>4798 Carter Turnpike\\r\\nJosemouth, WV 19340</td>\n",
       "      <td>39.0</td>\n",
       "      <td>F</td>\n",
       "      <td>1979-02-26 00 00 00</td>\n",
       "      <td>t</td>\n",
       "      <td>t</td>\n",
       "      <td>HS-grad</td>\n",
       "      <td>f</td>\n",
       "      <td>84.0</td>\n",
       "      <td>...</td>\n",
       "      <td>NaN</td>\n",
       "      <td>{'query hypothyroid':'f','T4U measured':'t','p...</td>\n",
       "      <td>f</td>\n",
       "      <td>other</td>\n",
       "      <td>9.0</td>\n",
       "      <td>Adm-clerical</td>\n",
       "      <td>f</td>\n",
       "      <td>?</td>\n",
       "      <td>White</td>\n",
       "      <td>85</td>\n",
       "    </tr>\n",
       "    <tr>\n",
       "      <th>755</th>\n",
       "      <td>Flora Jackson</td>\n",
       "      <td>4798 Carter Turnpike\\r\\nJosemouth, WV 19340</td>\n",
       "      <td>39.0</td>\n",
       "      <td>F</td>\n",
       "      <td>1979-02-26 00 00 00</td>\n",
       "      <td>t</td>\n",
       "      <td>t</td>\n",
       "      <td>HS-grad</td>\n",
       "      <td>f</td>\n",
       "      <td>84.0</td>\n",
       "      <td>...</td>\n",
       "      <td>f</td>\n",
       "      <td>{'query hypothyroid':'f','T4U measured':'t','p...</td>\n",
       "      <td>NaN</td>\n",
       "      <td>other</td>\n",
       "      <td>9.0</td>\n",
       "      <td>Adm-clerical</td>\n",
       "      <td>NaN</td>\n",
       "      <td>?</td>\n",
       "      <td>White</td>\n",
       "      <td>85</td>\n",
       "    </tr>\n",
       "  </tbody>\n",
       "</table>\n",
       "<p>2 rows × 36 columns</p>\n",
       "</div>"
      ],
      "text/plain": [
       "              name                                      address   age sex  \\\n",
       "754  Flora Jackson  4798 Carter Turnpike\\r\\nJosemouth, WV 19340  39.0   F   \n",
       "755  Flora Jackson  4798 Carter Turnpike\\r\\nJosemouth, WV 19340  39.0   F   \n",
       "\n",
       "           date_of_birth query hyperthyroid FTI measured education lithium  \\\n",
       "754  1979-02-26 00 00 00                  t            t   HS-grad       f   \n",
       "755  1979-02-26 00 00 00                  t            t   HS-grad       f   \n",
       "\n",
       "      TT4 ...  hypopituitary  \\\n",
       "754  84.0 ...            NaN   \n",
       "755  84.0 ...              f   \n",
       "\n",
       "                                          medical_info  \\\n",
       "754  {'query hypothyroid':'f','T4U measured':'t','p...   \n",
       "755  {'query hypothyroid':'f','T4U measured':'t','p...   \n",
       "\n",
       "     on antithyroid medication referral source  education-num     occupation  \\\n",
       "754                          f           other            9.0   Adm-clerical   \n",
       "755                        NaN           other            9.0   Adm-clerical   \n",
       "\n",
       "     TBG measured  TBG    race FTI  \n",
       "754             f    ?   White  85  \n",
       "755           NaN    ?   White  85  \n",
       "\n",
       "[2 rows x 36 columns]"
      ]
     },
     "execution_count": 15,
     "metadata": {},
     "output_type": "execute_result"
    }
   ],
   "source": [
    "#This is informative - take a look on column \"on antithyroid medication\" \n",
    "#You can see that duplicates do not have the same data\n",
    "df_new[df_new[\"name\"] == \"Flora Jackson\"]"
   ]
  },
  {
   "cell_type": "code",
   "execution_count": 16,
   "metadata": {},
   "outputs": [
    {
     "name": "stdout",
     "output_type": "stream",
     "text": [
      "Done\n"
     ]
    }
   ],
   "source": [
    "#Now we have all ready to delete duplicates\n",
    "fill_from_duplicates(df_new, duplicates, indexes)"
   ]
  },
  {
   "cell_type": "markdown",
   "metadata": {},
   "source": [
    "After the finished process of deduplication let's have a look at the record for a control"
   ]
  },
  {
   "cell_type": "code",
   "execution_count": 17,
   "metadata": {},
   "outputs": [
    {
     "data": {
      "text/html": [
       "<div>\n",
       "<style scoped>\n",
       "    .dataframe tbody tr th:only-of-type {\n",
       "        vertical-align: middle;\n",
       "    }\n",
       "\n",
       "    .dataframe tbody tr th {\n",
       "        vertical-align: top;\n",
       "    }\n",
       "\n",
       "    .dataframe thead th {\n",
       "        text-align: right;\n",
       "    }\n",
       "</style>\n",
       "<table border=\"1\" class=\"dataframe\">\n",
       "  <thead>\n",
       "    <tr style=\"text-align: right;\">\n",
       "      <th></th>\n",
       "      <th>name</th>\n",
       "      <th>address</th>\n",
       "      <th>age</th>\n",
       "      <th>sex</th>\n",
       "      <th>date_of_birth</th>\n",
       "      <th>query hyperthyroid</th>\n",
       "      <th>FTI measured</th>\n",
       "      <th>education</th>\n",
       "      <th>lithium</th>\n",
       "      <th>TT4</th>\n",
       "      <th>...</th>\n",
       "      <th>hypopituitary</th>\n",
       "      <th>medical_info</th>\n",
       "      <th>on antithyroid medication</th>\n",
       "      <th>referral source</th>\n",
       "      <th>education-num</th>\n",
       "      <th>occupation</th>\n",
       "      <th>TBG measured</th>\n",
       "      <th>TBG</th>\n",
       "      <th>race</th>\n",
       "      <th>FTI</th>\n",
       "    </tr>\n",
       "  </thead>\n",
       "  <tbody>\n",
       "    <tr>\n",
       "      <th>741</th>\n",
       "      <td>Flora Jackson</td>\n",
       "      <td>4798 Carter Turnpike\\r\\nJosemouth, WV 19340</td>\n",
       "      <td>39.0</td>\n",
       "      <td>F</td>\n",
       "      <td>1979-02-26 00 00 00</td>\n",
       "      <td>t</td>\n",
       "      <td>t</td>\n",
       "      <td>HS-grad</td>\n",
       "      <td>f</td>\n",
       "      <td>84.0</td>\n",
       "      <td>...</td>\n",
       "      <td>f</td>\n",
       "      <td>{'query hypothyroid':'f','T4U measured':'t','p...</td>\n",
       "      <td>f</td>\n",
       "      <td>other</td>\n",
       "      <td>9.0</td>\n",
       "      <td>Adm-clerical</td>\n",
       "      <td>f</td>\n",
       "      <td>?</td>\n",
       "      <td>White</td>\n",
       "      <td>85</td>\n",
       "    </tr>\n",
       "  </tbody>\n",
       "</table>\n",
       "<p>1 rows × 36 columns</p>\n",
       "</div>"
      ],
      "text/plain": [
       "              name                                      address   age sex  \\\n",
       "741  Flora Jackson  4798 Carter Turnpike\\r\\nJosemouth, WV 19340  39.0   F   \n",
       "\n",
       "           date_of_birth query hyperthyroid FTI measured education lithium  \\\n",
       "741  1979-02-26 00 00 00                  t            t   HS-grad       f   \n",
       "\n",
       "      TT4 ...  hypopituitary  \\\n",
       "741  84.0 ...              f   \n",
       "\n",
       "                                          medical_info  \\\n",
       "741  {'query hypothyroid':'f','T4U measured':'t','p...   \n",
       "\n",
       "     on antithyroid medication referral source  education-num     occupation  \\\n",
       "741                          f           other            9.0   Adm-clerical   \n",
       "\n",
       "     TBG measured  TBG    race FTI  \n",
       "741             f    ?   White  85  \n",
       "\n",
       "[1 rows x 36 columns]"
      ]
     },
     "execution_count": 17,
     "metadata": {},
     "output_type": "execute_result"
    }
   ],
   "source": [
    "df_new[df_new[\"name\"] == \"Flora Jackson\"]"
   ]
  },
  {
   "cell_type": "markdown",
   "metadata": {},
   "source": [
    "## Date normalization"
   ]
  },
  {
   "cell_type": "markdown",
   "metadata": {},
   "source": [
    "As you have certainly noticed there are many different formats for date of birth.  In this step we normalize it to one format. "
   ]
  },
  {
   "cell_type": "code",
   "execution_count": 18,
   "metadata": {},
   "outputs": [
    {
     "data": {
      "text/plain": [
       "0    1959-08-05\n",
       "1      99-12-09\n",
       "2    1984-02-13\n",
       "3    1989-10-04\n",
       "4      48-04-24\n",
       "Name: date_of_birth, dtype: object"
      ]
     },
     "execution_count": 18,
     "metadata": {},
     "output_type": "execute_result"
    }
   ],
   "source": [
    "df_new[\"date_of_birth\"].head()"
   ]
  },
  {
   "cell_type": "code",
   "execution_count": 19,
   "metadata": {},
   "outputs": [],
   "source": [
    "#Here is a simle function that normalize it on format as follows\n",
    "def format_date(date):\n",
    "    if not isinstance(date, str):\n",
    "        return date\n",
    "    date=date.split(' ', 1)[0]\n",
    "    x=re.findall(r\"[\\w']+\", date)\n",
    "    for i in x:\n",
    "        year=0\n",
    "        day=0\n",
    "        if int(i)>31:\n",
    "            year=x.index(i)\n",
    "        elif int(i)>12:\n",
    "            day=x.index(i)\n",
    "        if year==2:\n",
    "            x[0], x[2] = x[2],x[0]\n",
    "        date='-'.join(x)\n",
    "    return date"
   ]
  },
  {
   "cell_type": "code",
   "execution_count": 20,
   "metadata": {},
   "outputs": [
    {
     "data": {
      "text/html": [
       "<div>\n",
       "<style scoped>\n",
       "    .dataframe tbody tr th:only-of-type {\n",
       "        vertical-align: middle;\n",
       "    }\n",
       "\n",
       "    .dataframe tbody tr th {\n",
       "        vertical-align: top;\n",
       "    }\n",
       "\n",
       "    .dataframe thead th {\n",
       "        text-align: right;\n",
       "    }\n",
       "</style>\n",
       "<table border=\"1\" class=\"dataframe\">\n",
       "  <thead>\n",
       "    <tr style=\"text-align: right;\">\n",
       "      <th></th>\n",
       "      <th>name</th>\n",
       "      <th>address</th>\n",
       "      <th>age</th>\n",
       "      <th>sex</th>\n",
       "      <th>date_of_birth</th>\n",
       "      <th>query hyperthyroid</th>\n",
       "      <th>FTI measured</th>\n",
       "      <th>education</th>\n",
       "      <th>lithium</th>\n",
       "      <th>TT4</th>\n",
       "      <th>...</th>\n",
       "      <th>hypopituitary</th>\n",
       "      <th>medical_info</th>\n",
       "      <th>on antithyroid medication</th>\n",
       "      <th>referral source</th>\n",
       "      <th>education-num</th>\n",
       "      <th>occupation</th>\n",
       "      <th>TBG measured</th>\n",
       "      <th>TBG</th>\n",
       "      <th>race</th>\n",
       "      <th>FTI</th>\n",
       "    </tr>\n",
       "  </thead>\n",
       "  <tbody>\n",
       "    <tr>\n",
       "      <th>0</th>\n",
       "      <td>Aaron Johansen</td>\n",
       "      <td>744 Sandoval Causeway\\r\\nEast Robertburgh, NC ...</td>\n",
       "      <td>59.0</td>\n",
       "      <td>M</td>\n",
       "      <td>1959-08-05</td>\n",
       "      <td>f</td>\n",
       "      <td>t</td>\n",
       "      <td>Assoc-acdm</td>\n",
       "      <td>f</td>\n",
       "      <td>118.0</td>\n",
       "      <td>...</td>\n",
       "      <td>f</td>\n",
       "      <td>{'query hypothyroid':'f','T4U measured':'t','p...</td>\n",
       "      <td>f</td>\n",
       "      <td>SVHC</td>\n",
       "      <td>12.0</td>\n",
       "      <td>Craft-repair</td>\n",
       "      <td>f</td>\n",
       "      <td>?</td>\n",
       "      <td>White</td>\n",
       "      <td>129</td>\n",
       "    </tr>\n",
       "    <tr>\n",
       "      <th>1</th>\n",
       "      <td>Abigail Martinez</td>\n",
       "      <td>59351 Craig Courts\\r\\nGordonbury, WI 53797</td>\n",
       "      <td>18.0</td>\n",
       "      <td>F</td>\n",
       "      <td>99-12-09</td>\n",
       "      <td>f</td>\n",
       "      <td>t</td>\n",
       "      <td>Bachelors</td>\n",
       "      <td>f</td>\n",
       "      <td>143.0</td>\n",
       "      <td>...</td>\n",
       "      <td>f</td>\n",
       "      <td>{'query hypothyroid':'f','T4U measured':'t','p...</td>\n",
       "      <td>f</td>\n",
       "      <td>other</td>\n",
       "      <td>13.0</td>\n",
       "      <td>Exec-managerial</td>\n",
       "      <td>f</td>\n",
       "      <td>?</td>\n",
       "      <td>Black</td>\n",
       "      <td>108</td>\n",
       "    </tr>\n",
       "    <tr>\n",
       "      <th>2</th>\n",
       "      <td>Abraham Bruce</td>\n",
       "      <td>137 Lewis Flat Suite 762\\r\\nWest Elizabeth, AL...</td>\n",
       "      <td>34.0</td>\n",
       "      <td>?</td>\n",
       "      <td>1984-02-13</td>\n",
       "      <td>f</td>\n",
       "      <td>t</td>\n",
       "      <td>HS-grad</td>\n",
       "      <td>f</td>\n",
       "      <td>95.0</td>\n",
       "      <td>...</td>\n",
       "      <td>f</td>\n",
       "      <td>{'query hypothyroid':'f','T4U measured':'t','p...</td>\n",
       "      <td>f</td>\n",
       "      <td>STMW</td>\n",
       "      <td>9.0</td>\n",
       "      <td>Sales</td>\n",
       "      <td>f</td>\n",
       "      <td>?</td>\n",
       "      <td>White</td>\n",
       "      <td>96</td>\n",
       "    </tr>\n",
       "    <tr>\n",
       "      <th>3</th>\n",
       "      <td>Abraham Hicks</td>\n",
       "      <td>031 Wood Wall Apt. 152\\r\\nVictorburgh, CA 40253</td>\n",
       "      <td>29.0</td>\n",
       "      <td>M</td>\n",
       "      <td>1989-10-04</td>\n",
       "      <td>f</td>\n",
       "      <td>t</td>\n",
       "      <td>Bachelors</td>\n",
       "      <td>f</td>\n",
       "      <td>135.0</td>\n",
       "      <td>...</td>\n",
       "      <td>f</td>\n",
       "      <td>{'query hypothyroid':'f','T4U measured':'t','p...</td>\n",
       "      <td>f</td>\n",
       "      <td>other</td>\n",
       "      <td>13.0</td>\n",
       "      <td>Adm-clerical</td>\n",
       "      <td>f</td>\n",
       "      <td>?</td>\n",
       "      <td>White</td>\n",
       "      <td>157</td>\n",
       "    </tr>\n",
       "    <tr>\n",
       "      <th>4</th>\n",
       "      <td>Ada Jeffries</td>\n",
       "      <td>66827 Ortiz Radial\\r\\nWest Justin, IL 04779</td>\n",
       "      <td>70.0</td>\n",
       "      <td>F</td>\n",
       "      <td>48-04-24</td>\n",
       "      <td>f</td>\n",
       "      <td>t</td>\n",
       "      <td>Some-college</td>\n",
       "      <td>f</td>\n",
       "      <td>122.0</td>\n",
       "      <td>...</td>\n",
       "      <td>f</td>\n",
       "      <td>{'query hypothyroid':'f','T4U measured':'t','p...</td>\n",
       "      <td>f</td>\n",
       "      <td>SVI</td>\n",
       "      <td>10.0</td>\n",
       "      <td>Other-service</td>\n",
       "      <td>f</td>\n",
       "      <td>?</td>\n",
       "      <td>Black</td>\n",
       "      <td>144</td>\n",
       "    </tr>\n",
       "  </tbody>\n",
       "</table>\n",
       "<p>5 rows × 36 columns</p>\n",
       "</div>"
      ],
      "text/plain": [
       "               name                                            address   age  \\\n",
       "0    Aaron Johansen  744 Sandoval Causeway\\r\\nEast Robertburgh, NC ...  59.0   \n",
       "1  Abigail Martinez         59351 Craig Courts\\r\\nGordonbury, WI 53797  18.0   \n",
       "2     Abraham Bruce  137 Lewis Flat Suite 762\\r\\nWest Elizabeth, AL...  34.0   \n",
       "3     Abraham Hicks    031 Wood Wall Apt. 152\\r\\nVictorburgh, CA 40253  29.0   \n",
       "4      Ada Jeffries        66827 Ortiz Radial\\r\\nWest Justin, IL 04779  70.0   \n",
       "\n",
       "  sex date_of_birth query hyperthyroid FTI measured      education lithium  \\\n",
       "0   M    1959-08-05                  f            t     Assoc-acdm       f   \n",
       "1   F      99-12-09                  f            t      Bachelors       f   \n",
       "2   ?    1984-02-13                  f            t        HS-grad       f   \n",
       "3   M    1989-10-04                  f            t      Bachelors       f   \n",
       "4   F      48-04-24                  f            t   Some-college       f   \n",
       "\n",
       "     TT4 ...   hypopituitary  \\\n",
       "0  118.0 ...               f   \n",
       "1  143.0 ...               f   \n",
       "2   95.0 ...               f   \n",
       "3  135.0 ...               f   \n",
       "4  122.0 ...               f   \n",
       "\n",
       "                                        medical_info  \\\n",
       "0  {'query hypothyroid':'f','T4U measured':'t','p...   \n",
       "1  {'query hypothyroid':'f','T4U measured':'t','p...   \n",
       "2  {'query hypothyroid':'f','T4U measured':'t','p...   \n",
       "3  {'query hypothyroid':'f','T4U measured':'t','p...   \n",
       "4  {'query hypothyroid':'f','T4U measured':'t','p...   \n",
       "\n",
       "   on antithyroid medication referral source  education-num        occupation  \\\n",
       "0                          f            SVHC           12.0      Craft-repair   \n",
       "1                          f           other           13.0   Exec-managerial   \n",
       "2                          f            STMW            9.0             Sales   \n",
       "3                          f           other           13.0      Adm-clerical   \n",
       "4                          f             SVI           10.0     Other-service   \n",
       "\n",
       "   TBG measured  TBG    race  FTI  \n",
       "0             f    ?   White  129  \n",
       "1             f    ?   Black  108  \n",
       "2             f    ?   White   96  \n",
       "3             f    ?   White  157  \n",
       "4             f    ?   Black  144  \n",
       "\n",
       "[5 rows x 36 columns]"
      ]
     },
     "execution_count": 20,
     "metadata": {},
     "output_type": "execute_result"
    }
   ],
   "source": [
    "#Applying to normalize dates\n",
    "df_new['date_of_birth']=df_new['date_of_birth'].apply(lambda x: format_date(x))\n",
    "df_new.head()"
   ]
  },
  {
   "cell_type": "markdown",
   "metadata": {},
   "source": [
    "## Parsing JSON \n"
   ]
  },
  {
   "cell_type": "markdown",
   "metadata": {},
   "source": [
    "In dataset there is a JSON format in the column **medical_info**. Moreover, this JSON holds some **new information**, so we needed to parse and add this new information as new columns"
   ]
  },
  {
   "cell_type": "code",
   "execution_count": 21,
   "metadata": {
    "scrolled": true
   },
   "outputs": [
    {
     "data": {
      "text/plain": [
       "\"{'query hypothyroid':'f','T4U measured':'t','pregnant':'f','thyroid surgery':'f','TSH measured':'t','query on thyroxine':'f','I131 treatment':'f','on thyroxine':'f','T3 measured':'t','psych':'f'}\""
      ]
     },
     "execution_count": 21,
     "metadata": {},
     "output_type": "execute_result"
    }
   ],
   "source": [
    "#One example of JSON format\n",
    "df_new[\"medical_info\"][0]"
   ]
  },
  {
   "cell_type": "markdown",
   "metadata": {},
   "source": [
    "All those columns inside JSON are binary and mostly duplicate those, which we already have as numeric values. But there are at least two interesting ones there:\n",
    "> **Pregnant** - is crucial to determine the normal level of hormones for women, because during pregnancy thyroid hormones values are significantly higher than usual.  \n",
    "> **I131 treatment** - determines whether or not patient is taking Iodine-131 procedures to get rid of thyroid tumor etc. This column mostly doesn't have influence on overall diagnosis, but may be interesting for some data statistics.  \n",
    "> **Psych** - presumably psychic disbalance, caused by thyroid problems, and possibly psychic medication. Could be interesting.  \n",
    "> **Thyroid surgery** - whether or not a patient had surgical operations, related to thyroid problems.  \n"
   ]
  },
  {
   "cell_type": "markdown",
   "metadata": {},
   "source": [
    "Below is a script that parse JSON and add  **new columns** to the dataset with the values"
   ]
  },
  {
   "cell_type": "code",
   "execution_count": 22,
   "metadata": {},
   "outputs": [],
   "source": [
    "#Function returns dictionary keys\n",
    "def dict_keys(dictionary):\n",
    "    if (dictionary == None):\n",
    "        return None\n",
    "    \n",
    "    keys = []\n",
    "    \n",
    "    for key in dictionary:\n",
    "        keys.append(key)\n",
    "        \n",
    "    return keys"
   ]
  },
  {
   "cell_type": "code",
   "execution_count": 23,
   "metadata": {},
   "outputs": [],
   "source": [
    "#Function returns dictionary values\n",
    "def dict_values(dictionary):\n",
    "    if(dictionary == None):\n",
    "        return None\n",
    "    \n",
    "    values = []\n",
    "    \n",
    "    for key in dictionary:\n",
    "        val = dictionary[key]\n",
    "        values.append(val)\n",
    "        \n",
    "    return values"
   ]
  },
  {
   "cell_type": "code",
   "execution_count": 24,
   "metadata": {},
   "outputs": [],
   "source": [
    "#Function returns dictionary from JSON format\n",
    "def parse_json_col(med_info = None):\n",
    "    \n",
    "    if(med_info == None):\n",
    "        return None\n",
    "    \n",
    "    med_info = med_info.strip(\"{}\")  #Remove {}\n",
    "    med_info = med_info.split(\",\")   #Separate into list by \",\" as a delimiter\n",
    "    \n",
    "    new = []\n",
    "    \n",
    "    for k in med_info:\n",
    "        a,b = k.split(\":\")\n",
    "        new.append(a.strip(\"'\"))\n",
    "        new.append(b.strip(\"'\"))\n",
    "        \n",
    "    final = dict(new[i:i+2] for i in range(0,len(new),2))\n",
    "    \n",
    "    return final"
   ]
  },
  {
   "cell_type": "code",
   "execution_count": 25,
   "metadata": {},
   "outputs": [],
   "source": [
    "#Final Function that creates new parsed columns\n",
    "def add_columns(data = None, json_col = None):\n",
    "    \n",
    "    if (data[json_col].empty or json_col == None):\n",
    "        return None\n",
    "    \n",
    "    #Creating empty columns from JSON row that we fill with values\n",
    "    dictionary = parse_json_col(data[json_col][0])\n",
    "    keys = dict_keys(dictionary)\n",
    "    \n",
    "    #New empty dataframe\n",
    "    new = pd.DataFrame(columns=keys,index=range(len(data)))\n",
    "    \n",
    "    #Iteration over new dataframe and filling\n",
    "    counter = 0\n",
    "    for json in data[json_col]:\n",
    "        try:\n",
    "            if(np.isnan(json)):\n",
    "                counter += 1\n",
    "                new.loc[counter] = np.NaN\n",
    "                continue\n",
    "        except:\n",
    "            pass\n",
    "\n",
    "        json = parse_json_col(json)\n",
    "        new.loc[counter] = dict_values(json)\n",
    "        counter += 1\n",
    "\n",
    "    \n",
    "    cols = len(new.columns)\n",
    "    \n",
    "    for i in range(cols):\n",
    "        col = new.pop(new.columns[0])\n",
    "        name = keys[i]\n",
    "\n",
    "        data[name] = col\n",
    "\n",
    "    #New filled dataframe\n",
    "    return data"
   ]
  },
  {
   "cell_type": "code",
   "execution_count": 26,
   "metadata": {},
   "outputs": [
    {
     "data": {
      "text/html": [
       "<div>\n",
       "<style scoped>\n",
       "    .dataframe tbody tr th:only-of-type {\n",
       "        vertical-align: middle;\n",
       "    }\n",
       "\n",
       "    .dataframe tbody tr th {\n",
       "        vertical-align: top;\n",
       "    }\n",
       "\n",
       "    .dataframe thead th {\n",
       "        text-align: right;\n",
       "    }\n",
       "</style>\n",
       "<table border=\"1\" class=\"dataframe\">\n",
       "  <thead>\n",
       "    <tr style=\"text-align: right;\">\n",
       "      <th></th>\n",
       "      <th>T3</th>\n",
       "      <th>fnlwgt</th>\n",
       "      <th>hours-per-week</th>\n",
       "      <th>relationship</th>\n",
       "      <th>sick</th>\n",
       "      <th>workclass</th>\n",
       "      <th>TT4 measured</th>\n",
       "      <th>class</th>\n",
       "      <th>marital-status</th>\n",
       "      <th>goitre</th>\n",
       "      <th>...</th>\n",
       "      <th>query hypothyroid</th>\n",
       "      <th>T4U measured</th>\n",
       "      <th>pregnant</th>\n",
       "      <th>thyroid surgery</th>\n",
       "      <th>TSH measured</th>\n",
       "      <th>query on thyroxine</th>\n",
       "      <th>I131 treatment</th>\n",
       "      <th>on thyroxine</th>\n",
       "      <th>T3 measured</th>\n",
       "      <th>psych</th>\n",
       "    </tr>\n",
       "  </thead>\n",
       "  <tbody>\n",
       "    <tr>\n",
       "      <th>0</th>\n",
       "      <td>2.0</td>\n",
       "      <td>240810.0</td>\n",
       "      <td>45.0</td>\n",
       "      <td>Husband</td>\n",
       "      <td>f</td>\n",
       "      <td>private</td>\n",
       "      <td>t</td>\n",
       "      <td>negative.|511</td>\n",
       "      <td>Married-civ-spouse</td>\n",
       "      <td>f</td>\n",
       "      <td>...</td>\n",
       "      <td>f</td>\n",
       "      <td>t</td>\n",
       "      <td>f</td>\n",
       "      <td>f</td>\n",
       "      <td>t</td>\n",
       "      <td>f</td>\n",
       "      <td>f</td>\n",
       "      <td>f</td>\n",
       "      <td>t</td>\n",
       "      <td>f</td>\n",
       "    </tr>\n",
       "    <tr>\n",
       "      <th>1</th>\n",
       "      <td>3.0</td>\n",
       "      <td>55743.0</td>\n",
       "      <td>45.0</td>\n",
       "      <td>Wife</td>\n",
       "      <td>f</td>\n",
       "      <td>Private</td>\n",
       "      <td>t</td>\n",
       "      <td>increased binding protein.|1799</td>\n",
       "      <td>Married-civ-spouse</td>\n",
       "      <td>f</td>\n",
       "      <td>...</td>\n",
       "      <td>f</td>\n",
       "      <td>t</td>\n",
       "      <td>f</td>\n",
       "      <td>f</td>\n",
       "      <td>t</td>\n",
       "      <td>f</td>\n",
       "      <td>f</td>\n",
       "      <td>f</td>\n",
       "      <td>t</td>\n",
       "      <td>f</td>\n",
       "    </tr>\n",
       "    <tr>\n",
       "      <th>2</th>\n",
       "      <td>2.0</td>\n",
       "      <td>193868.0</td>\n",
       "      <td>50.0</td>\n",
       "      <td>Not-in-family</td>\n",
       "      <td>f</td>\n",
       "      <td>Self-emp-inc</td>\n",
       "      <td>t</td>\n",
       "      <td>negative._2741</td>\n",
       "      <td>Never-married</td>\n",
       "      <td>f</td>\n",
       "      <td>...</td>\n",
       "      <td>f</td>\n",
       "      <td>t</td>\n",
       "      <td>f</td>\n",
       "      <td>f</td>\n",
       "      <td>t</td>\n",
       "      <td>f</td>\n",
       "      <td>f</td>\n",
       "      <td>f</td>\n",
       "      <td>t</td>\n",
       "      <td>f</td>\n",
       "    </tr>\n",
       "    <tr>\n",
       "      <th>3</th>\n",
       "      <td>1.6</td>\n",
       "      <td>119069.0</td>\n",
       "      <td>40.0</td>\n",
       "      <td>Husband</td>\n",
       "      <td>f</td>\n",
       "      <td>Self-emp-not-inc</td>\n",
       "      <td>t</td>\n",
       "      <td>negative.|542</td>\n",
       "      <td>Married-civ-spouse</td>\n",
       "      <td>f</td>\n",
       "      <td>...</td>\n",
       "      <td>f</td>\n",
       "      <td>t</td>\n",
       "      <td>f</td>\n",
       "      <td>f</td>\n",
       "      <td>t</td>\n",
       "      <td>f</td>\n",
       "      <td>f</td>\n",
       "      <td>f</td>\n",
       "      <td>t</td>\n",
       "      <td>f</td>\n",
       "    </tr>\n",
       "    <tr>\n",
       "      <th>4</th>\n",
       "      <td>1.8</td>\n",
       "      <td>195189.0</td>\n",
       "      <td>40.0</td>\n",
       "      <td>Unmarried</td>\n",
       "      <td>f</td>\n",
       "      <td>Private</td>\n",
       "      <td>t</td>\n",
       "      <td>negative.|72</td>\n",
       "      <td>Divorced</td>\n",
       "      <td>f</td>\n",
       "      <td>...</td>\n",
       "      <td>f</td>\n",
       "      <td>t</td>\n",
       "      <td>f</td>\n",
       "      <td>f</td>\n",
       "      <td>t</td>\n",
       "      <td>f</td>\n",
       "      <td>f</td>\n",
       "      <td>f</td>\n",
       "      <td>t</td>\n",
       "      <td>f</td>\n",
       "    </tr>\n",
       "  </tbody>\n",
       "</table>\n",
       "<p>5 rows × 31 columns</p>\n",
       "</div>"
      ],
      "text/plain": [
       "    T3    fnlwgt  hours-per-week    relationship sick          workclass  \\\n",
       "0  2.0  240810.0            45.0         Husband    f            private   \n",
       "1  3.0   55743.0            45.0            Wife    f            Private   \n",
       "2  2.0  193868.0            50.0   Not-in-family    f       Self-emp-inc   \n",
       "3  1.6  119069.0            40.0         Husband    f   Self-emp-not-inc   \n",
       "4  1.8  195189.0            40.0       Unmarried    f            Private   \n",
       "\n",
       "  TT4 measured                            class       marital-status goitre  \\\n",
       "0            t                    negative.|511   Married-civ-spouse      f   \n",
       "1            t  increased binding protein.|1799   Married-civ-spouse      f   \n",
       "2            t                   negative._2741        Never-married      f   \n",
       "3            t                    negative.|542   Married-civ-spouse      f   \n",
       "4            t                     negative.|72             Divorced      f   \n",
       "\n",
       "   ...  query hypothyroid T4U measured pregnant thyroid surgery TSH measured  \\\n",
       "0  ...                  f            t        f               f            t   \n",
       "1  ...                  f            t        f               f            t   \n",
       "2  ...                  f            t        f               f            t   \n",
       "3  ...                  f            t        f               f            t   \n",
       "4  ...                  f            t        f               f            t   \n",
       "\n",
       "   query on thyroxine I131 treatment on thyroxine T3 measured psych  \n",
       "0                   f              f            f           t     f  \n",
       "1                   f              f            f           t     f  \n",
       "2                   f              f            f           t     f  \n",
       "3                   f              f            f           t     f  \n",
       "4                   f              f            f           t     f  \n",
       "\n",
       "[5 rows x 31 columns]"
      ]
     },
     "execution_count": 26,
     "metadata": {},
     "output_type": "execute_result"
    }
   ],
   "source": [
    "#Parsing & adding new columns to the dataset\n",
    "df_new= add_columns(data=df_new,json_col=\"medical_info\")\n",
    "df_new[df_new.columns[15:]].head()"
   ]
  },
  {
   "cell_type": "markdown",
   "metadata": {},
   "source": [
    "## Normalization of categorical columns\n"
   ]
  },
  {
   "cell_type": "code",
   "execution_count": 27,
   "metadata": {},
   "outputs": [],
   "source": [
    "def normalize_identifiers(data, column):\n",
    "\n",
    "    if(data[column].isna().any()):\n",
    "        new_col = data[column].copy()\n",
    "        \n",
    "        for i in range(0,len(new_col)):\n",
    "            if(pd.isna(new_col.iloc[i])):\n",
    "                continue\n",
    "            else:\n",
    "                new_col.iloc[i] = new_col.iloc[i].lower()[0]\n",
    "        data[column] = new_col.copy()\n",
    "    else:\n",
    "        data[column] = data[column].apply(lambda x : x.lower())\n",
    "        data[column] = data[column].apply(lambda x :  x.replace(x,x[0]))\n",
    "        data[data[column] == 'n'][column] = np.nan"
   ]
  },
  {
   "cell_type": "code",
   "execution_count": 28,
   "metadata": {},
   "outputs": [],
   "source": [
    "def normalize_columns_booleans(data):\n",
    "    \n",
    "    \"\"\" The function normalize columns in dataframe \n",
    "        data, that contains values such as t.8,f.2...\n",
    "        to the format t/f\n",
    "        This function do nothing with Nan values\n",
    "    \"\"\"\n",
    "    \n",
    "    #iterating over the columns\n",
    "    for col in df_new.columns:\n",
    "  \n",
    "        a = pd.unique(df_new[col])\n",
    "        \n",
    "        #List of valid values for normalization\n",
    "        flags = [\"f\",\"t\", \"t.[0-9]\", \"f.[0-9]\"]\n",
    "\n",
    "        for item in a:\n",
    "\n",
    "            #Normalization of values\n",
    "            if(item in flags):\n",
    "                normalize_identifiers(data=data,column=col)\n",
    "                print(\"Normalized %s\" % (col))\n",
    "                break"
   ]
  },
  {
   "cell_type": "markdown",
   "metadata": {},
   "source": [
    "Now let's take a look on a column with the categorical values - **on antithyroid medication**"
   ]
  },
  {
   "cell_type": "code",
   "execution_count": 29,
   "metadata": {},
   "outputs": [
    {
     "data": {
      "text/plain": [
       "array(['f', 'FALSE', 'F', 't', 'TRUE', 'T', 'f.2'], dtype=object)"
      ]
     },
     "execution_count": 29,
     "metadata": {},
     "output_type": "execute_result"
    }
   ],
   "source": [
    "df_new[\"on antithyroid medication\"].unique()"
   ]
  },
  {
   "cell_type": "code",
   "execution_count": 30,
   "metadata": {},
   "outputs": [],
   "source": [
    "#Applying normalization to the categorical column\n",
    "normalize_identifiers(df_new, \"on antithyroid medication\")"
   ]
  },
  {
   "cell_type": "code",
   "execution_count": 31,
   "metadata": {
    "scrolled": false
   },
   "outputs": [
    {
     "data": {
      "text/plain": [
       "array(['f', 't'], dtype=object)"
      ]
     },
     "execution_count": 31,
     "metadata": {},
     "output_type": "execute_result"
    }
   ],
   "source": [
    "#After applying the normalization script, there are only two valid values\n",
    "df_new[\"on antithyroid medication\"].unique()"
   ]
  },
  {
   "cell_type": "markdown",
   "metadata": {},
   "source": [
    "## Normalization of special column"
   ]
  },
  {
   "cell_type": "markdown",
   "metadata": {},
   "source": [
    "Preprocessing a **class** column  \n",
    "This column contains two kind of information and it is suitable to split the column on **two new** columns."
   ]
  },
  {
   "cell_type": "code",
   "execution_count": 32,
   "metadata": {},
   "outputs": [
    {
     "data": {
      "text/plain": [
       "0                      negative.|511\n",
       "1    increased binding protein.|1799\n",
       "2                     negative._2741\n",
       "3                      negative.|542\n",
       "4                       negative.|72\n",
       "Name: class, dtype: object"
      ]
     },
     "execution_count": 32,
     "metadata": {},
     "output_type": "execute_result"
    }
   ],
   "source": [
    "df_new[\"class\"].head()"
   ]
  },
  {
   "cell_type": "code",
   "execution_count": 33,
   "metadata": {},
   "outputs": [
    {
     "data": {
      "text/plain": [
       "0                      negative.511\n",
       "1    increased binding protein.1799\n",
       "2                     negative.2741\n",
       "3                      negative.542\n",
       "4                       negative.72\n",
       "Name: class, dtype: object"
      ]
     },
     "execution_count": 33,
     "metadata": {},
     "output_type": "execute_result"
    }
   ],
   "source": [
    "#Stripping characters\n",
    "df_new[\"class\"] = df_new[\"class\"].str.replace(\"_\",\"\")\n",
    "df_new[\"class\"] = df_new[\"class\"].str.replace(\"|\",\"\")\n",
    "df_new[\"class\"].head()"
   ]
  },
  {
   "cell_type": "code",
   "execution_count": 34,
   "metadata": {
    "scrolled": true
   },
   "outputs": [
    {
     "data": {
      "text/html": [
       "<div>\n",
       "<style scoped>\n",
       "    .dataframe tbody tr th:only-of-type {\n",
       "        vertical-align: middle;\n",
       "    }\n",
       "\n",
       "    .dataframe tbody tr th {\n",
       "        vertical-align: top;\n",
       "    }\n",
       "\n",
       "    .dataframe thead th {\n",
       "        text-align: right;\n",
       "    }\n",
       "</style>\n",
       "<table border=\"1\" class=\"dataframe\">\n",
       "  <thead>\n",
       "    <tr style=\"text-align: right;\">\n",
       "      <th></th>\n",
       "      <th>class</th>\n",
       "      <th>class_num</th>\n",
       "    </tr>\n",
       "  </thead>\n",
       "  <tbody>\n",
       "    <tr>\n",
       "      <th>0</th>\n",
       "      <td>negative</td>\n",
       "      <td>511</td>\n",
       "    </tr>\n",
       "    <tr>\n",
       "      <th>1</th>\n",
       "      <td>increased binding protein</td>\n",
       "      <td>1799</td>\n",
       "    </tr>\n",
       "    <tr>\n",
       "      <th>2</th>\n",
       "      <td>negative</td>\n",
       "      <td>2741</td>\n",
       "    </tr>\n",
       "    <tr>\n",
       "      <th>3</th>\n",
       "      <td>negative</td>\n",
       "      <td>542</td>\n",
       "    </tr>\n",
       "    <tr>\n",
       "      <th>4</th>\n",
       "      <td>negative</td>\n",
       "      <td>72</td>\n",
       "    </tr>\n",
       "  </tbody>\n",
       "</table>\n",
       "</div>"
      ],
      "text/plain": [
       "                       class class_num\n",
       "0                   negative       511\n",
       "1  increased binding protein      1799\n",
       "2                   negative      2741\n",
       "3                   negative       542\n",
       "4                   negative        72"
      ]
     },
     "execution_count": 34,
     "metadata": {},
     "output_type": "execute_result"
    }
   ],
   "source": [
    "#Finally, splitting the column on two new columns - class and protein\n",
    "df_new[[\"class\", \"class_num\"]] = df_new[\"class\"].str.split(\".\",expand = True)\n",
    "df_new[[\"class\", \"class_num\"]].head()"
   ]
  },
  {
   "cell_type": "markdown",
   "metadata": {},
   "source": [
    "## Fillling missing numeric values"
   ]
  },
  {
   "cell_type": "code",
   "execution_count": 35,
   "metadata": {},
   "outputs": [],
   "source": [
    "def fill_numeric_miss_values(data,column,method):\n",
    "    \n",
    "    \"\"\" The function fills missing numeric values\n",
    "        with specific method. Method includes\n",
    "        mean/med/mod.\n",
    "    \"\"\"\n",
    "    methods = [\"mean\",\"med\",\"mod\"]\n",
    "    \n",
    "    if (data[column].isna().any() == False):\n",
    "        #Stĺpec neobsahuje žiadne NaN hodnoty\n",
    "        print(\"No missing values!\")\n",
    "        return\n",
    "    \n",
    "    #Creating a mask\n",
    "    mask = data[column].isna()\n",
    "    \n",
    "    #Method check\n",
    "    if(method not in methods):\n",
    "        print(\"Invalid method\")\n",
    "        return\n",
    "    \n",
    "    #Determination of method\n",
    "    if (method == \"mean\"):\n",
    "        col = data[column]\n",
    "        col = col[mask == False]\n",
    "        value = np.mean(col)\n",
    "        print(str.upper(method),\" Value is:\", value)\n",
    "        \n",
    "    elif (method == \"med\"):\n",
    "        col = data[column]\n",
    "        col = col[mask == False]\n",
    "        value = col.mean()\n",
    "        print(str.upper(method),\" Value is:\", value)\n",
    "\n",
    "    elif (method == \"mod\"):\n",
    "        col = data[column]\n",
    "        col = col[mask == False]\n",
    "        value = col.mode()[0]\n",
    "        print(str.upper(method),\" Value is:\", value)\n",
    "\n",
    "    #Replacing the missing value with the calculated one\n",
    "    new_col = data[column].copy()\n",
    "    for i in range(0,len(new_col)):\n",
    "\n",
    "        if(pd.isna(new_col.iloc[i])):\n",
    "            new_col.iloc[i] = value\n",
    "   \n",
    "    data[column] = new_col.copy()\n",
    "    data[column] = data[column].astype(\"float64\")\n",
    "    \n",
    "    print(\"Filling missing values by %s done!\" % (str.upper(method)))"
   ]
  },
  {
   "cell_type": "code",
   "execution_count": 36,
   "metadata": {},
   "outputs": [
    {
     "data": {
      "text/html": [
       "<div>\n",
       "<style scoped>\n",
       "    .dataframe tbody tr th:only-of-type {\n",
       "        vertical-align: middle;\n",
       "    }\n",
       "\n",
       "    .dataframe tbody tr th {\n",
       "        vertical-align: top;\n",
       "    }\n",
       "\n",
       "    .dataframe thead th {\n",
       "        text-align: right;\n",
       "    }\n",
       "</style>\n",
       "<table border=\"1\" class=\"dataframe\">\n",
       "  <thead>\n",
       "    <tr style=\"text-align: right;\">\n",
       "      <th></th>\n",
       "      <th>name</th>\n",
       "      <th>address</th>\n",
       "      <th>age</th>\n",
       "      <th>sex</th>\n",
       "      <th>date_of_birth</th>\n",
       "      <th>query hyperthyroid</th>\n",
       "      <th>FTI measured</th>\n",
       "      <th>education</th>\n",
       "      <th>lithium</th>\n",
       "      <th>TT4</th>\n",
       "      <th>...</th>\n",
       "      <th>T4U measured</th>\n",
       "      <th>pregnant</th>\n",
       "      <th>thyroid surgery</th>\n",
       "      <th>TSH measured</th>\n",
       "      <th>query on thyroxine</th>\n",
       "      <th>I131 treatment</th>\n",
       "      <th>on thyroxine</th>\n",
       "      <th>T3 measured</th>\n",
       "      <th>psych</th>\n",
       "      <th>class_num</th>\n",
       "    </tr>\n",
       "  </thead>\n",
       "  <tbody>\n",
       "    <tr>\n",
       "      <th>5</th>\n",
       "      <td>Ada Wells</td>\n",
       "      <td>906 Booth Mews\\r\\nJohnsonmouth, IL 11134</td>\n",
       "      <td>41.0</td>\n",
       "      <td>F</td>\n",
       "      <td>76-11-26</td>\n",
       "      <td>f</td>\n",
       "      <td>f</td>\n",
       "      <td>HS-grad</td>\n",
       "      <td>f</td>\n",
       "      <td>NaN</td>\n",
       "      <td>...</td>\n",
       "      <td>f</td>\n",
       "      <td>f</td>\n",
       "      <td>f</td>\n",
       "      <td>f</td>\n",
       "      <td>f</td>\n",
       "      <td>f</td>\n",
       "      <td>f</td>\n",
       "      <td>f</td>\n",
       "      <td>f</td>\n",
       "      <td>1816</td>\n",
       "    </tr>\n",
       "    <tr>\n",
       "      <th>28</th>\n",
       "      <td>Albert Picklesimer</td>\n",
       "      <td>547 Victoria Road Apt. 194\\r\\nNorth Dominique,...</td>\n",
       "      <td>68.0</td>\n",
       "      <td>M</td>\n",
       "      <td>1949-12-06</td>\n",
       "      <td>f</td>\n",
       "      <td>f</td>\n",
       "      <td>Some-college</td>\n",
       "      <td>f</td>\n",
       "      <td>NaN</td>\n",
       "      <td>...</td>\n",
       "      <td>f</td>\n",
       "      <td>f</td>\n",
       "      <td>f</td>\n",
       "      <td>t</td>\n",
       "      <td>f</td>\n",
       "      <td>f</td>\n",
       "      <td>f</td>\n",
       "      <td>f</td>\n",
       "      <td>f</td>\n",
       "      <td>394</td>\n",
       "    </tr>\n",
       "    <tr>\n",
       "      <th>40</th>\n",
       "      <td>Alice Bush</td>\n",
       "      <td>3994 Craig Square\\r\\nPort Edwinview, TX 92630</td>\n",
       "      <td>77.0</td>\n",
       "      <td>F</td>\n",
       "      <td>1940-12-07</td>\n",
       "      <td>f</td>\n",
       "      <td>f</td>\n",
       "      <td>HS-grad</td>\n",
       "      <td>f</td>\n",
       "      <td>NaN</td>\n",
       "      <td>...</td>\n",
       "      <td>f</td>\n",
       "      <td>f</td>\n",
       "      <td>f</td>\n",
       "      <td>f</td>\n",
       "      <td>f</td>\n",
       "      <td>f</td>\n",
       "      <td>f</td>\n",
       "      <td>t</td>\n",
       "      <td>f</td>\n",
       "      <td>276</td>\n",
       "    </tr>\n",
       "    <tr>\n",
       "      <th>44</th>\n",
       "      <td>Alicia Johnson</td>\n",
       "      <td>7099 Smith Fields Apt. 324\\r\\nWest Jocelynton,...</td>\n",
       "      <td>51.0</td>\n",
       "      <td>F</td>\n",
       "      <td>1967-02-15</td>\n",
       "      <td>f</td>\n",
       "      <td>t</td>\n",
       "      <td>7th-8th</td>\n",
       "      <td>f</td>\n",
       "      <td>NaN</td>\n",
       "      <td>...</td>\n",
       "      <td>f</td>\n",
       "      <td>f</td>\n",
       "      <td>f</td>\n",
       "      <td>t</td>\n",
       "      <td>f</td>\n",
       "      <td>f</td>\n",
       "      <td>f</td>\n",
       "      <td>t</td>\n",
       "      <td>f</td>\n",
       "      <td>3304</td>\n",
       "    </tr>\n",
       "    <tr>\n",
       "      <th>51</th>\n",
       "      <td>Allison Aderholt</td>\n",
       "      <td>478 Murphy Divide\\r\\nSouth Christopher, IA 99523</td>\n",
       "      <td>67.0</td>\n",
       "      <td>F</td>\n",
       "      <td>1951-07-01</td>\n",
       "      <td>f</td>\n",
       "      <td>f</td>\n",
       "      <td>Bachelors</td>\n",
       "      <td>f</td>\n",
       "      <td>NaN</td>\n",
       "      <td>...</td>\n",
       "      <td>f</td>\n",
       "      <td>f</td>\n",
       "      <td>f</td>\n",
       "      <td>f</td>\n",
       "      <td>f</td>\n",
       "      <td>f</td>\n",
       "      <td>f</td>\n",
       "      <td>f</td>\n",
       "      <td>f</td>\n",
       "      <td>1902</td>\n",
       "    </tr>\n",
       "    <tr>\n",
       "      <th>63</th>\n",
       "      <td>Amanda Davis</td>\n",
       "      <td>6630 Brian Views\\r\\nElliottberg, IN 75451</td>\n",
       "      <td>22.0</td>\n",
       "      <td>F</td>\n",
       "      <td>1996-06-17</td>\n",
       "      <td>f</td>\n",
       "      <td>f</td>\n",
       "      <td>5th-6th</td>\n",
       "      <td>f</td>\n",
       "      <td>NaN</td>\n",
       "      <td>...</td>\n",
       "      <td>f</td>\n",
       "      <td>f</td>\n",
       "      <td>f</td>\n",
       "      <td>f</td>\n",
       "      <td>f</td>\n",
       "      <td>f</td>\n",
       "      <td>f</td>\n",
       "      <td>f</td>\n",
       "      <td>f</td>\n",
       "      <td>664</td>\n",
       "    </tr>\n",
       "    <tr>\n",
       "      <th>67</th>\n",
       "      <td>Amanda Moss</td>\n",
       "      <td>841 James Alley\\r\\nPort Thomas, ID 71619</td>\n",
       "      <td>62.0</td>\n",
       "      <td>F</td>\n",
       "      <td>1956-10-01</td>\n",
       "      <td>f</td>\n",
       "      <td>f</td>\n",
       "      <td>HS-grad</td>\n",
       "      <td>f</td>\n",
       "      <td>NaN</td>\n",
       "      <td>...</td>\n",
       "      <td>f</td>\n",
       "      <td>f</td>\n",
       "      <td>f</td>\n",
       "      <td>f</td>\n",
       "      <td>f</td>\n",
       "      <td>f</td>\n",
       "      <td>f</td>\n",
       "      <td>f</td>\n",
       "      <td>f</td>\n",
       "      <td>1901</td>\n",
       "    </tr>\n",
       "    <tr>\n",
       "      <th>90</th>\n",
       "      <td>Angela Chavez</td>\n",
       "      <td>46320 Cassie Trail Suite 868\\r\\nMatthewville, ...</td>\n",
       "      <td>49.0</td>\n",
       "      <td>F</td>\n",
       "      <td>69-09-20</td>\n",
       "      <td>f</td>\n",
       "      <td>f</td>\n",
       "      <td>HS-grad</td>\n",
       "      <td>f</td>\n",
       "      <td>NaN</td>\n",
       "      <td>...</td>\n",
       "      <td>f</td>\n",
       "      <td>f</td>\n",
       "      <td>f</td>\n",
       "      <td>f</td>\n",
       "      <td>f</td>\n",
       "      <td>f</td>\n",
       "      <td>f</td>\n",
       "      <td>f</td>\n",
       "      <td>f</td>\n",
       "      <td>454</td>\n",
       "    </tr>\n",
       "    <tr>\n",
       "      <th>106</th>\n",
       "      <td>Ann Hensley</td>\n",
       "      <td>159 Jefferson Mews\\r\\nWest Rodney, WI 31709</td>\n",
       "      <td>33.0</td>\n",
       "      <td>F</td>\n",
       "      <td>1985-04-10</td>\n",
       "      <td>f</td>\n",
       "      <td>f</td>\n",
       "      <td>HS-grad</td>\n",
       "      <td>f</td>\n",
       "      <td>NaN</td>\n",
       "      <td>...</td>\n",
       "      <td>f</td>\n",
       "      <td>f</td>\n",
       "      <td>f</td>\n",
       "      <td>f</td>\n",
       "      <td>f</td>\n",
       "      <td>f</td>\n",
       "      <td>f</td>\n",
       "      <td>f</td>\n",
       "      <td>f</td>\n",
       "      <td>2804</td>\n",
       "    </tr>\n",
       "    <tr>\n",
       "      <th>123</th>\n",
       "      <td>Anne Estrada</td>\n",
       "      <td>58334 Paul Hollow Suite 812\\r\\nDanielsstad, MA...</td>\n",
       "      <td>41.0</td>\n",
       "      <td>F</td>\n",
       "      <td>1977-08-03</td>\n",
       "      <td>f</td>\n",
       "      <td>f</td>\n",
       "      <td>Bachelors</td>\n",
       "      <td>f</td>\n",
       "      <td>NaN</td>\n",
       "      <td>...</td>\n",
       "      <td>f</td>\n",
       "      <td>f</td>\n",
       "      <td>f</td>\n",
       "      <td>f</td>\n",
       "      <td>f</td>\n",
       "      <td>f</td>\n",
       "      <td>f</td>\n",
       "      <td>f</td>\n",
       "      <td>f</td>\n",
       "      <td>3519</td>\n",
       "    </tr>\n",
       "    <tr>\n",
       "      <th>145</th>\n",
       "      <td>Anthony Wieczorek</td>\n",
       "      <td>34987 Dennis Walks Apt. 862\\r\\nPowellborough, ...</td>\n",
       "      <td>25.0</td>\n",
       "      <td>M</td>\n",
       "      <td>1992-10-19</td>\n",
       "      <td>f</td>\n",
       "      <td>f</td>\n",
       "      <td>Some-college</td>\n",
       "      <td>f</td>\n",
       "      <td>NaN</td>\n",
       "      <td>...</td>\n",
       "      <td>f</td>\n",
       "      <td>f</td>\n",
       "      <td>f</td>\n",
       "      <td>f</td>\n",
       "      <td>f</td>\n",
       "      <td>f</td>\n",
       "      <td>f</td>\n",
       "      <td>f</td>\n",
       "      <td>f</td>\n",
       "      <td>919</td>\n",
       "    </tr>\n",
       "    <tr>\n",
       "      <th>155</th>\n",
       "      <td>April Williams</td>\n",
       "      <td>Unit 5029 Box 6752\\r\\nDPO AE 90819</td>\n",
       "      <td>39.0</td>\n",
       "      <td>F</td>\n",
       "      <td>79-07-14</td>\n",
       "      <td>f</td>\n",
       "      <td>f</td>\n",
       "      <td>HS-grad</td>\n",
       "      <td>f</td>\n",
       "      <td>NaN</td>\n",
       "      <td>...</td>\n",
       "      <td>f</td>\n",
       "      <td>f</td>\n",
       "      <td>f</td>\n",
       "      <td>t</td>\n",
       "      <td>f</td>\n",
       "      <td>f</td>\n",
       "      <td>f</td>\n",
       "      <td>f</td>\n",
       "      <td>f</td>\n",
       "      <td>3526</td>\n",
       "    </tr>\n",
       "    <tr>\n",
       "      <th>192</th>\n",
       "      <td>Barbara Winner</td>\n",
       "      <td>7288 Rowland Shoals\\r\\nWest Lance, CA 89031</td>\n",
       "      <td>37.0</td>\n",
       "      <td>F</td>\n",
       "      <td>1981-06-12</td>\n",
       "      <td>f</td>\n",
       "      <td>f</td>\n",
       "      <td>HS-grad</td>\n",
       "      <td>f</td>\n",
       "      <td>NaN</td>\n",
       "      <td>...</td>\n",
       "      <td>f</td>\n",
       "      <td>f</td>\n",
       "      <td>f</td>\n",
       "      <td>f</td>\n",
       "      <td>f</td>\n",
       "      <td>f</td>\n",
       "      <td>f</td>\n",
       "      <td>f</td>\n",
       "      <td>f</td>\n",
       "      <td>2053</td>\n",
       "    </tr>\n",
       "    <tr>\n",
       "      <th>203</th>\n",
       "      <td>Bernadette Depaolo</td>\n",
       "      <td>Unit 4460 Box 7744\\r\\nDPO AE 81119</td>\n",
       "      <td>53.0</td>\n",
       "      <td>F</td>\n",
       "      <td>1965-09-21</td>\n",
       "      <td>f</td>\n",
       "      <td>f</td>\n",
       "      <td>HS-grad</td>\n",
       "      <td>f</td>\n",
       "      <td>NaN</td>\n",
       "      <td>...</td>\n",
       "      <td>f</td>\n",
       "      <td>f</td>\n",
       "      <td>f</td>\n",
       "      <td>f</td>\n",
       "      <td>f</td>\n",
       "      <td>f</td>\n",
       "      <td>f</td>\n",
       "      <td>f</td>\n",
       "      <td>f</td>\n",
       "      <td>1792</td>\n",
       "    </tr>\n",
       "    <tr>\n",
       "      <th>224</th>\n",
       "      <td>Betty Oldroyd</td>\n",
       "      <td>71223 Michael Forks Suite 688\\r\\nJonesland, AK...</td>\n",
       "      <td>33.0</td>\n",
       "      <td>F</td>\n",
       "      <td>1984-12-23</td>\n",
       "      <td>f</td>\n",
       "      <td>f</td>\n",
       "      <td>HS-grad</td>\n",
       "      <td>f</td>\n",
       "      <td>NaN</td>\n",
       "      <td>...</td>\n",
       "      <td>f</td>\n",
       "      <td>f</td>\n",
       "      <td>f</td>\n",
       "      <td>f</td>\n",
       "      <td>f</td>\n",
       "      <td>f</td>\n",
       "      <td>f</td>\n",
       "      <td>f</td>\n",
       "      <td>f</td>\n",
       "      <td>2195</td>\n",
       "    </tr>\n",
       "    <tr>\n",
       "      <th>235</th>\n",
       "      <td>Beverly Jackson</td>\n",
       "      <td>4498 Jaime Terrace\\r\\nWest Matthew, SC 87187</td>\n",
       "      <td>64.0</td>\n",
       "      <td>F</td>\n",
       "      <td>1954-09-09</td>\n",
       "      <td>f</td>\n",
       "      <td>f</td>\n",
       "      <td>Some-college</td>\n",
       "      <td>f</td>\n",
       "      <td>NaN</td>\n",
       "      <td>...</td>\n",
       "      <td>f</td>\n",
       "      <td>f</td>\n",
       "      <td>f</td>\n",
       "      <td>f</td>\n",
       "      <td>f</td>\n",
       "      <td>f</td>\n",
       "      <td>t</td>\n",
       "      <td>f</td>\n",
       "      <td>f</td>\n",
       "      <td>2055</td>\n",
       "    </tr>\n",
       "    <tr>\n",
       "      <th>237</th>\n",
       "      <td>Beverly Wise</td>\n",
       "      <td>8745 Kristie Freeway Suite 636\\r\\nLake Courtne...</td>\n",
       "      <td>67.0</td>\n",
       "      <td>F</td>\n",
       "      <td>1951-05-10</td>\n",
       "      <td>t</td>\n",
       "      <td>f</td>\n",
       "      <td>Some-college</td>\n",
       "      <td>f</td>\n",
       "      <td>NaN</td>\n",
       "      <td>...</td>\n",
       "      <td>f</td>\n",
       "      <td>f</td>\n",
       "      <td>f</td>\n",
       "      <td>f</td>\n",
       "      <td>f</td>\n",
       "      <td>f</td>\n",
       "      <td>f</td>\n",
       "      <td>f</td>\n",
       "      <td>f</td>\n",
       "      <td>1300</td>\n",
       "    </tr>\n",
       "    <tr>\n",
       "      <th>257</th>\n",
       "      <td>Bonny Macklin</td>\n",
       "      <td>814 Laura Avenue\\r\\nLopezbury, WV 57075</td>\n",
       "      <td>89.0</td>\n",
       "      <td>F</td>\n",
       "      <td>1929-02-21</td>\n",
       "      <td>f</td>\n",
       "      <td>f</td>\n",
       "      <td>HS-grad</td>\n",
       "      <td>f</td>\n",
       "      <td>NaN</td>\n",
       "      <td>...</td>\n",
       "      <td>f</td>\n",
       "      <td>f</td>\n",
       "      <td>f</td>\n",
       "      <td>f</td>\n",
       "      <td>f</td>\n",
       "      <td>f</td>\n",
       "      <td>f</td>\n",
       "      <td>f</td>\n",
       "      <td>f</td>\n",
       "      <td>435</td>\n",
       "    </tr>\n",
       "    <tr>\n",
       "      <th>320</th>\n",
       "      <td>Carol Vil</td>\n",
       "      <td>683 Mitchell Estates Suite 421\\r\\nMccallmouth,...</td>\n",
       "      <td>28.0</td>\n",
       "      <td>F</td>\n",
       "      <td>90-10-02</td>\n",
       "      <td>f</td>\n",
       "      <td>f</td>\n",
       "      <td>Some-college</td>\n",
       "      <td>f</td>\n",
       "      <td>NaN</td>\n",
       "      <td>...</td>\n",
       "      <td>f</td>\n",
       "      <td>f</td>\n",
       "      <td>f</td>\n",
       "      <td>f</td>\n",
       "      <td>f</td>\n",
       "      <td>f</td>\n",
       "      <td>f</td>\n",
       "      <td>f</td>\n",
       "      <td>f</td>\n",
       "      <td>2054</td>\n",
       "    </tr>\n",
       "    <tr>\n",
       "      <th>349</th>\n",
       "      <td>Celia Hudson</td>\n",
       "      <td>05818 Martinez Turnpike Suite 725\\r\\nEast Mich...</td>\n",
       "      <td>35.0</td>\n",
       "      <td>F</td>\n",
       "      <td>1983-03-29</td>\n",
       "      <td>f</td>\n",
       "      <td>f</td>\n",
       "      <td>HS-grad</td>\n",
       "      <td>f</td>\n",
       "      <td>NaN</td>\n",
       "      <td>...</td>\n",
       "      <td>f</td>\n",
       "      <td>f</td>\n",
       "      <td>f</td>\n",
       "      <td>f</td>\n",
       "      <td>f</td>\n",
       "      <td>f</td>\n",
       "      <td>f</td>\n",
       "      <td>f</td>\n",
       "      <td>f</td>\n",
       "      <td>260</td>\n",
       "    </tr>\n",
       "    <tr>\n",
       "      <th>373</th>\n",
       "      <td>Charles Rieger</td>\n",
       "      <td>797 Nicole Springs Suite 642\\r\\nJonesborough, ...</td>\n",
       "      <td>15.0</td>\n",
       "      <td>M</td>\n",
       "      <td>2003-10-10</td>\n",
       "      <td>f</td>\n",
       "      <td>f</td>\n",
       "      <td>HS-grad</td>\n",
       "      <td>f</td>\n",
       "      <td>NaN</td>\n",
       "      <td>...</td>\n",
       "      <td>f</td>\n",
       "      <td>f</td>\n",
       "      <td>f</td>\n",
       "      <td>f</td>\n",
       "      <td>f</td>\n",
       "      <td>f</td>\n",
       "      <td>f</td>\n",
       "      <td>f</td>\n",
       "      <td>f</td>\n",
       "      <td>1822</td>\n",
       "    </tr>\n",
       "    <tr>\n",
       "      <th>498</th>\n",
       "      <td>Darlene Martin</td>\n",
       "      <td>62853 Sanchez Mill\\r\\nMyersborough, NY 21480</td>\n",
       "      <td>23.0</td>\n",
       "      <td>F</td>\n",
       "      <td>1995-10-11</td>\n",
       "      <td>f</td>\n",
       "      <td>f</td>\n",
       "      <td>Bachelors</td>\n",
       "      <td>f</td>\n",
       "      <td>NaN</td>\n",
       "      <td>...</td>\n",
       "      <td>f</td>\n",
       "      <td>f</td>\n",
       "      <td>f</td>\n",
       "      <td>f</td>\n",
       "      <td>f</td>\n",
       "      <td>f</td>\n",
       "      <td>t</td>\n",
       "      <td>f</td>\n",
       "      <td>f</td>\n",
       "      <td>1444</td>\n",
       "    </tr>\n",
       "    <tr>\n",
       "      <th>521</th>\n",
       "      <td>Dean Grimes</td>\n",
       "      <td>77974 Hale Radial\\r\\nWest Kimberly, MI 51749</td>\n",
       "      <td>69.0</td>\n",
       "      <td>M</td>\n",
       "      <td>1949-07-01</td>\n",
       "      <td>f</td>\n",
       "      <td>f</td>\n",
       "      <td>10th</td>\n",
       "      <td>f</td>\n",
       "      <td>NaN</td>\n",
       "      <td>...</td>\n",
       "      <td>f</td>\n",
       "      <td>f</td>\n",
       "      <td>f</td>\n",
       "      <td>f</td>\n",
       "      <td>f</td>\n",
       "      <td>f</td>\n",
       "      <td>f</td>\n",
       "      <td>f</td>\n",
       "      <td>f</td>\n",
       "      <td>1543</td>\n",
       "    </tr>\n",
       "    <tr>\n",
       "      <th>526</th>\n",
       "      <td>Deborah Davison</td>\n",
       "      <td>5465 Cannon Ports Suite 571\\r\\nChavezland, MN ...</td>\n",
       "      <td>19.0</td>\n",
       "      <td>F</td>\n",
       "      <td>1999-01-26</td>\n",
       "      <td>f</td>\n",
       "      <td>f</td>\n",
       "      <td>Bachelors</td>\n",
       "      <td>f</td>\n",
       "      <td>NaN</td>\n",
       "      <td>...</td>\n",
       "      <td>f</td>\n",
       "      <td>f</td>\n",
       "      <td>f</td>\n",
       "      <td>f</td>\n",
       "      <td>f</td>\n",
       "      <td>f</td>\n",
       "      <td>f</td>\n",
       "      <td>f</td>\n",
       "      <td>f</td>\n",
       "      <td>499</td>\n",
       "    </tr>\n",
       "    <tr>\n",
       "      <th>531</th>\n",
       "      <td>Deborah Starnes</td>\n",
       "      <td>64570 Brown Meadows Apt. 333\\r\\nBellton, NH 93269</td>\n",
       "      <td>15.0</td>\n",
       "      <td>F</td>\n",
       "      <td>2003-02-12</td>\n",
       "      <td>t</td>\n",
       "      <td>f</td>\n",
       "      <td>HS-grad</td>\n",
       "      <td>f</td>\n",
       "      <td>NaN</td>\n",
       "      <td>...</td>\n",
       "      <td>f</td>\n",
       "      <td>f</td>\n",
       "      <td>f</td>\n",
       "      <td>f</td>\n",
       "      <td>f</td>\n",
       "      <td>f</td>\n",
       "      <td>f</td>\n",
       "      <td>f</td>\n",
       "      <td>f</td>\n",
       "      <td>789</td>\n",
       "    </tr>\n",
       "    <tr>\n",
       "      <th>536</th>\n",
       "      <td>Deidre Paxton</td>\n",
       "      <td>591 Carlson Path\\r\\nSouth Jasonborough, DC 94646</td>\n",
       "      <td>19.0</td>\n",
       "      <td>F</td>\n",
       "      <td>1999-07-31</td>\n",
       "      <td>f</td>\n",
       "      <td>f</td>\n",
       "      <td>HS-grad</td>\n",
       "      <td>f</td>\n",
       "      <td>NaN</td>\n",
       "      <td>...</td>\n",
       "      <td>f</td>\n",
       "      <td>f</td>\n",
       "      <td>f</td>\n",
       "      <td>f</td>\n",
       "      <td>f</td>\n",
       "      <td>f</td>\n",
       "      <td>f</td>\n",
       "      <td>f</td>\n",
       "      <td>f</td>\n",
       "      <td>1899</td>\n",
       "    </tr>\n",
       "    <tr>\n",
       "      <th>582</th>\n",
       "      <td>Donna Crook</td>\n",
       "      <td>820 Peters Forest\\r\\nEast Sarahhaven, IL 28517</td>\n",
       "      <td>54.0</td>\n",
       "      <td>F</td>\n",
       "      <td>1964-10-06</td>\n",
       "      <td>f</td>\n",
       "      <td>f</td>\n",
       "      <td>HS-grad</td>\n",
       "      <td>f</td>\n",
       "      <td>NaN</td>\n",
       "      <td>...</td>\n",
       "      <td>f</td>\n",
       "      <td>f</td>\n",
       "      <td>f</td>\n",
       "      <td>f</td>\n",
       "      <td>f</td>\n",
       "      <td>f</td>\n",
       "      <td>f</td>\n",
       "      <td>f</td>\n",
       "      <td>f</td>\n",
       "      <td>1532</td>\n",
       "    </tr>\n",
       "    <tr>\n",
       "      <th>587</th>\n",
       "      <td>Donna Lee</td>\n",
       "      <td>104 Summers Summit Apt. 979\\r\\nNewmanview, CA ...</td>\n",
       "      <td>39.0</td>\n",
       "      <td>F</td>\n",
       "      <td>1978-11-23</td>\n",
       "      <td>f</td>\n",
       "      <td>f</td>\n",
       "      <td>12th</td>\n",
       "      <td>f</td>\n",
       "      <td>NaN</td>\n",
       "      <td>...</td>\n",
       "      <td>f</td>\n",
       "      <td>f</td>\n",
       "      <td>f</td>\n",
       "      <td>t</td>\n",
       "      <td>f</td>\n",
       "      <td>f</td>\n",
       "      <td>f</td>\n",
       "      <td>f</td>\n",
       "      <td>f</td>\n",
       "      <td>1840</td>\n",
       "    </tr>\n",
       "    <tr>\n",
       "      <th>593</th>\n",
       "      <td>Doretha Tavana</td>\n",
       "      <td>33581 Ramos Squares\\r\\nNorth Vincentside, KY 7...</td>\n",
       "      <td>51.0</td>\n",
       "      <td>F</td>\n",
       "      <td>1967-06-03</td>\n",
       "      <td>t</td>\n",
       "      <td>f</td>\n",
       "      <td>HS-grad</td>\n",
       "      <td>f</td>\n",
       "      <td>NaN</td>\n",
       "      <td>...</td>\n",
       "      <td>f</td>\n",
       "      <td>f</td>\n",
       "      <td>f</td>\n",
       "      <td>f</td>\n",
       "      <td>f</td>\n",
       "      <td>f</td>\n",
       "      <td>f</td>\n",
       "      <td>t</td>\n",
       "      <td>f</td>\n",
       "      <td>1856</td>\n",
       "    </tr>\n",
       "    <tr>\n",
       "      <th>597</th>\n",
       "      <td>Doris Cruz</td>\n",
       "      <td>7613 Sally Field\\r\\nEricville, WV 02618</td>\n",
       "      <td>52.0</td>\n",
       "      <td>F</td>\n",
       "      <td>1966-04-09</td>\n",
       "      <td>f</td>\n",
       "      <td>f</td>\n",
       "      <td>Some-college</td>\n",
       "      <td>f</td>\n",
       "      <td>NaN</td>\n",
       "      <td>...</td>\n",
       "      <td>f</td>\n",
       "      <td>f</td>\n",
       "      <td>f</td>\n",
       "      <td>f</td>\n",
       "      <td>f</td>\n",
       "      <td>f</td>\n",
       "      <td>f</td>\n",
       "      <td>f</td>\n",
       "      <td>f</td>\n",
       "      <td>316</td>\n",
       "    </tr>\n",
       "    <tr>\n",
       "      <th>...</th>\n",
       "      <td>...</td>\n",
       "      <td>...</td>\n",
       "      <td>...</td>\n",
       "      <td>...</td>\n",
       "      <td>...</td>\n",
       "      <td>...</td>\n",
       "      <td>...</td>\n",
       "      <td>...</td>\n",
       "      <td>...</td>\n",
       "      <td>...</td>\n",
       "      <td>...</td>\n",
       "      <td>...</td>\n",
       "      <td>...</td>\n",
       "      <td>...</td>\n",
       "      <td>...</td>\n",
       "      <td>...</td>\n",
       "      <td>...</td>\n",
       "      <td>...</td>\n",
       "      <td>...</td>\n",
       "      <td>...</td>\n",
       "      <td>...</td>\n",
       "    </tr>\n",
       "    <tr>\n",
       "      <th>1859</th>\n",
       "      <td>Sabrina Tharpe</td>\n",
       "      <td>5430 Sergio Brooks Suite 156\\r\\nAndersonland, ...</td>\n",
       "      <td>18.0</td>\n",
       "      <td>F</td>\n",
       "      <td>2000-10-07</td>\n",
       "      <td>f</td>\n",
       "      <td>f</td>\n",
       "      <td>Some-college</td>\n",
       "      <td>f</td>\n",
       "      <td>NaN</td>\n",
       "      <td>...</td>\n",
       "      <td>f</td>\n",
       "      <td>f</td>\n",
       "      <td>f</td>\n",
       "      <td>f</td>\n",
       "      <td>f</td>\n",
       "      <td>f</td>\n",
       "      <td>f</td>\n",
       "      <td>f</td>\n",
       "      <td>f</td>\n",
       "      <td>777</td>\n",
       "    </tr>\n",
       "    <tr>\n",
       "      <th>1867</th>\n",
       "      <td>Sam Shorter</td>\n",
       "      <td>7478 Ramirez Cliff\\r\\nDavisfurt, WA 14415</td>\n",
       "      <td>55.0</td>\n",
       "      <td>M</td>\n",
       "      <td>1963-02-27</td>\n",
       "      <td>f</td>\n",
       "      <td>f</td>\n",
       "      <td>11th</td>\n",
       "      <td>f</td>\n",
       "      <td>NaN</td>\n",
       "      <td>...</td>\n",
       "      <td>f</td>\n",
       "      <td>f</td>\n",
       "      <td>f</td>\n",
       "      <td>f</td>\n",
       "      <td>f</td>\n",
       "      <td>f</td>\n",
       "      <td>f</td>\n",
       "      <td>t</td>\n",
       "      <td>f</td>\n",
       "      <td>3702</td>\n",
       "    </tr>\n",
       "    <tr>\n",
       "      <th>1889</th>\n",
       "      <td>Santos Young</td>\n",
       "      <td>043 Carlson Pass Suite 363\\r\\nNorth Jesse, VA ...</td>\n",
       "      <td>28.0</td>\n",
       "      <td>F</td>\n",
       "      <td>1990-06-08</td>\n",
       "      <td>f</td>\n",
       "      <td>f</td>\n",
       "      <td>10th</td>\n",
       "      <td>f</td>\n",
       "      <td>NaN</td>\n",
       "      <td>...</td>\n",
       "      <td>f</td>\n",
       "      <td>f</td>\n",
       "      <td>f</td>\n",
       "      <td>f</td>\n",
       "      <td>f</td>\n",
       "      <td>f</td>\n",
       "      <td>f</td>\n",
       "      <td>f</td>\n",
       "      <td>f</td>\n",
       "      <td>31</td>\n",
       "    </tr>\n",
       "    <tr>\n",
       "      <th>1890</th>\n",
       "      <td>Sara Doherty</td>\n",
       "      <td>0433 Salinas Spur\\r\\nWest Douglas, ME 90843</td>\n",
       "      <td>32.0</td>\n",
       "      <td>F</td>\n",
       "      <td>1986-07-08</td>\n",
       "      <td>f</td>\n",
       "      <td>f</td>\n",
       "      <td>Bachelors</td>\n",
       "      <td>f</td>\n",
       "      <td>NaN</td>\n",
       "      <td>...</td>\n",
       "      <td>f</td>\n",
       "      <td>f</td>\n",
       "      <td>f</td>\n",
       "      <td>f</td>\n",
       "      <td>f</td>\n",
       "      <td>f</td>\n",
       "      <td>f</td>\n",
       "      <td>f</td>\n",
       "      <td>f</td>\n",
       "      <td>379</td>\n",
       "    </tr>\n",
       "    <tr>\n",
       "      <th>1892</th>\n",
       "      <td>Sara Griffith</td>\n",
       "      <td>332 Crystal Corners Suite 868\\r\\nWest Barbara,...</td>\n",
       "      <td>60.0</td>\n",
       "      <td>F</td>\n",
       "      <td>1958-04-22</td>\n",
       "      <td>f</td>\n",
       "      <td>f</td>\n",
       "      <td>Some-college</td>\n",
       "      <td>f</td>\n",
       "      <td>NaN</td>\n",
       "      <td>...</td>\n",
       "      <td>f</td>\n",
       "      <td>f</td>\n",
       "      <td>f</td>\n",
       "      <td>f</td>\n",
       "      <td>f</td>\n",
       "      <td>f</td>\n",
       "      <td>f</td>\n",
       "      <td>t</td>\n",
       "      <td>f</td>\n",
       "      <td>3315</td>\n",
       "    </tr>\n",
       "    <tr>\n",
       "      <th>1917</th>\n",
       "      <td>Shannon Murray</td>\n",
       "      <td>58132 Emily Club Apt. 346\\r\\nEmmaborough, LA 1...</td>\n",
       "      <td>72.0</td>\n",
       "      <td>?</td>\n",
       "      <td>1946-01-25</td>\n",
       "      <td>f</td>\n",
       "      <td>f</td>\n",
       "      <td>HS-grad</td>\n",
       "      <td>f</td>\n",
       "      <td>NaN</td>\n",
       "      <td>...</td>\n",
       "      <td>f</td>\n",
       "      <td>f</td>\n",
       "      <td>f</td>\n",
       "      <td>f</td>\n",
       "      <td>f</td>\n",
       "      <td>f</td>\n",
       "      <td>f</td>\n",
       "      <td>f</td>\n",
       "      <td>f</td>\n",
       "      <td>2647</td>\n",
       "    </tr>\n",
       "    <tr>\n",
       "      <th>1932</th>\n",
       "      <td>Sharon Weiskopf</td>\n",
       "      <td>8101 Kendra Drive Suite 537\\r\\nMoralesborough,...</td>\n",
       "      <td>41.0</td>\n",
       "      <td>F</td>\n",
       "      <td>1976-11-18</td>\n",
       "      <td>f</td>\n",
       "      <td>f</td>\n",
       "      <td>9th</td>\n",
       "      <td>f</td>\n",
       "      <td>NaN</td>\n",
       "      <td>...</td>\n",
       "      <td>f</td>\n",
       "      <td>f</td>\n",
       "      <td>f</td>\n",
       "      <td>f</td>\n",
       "      <td>f</td>\n",
       "      <td>f</td>\n",
       "      <td>f</td>\n",
       "      <td>f</td>\n",
       "      <td>f</td>\n",
       "      <td>797</td>\n",
       "    </tr>\n",
       "    <tr>\n",
       "      <th>1942</th>\n",
       "      <td>Sheila Solomon</td>\n",
       "      <td>6310 Chung Pines Suite 718\\r\\nEast Michaelbury...</td>\n",
       "      <td>55.0</td>\n",
       "      <td>F</td>\n",
       "      <td>1963-04-24</td>\n",
       "      <td>f</td>\n",
       "      <td>f</td>\n",
       "      <td>10th</td>\n",
       "      <td>f</td>\n",
       "      <td>NaN</td>\n",
       "      <td>...</td>\n",
       "      <td>f</td>\n",
       "      <td>f</td>\n",
       "      <td>f</td>\n",
       "      <td>f</td>\n",
       "      <td>f</td>\n",
       "      <td>f</td>\n",
       "      <td>f</td>\n",
       "      <td>f</td>\n",
       "      <td>f</td>\n",
       "      <td>2725</td>\n",
       "    </tr>\n",
       "    <tr>\n",
       "      <th>1955</th>\n",
       "      <td>Shirley Cox</td>\n",
       "      <td>26581 Sheena Rest Apt. 721\\r\\nCherylchester, M...</td>\n",
       "      <td>44.0</td>\n",
       "      <td>F</td>\n",
       "      <td>74-03-27</td>\n",
       "      <td>f</td>\n",
       "      <td>f</td>\n",
       "      <td>Assoc-voc</td>\n",
       "      <td>f</td>\n",
       "      <td>NaN</td>\n",
       "      <td>...</td>\n",
       "      <td>f</td>\n",
       "      <td>f</td>\n",
       "      <td>f</td>\n",
       "      <td>f</td>\n",
       "      <td>f</td>\n",
       "      <td>f</td>\n",
       "      <td>f</td>\n",
       "      <td>f</td>\n",
       "      <td>f</td>\n",
       "      <td>3626</td>\n",
       "    </tr>\n",
       "    <tr>\n",
       "      <th>1963</th>\n",
       "      <td>Sidney Cunningham</td>\n",
       "      <td>8714 Brianna Course Suite 426\\r\\nLake Bobby, W...</td>\n",
       "      <td>69.0</td>\n",
       "      <td>?</td>\n",
       "      <td>1949-07-16</td>\n",
       "      <td>f</td>\n",
       "      <td>f</td>\n",
       "      <td>Masters</td>\n",
       "      <td>f</td>\n",
       "      <td>NaN</td>\n",
       "      <td>...</td>\n",
       "      <td>f</td>\n",
       "      <td>f</td>\n",
       "      <td>f</td>\n",
       "      <td>f</td>\n",
       "      <td>f</td>\n",
       "      <td>f</td>\n",
       "      <td>f</td>\n",
       "      <td>t</td>\n",
       "      <td>f</td>\n",
       "      <td>2840</td>\n",
       "    </tr>\n",
       "    <tr>\n",
       "      <th>1968</th>\n",
       "      <td>Sondra Hollenbeck</td>\n",
       "      <td>089 Rivera Pass\\r\\nWest Jared, IN 64344</td>\n",
       "      <td>44.0</td>\n",
       "      <td>F</td>\n",
       "      <td>1973-11-23</td>\n",
       "      <td>f</td>\n",
       "      <td>f</td>\n",
       "      <td>Some-college</td>\n",
       "      <td>f</td>\n",
       "      <td>NaN</td>\n",
       "      <td>...</td>\n",
       "      <td>f</td>\n",
       "      <td>f</td>\n",
       "      <td>f</td>\n",
       "      <td>f</td>\n",
       "      <td>f</td>\n",
       "      <td>f</td>\n",
       "      <td>f</td>\n",
       "      <td>f</td>\n",
       "      <td>f</td>\n",
       "      <td>1108</td>\n",
       "    </tr>\n",
       "    <tr>\n",
       "      <th>1995</th>\n",
       "      <td>Stephanie Castleberry</td>\n",
       "      <td>45137 Moore Cliff\\r\\nDouglasbury, ME 97834</td>\n",
       "      <td>26.0</td>\n",
       "      <td>F</td>\n",
       "      <td>1991-11-28</td>\n",
       "      <td>f</td>\n",
       "      <td>f</td>\n",
       "      <td>Some-college</td>\n",
       "      <td>f</td>\n",
       "      <td>NaN</td>\n",
       "      <td>...</td>\n",
       "      <td>f</td>\n",
       "      <td>f</td>\n",
       "      <td>f</td>\n",
       "      <td>f</td>\n",
       "      <td>f</td>\n",
       "      <td>f</td>\n",
       "      <td>f</td>\n",
       "      <td>f</td>\n",
       "      <td>f</td>\n",
       "      <td>604</td>\n",
       "    </tr>\n",
       "    <tr>\n",
       "      <th>2023</th>\n",
       "      <td>Susan Fish</td>\n",
       "      <td>7372 Joshua Harbor Suite 137\\r\\nCrystalfurt, N...</td>\n",
       "      <td>50.0</td>\n",
       "      <td>F</td>\n",
       "      <td>1968-03-02</td>\n",
       "      <td>f</td>\n",
       "      <td>f</td>\n",
       "      <td>HS-grad</td>\n",
       "      <td>f</td>\n",
       "      <td>NaN</td>\n",
       "      <td>...</td>\n",
       "      <td>f</td>\n",
       "      <td>f</td>\n",
       "      <td>f</td>\n",
       "      <td>f</td>\n",
       "      <td>f</td>\n",
       "      <td>f</td>\n",
       "      <td>f</td>\n",
       "      <td>f</td>\n",
       "      <td>f</td>\n",
       "      <td>829</td>\n",
       "    </tr>\n",
       "    <tr>\n",
       "      <th>2059</th>\n",
       "      <td>Tawnya Barry</td>\n",
       "      <td>84075 Wright Drive Apt. 357\\r\\nAndrewland, VA ...</td>\n",
       "      <td>37.0</td>\n",
       "      <td>F</td>\n",
       "      <td>1981-03-26</td>\n",
       "      <td>f</td>\n",
       "      <td>f</td>\n",
       "      <td>10th</td>\n",
       "      <td>f</td>\n",
       "      <td>NaN</td>\n",
       "      <td>...</td>\n",
       "      <td>f</td>\n",
       "      <td>f</td>\n",
       "      <td>f</td>\n",
       "      <td>f</td>\n",
       "      <td>f</td>\n",
       "      <td>f</td>\n",
       "      <td>f</td>\n",
       "      <td>f</td>\n",
       "      <td>f</td>\n",
       "      <td>2603</td>\n",
       "    </tr>\n",
       "    <tr>\n",
       "      <th>2075</th>\n",
       "      <td>Terry Terry</td>\n",
       "      <td>11818 Lori Crossing Apt. 802\\r\\nPughstad, DC 7...</td>\n",
       "      <td>68.0</td>\n",
       "      <td>M</td>\n",
       "      <td>1949-11-16</td>\n",
       "      <td>f</td>\n",
       "      <td>f</td>\n",
       "      <td>Bachelors</td>\n",
       "      <td>f</td>\n",
       "      <td>NaN</td>\n",
       "      <td>...</td>\n",
       "      <td>f</td>\n",
       "      <td>f</td>\n",
       "      <td>f</td>\n",
       "      <td>f</td>\n",
       "      <td>f</td>\n",
       "      <td>f</td>\n",
       "      <td>f</td>\n",
       "      <td>f</td>\n",
       "      <td>f</td>\n",
       "      <td>158</td>\n",
       "    </tr>\n",
       "    <tr>\n",
       "      <th>2089</th>\n",
       "      <td>Thomas Anthony</td>\n",
       "      <td>845 Garcia Path\\r\\nEast Timbury, DC 26783</td>\n",
       "      <td>59.0</td>\n",
       "      <td>?</td>\n",
       "      <td>1959-06-11</td>\n",
       "      <td>f</td>\n",
       "      <td>f</td>\n",
       "      <td>10th</td>\n",
       "      <td>f</td>\n",
       "      <td>NaN</td>\n",
       "      <td>...</td>\n",
       "      <td>f</td>\n",
       "      <td>f</td>\n",
       "      <td>f</td>\n",
       "      <td>f</td>\n",
       "      <td>f</td>\n",
       "      <td>f</td>\n",
       "      <td>f</td>\n",
       "      <td>t</td>\n",
       "      <td>f</td>\n",
       "      <td>3017</td>\n",
       "    </tr>\n",
       "    <tr>\n",
       "      <th>2100</th>\n",
       "      <td>Thomas Walker</td>\n",
       "      <td>25176 Cheryl Coves\\r\\nLake Jimmy, TX 36934</td>\n",
       "      <td>61.0</td>\n",
       "      <td>M</td>\n",
       "      <td>1957-09-14</td>\n",
       "      <td>f</td>\n",
       "      <td>f</td>\n",
       "      <td>Some-college</td>\n",
       "      <td>f</td>\n",
       "      <td>NaN</td>\n",
       "      <td>...</td>\n",
       "      <td>f</td>\n",
       "      <td>f</td>\n",
       "      <td>f</td>\n",
       "      <td>f</td>\n",
       "      <td>f</td>\n",
       "      <td>f</td>\n",
       "      <td>f</td>\n",
       "      <td>f</td>\n",
       "      <td>f</td>\n",
       "      <td>2261</td>\n",
       "    </tr>\n",
       "    <tr>\n",
       "      <th>2101</th>\n",
       "      <td>Thomas Winters</td>\n",
       "      <td>7549 Roger Island\\r\\nWest Collin, MA 13228</td>\n",
       "      <td>60.0</td>\n",
       "      <td>M</td>\n",
       "      <td>1958-04-05</td>\n",
       "      <td>f</td>\n",
       "      <td>f</td>\n",
       "      <td>Some-college</td>\n",
       "      <td>f</td>\n",
       "      <td>NaN</td>\n",
       "      <td>...</td>\n",
       "      <td>f</td>\n",
       "      <td>f</td>\n",
       "      <td>f</td>\n",
       "      <td>f</td>\n",
       "      <td>f</td>\n",
       "      <td>f</td>\n",
       "      <td>t</td>\n",
       "      <td>f</td>\n",
       "      <td>f</td>\n",
       "      <td>3669</td>\n",
       "    </tr>\n",
       "    <tr>\n",
       "      <th>2104</th>\n",
       "      <td>Timmy Pratt</td>\n",
       "      <td>616 Logan Fall\\r\\nNorth Mark, NY 96039</td>\n",
       "      <td>23.0</td>\n",
       "      <td>M</td>\n",
       "      <td>1995-10-15</td>\n",
       "      <td>f</td>\n",
       "      <td>f</td>\n",
       "      <td>Bachelors</td>\n",
       "      <td>f</td>\n",
       "      <td>NaN</td>\n",
       "      <td>...</td>\n",
       "      <td>f</td>\n",
       "      <td>f</td>\n",
       "      <td>f</td>\n",
       "      <td>f</td>\n",
       "      <td>f</td>\n",
       "      <td>f</td>\n",
       "      <td>f</td>\n",
       "      <td>f</td>\n",
       "      <td>f</td>\n",
       "      <td>751</td>\n",
       "    </tr>\n",
       "    <tr>\n",
       "      <th>2107</th>\n",
       "      <td>Timothy Fenelus</td>\n",
       "      <td>866 Barrett Crest Apt. 820\\r\\nLake Benjamin, M...</td>\n",
       "      <td>63.0</td>\n",
       "      <td>?</td>\n",
       "      <td>1955-04-29</td>\n",
       "      <td>f</td>\n",
       "      <td>f</td>\n",
       "      <td>Bachelors</td>\n",
       "      <td>f</td>\n",
       "      <td>NaN</td>\n",
       "      <td>...</td>\n",
       "      <td>f</td>\n",
       "      <td>f</td>\n",
       "      <td>f</td>\n",
       "      <td>t</td>\n",
       "      <td>f</td>\n",
       "      <td>f</td>\n",
       "      <td>f</td>\n",
       "      <td>t</td>\n",
       "      <td>f</td>\n",
       "      <td>2957</td>\n",
       "    </tr>\n",
       "    <tr>\n",
       "      <th>2120</th>\n",
       "      <td>Tom Lee</td>\n",
       "      <td>639 Thompson Ramp\\r\\nCheryltown, ID 66511</td>\n",
       "      <td>57.0</td>\n",
       "      <td>M</td>\n",
       "      <td>1961-04-15</td>\n",
       "      <td>f</td>\n",
       "      <td>f</td>\n",
       "      <td>Some-college</td>\n",
       "      <td>f</td>\n",
       "      <td>NaN</td>\n",
       "      <td>...</td>\n",
       "      <td>f</td>\n",
       "      <td>f</td>\n",
       "      <td>f</td>\n",
       "      <td>f</td>\n",
       "      <td>f</td>\n",
       "      <td>f</td>\n",
       "      <td>f</td>\n",
       "      <td>f</td>\n",
       "      <td>f</td>\n",
       "      <td>1037</td>\n",
       "    </tr>\n",
       "    <tr>\n",
       "      <th>2144</th>\n",
       "      <td>Valentina York</td>\n",
       "      <td>9073 Munoz Landing\\r\\nUnderwoodstad, GA 72088</td>\n",
       "      <td>57.0</td>\n",
       "      <td>F</td>\n",
       "      <td>1961-05-11</td>\n",
       "      <td>f</td>\n",
       "      <td>f</td>\n",
       "      <td>Some-college</td>\n",
       "      <td>f</td>\n",
       "      <td>NaN</td>\n",
       "      <td>...</td>\n",
       "      <td>f</td>\n",
       "      <td>f</td>\n",
       "      <td>f</td>\n",
       "      <td>f</td>\n",
       "      <td>f</td>\n",
       "      <td>f</td>\n",
       "      <td>f</td>\n",
       "      <td>t</td>\n",
       "      <td>f</td>\n",
       "      <td>3200</td>\n",
       "    </tr>\n",
       "    <tr>\n",
       "      <th>2147</th>\n",
       "      <td>Vera Steinert</td>\n",
       "      <td>015 Holder Expressway\\r\\nSouth Edward, MD 76401</td>\n",
       "      <td>26.0</td>\n",
       "      <td>F</td>\n",
       "      <td>1991-12-03</td>\n",
       "      <td>f</td>\n",
       "      <td>f</td>\n",
       "      <td>Assoc-voc</td>\n",
       "      <td>f</td>\n",
       "      <td>NaN</td>\n",
       "      <td>...</td>\n",
       "      <td>f</td>\n",
       "      <td>f</td>\n",
       "      <td>f</td>\n",
       "      <td>f</td>\n",
       "      <td>f</td>\n",
       "      <td>f</td>\n",
       "      <td>f</td>\n",
       "      <td>f</td>\n",
       "      <td>f</td>\n",
       "      <td>86</td>\n",
       "    </tr>\n",
       "    <tr>\n",
       "      <th>2164</th>\n",
       "      <td>Vincent Kallas</td>\n",
       "      <td>21093 Shannon Streets Apt. 909\\r\\nLake Jason, ...</td>\n",
       "      <td>48.0</td>\n",
       "      <td>M</td>\n",
       "      <td>1970-10-21</td>\n",
       "      <td>f</td>\n",
       "      <td>f</td>\n",
       "      <td>Prof-school</td>\n",
       "      <td>f</td>\n",
       "      <td>NaN</td>\n",
       "      <td>...</td>\n",
       "      <td>f</td>\n",
       "      <td>f</td>\n",
       "      <td>f</td>\n",
       "      <td>f</td>\n",
       "      <td>f</td>\n",
       "      <td>f</td>\n",
       "      <td>f</td>\n",
       "      <td>t</td>\n",
       "      <td>f</td>\n",
       "      <td>2921</td>\n",
       "    </tr>\n",
       "    <tr>\n",
       "      <th>2165</th>\n",
       "      <td>Vincent Reddick</td>\n",
       "      <td>486 Fox Extension Suite 739\\r\\nWest Paulfurt, ...</td>\n",
       "      <td>35.0</td>\n",
       "      <td>?</td>\n",
       "      <td>1983-08-21</td>\n",
       "      <td>f</td>\n",
       "      <td>f</td>\n",
       "      <td>HS-grad</td>\n",
       "      <td>f</td>\n",
       "      <td>NaN</td>\n",
       "      <td>...</td>\n",
       "      <td>f</td>\n",
       "      <td>f</td>\n",
       "      <td>f</td>\n",
       "      <td>t</td>\n",
       "      <td>f</td>\n",
       "      <td>f</td>\n",
       "      <td>f</td>\n",
       "      <td>t</td>\n",
       "      <td>f</td>\n",
       "      <td>2451</td>\n",
       "    </tr>\n",
       "    <tr>\n",
       "      <th>2172</th>\n",
       "      <td>Virginia France</td>\n",
       "      <td>Unit 8028 Box 4117\\r\\nDPO AE 75546</td>\n",
       "      <td>41.0</td>\n",
       "      <td>F</td>\n",
       "      <td>1977-07-28</td>\n",
       "      <td>f</td>\n",
       "      <td>f</td>\n",
       "      <td>Bachelors</td>\n",
       "      <td>f</td>\n",
       "      <td>NaN</td>\n",
       "      <td>...</td>\n",
       "      <td>f</td>\n",
       "      <td>f</td>\n",
       "      <td>f</td>\n",
       "      <td>f</td>\n",
       "      <td>f</td>\n",
       "      <td>f</td>\n",
       "      <td>f</td>\n",
       "      <td>f</td>\n",
       "      <td>f</td>\n",
       "      <td>850</td>\n",
       "    </tr>\n",
       "    <tr>\n",
       "      <th>2189</th>\n",
       "      <td>Walter Flemmons</td>\n",
       "      <td>15210 Christy Green Apt. 306\\r\\nNorth Robertsh...</td>\n",
       "      <td>70.0</td>\n",
       "      <td>M</td>\n",
       "      <td>1947-11-05</td>\n",
       "      <td>t</td>\n",
       "      <td>f</td>\n",
       "      <td>11th</td>\n",
       "      <td>f</td>\n",
       "      <td>NaN</td>\n",
       "      <td>...</td>\n",
       "      <td>f</td>\n",
       "      <td>f</td>\n",
       "      <td>f</td>\n",
       "      <td>f</td>\n",
       "      <td>f</td>\n",
       "      <td>f</td>\n",
       "      <td>f</td>\n",
       "      <td>f</td>\n",
       "      <td>f</td>\n",
       "      <td>2178</td>\n",
       "    </tr>\n",
       "    <tr>\n",
       "      <th>2192</th>\n",
       "      <td>Walter Roeber</td>\n",
       "      <td>857 Hodge Prairie Apt. 257\\r\\nScottchester, ID...</td>\n",
       "      <td>60.0</td>\n",
       "      <td>M</td>\n",
       "      <td>1958-02-28</td>\n",
       "      <td>f</td>\n",
       "      <td>f</td>\n",
       "      <td>Some-college</td>\n",
       "      <td>f</td>\n",
       "      <td>NaN</td>\n",
       "      <td>...</td>\n",
       "      <td>f</td>\n",
       "      <td>f</td>\n",
       "      <td>f</td>\n",
       "      <td>f</td>\n",
       "      <td>f</td>\n",
       "      <td>f</td>\n",
       "      <td>f</td>\n",
       "      <td>f</td>\n",
       "      <td>f</td>\n",
       "      <td>261</td>\n",
       "    </tr>\n",
       "    <tr>\n",
       "      <th>2215</th>\n",
       "      <td>William Pierce</td>\n",
       "      <td>7531 Bolton Lock\\r\\nLindsayview, WV 68671</td>\n",
       "      <td>79.0</td>\n",
       "      <td>M</td>\n",
       "      <td>1939-07-13</td>\n",
       "      <td>f</td>\n",
       "      <td>f</td>\n",
       "      <td>Masters</td>\n",
       "      <td>f</td>\n",
       "      <td>NaN</td>\n",
       "      <td>...</td>\n",
       "      <td>f</td>\n",
       "      <td>f</td>\n",
       "      <td>f</td>\n",
       "      <td>t</td>\n",
       "      <td>f</td>\n",
       "      <td>f</td>\n",
       "      <td>f</td>\n",
       "      <td>f</td>\n",
       "      <td>f</td>\n",
       "      <td>2910</td>\n",
       "    </tr>\n",
       "    <tr>\n",
       "      <th>2222</th>\n",
       "      <td>Willie Castaneda</td>\n",
       "      <td>01155 Edwards Unions Suite 015\\r\\nEast Chase, ...</td>\n",
       "      <td>29.0</td>\n",
       "      <td>F</td>\n",
       "      <td>89-09-26</td>\n",
       "      <td>f</td>\n",
       "      <td>f</td>\n",
       "      <td>HS-grad</td>\n",
       "      <td>f</td>\n",
       "      <td>NaN</td>\n",
       "      <td>...</td>\n",
       "      <td>f</td>\n",
       "      <td>f</td>\n",
       "      <td>f</td>\n",
       "      <td>f</td>\n",
       "      <td>f</td>\n",
       "      <td>f</td>\n",
       "      <td>f</td>\n",
       "      <td>f</td>\n",
       "      <td>f</td>\n",
       "      <td>3148</td>\n",
       "    </tr>\n",
       "  </tbody>\n",
       "</table>\n",
       "<p>148 rows × 47 columns</p>\n",
       "</div>"
      ],
      "text/plain": [
       "                       name  \\\n",
       "5                 Ada Wells   \n",
       "28       Albert Picklesimer   \n",
       "40               Alice Bush   \n",
       "44           Alicia Johnson   \n",
       "51         Allison Aderholt   \n",
       "63             Amanda Davis   \n",
       "67              Amanda Moss   \n",
       "90            Angela Chavez   \n",
       "106             Ann Hensley   \n",
       "123            Anne Estrada   \n",
       "145       Anthony Wieczorek   \n",
       "155          April Williams   \n",
       "192          Barbara Winner   \n",
       "203      Bernadette Depaolo   \n",
       "224           Betty Oldroyd   \n",
       "235         Beverly Jackson   \n",
       "237            Beverly Wise   \n",
       "257           Bonny Macklin   \n",
       "320               Carol Vil   \n",
       "349            Celia Hudson   \n",
       "373          Charles Rieger   \n",
       "498          Darlene Martin   \n",
       "521             Dean Grimes   \n",
       "526         Deborah Davison   \n",
       "531         Deborah Starnes   \n",
       "536           Deidre Paxton   \n",
       "582             Donna Crook   \n",
       "587               Donna Lee   \n",
       "593          Doretha Tavana   \n",
       "597              Doris Cruz   \n",
       "...                     ...   \n",
       "1859         Sabrina Tharpe   \n",
       "1867            Sam Shorter   \n",
       "1889           Santos Young   \n",
       "1890           Sara Doherty   \n",
       "1892          Sara Griffith   \n",
       "1917         Shannon Murray   \n",
       "1932        Sharon Weiskopf   \n",
       "1942         Sheila Solomon   \n",
       "1955            Shirley Cox   \n",
       "1963      Sidney Cunningham   \n",
       "1968      Sondra Hollenbeck   \n",
       "1995  Stephanie Castleberry   \n",
       "2023             Susan Fish   \n",
       "2059           Tawnya Barry   \n",
       "2075            Terry Terry   \n",
       "2089         Thomas Anthony   \n",
       "2100          Thomas Walker   \n",
       "2101         Thomas Winters   \n",
       "2104            Timmy Pratt   \n",
       "2107        Timothy Fenelus   \n",
       "2120                Tom Lee   \n",
       "2144         Valentina York   \n",
       "2147          Vera Steinert   \n",
       "2164         Vincent Kallas   \n",
       "2165        Vincent Reddick   \n",
       "2172        Virginia France   \n",
       "2189        Walter Flemmons   \n",
       "2192          Walter Roeber   \n",
       "2215         William Pierce   \n",
       "2222       Willie Castaneda   \n",
       "\n",
       "                                                address   age sex  \\\n",
       "5              906 Booth Mews\\r\\nJohnsonmouth, IL 11134  41.0   F   \n",
       "28    547 Victoria Road Apt. 194\\r\\nNorth Dominique,...  68.0   M   \n",
       "40        3994 Craig Square\\r\\nPort Edwinview, TX 92630  77.0   F   \n",
       "44    7099 Smith Fields Apt. 324\\r\\nWest Jocelynton,...  51.0   F   \n",
       "51     478 Murphy Divide\\r\\nSouth Christopher, IA 99523  67.0   F   \n",
       "63            6630 Brian Views\\r\\nElliottberg, IN 75451  22.0   F   \n",
       "67             841 James Alley\\r\\nPort Thomas, ID 71619  62.0   F   \n",
       "90    46320 Cassie Trail Suite 868\\r\\nMatthewville, ...  49.0   F   \n",
       "106         159 Jefferson Mews\\r\\nWest Rodney, WI 31709  33.0   F   \n",
       "123   58334 Paul Hollow Suite 812\\r\\nDanielsstad, MA...  41.0   F   \n",
       "145   34987 Dennis Walks Apt. 862\\r\\nPowellborough, ...  25.0   M   \n",
       "155                  Unit 5029 Box 6752\\r\\nDPO AE 90819  39.0   F   \n",
       "192         7288 Rowland Shoals\\r\\nWest Lance, CA 89031  37.0   F   \n",
       "203                  Unit 4460 Box 7744\\r\\nDPO AE 81119  53.0   F   \n",
       "224   71223 Michael Forks Suite 688\\r\\nJonesland, AK...  33.0   F   \n",
       "235        4498 Jaime Terrace\\r\\nWest Matthew, SC 87187  64.0   F   \n",
       "237   8745 Kristie Freeway Suite 636\\r\\nLake Courtne...  67.0   F   \n",
       "257             814 Laura Avenue\\r\\nLopezbury, WV 57075  89.0   F   \n",
       "320   683 Mitchell Estates Suite 421\\r\\nMccallmouth,...  28.0   F   \n",
       "349   05818 Martinez Turnpike Suite 725\\r\\nEast Mich...  35.0   F   \n",
       "373   797 Nicole Springs Suite 642\\r\\nJonesborough, ...  15.0   M   \n",
       "498        62853 Sanchez Mill\\r\\nMyersborough, NY 21480  23.0   F   \n",
       "521        77974 Hale Radial\\r\\nWest Kimberly, MI 51749  69.0   M   \n",
       "526   5465 Cannon Ports Suite 571\\r\\nChavezland, MN ...  19.0   F   \n",
       "531   64570 Brown Meadows Apt. 333\\r\\nBellton, NH 93269  15.0   F   \n",
       "536    591 Carlson Path\\r\\nSouth Jasonborough, DC 94646  19.0   F   \n",
       "582      820 Peters Forest\\r\\nEast Sarahhaven, IL 28517  54.0   F   \n",
       "587   104 Summers Summit Apt. 979\\r\\nNewmanview, CA ...  39.0   F   \n",
       "593   33581 Ramos Squares\\r\\nNorth Vincentside, KY 7...  51.0   F   \n",
       "597             7613 Sally Field\\r\\nEricville, WV 02618  52.0   F   \n",
       "...                                                 ...   ...  ..   \n",
       "1859  5430 Sergio Brooks Suite 156\\r\\nAndersonland, ...  18.0   F   \n",
       "1867          7478 Ramirez Cliff\\r\\nDavisfurt, WA 14415  55.0   M   \n",
       "1889  043 Carlson Pass Suite 363\\r\\nNorth Jesse, VA ...  28.0   F   \n",
       "1890        0433 Salinas Spur\\r\\nWest Douglas, ME 90843  32.0   F   \n",
       "1892  332 Crystal Corners Suite 868\\r\\nWest Barbara,...  60.0   F   \n",
       "1917  58132 Emily Club Apt. 346\\r\\nEmmaborough, LA 1...  72.0   ?   \n",
       "1932  8101 Kendra Drive Suite 537\\r\\nMoralesborough,...  41.0   F   \n",
       "1942  6310 Chung Pines Suite 718\\r\\nEast Michaelbury...  55.0   F   \n",
       "1955  26581 Sheena Rest Apt. 721\\r\\nCherylchester, M...  44.0   F   \n",
       "1963  8714 Brianna Course Suite 426\\r\\nLake Bobby, W...  69.0   ?   \n",
       "1968            089 Rivera Pass\\r\\nWest Jared, IN 64344  44.0   F   \n",
       "1995         45137 Moore Cliff\\r\\nDouglasbury, ME 97834  26.0   F   \n",
       "2023  7372 Joshua Harbor Suite 137\\r\\nCrystalfurt, N...  50.0   F   \n",
       "2059  84075 Wright Drive Apt. 357\\r\\nAndrewland, VA ...  37.0   F   \n",
       "2075  11818 Lori Crossing Apt. 802\\r\\nPughstad, DC 7...  68.0   M   \n",
       "2089          845 Garcia Path\\r\\nEast Timbury, DC 26783  59.0   ?   \n",
       "2100         25176 Cheryl Coves\\r\\nLake Jimmy, TX 36934  61.0   M   \n",
       "2101         7549 Roger Island\\r\\nWest Collin, MA 13228  60.0   M   \n",
       "2104             616 Logan Fall\\r\\nNorth Mark, NY 96039  23.0   M   \n",
       "2107  866 Barrett Crest Apt. 820\\r\\nLake Benjamin, M...  63.0   ?   \n",
       "2120          639 Thompson Ramp\\r\\nCheryltown, ID 66511  57.0   M   \n",
       "2144      9073 Munoz Landing\\r\\nUnderwoodstad, GA 72088  57.0   F   \n",
       "2147    015 Holder Expressway\\r\\nSouth Edward, MD 76401  26.0   F   \n",
       "2164  21093 Shannon Streets Apt. 909\\r\\nLake Jason, ...  48.0   M   \n",
       "2165  486 Fox Extension Suite 739\\r\\nWest Paulfurt, ...  35.0   ?   \n",
       "2172                 Unit 8028 Box 4117\\r\\nDPO AE 75546  41.0   F   \n",
       "2189  15210 Christy Green Apt. 306\\r\\nNorth Robertsh...  70.0   M   \n",
       "2192  857 Hodge Prairie Apt. 257\\r\\nScottchester, ID...  60.0   M   \n",
       "2215          7531 Bolton Lock\\r\\nLindsayview, WV 68671  79.0   M   \n",
       "2222  01155 Edwards Unions Suite 015\\r\\nEast Chase, ...  29.0   F   \n",
       "\n",
       "     date_of_birth query hyperthyroid FTI measured      education lithium  \\\n",
       "5         76-11-26                  f            f        HS-grad       f   \n",
       "28      1949-12-06                  f            f   Some-college       f   \n",
       "40      1940-12-07                  f            f        HS-grad       f   \n",
       "44      1967-02-15                  f            t        7th-8th       f   \n",
       "51      1951-07-01                  f            f      Bachelors       f   \n",
       "63      1996-06-17                  f            f        5th-6th       f   \n",
       "67      1956-10-01                  f            f        HS-grad       f   \n",
       "90        69-09-20                  f            f        HS-grad       f   \n",
       "106     1985-04-10                  f            f        HS-grad       f   \n",
       "123     1977-08-03                  f            f      Bachelors       f   \n",
       "145     1992-10-19                  f            f   Some-college       f   \n",
       "155       79-07-14                  f            f        HS-grad       f   \n",
       "192     1981-06-12                  f            f        HS-grad       f   \n",
       "203     1965-09-21                  f            f        HS-grad       f   \n",
       "224     1984-12-23                  f            f        HS-grad       f   \n",
       "235     1954-09-09                  f            f   Some-college       f   \n",
       "237     1951-05-10                  t            f   Some-college       f   \n",
       "257     1929-02-21                  f            f        HS-grad       f   \n",
       "320       90-10-02                  f            f   Some-college       f   \n",
       "349     1983-03-29                  f            f        HS-grad       f   \n",
       "373     2003-10-10                  f            f        HS-grad       f   \n",
       "498     1995-10-11                  f            f      Bachelors       f   \n",
       "521     1949-07-01                  f            f           10th       f   \n",
       "526     1999-01-26                  f            f      Bachelors       f   \n",
       "531     2003-02-12                  t            f        HS-grad       f   \n",
       "536     1999-07-31                  f            f        HS-grad       f   \n",
       "582     1964-10-06                  f            f        HS-grad       f   \n",
       "587     1978-11-23                  f            f           12th       f   \n",
       "593     1967-06-03                  t            f        HS-grad       f   \n",
       "597     1966-04-09                  f            f   Some-college       f   \n",
       "...            ...                ...          ...            ...     ...   \n",
       "1859    2000-10-07                  f            f   Some-college       f   \n",
       "1867    1963-02-27                  f            f           11th       f   \n",
       "1889    1990-06-08                  f            f           10th       f   \n",
       "1890    1986-07-08                  f            f      Bachelors       f   \n",
       "1892    1958-04-22                  f            f   Some-college       f   \n",
       "1917    1946-01-25                  f            f        HS-grad       f   \n",
       "1932    1976-11-18                  f            f            9th       f   \n",
       "1942    1963-04-24                  f            f           10th       f   \n",
       "1955      74-03-27                  f            f      Assoc-voc       f   \n",
       "1963    1949-07-16                  f            f        Masters       f   \n",
       "1968    1973-11-23                  f            f   Some-college       f   \n",
       "1995    1991-11-28                  f            f   Some-college       f   \n",
       "2023    1968-03-02                  f            f        HS-grad       f   \n",
       "2059    1981-03-26                  f            f           10th       f   \n",
       "2075    1949-11-16                  f            f      Bachelors       f   \n",
       "2089    1959-06-11                  f            f           10th       f   \n",
       "2100    1957-09-14                  f            f   Some-college       f   \n",
       "2101    1958-04-05                  f            f   Some-college       f   \n",
       "2104    1995-10-15                  f            f      Bachelors       f   \n",
       "2107    1955-04-29                  f            f      Bachelors       f   \n",
       "2120    1961-04-15                  f            f   Some-college       f   \n",
       "2144    1961-05-11                  f            f   Some-college       f   \n",
       "2147    1991-12-03                  f            f      Assoc-voc       f   \n",
       "2164    1970-10-21                  f            f    Prof-school       f   \n",
       "2165    1983-08-21                  f            f        HS-grad       f   \n",
       "2172    1977-07-28                  f            f      Bachelors       f   \n",
       "2189    1947-11-05                  t            f           11th       f   \n",
       "2192    1958-02-28                  f            f   Some-college       f   \n",
       "2215    1939-07-13                  f            f        Masters       f   \n",
       "2222      89-09-26                  f            f        HS-grad       f   \n",
       "\n",
       "      TT4    ...     T4U measured  pregnant  thyroid surgery TSH measured  \\\n",
       "5     NaN    ...                f         f                f            f   \n",
       "28    NaN    ...                f         f                f            t   \n",
       "40    NaN    ...                f         f                f            f   \n",
       "44    NaN    ...                f         f                f            t   \n",
       "51    NaN    ...                f         f                f            f   \n",
       "63    NaN    ...                f         f                f            f   \n",
       "67    NaN    ...                f         f                f            f   \n",
       "90    NaN    ...                f         f                f            f   \n",
       "106   NaN    ...                f         f                f            f   \n",
       "123   NaN    ...                f         f                f            f   \n",
       "145   NaN    ...                f         f                f            f   \n",
       "155   NaN    ...                f         f                f            t   \n",
       "192   NaN    ...                f         f                f            f   \n",
       "203   NaN    ...                f         f                f            f   \n",
       "224   NaN    ...                f         f                f            f   \n",
       "235   NaN    ...                f         f                f            f   \n",
       "237   NaN    ...                f         f                f            f   \n",
       "257   NaN    ...                f         f                f            f   \n",
       "320   NaN    ...                f         f                f            f   \n",
       "349   NaN    ...                f         f                f            f   \n",
       "373   NaN    ...                f         f                f            f   \n",
       "498   NaN    ...                f         f                f            f   \n",
       "521   NaN    ...                f         f                f            f   \n",
       "526   NaN    ...                f         f                f            f   \n",
       "531   NaN    ...                f         f                f            f   \n",
       "536   NaN    ...                f         f                f            f   \n",
       "582   NaN    ...                f         f                f            f   \n",
       "587   NaN    ...                f         f                f            t   \n",
       "593   NaN    ...                f         f                f            f   \n",
       "597   NaN    ...                f         f                f            f   \n",
       "...   ...    ...              ...       ...              ...          ...   \n",
       "1859  NaN    ...                f         f                f            f   \n",
       "1867  NaN    ...                f         f                f            f   \n",
       "1889  NaN    ...                f         f                f            f   \n",
       "1890  NaN    ...                f         f                f            f   \n",
       "1892  NaN    ...                f         f                f            f   \n",
       "1917  NaN    ...                f         f                f            f   \n",
       "1932  NaN    ...                f         f                f            f   \n",
       "1942  NaN    ...                f         f                f            f   \n",
       "1955  NaN    ...                f         f                f            f   \n",
       "1963  NaN    ...                f         f                f            f   \n",
       "1968  NaN    ...                f         f                f            f   \n",
       "1995  NaN    ...                f         f                f            f   \n",
       "2023  NaN    ...                f         f                f            f   \n",
       "2059  NaN    ...                f         f                f            f   \n",
       "2075  NaN    ...                f         f                f            f   \n",
       "2089  NaN    ...                f         f                f            f   \n",
       "2100  NaN    ...                f         f                f            f   \n",
       "2101  NaN    ...                f         f                f            f   \n",
       "2104  NaN    ...                f         f                f            f   \n",
       "2107  NaN    ...                f         f                f            t   \n",
       "2120  NaN    ...                f         f                f            f   \n",
       "2144  NaN    ...                f         f                f            f   \n",
       "2147  NaN    ...                f         f                f            f   \n",
       "2164  NaN    ...                f         f                f            f   \n",
       "2165  NaN    ...                f         f                f            t   \n",
       "2172  NaN    ...                f         f                f            f   \n",
       "2189  NaN    ...                f         f                f            f   \n",
       "2192  NaN    ...                f         f                f            f   \n",
       "2215  NaN    ...                f         f                f            t   \n",
       "2222  NaN    ...                f         f                f            f   \n",
       "\n",
       "      query on thyroxine  I131 treatment  on thyroxine  T3 measured psych  \\\n",
       "5                      f               f             f            f     f   \n",
       "28                     f               f             f            f     f   \n",
       "40                     f               f             f            t     f   \n",
       "44                     f               f             f            t     f   \n",
       "51                     f               f             f            f     f   \n",
       "63                     f               f             f            f     f   \n",
       "67                     f               f             f            f     f   \n",
       "90                     f               f             f            f     f   \n",
       "106                    f               f             f            f     f   \n",
       "123                    f               f             f            f     f   \n",
       "145                    f               f             f            f     f   \n",
       "155                    f               f             f            f     f   \n",
       "192                    f               f             f            f     f   \n",
       "203                    f               f             f            f     f   \n",
       "224                    f               f             f            f     f   \n",
       "235                    f               f             t            f     f   \n",
       "237                    f               f             f            f     f   \n",
       "257                    f               f             f            f     f   \n",
       "320                    f               f             f            f     f   \n",
       "349                    f               f             f            f     f   \n",
       "373                    f               f             f            f     f   \n",
       "498                    f               f             t            f     f   \n",
       "521                    f               f             f            f     f   \n",
       "526                    f               f             f            f     f   \n",
       "531                    f               f             f            f     f   \n",
       "536                    f               f             f            f     f   \n",
       "582                    f               f             f            f     f   \n",
       "587                    f               f             f            f     f   \n",
       "593                    f               f             f            t     f   \n",
       "597                    f               f             f            f     f   \n",
       "...                  ...             ...           ...          ...   ...   \n",
       "1859                   f               f             f            f     f   \n",
       "1867                   f               f             f            t     f   \n",
       "1889                   f               f             f            f     f   \n",
       "1890                   f               f             f            f     f   \n",
       "1892                   f               f             f            t     f   \n",
       "1917                   f               f             f            f     f   \n",
       "1932                   f               f             f            f     f   \n",
       "1942                   f               f             f            f     f   \n",
       "1955                   f               f             f            f     f   \n",
       "1963                   f               f             f            t     f   \n",
       "1968                   f               f             f            f     f   \n",
       "1995                   f               f             f            f     f   \n",
       "2023                   f               f             f            f     f   \n",
       "2059                   f               f             f            f     f   \n",
       "2075                   f               f             f            f     f   \n",
       "2089                   f               f             f            t     f   \n",
       "2100                   f               f             f            f     f   \n",
       "2101                   f               f             t            f     f   \n",
       "2104                   f               f             f            f     f   \n",
       "2107                   f               f             f            t     f   \n",
       "2120                   f               f             f            f     f   \n",
       "2144                   f               f             f            t     f   \n",
       "2147                   f               f             f            f     f   \n",
       "2164                   f               f             f            t     f   \n",
       "2165                   f               f             f            t     f   \n",
       "2172                   f               f             f            f     f   \n",
       "2189                   f               f             f            f     f   \n",
       "2192                   f               f             f            f     f   \n",
       "2215                   f               f             f            f     f   \n",
       "2222                   f               f             f            f     f   \n",
       "\n",
       "     class_num  \n",
       "5         1816  \n",
       "28         394  \n",
       "40         276  \n",
       "44        3304  \n",
       "51        1902  \n",
       "63         664  \n",
       "67        1901  \n",
       "90         454  \n",
       "106       2804  \n",
       "123       3519  \n",
       "145        919  \n",
       "155       3526  \n",
       "192       2053  \n",
       "203       1792  \n",
       "224       2195  \n",
       "235       2055  \n",
       "237       1300  \n",
       "257        435  \n",
       "320       2054  \n",
       "349        260  \n",
       "373       1822  \n",
       "498       1444  \n",
       "521       1543  \n",
       "526        499  \n",
       "531        789  \n",
       "536       1899  \n",
       "582       1532  \n",
       "587       1840  \n",
       "593       1856  \n",
       "597        316  \n",
       "...        ...  \n",
       "1859       777  \n",
       "1867      3702  \n",
       "1889        31  \n",
       "1890       379  \n",
       "1892      3315  \n",
       "1917      2647  \n",
       "1932       797  \n",
       "1942      2725  \n",
       "1955      3626  \n",
       "1963      2840  \n",
       "1968      1108  \n",
       "1995       604  \n",
       "2023       829  \n",
       "2059      2603  \n",
       "2075       158  \n",
       "2089      3017  \n",
       "2100      2261  \n",
       "2101      3669  \n",
       "2104       751  \n",
       "2107      2957  \n",
       "2120      1037  \n",
       "2144      3200  \n",
       "2147        86  \n",
       "2164      2921  \n",
       "2165      2451  \n",
       "2172       850  \n",
       "2189      2178  \n",
       "2192       261  \n",
       "2215      2910  \n",
       "2222      3148  \n",
       "\n",
       "[148 rows x 47 columns]"
      ]
     },
     "execution_count": 36,
     "metadata": {},
     "output_type": "execute_result"
    }
   ],
   "source": [
    "# Sample of NaN values\n",
    "df_new[np.isnan(df_new[\"TT4\"]) == True]"
   ]
  },
  {
   "cell_type": "code",
   "execution_count": 37,
   "metadata": {},
   "outputs": [
    {
     "name": "stdout",
     "output_type": "stream",
     "text": [
      "MEAN  Value is: 109.32809956917185\n",
      "Filling missing values by MEAN done!\n"
     ]
    }
   ],
   "source": [
    "example = df_new[[\"TT4\", \"TT4 measured\"]].copy()\n",
    "fill_numeric_miss_values(example, \"TT4\", \"mean\")"
   ]
  },
  {
   "cell_type": "code",
   "execution_count": 38,
   "metadata": {},
   "outputs": [
    {
     "data": {
      "text/html": [
       "<div>\n",
       "<style scoped>\n",
       "    .dataframe tbody tr th:only-of-type {\n",
       "        vertical-align: middle;\n",
       "    }\n",
       "\n",
       "    .dataframe tbody tr th {\n",
       "        vertical-align: top;\n",
       "    }\n",
       "\n",
       "    .dataframe thead th {\n",
       "        text-align: right;\n",
       "    }\n",
       "</style>\n",
       "<table border=\"1\" class=\"dataframe\">\n",
       "  <thead>\n",
       "    <tr style=\"text-align: right;\">\n",
       "      <th></th>\n",
       "      <th>TT4</th>\n",
       "      <th>TT4 measured</th>\n",
       "    </tr>\n",
       "  </thead>\n",
       "  <tbody>\n",
       "  </tbody>\n",
       "</table>\n",
       "</div>"
      ],
      "text/plain": [
       "Empty DataFrame\n",
       "Columns: [TT4, TT4 measured]\n",
       "Index: []"
      ]
     },
     "execution_count": 38,
     "metadata": {},
     "output_type": "execute_result"
    }
   ],
   "source": [
    "#Check if all NaN values are filled\n",
    "example[np.isnan(example[\"TT4\"]) == True].head()"
   ]
  },
  {
   "cell_type": "markdown",
   "metadata": {},
   "source": [
    "## Dealing with the outliers"
   ]
  },
  {
   "cell_type": "markdown",
   "metadata": {},
   "source": [
    "###  I. Deleting outliers and replacing with Nan"
   ]
  },
  {
   "cell_type": "code",
   "execution_count": 39,
   "metadata": {
    "scrolled": true
   },
   "outputs": [],
   "source": [
    "example = df_new[\"class_num\"].copy()\n",
    "example = example.apply(lambda x: float(x))"
   ]
  },
  {
   "cell_type": "code",
   "execution_count": 40,
   "metadata": {},
   "outputs": [],
   "source": [
    "#Function that deletes outliers using boundary quartiles\n",
    "#By deletion we mean converting to as Nan values\n",
    "def normalize(data):\n",
    "    #q1 = data.quantile(0.05) - 1.5 * stats.iqr(data)\n",
    "    #q2 = data.quantile(0.95) + 1.5 * stats.iqr(data)\n",
    "    \n",
    "    q1 = data.quantile(0.05)\n",
    "    q2 = data.quantile(0.95)\n",
    "    \n",
    "    mask_q1 = (data < q1)\n",
    "    mask_q2 = (data > q2)\n",
    "    \n",
    "    data[mask_q1] = np.NaN\n",
    "    data[mask_q2] = np.NaN\n",
    "    \n",
    "    #We return a new normalized column\n",
    "    return data"
   ]
  },
  {
   "cell_type": "code",
   "execution_count": 41,
   "metadata": {},
   "outputs": [
    {
     "data": {
      "text/plain": [
       "count    2237.000000\n",
       "mean     1901.565937\n",
       "std      1092.242217\n",
       "min         1.000000\n",
       "25%       960.000000\n",
       "50%      1921.000000\n",
       "75%      2836.000000\n",
       "max      3772.000000\n",
       "Name: class_num, dtype: float64"
      ]
     },
     "execution_count": 41,
     "metadata": {},
     "output_type": "execute_result"
    }
   ],
   "source": [
    "example.dropna().describe()"
   ]
  },
  {
   "cell_type": "code",
   "execution_count": 42,
   "metadata": {},
   "outputs": [
    {
     "data": {
      "text/plain": [
       "<matplotlib.axes._subplots.AxesSubplot at 0x1f3829c7358>"
      ]
     },
     "execution_count": 42,
     "metadata": {},
     "output_type": "execute_result"
    },
    {
     "data": {
      "image/png": "[encoded data removed]",
      "text/plain": [
       "<Figure size 432x288 with 1 Axes>"
      ]
     },
     "metadata": {
      "needs_background": "light"
     },
     "output_type": "display_data"
    }
   ],
   "source": [
    "sns.distplot(example.dropna().describe())"
   ]
  },
  {
   "cell_type": "code",
   "execution_count": 43,
   "metadata": {},
   "outputs": [],
   "source": [
    "example = normalize(example)"
   ]
  },
  {
   "cell_type": "code",
   "execution_count": 44,
   "metadata": {},
   "outputs": [
    {
     "data": {
      "text/plain": [
       "count    2013.000000\n",
       "mean     1903.029309\n",
       "std       982.767259\n",
       "min       188.000000\n",
       "25%      1062.000000\n",
       "50%      1921.000000\n",
       "75%      2737.000000\n",
       "max      3596.000000\n",
       "Name: class_num, dtype: float64"
      ]
     },
     "execution_count": 44,
     "metadata": {},
     "output_type": "execute_result"
    }
   ],
   "source": [
    "example.describe()"
   ]
  },
  {
   "cell_type": "code",
   "execution_count": 45,
   "metadata": {},
   "outputs": [
    {
     "data": {
      "text/plain": [
       "<matplotlib.axes._subplots.AxesSubplot at 0x1f3828b8ba8>"
      ]
     },
     "execution_count": 45,
     "metadata": {},
     "output_type": "execute_result"
    },
    {
     "data": {
      "image/png": "[encoded data removed]",
      "text/plain": [
       "<Figure size 432x288 with 1 Axes>"
      ]
     },
     "metadata": {
      "needs_background": "light"
     },
     "output_type": "display_data"
    }
   ],
   "source": [
    "sns.distplot(example.dropna().describe())"
   ]
  },
  {
   "cell_type": "markdown",
   "metadata": {},
   "source": [
    "There is a small difference as result having more missing values (Nan) including outliers **< 0.05** and **> 0.95**"
   ]
  },
  {
   "cell_type": "markdown",
   "metadata": {},
   "source": [
    "### II. Replacing outliers with quantiles "
   ]
  },
  {
   "cell_type": "code",
   "execution_count": 46,
   "metadata": {},
   "outputs": [],
   "source": [
    "ex = df_new[\"class_num\"].copy()"
   ]
  },
  {
   "cell_type": "code",
   "execution_count": 47,
   "metadata": {
    "scrolled": true
   },
   "outputs": [],
   "source": [
    "#It also works on Nan values, because Nan is special kind of float\n",
    "ex = ex.apply(lambda x: float(x))"
   ]
  },
  {
   "cell_type": "code",
   "execution_count": 48,
   "metadata": {},
   "outputs": [],
   "source": [
    "#Function that normalize outliers with boundary quantiles 5% 95 %\n",
    "def normalize_quantiles(column):\n",
    "    column = column.apply(lambda x: float(x))\n",
    "    \n",
    "    if isinstance(column[0],str):\n",
    "        print(\"Not numeric column!\")\n",
    "        return\n",
    "    else:\n",
    "        #We determine quantiles\n",
    "        low = column.quantile(0.05)\n",
    "        high = column.quantile(0.95)\n",
    "        \n",
    "        lmask = (column < low)\n",
    "        hmask = (column > high)\n",
    "        \n",
    "        column[lmask] = column.median()\n",
    "        column[hmask] = column.median()\n",
    "        \n",
    "        return column"
   ]
  },
  {
   "cell_type": "code",
   "execution_count": 49,
   "metadata": {},
   "outputs": [],
   "source": [
    "a = ex.copy()\n",
    "b = normalize_quantiles(ex)"
   ]
  },
  {
   "cell_type": "code",
   "execution_count": 50,
   "metadata": {},
   "outputs": [
    {
     "data": {
      "text/plain": [
       "<matplotlib.axes._subplots.AxesSubplot at 0x1f382d400f0>"
      ]
     },
     "execution_count": 50,
     "metadata": {},
     "output_type": "execute_result"
    },
    {
     "data": {
      "image/png": "[encoded data removed]",
      "text/plain": [
       "<Figure size 432x288 with 1 Axes>"
      ]
     },
     "metadata": {
      "needs_background": "light"
     },
     "output_type": "display_data"
    }
   ],
   "source": [
    "sns.distplot(a.dropna().describe())"
   ]
  },
  {
   "cell_type": "code",
   "execution_count": 51,
   "metadata": {
    "scrolled": true
   },
   "outputs": [
    {
     "data": {
      "text/plain": [
       "<matplotlib.axes._subplots.AxesSubplot at 0x1f382d8a550>"
      ]
     },
     "execution_count": 51,
     "metadata": {},
     "output_type": "execute_result"
    },
    {
     "data": {
      "image/png": "[encoded data removed]",
      "text/plain": [
       "<Figure size 432x288 with 1 Axes>"
      ]
     },
     "metadata": {
      "needs_background": "light"
     },
     "output_type": "display_data"
    }
   ],
   "source": [
    "sns.distplot(b.dropna().describe())"
   ]
  },
  {
   "cell_type": "markdown",
   "metadata": {},
   "source": [
    "There is a difference in data distribution. After this type of normalization our data distribution are more evenly distributed resulting in **smooth slope**."
   ]
  },
  {
   "cell_type": "markdown",
   "metadata": {},
   "source": [
    "### III. Logarithmic Transformation of the outliers"
   ]
  },
  {
   "cell_type": "code",
   "execution_count": 52,
   "metadata": {},
   "outputs": [],
   "source": [
    "#Function that transforms outliers by logaritm with base e\n",
    "def log_transformation(column):\n",
    "    low = column.quantile(0.05)\n",
    "    high = column.quantile(0.95)\n",
    "    med = column.quantile(0.5)\n",
    "    \n",
    "    lmask = (column < low)\n",
    "    hmask = (column > high)\n",
    "    \n",
    "    low = np.power(low,np.log(med)/np.log(low))\n",
    "    high = np.power(high,np.log(med)/np.log(high))\n",
    "    \n",
    "    #For values that outliers quantile we apply logarithmic transformation to median\n",
    "    column[lmask] = low\n",
    "    column[hmask] = high\n",
    "    \n",
    "    return column\n",
    "    "
   ]
  },
  {
   "cell_type": "markdown",
   "metadata": {},
   "source": [
    "### IV. Logical transformation of the outliers"
   ]
  },
  {
   "cell_type": "markdown",
   "metadata": {},
   "source": [
    "Is applied only to **education-num** column, because its outliers can be defined by the algorithm, described in the analysis during the first stage of the project. Here we may use both aggregate functions with a dictionary (similarly to the normalization script for modus values, but a bit more tricky), and also we may use a mathematical operation: **abs(outlier_value/100)**."
   ]
  },
  {
   "cell_type": "code",
   "execution_count": 53,
   "metadata": {},
   "outputs": [],
   "source": [
    "import scipy.stats as stats\n",
    "l=df_new[['education','education-num']].groupby(['education']).agg(lambda x: int(stats.mode(x)[0]))\n",
    "l=l.reset_index()\n",
    "ed_dict=l.groupby('education')['education-num'].apply(int).to_dict()\n",
    "indices=[]\n",
    "\n",
    "for i,row in df_new.iterrows():\n",
    "    if row['education-num'] not in l['education-num'] and pd.isnull(row['education'])==False:\n",
    "        indices.append(i)\n",
    "        \n",
    "for i in indices:\n",
    "    df_new.ix[i,'education-num']=ed_dict[df_new.ix[i,'education']]\n",
    "    #Alternate way, sometimes functions incorrect, so complex modus function was used:\n",
    "    #df_new.ix[i,'education-num']=abs(df_new.ix[i,'education-num']/100)"
   ]
  },
  {
   "cell_type": "markdown",
   "metadata": {},
   "source": [
    "Logical transformation also applies to **pregnant**, because this column is fully dependent from patient's sex and age - there were occurrences, when women were pregnant in the age of 12, but all lower age boundaries are too rare to consider them truthful for our particular task:"
   ]
  },
  {
   "cell_type": "code",
   "execution_count": 54,
   "metadata": {},
   "outputs": [],
   "source": [
    "indices=[]\n",
    "for i,row in df_new.iterrows():\n",
    "    if (row['sex']=='m' and row['pregnant']=='t') or (row['age']<12 and row['pregnant']=='t'):\n",
    "        indices.append(i)\n",
    "        \n",
    "for i in indices:    \n",
    "    df_new.ix[i,'pregnant']='f'"
   ]
  },
  {
   "cell_type": "markdown",
   "metadata": {},
   "source": [
    "## Deleting spaces and tolower categorical values"
   ]
  },
  {
   "cell_type": "markdown",
   "metadata": {},
   "source": [
    "There are some columns that have not integrated values such as **workclas** with values *'private', ' Private'*. It could be\n",
    "problem when we permorm analysis of these columns, because the data is **dirty**."
   ]
  },
  {
   "cell_type": "code",
   "execution_count": 55,
   "metadata": {},
   "outputs": [
    {
     "data": {
      "text/plain": [
       "array(['private', ' Private', ' Self-emp-inc', ' Self-emp-not-inc', nan,\n",
       "       'self-emp-not-inc', ' State-gov', '??', ' ?', ' Local-gov', '?',\n",
       "       'Nan', ' Federal-gov', 'local-gov', 'federal-gov', ' Without-pay',\n",
       "       'self-emp-inc', 'state-gov'], dtype=object)"
      ]
     },
     "execution_count": 55,
     "metadata": {},
     "output_type": "execute_result"
    }
   ],
   "source": [
    "#Let's look at workclass column\n",
    "df_new[\"workclass\"].unique()"
   ]
  },
  {
   "cell_type": "code",
   "execution_count": 56,
   "metadata": {},
   "outputs": [],
   "source": [
    "#Function that normalize categorical column in way of lower case\n",
    "#and delimiting spaces\n",
    "def format_categorical(column):\n",
    "    length = len(column)\n",
    "    \n",
    "    for i in range(0,length):\n",
    "        if (pd.isna(column[i])):\n",
    "            continue\n",
    "        else:\n",
    "            val = column[i]\n",
    "            val = val.lower()\n",
    "            column[i] = \" \".join(val.split())\n",
    "\n",
    "    return column"
   ]
  },
  {
   "cell_type": "code",
   "execution_count": 57,
   "metadata": {},
   "outputs": [],
   "source": [
    "df_new[\"workclass\"] = format_categorical(df_new[\"workclass\"].copy())"
   ]
  },
  {
   "cell_type": "code",
   "execution_count": 58,
   "metadata": {},
   "outputs": [
    {
     "data": {
      "text/plain": [
       "array(['private', 'self-emp-inc', 'self-emp-not-inc', nan, 'state-gov',\n",
       "       '??', '?', 'local-gov', 'nan', 'federal-gov', 'without-pay'],\n",
       "      dtype=object)"
      ]
     },
     "execution_count": 58,
     "metadata": {},
     "output_type": "execute_result"
    }
   ],
   "source": [
    "df_new[\"workclass\"].unique()"
   ]
  },
  {
   "cell_type": "code",
   "execution_count": 59,
   "metadata": {},
   "outputs": [
    {
     "data": {
      "text/plain": [
       "array([' Assoc-acdm', ' Bachelors', ' HS-grad', ' Some-college',\n",
       "       ' Masters', ' Prof-school', ' 10th', ' 11th', ' 7th-8th',\n",
       "       ' Assoc-voc', ' Doctorate', ' 5th-6th', ' 12th', ' 9th',\n",
       "       ' 1st-4th', ' Preschool'], dtype=object)"
      ]
     },
     "execution_count": 59,
     "metadata": {},
     "output_type": "execute_result"
    }
   ],
   "source": [
    "#Before normalization there is a space in the begginig of string\n",
    "df_new[\"education\"].unique()"
   ]
  },
  {
   "cell_type": "code",
   "execution_count": 60,
   "metadata": {},
   "outputs": [],
   "source": [
    "df_new[\"education\"] = format_categorical(df_new[\"education\"].copy())"
   ]
  },
  {
   "cell_type": "code",
   "execution_count": 61,
   "metadata": {
    "scrolled": true
   },
   "outputs": [
    {
     "data": {
      "text/plain": [
       "array(['assoc-acdm', 'bachelors', 'hs-grad', 'some-college', 'masters',\n",
       "       'prof-school', '10th', '11th', '7th-8th', 'assoc-voc', 'doctorate',\n",
       "       '5th-6th', '12th', '9th', '1st-4th', 'preschool'], dtype=object)"
      ]
     },
     "execution_count": 61,
     "metadata": {},
     "output_type": "execute_result"
    }
   ],
   "source": [
    "#After normalization all values are lower case without useless spaces\n",
    "df_new[\"education\"].unique()"
   ]
  },
  {
   "cell_type": "markdown",
   "metadata": {},
   "source": [
    "## V. Linear regression - Dealing with missing values for important correlational data"
   ]
  },
  {
   "cell_type": "markdown",
   "metadata": {},
   "source": [
    "As we mentioned during the first stage of our project, there are not so many columns, that directly correlate with each other or affect the diagnosis we will look for in further stage.\n",
    "In order to find out, which columns are important, we will use our heatmap as we have done before: "
   ]
  },
  {
   "cell_type": "code",
   "execution_count": 62,
   "metadata": {},
   "outputs": [
    {
     "data": {
      "text/plain": [
       "<matplotlib.axes._subplots.AxesSubplot at 0x1f383f0b668>"
      ]
     },
     "execution_count": 62,
     "metadata": {},
     "output_type": "execute_result"
    },
    {
     "data": {
      "image/png": "[encoded data removed]",
      "text/plain": [
       "<Figure size 432x288 with 2 Axes>"
      ]
     },
     "metadata": {
      "needs_background": "light"
     },
     "output_type": "display_data"
    }
   ],
   "source": [
    "df_corr=df_new.copy()\n",
    "d = {'negative' : 0, 'increased binding protein' : 1, 'decreased binding protein' : -1}\n",
    "f = {'f' : 0, 't' : 1}\n",
    "df_corr['class']=df_corr['class'].map(d)\n",
    "df_corr['tumor']=df_corr['tumor'].dropna().map(f)\n",
    "df_corr['goitre']=df_corr['goitre'].dropna().map(f)\n",
    "df_corr['sick']=df_corr['sick'].dropna().map(f)\n",
    "df_corr['lithium']=df_corr['lithium'].dropna().map(f)\n",
    "df_corr['query hyperthyroid']=df_corr['query hyperthyroid'].dropna().map(f)\n",
    "corr_matrix = df_corr.corr()\n",
    "sns.heatmap(corr_matrix, cmap='Reds')"
   ]
  },
  {
   "cell_type": "markdown",
   "metadata": {},
   "source": [
    "The values we will seek for in futher stage are the values of **class** column. And as far as we see, the most significant influence on this column does **T4U** category. Less significant, but still visible influence do also have **T3** and **TT4** columns.\n",
    "Those 3 are columns with hormone measurements and the have a certain dependency between each other:\n",
    "> **TT4** is the total level of T4 hormone  \n",
    "> **T4U** is the unbound part of T4 hormone  \n",
    "> **T3** is the hormone, which is produced outside the thyroid gland and is mostly synthesized from **T4**  \n",
    "> **TSH**, which has _**negative**_ correlation with **TT4** and **T3** the hormone, which stimulates the production of **T4**, but due to the fact that correlation is rather weak, we will focus on previous three hormones.  \n",
    "\n",
    "The most logical is to try and make a linear regression between those 3 hormones in order to fill missing values with the closest possible logical value _(but such approach may lead to significant consequences, because exactly the strange difference between hormone levels is often an important sign of possible illness, and by using linear regression, we approximate those values, thus making it possible for our future prediction model to fail and doom someone to wrong diagnosis)_.\n",
    "\n"
   ]
  },
  {
   "cell_type": "code",
   "execution_count": 63,
   "metadata": {},
   "outputs": [],
   "source": [
    "#Some preparations for regression and mask to extract only those rows, which contain all significant hormone values\n",
    "n = Normalizer()\n",
    "regr = linear_model.LinearRegression()\n",
    "ridg = linear_model.Ridge(alpha=.5)\n",
    "\n",
    "lregr_mask = (pd.isnull(df_new['TT4'])==False)& (pd.isnull(df_new['T3'])==False)& (pd.isnull(df_new['T4U'])==False)\n",
    "t3_tt4_mask= (pd.isnull(df_new['T3'])==False) & (pd.isnull(df_new['TT4'])==True)\n",
    "t3_t4u_mask= (pd.isnull(df_new['T3'])==False) & (pd.isnull(df_new['T4U'])==True)\n",
    "\n",
    "tt4_t3_mask= (pd.isnull(df_new['T3'])==True) & (pd.isnull(df_new['TT4'])==False)\n",
    "tt4_t4u_mask= (pd.isnull(df_new['T4U'])==True) & (pd.isnull(df_new['TT4'])==False)\n",
    "\n",
    "t4u_tt4_mask= (pd.isnull(df_new['T4U'])==False) & (pd.isnull(df_new['TT4'])==True)\n",
    "t4u_t3_mask= (pd.isnull(df_new['T4U'])==False) & (pd.isnull(df_new['T3'])==True)"
   ]
  },
  {
   "cell_type": "markdown",
   "metadata": {},
   "source": [
    "### Linear regression for T4U-T3"
   ]
  },
  {
   "cell_type": "code",
   "execution_count": 64,
   "metadata": {
    "scrolled": true
   },
   "outputs": [
    {
     "name": "stdout",
     "output_type": "stream",
     "text": [
      "1) OLS:\n",
      "Regression coefficient: \n",
      " [1.86670459]\n",
      "Mean squared error: 0.54\n",
      "R2 (variance) score: 0.20\n",
      "\n",
      "2) Ridge:\n",
      "Regression coefficient: \n",
      " [1.85223268]\n",
      "Mean squared error: 0.54\n",
      "R2 (variance) score: 0.20\n",
      "\n",
      "\n",
      "X(min/max):  0.31 2.12\n",
      "Y(min/max):  0.05 10.6\n"
     ]
    },
    {
     "data": {
      "image/png": "[encoded data removed]",
      "text/plain": [
       "<Figure size 432x288 with 1 Axes>"
      ]
     },
     "metadata": {
      "needs_background": "light"
     },
     "output_type": "display_data"
    },
    {
     "data": {
      "image/png": "[encoded data removed]",
      "text/plain": [
       "<Figure size 432x288 with 1 Axes>"
      ]
     },
     "metadata": {
      "needs_background": "light"
     },
     "output_type": "display_data"
    }
   ],
   "source": [
    "############################ T4U-T3 ########################################\n",
    "\n",
    "x=df_new[lregr_mask][['T4U']].copy()\n",
    "x=x['T4U'].apply(lambda x: float(x))\n",
    "x=x.values.reshape((-1,1))\n",
    "\n",
    "y=df_new[lregr_mask][['T3']].copy()\n",
    "y=y['T3'].apply(lambda x: float(x))\n",
    "\n",
    "x_pred=df_new[t4u_t3_mask][['T4U']].copy()\n",
    "x_pred=x_pred['T4U'].apply(lambda x: float(x))\n",
    "x_pred=x_pred.values.reshape((-1,1))\n",
    "\n",
    "\n",
    "# Train the model using the training sets\n",
    "regr.fit(x, y)\n",
    "ridg.fit(x, y)\n",
    "\n",
    "# Make predictions using the testing set\n",
    "y_pred = regr.predict(x)\n",
    "y_ridgepred = ridg.predict(x)\n",
    "\n",
    "t4u_t3_pred=regr.predict(x_pred)\n",
    "\n",
    "# The coefficients, MSE, R2:\n",
    "print(\"1) OLS:\")\n",
    "print('Regression coefficient: \\n', regr.coef_)\n",
    "print(\"Mean squared error: %.2f\"\n",
    "      % mean_squared_error(y, y_pred))\n",
    "print('R2 (variance) score: %.2f' % r2_score(y, y_pred))\n",
    "\n",
    "print(\"\\n2) Ridge:\")\n",
    "print('Regression coefficient: \\n', ridg.coef_)\n",
    "print(\"Mean squared error: %.2f\"\n",
    "      % mean_squared_error(y, y_ridgepred))\n",
    "print('R2 (variance) score: %.2f' % r2_score(y, y_ridgepred))\n",
    "\n",
    "#Min-max values for x and y\n",
    "print('\\n')\n",
    "print(\"X(min/max): \",x.min(),x.max())\n",
    "print(\"Y(min/max): \",y.min(),y.max())\n",
    "\n",
    "# OLS linear regression plot\n",
    "plt.scatter(x, y,  color='blue')\n",
    "plt.plot(x, y_pred, color='orange', linewidth=3)\n",
    "plt.xlabel('T4U')\n",
    "plt.ylabel('T3')\n",
    "plt.title('OLS', fontsize=20)\n",
    "\n",
    "plt.show()\n",
    "\n",
    "# Ridge linear regression plot\n",
    "plt.scatter(x, y,  color='red')\n",
    "plt.plot(x, y_ridgepred, color='blue', linewidth=3)\n",
    "plt.xlabel('T4U')\n",
    "plt.ylabel('T3')\n",
    "plt.title('Ridge', fontsize=20)\n",
    "\n",
    "plt.show()"
   ]
  },
  {
   "cell_type": "markdown",
   "metadata": {},
   "source": [
    "### Linear regression for T3-T4U (reversal filling)"
   ]
  },
  {
   "cell_type": "code",
   "execution_count": 65,
   "metadata": {
    "scrolled": true
   },
   "outputs": [
    {
     "name": "stdout",
     "output_type": "stream",
     "text": [
      "1) OLS:\n",
      "Regression coefficient: \n",
      " [0.10659721]\n",
      "Mean squared error: 0.03\n",
      "R2 (variance) score: 0.20\n",
      "\n",
      "2) Ridge:\n",
      "Regression coefficient: \n",
      " [0.10654967]\n",
      "Mean squared error: 0.03\n",
      "R2 (variance) score: 0.20\n",
      "\n",
      "\n",
      "X(min/max):  0.05 10.6\n",
      "Y(min/max):  0.31 2.12\n"
     ]
    },
    {
     "data": {
      "image/png": "[encoded data removed]",
      "text/plain": [
       "<Figure size 432x288 with 1 Axes>"
      ]
     },
     "metadata": {
      "needs_background": "light"
     },
     "output_type": "display_data"
    },
    {
     "data": {
      "image/png": "[encoded data removed]",
      "text/plain": [
       "<Figure size 432x288 with 1 Axes>"
      ]
     },
     "metadata": {
      "needs_background": "light"
     },
     "output_type": "display_data"
    }
   ],
   "source": [
    "############################ T4U-T3 ########################################\n",
    "\n",
    "x=df_new[lregr_mask][['T3']].copy()\n",
    "x=x['T3'].apply(lambda x: float(x))\n",
    "x=x.values.reshape((-1,1))\n",
    "\n",
    "y=df_new[lregr_mask][['T4U']].copy()\n",
    "y=y['T4U'].apply(lambda x: float(x))\n",
    "\n",
    "x_pred=df_new[t3_t4u_mask][['T3']].copy()\n",
    "x_pred=x_pred['T3'].apply(lambda x: float(x))\n",
    "x_pred=x_pred.values.reshape((-1,1))\n",
    "\n",
    "# Train the model using the training sets\n",
    "regr.fit(x, y)\n",
    "ridg.fit(x, y)\n",
    "\n",
    "# Make predictions using the testing set\n",
    "y_pred = regr.predict(x)\n",
    "y_ridgepred = ridg.predict(x)\n",
    "\n",
    "t3_t4u_pred=regr.predict(x_pred)\n",
    "\n",
    "# The coefficients, MSE, R2:\n",
    "print(\"1) OLS:\")\n",
    "print('Regression coefficient: \\n', regr.coef_)\n",
    "print(\"Mean squared error: %.2f\"\n",
    "      % mean_squared_error(y, y_pred))\n",
    "print('R2 (variance) score: %.2f' % r2_score(y, y_pred))\n",
    "\n",
    "print(\"\\n2) Ridge:\")\n",
    "print('Regression coefficient: \\n', ridg.coef_)\n",
    "print(\"Mean squared error: %.2f\"\n",
    "      % mean_squared_error(y, y_ridgepred))\n",
    "print('R2 (variance) score: %.2f' % r2_score(y, y_ridgepred))\n",
    "\n",
    "#Min-max values for x and y\n",
    "print('\\n')\n",
    "print(\"X(min/max): \",x.min(),x.max())\n",
    "print(\"Y(min/max): \",y.min(),y.max())\n",
    "\n",
    "# OLS linear regression plot\n",
    "plt.scatter(x, y,  color='blue')\n",
    "plt.plot(x, y_pred, color='orange', linewidth=3)\n",
    "plt.xlabel('T3')\n",
    "plt.ylabel('T4U')\n",
    "plt.title('OLS', fontsize=20)\n",
    "\n",
    "plt.show()\n",
    "\n",
    "# Ridge linear regression plot\n",
    "plt.scatter(x, y,  color='red')\n",
    "plt.plot(x, y_ridgepred, color='blue', linewidth=3)\n",
    "plt.xlabel('T3')\n",
    "plt.ylabel('T4U')\n",
    "plt.title('Ridge', fontsize=20)\n",
    "\n",
    "plt.show()"
   ]
  },
  {
   "cell_type": "markdown",
   "metadata": {},
   "source": [
    "### Linear regression for TT4-T3"
   ]
  },
  {
   "cell_type": "code",
   "execution_count": 66,
   "metadata": {
    "scrolled": true
   },
   "outputs": [
    {
     "name": "stdout",
     "output_type": "stream",
     "text": [
      "1) OLS:\n",
      "Regression coefficient: \n",
      " [0.0133477]\n",
      "Mean squared error: 0.45\n",
      "R2 (variance) score: 0.34\n",
      "\n",
      "2) Ridge:\n",
      "Regression coefficient: \n",
      " [0.01334769]\n",
      "Mean squared error: 0.45\n",
      "R2 (variance) score: 0.34\n",
      "\n",
      "\n",
      "X(min/max):  2.0 430.0\n",
      "Y(min/max):  0.05 10.6\n"
     ]
    },
    {
     "data": {
      "image/png": "[encoded data removed]",
      "text/plain": [
       "<Figure size 432x288 with 1 Axes>"
      ]
     },
     "metadata": {
      "needs_background": "light"
     },
     "output_type": "display_data"
    },
    {
     "data": {
      "image/png": "[encoded data removed]",
      "text/plain": [
       "<Figure size 432x288 with 1 Axes>"
      ]
     },
     "metadata": {
      "needs_background": "light"
     },
     "output_type": "display_data"
    }
   ],
   "source": [
    "########################## TT4-T3 ######################################\n",
    "\n",
    "x=df_new[lregr_mask][['TT4']].copy()\n",
    "x=x['TT4'].apply(lambda x: float(x))\n",
    "x=x.values.reshape((-1,1))\n",
    "\n",
    "y=df_new[lregr_mask][['T3']].copy()\n",
    "y=y['T3'].apply(lambda x: float(x))\n",
    "\n",
    "x_pred=df_new[tt4_t3_mask][['TT4']].copy()\n",
    "x_pred=x_pred['TT4'].apply(lambda x: float(x))\n",
    "x_pred=x_pred.values.reshape((-1,1))\n",
    "\n",
    "\n",
    "# Train the model using the training sets\n",
    "regr.fit(x, y)\n",
    "ridg.fit(x, y)\n",
    "\n",
    "# Make predictions using the testing set\n",
    "y_pred = regr.predict(x)\n",
    "y_ridgepred = ridg.predict(x)\n",
    "\n",
    "tt4_t3_pred=regr.predict(x_pred)\n",
    "\n",
    "# The coefficients, MSE, R2:\n",
    "print(\"1) OLS:\")\n",
    "print('Regression coefficient: \\n', regr.coef_)\n",
    "print(\"Mean squared error: %.2f\"\n",
    "      % mean_squared_error(y, y_pred))\n",
    "print('R2 (variance) score: %.2f' % r2_score(y, y_pred))\n",
    "\n",
    "print(\"\\n2) Ridge:\")\n",
    "print('Regression coefficient: \\n', ridg.coef_)\n",
    "print(\"Mean squared error: %.2f\"\n",
    "      % mean_squared_error(y, y_ridgepred))\n",
    "print('R2 (variance) score: %.2f' % r2_score(y, y_ridgepred))\n",
    "\n",
    "#Min-max values for x and y\n",
    "print('\\n')\n",
    "print(\"X(min/max): \",x.min(),x.max())\n",
    "print(\"Y(min/max): \",y.min(),y.max())\n",
    "\n",
    "# OLS linear regression plot\n",
    "plt.scatter(x, y,  color='blue')\n",
    "plt.plot(x, y_pred, color='orange', linewidth=3)\n",
    "plt.xlabel('TT4')\n",
    "plt.ylabel('T3')\n",
    "plt.title('OLS', fontsize=20)\n",
    "\n",
    "plt.show()\n",
    "\n",
    "# Ridge linear regression plot\n",
    "plt.scatter(x, y,  color='red')\n",
    "plt.plot(x, y_ridgepred, color='blue', linewidth=3)\n",
    "plt.xlabel('TT4')\n",
    "plt.ylabel('T3')\n",
    "plt.title('Ridge', fontsize=20)\n",
    "\n",
    "plt.show()\n"
   ]
  },
  {
   "cell_type": "markdown",
   "metadata": {},
   "source": [
    "### Linear regression for T3-TT4 (reversal)"
   ]
  },
  {
   "cell_type": "code",
   "execution_count": 67,
   "metadata": {
    "scrolled": true
   },
   "outputs": [
    {
     "name": "stdout",
     "output_type": "stream",
     "text": [
      "1) OLS:\n",
      "Regression coefficient: \n",
      " [25.22445556]\n",
      "Mean squared error: 845.73\n",
      "R2 (variance) score: 0.34\n",
      "\n",
      "2) Ridge:\n",
      "Regression coefficient: \n",
      " [25.21320618]\n",
      "Mean squared error: 845.73\n",
      "R2 (variance) score: 0.34\n",
      "\n",
      "\n",
      "X(min/max):  0.05 10.6\n",
      "Y(min/max):  2.0 430.0\n"
     ]
    },
    {
     "data": {
      "image/png": "[encoded data removed]",
      "text/plain": [
       "<Figure size 432x288 with 1 Axes>"
      ]
     },
     "metadata": {
      "needs_background": "light"
     },
     "output_type": "display_data"
    },
    {
     "data": {
      "image/png": "[encoded data removed]",
      "text/plain": [
       "<Figure size 432x288 with 1 Axes>"
      ]
     },
     "metadata": {
      "needs_background": "light"
     },
     "output_type": "display_data"
    }
   ],
   "source": [
    "########################## T3-TT4 ######################################\n",
    "\n",
    "x=df_new[lregr_mask][['T3']].copy()\n",
    "x=x['T3'].apply(lambda x: float(x))\n",
    "x=x.values.reshape((-1,1))\n",
    "\n",
    "y=df_new[lregr_mask][['TT4']].copy()\n",
    "y=y['TT4'].apply(lambda x: float(x))\n",
    "\n",
    "x_pred=df_new[t3_tt4_mask][['T3']].copy()\n",
    "x_pred=x_pred['T3'].apply(lambda x: float(x))\n",
    "x_pred=x_pred.values.reshape((-1,1))\n",
    "\n",
    "# Train the model using the training sets\n",
    "regr.fit(x, y)\n",
    "ridg.fit(x,y)\n",
    "\n",
    "# Make predictions using the testing set\n",
    "y_pred = regr.predict(x)\n",
    "y_ridgepred = ridg.predict(x)\n",
    "\n",
    "t3_tt4_pred=regr.predict(x_pred)\n",
    "\n",
    "# The coefficients, MSE, R2:\n",
    "print(\"1) OLS:\")\n",
    "print('Regression coefficient: \\n', regr.coef_)\n",
    "print(\"Mean squared error: %.2f\"\n",
    "      % mean_squared_error(y, y_pred))\n",
    "print('R2 (variance) score: %.2f' % r2_score(y, y_pred))\n",
    "\n",
    "print(\"\\n2) Ridge:\")\n",
    "print('Regression coefficient: \\n', ridg.coef_)\n",
    "print(\"Mean squared error: %.2f\"\n",
    "      % mean_squared_error(y, y_ridgepred))\n",
    "print('R2 (variance) score: %.2f' % r2_score(y, y_ridgepred))\n",
    "\n",
    "#Min-max values for x and y\n",
    "print('\\n')\n",
    "print(\"X(min/max): \",x.min(),x.max())\n",
    "print(\"Y(min/max): \",y.min(),y.max())\n",
    "\n",
    "# OLS linear regression plot\n",
    "plt.scatter(x, y,  color='blue')\n",
    "plt.plot(x, y_pred, color='orange', linewidth=3)\n",
    "plt.xlabel('T3')\n",
    "plt.ylabel('TT4')\n",
    "plt.title('OLS', fontsize=20)\n",
    "\n",
    "plt.show()\n",
    "\n",
    "# Ridge linear regression plot\n",
    "plt.scatter(x, y,  color='red')\n",
    "plt.plot(x, y_ridgepred, color='blue', linewidth=3)\n",
    "plt.xlabel('T3')\n",
    "plt.ylabel('TT4')\n",
    "plt.title('Ridge', fontsize=20)\n",
    "\n",
    "plt.show()\n"
   ]
  },
  {
   "cell_type": "markdown",
   "metadata": {},
   "source": [
    "### Linear regression for TT4-T4U"
   ]
  },
  {
   "cell_type": "code",
   "execution_count": 68,
   "metadata": {
    "scrolled": true
   },
   "outputs": [
    {
     "name": "stdout",
     "output_type": "stream",
     "text": [
      "1) OLS:\n",
      "Regression coefficient: \n",
      " [0.00241139]\n",
      "Mean squared error: 0.03\n",
      "R2 (variance) score: 0.19\n",
      "\n",
      "2) Ridge:\n",
      "Regression coefficient: \n",
      " [0.00241139]\n",
      "Mean squared error: 0.03\n",
      "R2 (variance) score: 0.19\n",
      "\n",
      "\n",
      "X(min/max):  2.0 430.0\n",
      "Y(min/max):  0.31 2.12\n"
     ]
    },
    {
     "data": {
      "image/png": "[encoded data removed]",
      "text/plain": [
       "<Figure size 432x288 with 1 Axes>"
      ]
     },
     "metadata": {
      "needs_background": "light"
     },
     "output_type": "display_data"
    },
    {
     "data": {
      "image/png": "[encoded data removed]",
      "text/plain": [
       "<Figure size 432x288 with 1 Axes>"
      ]
     },
     "metadata": {
      "needs_background": "light"
     },
     "output_type": "display_data"
    }
   ],
   "source": [
    "########################## TT4-T4U ######################################\n",
    "\n",
    "x=df_new[lregr_mask][['TT4']].copy()\n",
    "x=x['TT4'].apply(lambda x: float(x))\n",
    "x=x.values.reshape((-1,1))\n",
    "\n",
    "y=df_new[lregr_mask][['T4U']].copy()\n",
    "y=y['T4U'].apply(lambda x: float(x))\n",
    "\n",
    "x_pred=df_new[tt4_t4u_mask][['TT4']].copy()\n",
    "x_pred=x_pred['TT4'].apply(lambda x: float(x))\n",
    "x_pred=x_pred.values.reshape((-1,1))\n",
    "\n",
    "\n",
    "# Train the model using the training sets\n",
    "regr.fit(x, y)\n",
    "ridg.fit(x,y)\n",
    "\n",
    "# Make predictions using the testing set\n",
    "y_pred = regr.predict(x)\n",
    "y_ridgepred = ridg.predict(x)\n",
    "\n",
    "tt4_t4u_pred=regr.predict(x_pred)\n",
    "\n",
    "# The coefficients, MSE, R2:\n",
    "print(\"1) OLS:\")\n",
    "print('Regression coefficient: \\n', regr.coef_)\n",
    "print(\"Mean squared error: %.2f\"\n",
    "      % mean_squared_error(y, y_pred))\n",
    "print('R2 (variance) score: %.2f' % r2_score(y, y_pred))\n",
    "\n",
    "print(\"\\n2) Ridge:\")\n",
    "print('Regression coefficient: \\n', ridg.coef_)\n",
    "print(\"Mean squared error: %.2f\"\n",
    "      % mean_squared_error(y, y_ridgepred))\n",
    "print('R2 (variance) score: %.2f' % r2_score(y, y_ridgepred))\n",
    "\n",
    "#Min-max values for x and y\n",
    "print('\\n')\n",
    "print(\"X(min/max): \",x.min(),x.max())\n",
    "print(\"Y(min/max): \",y.min(),y.max())\n",
    "\n",
    "# OLS linear regression plot\n",
    "plt.scatter(x, y,  color='blue')\n",
    "plt.plot(x, y_pred, color='orange', linewidth=3)\n",
    "plt.xlabel('TT4')\n",
    "plt.ylabel('T4U')\n",
    "plt.title('OLS', fontsize=20)\n",
    "\n",
    "plt.show()\n",
    "\n",
    "# Ridge linear regression plot\n",
    "plt.scatter(x, y,  color='red')\n",
    "plt.plot(x, y_ridgepred, color='blue', linewidth=3)\n",
    "plt.xlabel('TT4')\n",
    "plt.ylabel('T4U')\n",
    "plt.title('Ridge', fontsize=20)\n",
    "\n",
    "plt.show()\n"
   ]
  },
  {
   "cell_type": "markdown",
   "metadata": {},
   "source": [
    "### Linear regression for T4U-TT4 (reversal)"
   ]
  },
  {
   "cell_type": "code",
   "execution_count": 69,
   "metadata": {
    "scrolled": true
   },
   "outputs": [
    {
     "name": "stdout",
     "output_type": "stream",
     "text": [
      "1) OLS:\n",
      "Regression coefficient: \n",
      " [79.80183069]\n",
      "Mean squared error: 1029.66\n",
      "R2 (variance) score: 0.19\n",
      "\n",
      "2) Ridge:\n",
      "Regression coefficient: \n",
      " [79.18315464]\n",
      "Mean squared error: 1029.67\n",
      "R2 (variance) score: 0.19\n",
      "\n",
      "\n",
      "X(min/max):  0.31 2.12\n",
      "Y(min/max):  2.0 430.0\n"
     ]
    },
    {
     "data": {
      "image/png": "[encoded data removed]",
      "text/plain": [
       "<Figure size 432x288 with 1 Axes>"
      ]
     },
     "metadata": {
      "needs_background": "light"
     },
     "output_type": "display_data"
    },
    {
     "data": {
      "image/png": "[encoded data removed]",
      "text/plain": [
       "<Figure size 432x288 with 1 Axes>"
      ]
     },
     "metadata": {
      "needs_background": "light"
     },
     "output_type": "display_data"
    }
   ],
   "source": [
    "########################## T4U-TT4 ######################################\n",
    "\n",
    "x=df_new[lregr_mask][['T4U']].copy()\n",
    "x=x['T4U'].apply(lambda x: float(x))\n",
    "x=x.values.reshape((-1,1))\n",
    "\n",
    "y=df_new[lregr_mask][['TT4']].copy()\n",
    "y=y['TT4'].apply(lambda x: float(x))\n",
    "\n",
    "x_pred=df_new[t4u_tt4_mask][['T4U']].copy()\n",
    "x_pred=x_pred['T4U'].apply(lambda x: float(x))\n",
    "x_pred=x_pred.values.reshape((-1,1))\n",
    "\n",
    "# Train the model using the training sets\n",
    "regr.fit(x, y)\n",
    "ridg.fit(x,y)\n",
    "\n",
    "# Make predictions using the testing set\n",
    "y_pred = regr.predict(x)\n",
    "y_ridgepred = ridg.predict(x)\n",
    "\n",
    "t4u_tt4_pred=regr.predict(x_pred)\n",
    "\n",
    "# The coefficients, MSE, R2:\n",
    "print(\"1) OLS:\")\n",
    "print('Regression coefficient: \\n', regr.coef_)\n",
    "print(\"Mean squared error: %.2f\"\n",
    "      % mean_squared_error(y, y_pred))\n",
    "print('R2 (variance) score: %.2f' % r2_score(y, y_pred))\n",
    "\n",
    "print(\"\\n2) Ridge:\")\n",
    "print('Regression coefficient: \\n', ridg.coef_)\n",
    "print(\"Mean squared error: %.2f\"\n",
    "      % mean_squared_error(y, y_ridgepred))\n",
    "print('R2 (variance) score: %.2f' % r2_score(y, y_ridgepred))\n",
    "\n",
    "#Min-max values for x and y\n",
    "print('\\n')\n",
    "print(\"X(min/max): \",x.min(),x.max())\n",
    "print(\"Y(min/max): \",y.min(),y.max())\n",
    "\n",
    "# OLS linear regression plot\n",
    "plt.scatter(x, y,  color='blue')\n",
    "plt.plot(x, y_pred, color='orange', linewidth=3)\n",
    "plt.xlabel('T4U')\n",
    "plt.ylabel('TT4')\n",
    "plt.title('OLS', fontsize=20)\n",
    "\n",
    "plt.show()\n",
    "\n",
    "# Ridge linear regression plot\n",
    "plt.scatter(x, y,  color='red')\n",
    "plt.plot(x, y_ridgepred, color='blue', linewidth=3)\n",
    "plt.xlabel('T4U')\n",
    "plt.ylabel('TT4')\n",
    "plt.title('Ridge', fontsize=20)\n",
    "\n",
    "plt.show()\n"
   ]
  },
  {
   "cell_type": "markdown",
   "metadata": {},
   "source": [
    "We created linear regression models for each pair of significant hormones, so in real model we may be able to fill the missing values in each column step by step, depending on existing ones.\n",
    "\n",
    "As we may also see, most adequate model is trained for the pair of **TT4** to **T3** correlation, hereby confirming our conclusion from the heatap, where TT4-T3 correlation was the strongest."
   ]
  },
  {
   "cell_type": "markdown",
   "metadata": {},
   "source": [
    "## Part II Real time application of the scripts"
   ]
  },
  {
   "cell_type": "markdown",
   "metadata": {},
   "source": [
    "In this section we **apply our methods** for dealing with missing values and outliers to dataset and then do analysis on these columns and compare results with previous analysis.\n",
    "Preprocessing steps are as follows:  \n",
    "* __Filling missing values with chosen method__  \n",
    "* __Dealing with outliers using quantile normalization__\n",
    "* __Do statistical test an compare results__"
   ]
  },
  {
   "cell_type": "code",
   "execution_count": 70,
   "metadata": {},
   "outputs": [
    {
     "name": "stdout",
     "output_type": "stream",
     "text": [
      "Normalized query hyperthyroid\n",
      "Normalized FTI measured\n",
      "Normalized lithium\n",
      "Normalized tumor\n",
      "Normalized sick\n",
      "Normalized TT4 measured\n",
      "Normalized goitre\n",
      "Normalized hypopituitary\n",
      "Normalized on antithyroid medication\n",
      "Normalized TBG measured\n",
      "Normalized query hypothyroid\n",
      "Normalized T4U measured\n",
      "Normalized pregnant\n",
      "Normalized thyroid surgery\n",
      "Normalized TSH measured\n",
      "Normalized query on thyroxine\n",
      "Normalized I131 treatment\n",
      "Normalized on thyroxine\n",
      "Normalized T3 measured\n",
      "Normalized psych\n"
     ]
    }
   ],
   "source": [
    "#Applied to categorical columns\n",
    "normalize_columns_booleans(data=df_new)"
   ]
  },
  {
   "cell_type": "markdown",
   "metadata": {},
   "source": [
    "### Applying trained linear regression to fill missing values in all hormone columns"
   ]
  },
  {
   "cell_type": "code",
   "execution_count": 71,
   "metadata": {},
   "outputs": [],
   "source": [
    "############# T3-T4U #############\n",
    "indices=[]\n",
    "x=0\n",
    "for i,row in df_new.iterrows():\n",
    "    if pd.isnull(row.T3)==False and pd.isnull(row.T4U)==True:\n",
    "        indices.append(i)\n",
    "        \n",
    "for i in indices:    \n",
    "    df_new.ix[i,'T4U']=t3_t4u_pred[x]\n",
    "    x+=1\n"
   ]
  },
  {
   "cell_type": "code",
   "execution_count": 72,
   "metadata": {},
   "outputs": [],
   "source": [
    "############# T3-TT4 #############\n",
    "indices=[]\n",
    "x=0\n",
    "for i,row in df_new.iterrows():\n",
    "    if pd.isnull(row.T3)==False and pd.isnull(row.TT4)==True:\n",
    "        indices.append(i)\n",
    "        \n",
    "for i in indices:    \n",
    "    df_new.ix[i,'TT4']=t3_tt4_pred[x]\n",
    "    x+=1\n"
   ]
  },
  {
   "cell_type": "code",
   "execution_count": 73,
   "metadata": {},
   "outputs": [],
   "source": [
    "############# TT4-T3 #############\n",
    "indices=[]\n",
    "x=0\n",
    "for i,row in df_new.iterrows():\n",
    "    if pd.isnull(row.T3)==True and pd.isnull(row.TT4)==False:\n",
    "        indices.append(i)\n",
    "        \n",
    "for i in indices:    \n",
    "    df_new.ix[i,'T3']=tt4_t3_pred[x]\n",
    "    x+=1"
   ]
  },
  {
   "cell_type": "code",
   "execution_count": 74,
   "metadata": {},
   "outputs": [],
   "source": [
    "############# TT4-T4U #############\n",
    "indices=[]\n",
    "x=0\n",
    "for i,row in df_new.iterrows():\n",
    "    if pd.isnull(row.T4U)==True and pd.isnull(row.TT4)==False:\n",
    "        indices.append(i)\n",
    "        \n",
    "for i in indices:    \n",
    "    df_new.ix[i,'T4U']=tt4_t4u_pred[x]\n",
    "    x+=1"
   ]
  },
  {
   "cell_type": "code",
   "execution_count": 75,
   "metadata": {},
   "outputs": [],
   "source": [
    "############# T4U-T3 #############\n",
    "indices=[]\n",
    "x=0\n",
    "for i,row in df_new.iterrows():\n",
    "    if pd.isnull(row.T4U)==False and pd.isnull(row.T3)==True:\n",
    "        indices.append(i)\n",
    "        \n",
    "for i in indices:    \n",
    "    df_new.ix[i,'T3']=t4u_t3_pred[x]\n",
    "    x+=1"
   ]
  },
  {
   "cell_type": "code",
   "execution_count": 76,
   "metadata": {},
   "outputs": [],
   "source": [
    "############# T4U-TT4 #############\n",
    "indices=[]\n",
    "x=0\n",
    "for i,row in df_new.iterrows():\n",
    "    if pd.isnull(row.T4U)==False and pd.isnull(row.TT4)==True:\n",
    "        indices.append(i)\n",
    "        \n",
    "for i in indices:    \n",
    "    df_new.ix[i,'TT4']=t4u_tt4_pred[x]\n",
    "    x+=1"
   ]
  },
  {
   "cell_type": "code",
   "execution_count": 77,
   "metadata": {},
   "outputs": [],
   "source": [
    "#For statistical hypothesis we will use three columns - TSH,T3,T4U"
   ]
  },
  {
   "cell_type": "markdown",
   "metadata": {},
   "source": [
    "### Filling missing values"
   ]
  },
  {
   "cell_type": "markdown",
   "metadata": {},
   "source": [
    "We try to use our techniques on hormone columns and then we do **analysis and statistical hypothesis** on these columns."
   ]
  },
  {
   "cell_type": "code",
   "execution_count": 78,
   "metadata": {},
   "outputs": [
    {
     "data": {
      "text/plain": [
       "<matplotlib.axes._subplots.AxesSubplot at 0x1f3840ce6a0>"
      ]
     },
     "execution_count": 78,
     "metadata": {},
     "output_type": "execute_result"
    },
    {
     "data": {
      "image/png": "[encoded data removed]",
      "text/plain": [
       "<Figure size 432x288 with 1 Axes>"
      ]
     },
     "metadata": {
      "needs_background": "light"
     },
     "output_type": "display_data"
    }
   ],
   "source": [
    "plt.title(\"TSH origin\")\n",
    "sns.distplot(df_new[\"TSH\"].describe())"
   ]
  },
  {
   "cell_type": "code",
   "execution_count": 79,
   "metadata": {},
   "outputs": [
    {
     "data": {
      "text/plain": [
       "<matplotlib.axes._subplots.AxesSubplot at 0x1f38412fcc0>"
      ]
     },
     "execution_count": 79,
     "metadata": {},
     "output_type": "execute_result"
    },
    {
     "data": {
      "image/png": "[encoded data removed]",
      "text/plain": [
       "<Figure size 432x288 with 1 Axes>"
      ]
     },
     "metadata": {
      "needs_background": "light"
     },
     "output_type": "display_data"
    }
   ],
   "source": [
    "plt.title(\"T3 origin\")\n",
    "sns.distplot(df_new[\"T3\"].describe())"
   ]
  },
  {
   "cell_type": "code",
   "execution_count": 80,
   "metadata": {},
   "outputs": [
    {
     "data": {
      "text/plain": [
       "<matplotlib.axes._subplots.AxesSubplot at 0x1f3841d1128>"
      ]
     },
     "execution_count": 80,
     "metadata": {},
     "output_type": "execute_result"
    },
    {
     "data": {
      "image/png": "[encoded data removed]",
      "text/plain": [
       "<Figure size 432x288 with 1 Axes>"
      ]
     },
     "metadata": {
      "needs_background": "light"
     },
     "output_type": "display_data"
    }
   ],
   "source": [
    "plt.title(\"T4U origin\")\n",
    "sns.distplot(df_new[\"T4U\"].describe())"
   ]
  },
  {
   "cell_type": "code",
   "execution_count": 81,
   "metadata": {},
   "outputs": [],
   "source": [
    "#There are many outliers, so we need to fill it and normalize it"
   ]
  },
  {
   "cell_type": "code",
   "execution_count": 82,
   "metadata": {},
   "outputs": [],
   "source": [
    "ex = df_new[[\"TSH\", \"T3\", \"T4U\", \"class\"]].copy()"
   ]
  },
  {
   "cell_type": "markdown",
   "metadata": {},
   "source": [
    "### Before normalization"
   ]
  },
  {
   "cell_type": "code",
   "execution_count": 83,
   "metadata": {
    "scrolled": true
   },
   "outputs": [
    {
     "data": {
      "text/plain": [
       "TSH       True\n",
       "T3        True\n",
       "T4U       True\n",
       "class    False\n",
       "dtype: bool"
      ]
     },
     "execution_count": 83,
     "metadata": {},
     "output_type": "execute_result"
    }
   ],
   "source": [
    "ex.isna().any()"
   ]
  },
  {
   "cell_type": "code",
   "execution_count": 84,
   "metadata": {
    "scrolled": false
   },
   "outputs": [
    {
     "data": {
      "text/html": [
       "<div>\n",
       "<style scoped>\n",
       "    .dataframe tbody tr th:only-of-type {\n",
       "        vertical-align: middle;\n",
       "    }\n",
       "\n",
       "    .dataframe tbody tr th {\n",
       "        vertical-align: top;\n",
       "    }\n",
       "\n",
       "    .dataframe thead th {\n",
       "        text-align: right;\n",
       "    }\n",
       "</style>\n",
       "<table border=\"1\" class=\"dataframe\">\n",
       "  <thead>\n",
       "    <tr style=\"text-align: right;\">\n",
       "      <th></th>\n",
       "      <th>TSH</th>\n",
       "      <th>T3</th>\n",
       "      <th>T4U</th>\n",
       "    </tr>\n",
       "  </thead>\n",
       "  <tbody>\n",
       "    <tr>\n",
       "      <th>count</th>\n",
       "      <td>2005.000000</td>\n",
       "      <td>2110.000000</td>\n",
       "      <td>2110.000000</td>\n",
       "    </tr>\n",
       "    <tr>\n",
       "      <th>mean</th>\n",
       "      <td>4.501820</td>\n",
       "      <td>2.034227</td>\n",
       "      <td>0.996110</td>\n",
       "    </tr>\n",
       "    <tr>\n",
       "      <th>std</th>\n",
       "      <td>20.328561</td>\n",
       "      <td>0.771171</td>\n",
       "      <td>0.187295</td>\n",
       "    </tr>\n",
       "    <tr>\n",
       "      <th>min</th>\n",
       "      <td>0.005000</td>\n",
       "      <td>0.050000</td>\n",
       "      <td>0.310000</td>\n",
       "    </tr>\n",
       "    <tr>\n",
       "      <th>25%</th>\n",
       "      <td>0.440000</td>\n",
       "      <td>1.600000</td>\n",
       "      <td>0.880000</td>\n",
       "    </tr>\n",
       "    <tr>\n",
       "      <th>50%</th>\n",
       "      <td>1.400000</td>\n",
       "      <td>2.000000</td>\n",
       "      <td>0.980000</td>\n",
       "    </tr>\n",
       "    <tr>\n",
       "      <th>75%</th>\n",
       "      <td>2.600000</td>\n",
       "      <td>2.355970</td>\n",
       "      <td>1.076794</td>\n",
       "    </tr>\n",
       "    <tr>\n",
       "      <th>max</th>\n",
       "      <td>478.000000</td>\n",
       "      <td>10.600000</td>\n",
       "      <td>2.120000</td>\n",
       "    </tr>\n",
       "  </tbody>\n",
       "</table>\n",
       "</div>"
      ],
      "text/plain": [
       "               TSH           T3          T4U\n",
       "count  2005.000000  2110.000000  2110.000000\n",
       "mean      4.501820     2.034227     0.996110\n",
       "std      20.328561     0.771171     0.187295\n",
       "min       0.005000     0.050000     0.310000\n",
       "25%       0.440000     1.600000     0.880000\n",
       "50%       1.400000     2.000000     0.980000\n",
       "75%       2.600000     2.355970     1.076794\n",
       "max     478.000000    10.600000     2.120000"
      ]
     },
     "execution_count": 84,
     "metadata": {},
     "output_type": "execute_result"
    }
   ],
   "source": [
    "ex.describe()"
   ]
  },
  {
   "cell_type": "code",
   "execution_count": 85,
   "metadata": {},
   "outputs": [
    {
     "data": {
      "text/plain": [
       "<matplotlib.axes._subplots.AxesSubplot at 0x1f3845bd080>"
      ]
     },
     "execution_count": 85,
     "metadata": {},
     "output_type": "execute_result"
    },
    {
     "data": {
      "image/png": "[encoded data removed]",
      "text/plain": [
       "<Figure size 432x288 with 1 Axes>"
      ]
     },
     "metadata": {
      "needs_background": "light"
     },
     "output_type": "display_data"
    }
   ],
   "source": [
    "plt.title(\"TSH distribution\")\n",
    "sns.distplot(ex.TSH,hist=False,rug=True)"
   ]
  },
  {
   "cell_type": "code",
   "execution_count": 86,
   "metadata": {},
   "outputs": [
    {
     "data": {
      "text/plain": [
       "<matplotlib.axes._subplots.AxesSubplot at 0x1f3845ad908>"
      ]
     },
     "execution_count": 86,
     "metadata": {},
     "output_type": "execute_result"
    },
    {
     "data": {
      "image/png": "[encoded data removed]",
      "text/plain": [
       "<Figure size 432x288 with 1 Axes>"
      ]
     },
     "metadata": {
      "needs_background": "light"
     },
     "output_type": "display_data"
    }
   ],
   "source": [
    "plt.title(\"T4U distribution\")\n",
    "sns.distplot(ex.T4U,hist=False,rug=True)"
   ]
  },
  {
   "cell_type": "code",
   "execution_count": 87,
   "metadata": {
    "scrolled": true
   },
   "outputs": [
    {
     "data": {
      "text/plain": [
       "<matplotlib.axes._subplots.AxesSubplot at 0x1f3848a77f0>"
      ]
     },
     "execution_count": 87,
     "metadata": {},
     "output_type": "execute_result"
    },
    {
     "data": {
      "image/png": "[encoded data removed]",
      "text/plain": [
       "<Figure size 432x288 with 1 Axes>"
      ]
     },
     "metadata": {
      "needs_background": "light"
     },
     "output_type": "display_data"
    }
   ],
   "source": [
    "plt.title(\"T3U distribution\")\n",
    "sns.distplot(ex.T3,hist=False,rug=True)"
   ]
  },
  {
   "cell_type": "code",
   "execution_count": 88,
   "metadata": {},
   "outputs": [
    {
     "name": "stdout",
     "output_type": "stream",
     "text": [
      "MEAN  Value is: 4.501820448877802\n",
      "Filling missing values by MEAN done!\n"
     ]
    }
   ],
   "source": [
    "fill_numeric_miss_values(data=ex,column=\"TSH\", method= \"mean\")"
   ]
  },
  {
   "cell_type": "code",
   "execution_count": 89,
   "metadata": {},
   "outputs": [
    {
     "name": "stdout",
     "output_type": "stream",
     "text": [
      "MEAN  Value is: 0.9961103800468323\n",
      "Filling missing values by MEAN done!\n"
     ]
    }
   ],
   "source": [
    "fill_numeric_miss_values(data=ex,column=\"T4U\", method= \"mean\")"
   ]
  },
  {
   "cell_type": "code",
   "execution_count": 90,
   "metadata": {},
   "outputs": [
    {
     "name": "stdout",
     "output_type": "stream",
     "text": [
      "MEAN  Value is: 2.034226507409644\n",
      "Filling missing values by MEAN done!\n"
     ]
    }
   ],
   "source": [
    "fill_numeric_miss_values(data=ex,column=\"T3\", method= \"mean\")"
   ]
  },
  {
   "cell_type": "code",
   "execution_count": 91,
   "metadata": {},
   "outputs": [],
   "source": [
    "ex.TSH = normalize_quantiles(column=ex.TSH.copy())"
   ]
  },
  {
   "cell_type": "code",
   "execution_count": 92,
   "metadata": {},
   "outputs": [],
   "source": [
    "ex.T4U = normalize_quantiles(column=ex.T4U.copy())"
   ]
  },
  {
   "cell_type": "code",
   "execution_count": 93,
   "metadata": {},
   "outputs": [],
   "source": [
    "ex.T3 = normalize_quantiles(column=ex.T3.copy())"
   ]
  },
  {
   "cell_type": "markdown",
   "metadata": {},
   "source": [
    "### After normalization"
   ]
  },
  {
   "cell_type": "code",
   "execution_count": 94,
   "metadata": {
    "scrolled": true
   },
   "outputs": [
    {
     "data": {
      "text/html": [
       "<div>\n",
       "<style scoped>\n",
       "    .dataframe tbody tr th:only-of-type {\n",
       "        vertical-align: middle;\n",
       "    }\n",
       "\n",
       "    .dataframe tbody tr th {\n",
       "        vertical-align: top;\n",
       "    }\n",
       "\n",
       "    .dataframe thead th {\n",
       "        text-align: right;\n",
       "    }\n",
       "</style>\n",
       "<table border=\"1\" class=\"dataframe\">\n",
       "  <thead>\n",
       "    <tr style=\"text-align: right;\">\n",
       "      <th></th>\n",
       "      <th>TSH</th>\n",
       "      <th>T3</th>\n",
       "      <th>T4U</th>\n",
       "    </tr>\n",
       "  </thead>\n",
       "  <tbody>\n",
       "    <tr>\n",
       "      <th>count</th>\n",
       "      <td>2237.000000</td>\n",
       "      <td>2237.000000</td>\n",
       "      <td>2237.000000</td>\n",
       "    </tr>\n",
       "    <tr>\n",
       "      <th>mean</th>\n",
       "      <td>2.139592</td>\n",
       "      <td>2.004334</td>\n",
       "      <td>0.984785</td>\n",
       "    </tr>\n",
       "    <tr>\n",
       "      <th>std</th>\n",
       "      <td>1.963390</td>\n",
       "      <td>0.429450</td>\n",
       "      <td>0.111676</td>\n",
       "    </tr>\n",
       "    <tr>\n",
       "      <th>min</th>\n",
       "      <td>0.030000</td>\n",
       "      <td>1.000000</td>\n",
       "      <td>0.750000</td>\n",
       "    </tr>\n",
       "    <tr>\n",
       "      <th>25%</th>\n",
       "      <td>0.770000</td>\n",
       "      <td>1.700000</td>\n",
       "      <td>0.910000</td>\n",
       "    </tr>\n",
       "    <tr>\n",
       "      <th>50%</th>\n",
       "      <td>1.600000</td>\n",
       "      <td>2.000000</td>\n",
       "      <td>0.990000</td>\n",
       "    </tr>\n",
       "    <tr>\n",
       "      <th>75%</th>\n",
       "      <td>2.900000</td>\n",
       "      <td>2.225830</td>\n",
       "      <td>1.040000</td>\n",
       "    </tr>\n",
       "    <tr>\n",
       "      <th>max</th>\n",
       "      <td>11.000000</td>\n",
       "      <td>3.200000</td>\n",
       "      <td>1.310000</td>\n",
       "    </tr>\n",
       "  </tbody>\n",
       "</table>\n",
       "</div>"
      ],
      "text/plain": [
       "               TSH           T3          T4U\n",
       "count  2237.000000  2237.000000  2237.000000\n",
       "mean      2.139592     2.004334     0.984785\n",
       "std       1.963390     0.429450     0.111676\n",
       "min       0.030000     1.000000     0.750000\n",
       "25%       0.770000     1.700000     0.910000\n",
       "50%       1.600000     2.000000     0.990000\n",
       "75%       2.900000     2.225830     1.040000\n",
       "max      11.000000     3.200000     1.310000"
      ]
     },
     "execution_count": 94,
     "metadata": {},
     "output_type": "execute_result"
    }
   ],
   "source": [
    "ex.describe()"
   ]
  },
  {
   "cell_type": "code",
   "execution_count": 95,
   "metadata": {},
   "outputs": [
    {
     "data": {
      "text/plain": [
       "<matplotlib.axes._subplots.AxesSubplot at 0x1f384a29f28>"
      ]
     },
     "execution_count": 95,
     "metadata": {},
     "output_type": "execute_result"
    },
    {
     "data": {
      "image/png": "[encoded data removed]",
      "text/plain": [
       "<Figure size 432x288 with 1 Axes>"
      ]
     },
     "metadata": {
      "needs_background": "light"
     },
     "output_type": "display_data"
    }
   ],
   "source": [
    "plt.title(\"TSH after normalization\")\n",
    "sns.distplot(ex.TSH,hist=False,rug=True)"
   ]
  },
  {
   "cell_type": "code",
   "execution_count": 96,
   "metadata": {},
   "outputs": [
    {
     "data": {
      "text/plain": [
       "<matplotlib.axes._subplots.AxesSubplot at 0x1f384a16d30>"
      ]
     },
     "execution_count": 96,
     "metadata": {},
     "output_type": "execute_result"
    },
    {
     "data": {
      "image/png": "[encoded data removed]",
      "text/plain": [
       "<Figure size 432x288 with 1 Axes>"
      ]
     },
     "metadata": {
      "needs_background": "light"
     },
     "output_type": "display_data"
    }
   ],
   "source": [
    "plt.title(\"T4U after normalization\")\n",
    "sns.distplot(ex.T4U,hist=False,rug=True)"
   ]
  },
  {
   "cell_type": "code",
   "execution_count": 97,
   "metadata": {},
   "outputs": [
    {
     "data": {
      "text/plain": [
       "<matplotlib.axes._subplots.AxesSubplot at 0x1f3843815f8>"
      ]
     },
     "execution_count": 97,
     "metadata": {},
     "output_type": "execute_result"
    },
    {
     "data": {
      "image/png": "[encoded data removed]",
      "text/plain": [
       "<Figure size 432x288 with 1 Axes>"
      ]
     },
     "metadata": {
      "needs_background": "light"
     },
     "output_type": "display_data"
    }
   ],
   "source": [
    "plt.title(\"T3 after normalization\")\n",
    "sns.distplot(ex.T3,hist=False,rug=True)"
   ]
  },
  {
   "cell_type": "markdown",
   "metadata": {},
   "source": [
    "## The First hypothesis"
   ]
  },
  {
   "cell_type": "markdown",
   "metadata": {},
   "source": [
    "The first hypothesis:    \n",
    ">**Is there any correlation between TSH & T4U hormone levels?**  \n",
    "\n",
    "Let's look at it using a **T test** on preprocessed data"
   ]
  },
  {
   "cell_type": "code",
   "execution_count": 98,
   "metadata": {},
   "outputs": [
    {
     "data": {
      "text/plain": [
       "Text(0.5,1,'TSH & T4U dependendies')"
      ]
     },
     "execution_count": 98,
     "metadata": {},
     "output_type": "execute_result"
    },
    {
     "data": {
      "image/png": "[encoded data removed]",
      "text/plain": [
       "<Figure size 1175.5x1008 with 6 Axes>"
      ]
     },
     "metadata": {
      "needs_background": "light"
     },
     "output_type": "display_data"
    }
   ],
   "source": [
    "data = ex[[\"TSH\",\"T4U\", \"class\"]]\n",
    "sns.pairplot(data,hue=\"class\",height=7)\n",
    "plt.title(\"TSH & T4U dependendies\")"
   ]
  },
  {
   "cell_type": "markdown",
   "metadata": {},
   "source": [
    "As we can see there are some **dependencies beetwen TSH and T4U**, mainly in increased and decreased binding protein. Pairplot clearly shows high levels of TSH and low levels of T4U which is called **hypothyroidis** and vice versa - **hyperthyroidis**."
   ]
  },
  {
   "cell_type": "markdown",
   "metadata": {},
   "source": [
    "As we suppose there is a correlation between hormones so we have to choose **paired T-test**. But first we need to check distribution of each levels."
   ]
  },
  {
   "cell_type": "markdown",
   "metadata": {},
   "source": [
    "***The hypothesis level of confidence is p = 0.05***"
   ]
  },
  {
   "cell_type": "code",
   "execution_count": 99,
   "metadata": {},
   "outputs": [
    {
     "data": {
      "text/plain": [
       "Text(0.5,1,'TSH QQ-plot')"
      ]
     },
     "execution_count": 99,
     "metadata": {},
     "output_type": "execute_result"
    },
    {
     "data": {
      "image/png": "[encoded data removed]",
      "text/plain": [
       "<Figure size 432x288 with 1 Axes>"
      ]
     },
     "metadata": {
      "needs_background": "light"
     },
     "output_type": "display_data"
    }
   ],
   "source": [
    "_= sm.ProbPlot(ex.TSH,fit=True).qqplot(line='45')\n",
    "plt.title(\"TSH QQ-plot\")"
   ]
  },
  {
   "cell_type": "code",
   "execution_count": 100,
   "metadata": {},
   "outputs": [
    {
     "data": {
      "text/plain": [
       "Text(0.5,1,'T4U QQ-plot')"
      ]
     },
     "execution_count": 100,
     "metadata": {},
     "output_type": "execute_result"
    },
    {
     "data": {
      "image/png": "[encoded data removed]",
      "text/plain": [
       "<Figure size 432x288 with 1 Axes>"
      ]
     },
     "metadata": {
      "needs_background": "light"
     },
     "output_type": "display_data"
    }
   ],
   "source": [
    "_ = sm.ProbPlot(ex.T4U, fit=True).qqplot(line='45')\n",
    "plt.title(\"T4U QQ-plot\")"
   ]
  },
  {
   "cell_type": "code",
   "execution_count": 101,
   "metadata": {},
   "outputs": [
    {
     "data": {
      "text/plain": [
       "Ttest_relResult(statistic=27.862597649832473, pvalue=6.582074105486675e-147)"
      ]
     },
     "execution_count": 101,
     "metadata": {},
     "output_type": "execute_result"
    }
   ],
   "source": [
    "#P value is very very low\n",
    "stats.ttest_rel(a=ex.TSH,b=ex.T4U)"
   ]
  },
  {
   "cell_type": "markdown",
   "metadata": {},
   "source": [
    "### The first hypothesis conclusion"
   ]
  },
  {
   "cell_type": "markdown",
   "metadata": {},
   "source": [
    "So our hypothesis -> *the correlation between TSH & T4U* is **statistically significant** as result of p-value that is far less than 0.05  \n",
    "It **holds true** same as in our **preliminary analysis**."
   ]
  },
  {
   "cell_type": "markdown",
   "metadata": {},
   "source": [
    "### Addition"
   ]
  },
  {
   "cell_type": "markdown",
   "metadata": {},
   "source": [
    "Now we have proved **t-test** on our first hypothesis which is valid as it was in preliminary analysis, but the **point** is that filling missing values and normalization of outliers **may skew results**. It is obvious that current **p value is 1... ^ -146**, infinitesimal relative to former p-value which was **9.590380479920326 ^-53**. This is due to losing information that contains usually outliers. Despite the fact the hypothesis holds true, it turns out that using preprocessing techniques on our data result in more general and less various data we have.  \n",
    "It is suitable when the outliers occurs almost never but inadmissible if there is some probability and it can lead to underfitting - failure to **learn relationships** in the training data."
   ]
  },
  {
   "cell_type": "markdown",
   "metadata": {},
   "source": [
    "# Conclusion"
   ]
  },
  {
   "cell_type": "markdown",
   "metadata": {},
   "source": [
    "Speaking about conclusion to all our work until now, we may define a couple of significant points:\n",
    "> **I.** We developed a couple of scripts, which are more or less universal to normalize raw data and to get rid of outliers in it.  \n",
    "> **II.** We merged personal and medical datasets and got rid of duplicate values in the process, at the same time keeping the most of useful information in the remaining unduplicated record.  \n",
    "> **III.** We cleansed and opened the JSON-formatted column to add all packed columns into the dataset, thus creating more possibilities for gathering statistical data.  \n",
    "> **IV.** Also, some columns, like **education-num** and **pregnant**, required more specific and complex approach than our universal scripts, so we used more custom procedure to normalize them.  \n",
    "> **V.** We created a procedure to predict missing hormone values, using linear regression for each possible pair of hormones (TT4, T4U, T3), except TSH (because of its relatively low positive/negative correlation with other hormones).  \n",
    "> **VI.** And finally, we tested this normalized dataset using statistical approach as in the first stage of our project, in order to control whether or not our suggestions on normalizing are correct.  \n"
   ]
  }
 ],
 "metadata": {
  "kernelspec": {
   "display_name": "Python 3",
   "language": "python",
   "name": "python3"
  },
  "language_info": {
   "codemirror_mode": {
    "name": "ipython",
    "version": 3
   },
   "file_extension": ".py",
   "mimetype": "text/x-python",
   "name": "python",
   "nbconvert_exporter": "python",
   "pygments_lexer": "ipython3",
   "version": "3.6.6"
  }
 },
 "nbformat": 4,
 "nbformat_minor": 2
}
