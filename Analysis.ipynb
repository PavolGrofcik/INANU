{
 "cells": [
  {
   "cell_type": "markdown",
   "metadata": {},
   "source": [
    "# Inteligentná analýza údajov"
   ]
  },
  {
   "cell_type": "markdown",
   "metadata": {},
   "source": [
    "## Personal_Train.csv"
   ]
  },
  {
   "cell_type": "code",
   "execution_count": 1,
   "metadata": {},
   "outputs": [],
   "source": [
    "#importovanie knižníc\n",
    "import datetime as dt\n",
    "import pandas as pd\n",
    "import numpy as np\n",
    "import matplotlib.pyplot as plt\n",
    "import seaborn as sns\n",
    "\n",
    "%matplotlib inline"
   ]
  },
  {
   "cell_type": "markdown",
   "metadata": {},
   "source": [
    "**Načítanie train datasetov**"
   ]
  },
  {
   "cell_type": "code",
   "execution_count": 2,
   "metadata": {},
   "outputs": [
    {
     "name": "stdout",
     "output_type": "stream",
     "text": [
      "/home/pavol/Desktop/INANU\n",
      "other_train.csv  other_valid.csv  personal_train.csv  personal_valid.csv\n"
     ]
    }
   ],
   "source": [
    "!pwd\n",
    "!ls ./Datasets/\n",
    "\n",
    "personal = \"./Datasets/personal_train.csv\"\n",
    "other = \"./Datasets/other_train.csv\""
   ]
  },
  {
   "cell_type": "markdown",
   "metadata": {},
   "source": [
    "## Načítanie do Pandas Dataframe\n",
    "\n",
    "Použijem funkciu pd.read_csv, pretože datasety sú uložené vo formáte *.csv"
   ]
  },
  {
   "cell_type": "code",
   "execution_count": 3,
   "metadata": {},
   "outputs": [
    {
     "data": {
      "text/html": [
       "<div>\n",
       "<style scoped>\n",
       "    .dataframe tbody tr th:only-of-type {\n",
       "        vertical-align: middle;\n",
       "    }\n",
       "\n",
       "    .dataframe tbody tr th {\n",
       "        vertical-align: top;\n",
       "    }\n",
       "\n",
       "    .dataframe thead th {\n",
       "        text-align: right;\n",
       "    }\n",
       "</style>\n",
       "<table border=\"1\" class=\"dataframe\">\n",
       "  <thead>\n",
       "    <tr style=\"text-align: right;\">\n",
       "      <th></th>\n",
       "      <th>Name</th>\n",
       "      <th>Address</th>\n",
       "      <th>Age</th>\n",
       "      <th>Sex</th>\n",
       "      <th>Date of Birth</th>\n",
       "    </tr>\n",
       "  </thead>\n",
       "  <tbody>\n",
       "    <tr>\n",
       "      <th>0.0</th>\n",
       "      <td>Terry Terry</td>\n",
       "      <td>11818 Lori Crossing Apt. 802\\nPughstad, DC 78165</td>\n",
       "      <td>68.0</td>\n",
       "      <td>M</td>\n",
       "      <td>1949-11-16</td>\n",
       "    </tr>\n",
       "    <tr>\n",
       "      <th>1.0</th>\n",
       "      <td>Edith Boudreaux</td>\n",
       "      <td>PSC 4657, Box 5446\\nAPO AP 58412</td>\n",
       "      <td>75.0</td>\n",
       "      <td>F</td>\n",
       "      <td>1943-08-10</td>\n",
       "    </tr>\n",
       "    <tr>\n",
       "      <th>2.0</th>\n",
       "      <td>Stephen Lalk</td>\n",
       "      <td>Unit 9759 Box 9470\\nDPO AP 45549</td>\n",
       "      <td>67.0</td>\n",
       "      <td>M</td>\n",
       "      <td>1951-05-28</td>\n",
       "    </tr>\n",
       "    <tr>\n",
       "      <th>3.0</th>\n",
       "      <td>Abraham Bruce</td>\n",
       "      <td>137 Lewis Flat Suite 762\\nWest Elizabeth, AL 3...</td>\n",
       "      <td>34.0</td>\n",
       "      <td>?</td>\n",
       "      <td>1984-02-13</td>\n",
       "    </tr>\n",
       "    <tr>\n",
       "      <th>4.0</th>\n",
       "      <td>Janet Washington</td>\n",
       "      <td>995 Frank Stravenue\\nSouth Matthewport, TX 81402</td>\n",
       "      <td>65.0</td>\n",
       "      <td>F</td>\n",
       "      <td>1953/06/24</td>\n",
       "    </tr>\n",
       "    <tr>\n",
       "      <th>5.0</th>\n",
       "      <td>Margaret Chabot</td>\n",
       "      <td>1781 Meredith Skyway Suite 328\\nCordovaburgh, ...</td>\n",
       "      <td>64.0</td>\n",
       "      <td>F</td>\n",
       "      <td>1954-10-17</td>\n",
       "    </tr>\n",
       "    <tr>\n",
       "      <th>6.0</th>\n",
       "      <td>Colleen Satterwhite</td>\n",
       "      <td>2415 Elizabeth Knoll Suite 030\\nCordovafort, C...</td>\n",
       "      <td>20.0</td>\n",
       "      <td>F</td>\n",
       "      <td>1998-01-03</td>\n",
       "    </tr>\n",
       "    <tr>\n",
       "      <th>7.0</th>\n",
       "      <td>Judy Smith</td>\n",
       "      <td>49824 Kim View\\nWest Ericborough, VT 42457</td>\n",
       "      <td>39.0</td>\n",
       "      <td>F</td>\n",
       "      <td>1979-03-31</td>\n",
       "    </tr>\n",
       "    <tr>\n",
       "      <th>8.0</th>\n",
       "      <td>Anna Swartz</td>\n",
       "      <td>53231 Matthew Spur Apt. 079\\nNorth Brian, MA 3...</td>\n",
       "      <td>84.0</td>\n",
       "      <td>F</td>\n",
       "      <td>1934-01-20</td>\n",
       "    </tr>\n",
       "    <tr>\n",
       "      <th>9.0</th>\n",
       "      <td>James Wilson</td>\n",
       "      <td>USNV Gallegos\\nFPO AA 99743</td>\n",
       "      <td>55.0</td>\n",
       "      <td>M</td>\n",
       "      <td>1963-09-23 00 00 00</td>\n",
       "    </tr>\n",
       "  </tbody>\n",
       "</table>\n",
       "</div>"
      ],
      "text/plain": [
       "                    Name                                            Address  \\\n",
       "0.0          Terry Terry   11818 Lori Crossing Apt. 802\\nPughstad, DC 78165   \n",
       "1.0      Edith Boudreaux                   PSC 4657, Box 5446\\nAPO AP 58412   \n",
       "2.0         Stephen Lalk                   Unit 9759 Box 9470\\nDPO AP 45549   \n",
       "3.0        Abraham Bruce  137 Lewis Flat Suite 762\\nWest Elizabeth, AL 3...   \n",
       "4.0     Janet Washington   995 Frank Stravenue\\nSouth Matthewport, TX 81402   \n",
       "5.0      Margaret Chabot  1781 Meredith Skyway Suite 328\\nCordovaburgh, ...   \n",
       "6.0  Colleen Satterwhite  2415 Elizabeth Knoll Suite 030\\nCordovafort, C...   \n",
       "7.0           Judy Smith         49824 Kim View\\nWest Ericborough, VT 42457   \n",
       "8.0          Anna Swartz  53231 Matthew Spur Apt. 079\\nNorth Brian, MA 3...   \n",
       "9.0         James Wilson                        USNV Gallegos\\nFPO AA 99743   \n",
       "\n",
       "      Age Sex        Date of Birth  \n",
       "0.0  68.0   M           1949-11-16  \n",
       "1.0  75.0   F           1943-08-10  \n",
       "2.0  67.0   M           1951-05-28  \n",
       "3.0  34.0   ?           1984-02-13  \n",
       "4.0  65.0   F           1953/06/24  \n",
       "5.0  64.0   F           1954-10-17  \n",
       "6.0  20.0   F           1998-01-03  \n",
       "7.0  39.0   F           1979-03-31  \n",
       "8.0  84.0   F           1934-01-20  \n",
       "9.0  55.0   M  1963-09-23 00 00 00  "
      ]
     },
     "execution_count": 3,
     "metadata": {},
     "output_type": "execute_result"
    }
   ],
   "source": [
    "df_personal = pd.read_csv(filepath_or_buffer=personal, names=[\"Name\", \"Address\", \"Age\", \n",
    "                                                             \"Sex\", \"Date of Birth\"],\n",
    "                         delimiter = \",\")\n",
    "df_personal = df_personal.drop(df_personal.index[0])\n",
    "df_personal.head(10)"
   ]
  },
  {
   "cell_type": "code",
   "execution_count": 4,
   "metadata": {},
   "outputs": [
    {
     "data": {
      "text/plain": [
       "Index(['Name', 'Address', 'Age', 'Sex', 'Date of Birth'], dtype='object')"
      ]
     },
     "execution_count": 4,
     "metadata": {},
     "output_type": "execute_result"
    }
   ],
   "source": [
    "df_personal.columns"
   ]
  },
  {
   "cell_type": "code",
   "execution_count": 5,
   "metadata": {},
   "outputs": [
    {
     "data": {
      "text/plain": [
       "(2237, 5)"
      ]
     },
     "execution_count": 5,
     "metadata": {},
     "output_type": "execute_result"
    }
   ],
   "source": [
    "df_personal.shape"
   ]
  },
  {
   "cell_type": "markdown",
   "metadata": {},
   "source": [
    "## Analýza po stĺpcoch"
   ]
  },
  {
   "cell_type": "markdown",
   "metadata": {},
   "source": [
    "Stĺpec **Name**"
   ]
  },
  {
   "cell_type": "code",
   "execution_count": null,
   "metadata": {},
   "outputs": [],
   "source": [
    "df_personal.Name.value_counts()"
   ]
  },
  {
   "cell_type": "code",
   "execution_count": 6,
   "metadata": {},
   "outputs": [
    {
     "data": {
      "text/plain": [
       "False"
      ]
     },
     "execution_count": 6,
     "metadata": {},
     "output_type": "execute_result"
    }
   ],
   "source": [
    "df_personal.Name.isnull().any()"
   ]
  },
  {
   "cell_type": "code",
   "execution_count": null,
   "metadata": {},
   "outputs": [],
   "source": [
    "df_personal.Address.value_counts()"
   ]
  },
  {
   "cell_type": "code",
   "execution_count": 7,
   "metadata": {},
   "outputs": [
    {
     "data": {
      "text/plain": [
       "False"
      ]
     },
     "execution_count": 7,
     "metadata": {},
     "output_type": "execute_result"
    }
   ],
   "source": [
    "df_personal.Address.isnull().any()"
   ]
  },
  {
   "cell_type": "code",
   "execution_count": null,
   "metadata": {},
   "outputs": [],
   "source": []
  },
  {
   "cell_type": "code",
   "execution_count": null,
   "metadata": {},
   "outputs": [],
   "source": [
    "#Neplatné roky - napr 455 year old???\n",
    "age = df_personal[\"Age\"].value_counts()\n",
    "age.sort_values(ascending=True)"
   ]
  },
  {
   "cell_type": "code",
   "execution_count": 9,
   "metadata": {
    "scrolled": true
   },
   "outputs": [
    {
     "data": {
      "text/plain": [
       "True"
      ]
     },
     "execution_count": 9,
     "metadata": {},
     "output_type": "execute_result"
    }
   ],
   "source": [
    "#Nulové hodnoty pre Age!\n",
    "df_personal[\"Age\"].isnull().any()"
   ]
  },
  {
   "cell_type": "code",
   "execution_count": null,
   "metadata": {},
   "outputs": [],
   "source": []
  },
  {
   "cell_type": "code",
   "execution_count": 6,
   "metadata": {},
   "outputs": [
    {
     "data": {
      "text/plain": [
       "F    1448\n",
       "M     701\n",
       "?      88\n",
       "Name: Sex, dtype: int64"
      ]
     },
     "execution_count": 6,
     "metadata": {},
     "output_type": "execute_result"
    }
   ],
   "source": [
    "#Sex - neplatné hodnoty ? - 88 times\n",
    "df_personal[\"Sex\"].value_counts()"
   ]
  },
  {
   "cell_type": "code",
   "execution_count": 29,
   "metadata": {},
   "outputs": [
    {
     "data": {
      "text/plain": [
       "0.0              1949-11-16\n",
       "1.0              1943-08-10\n",
       "2.0              1951-05-28\n",
       "3.0              1984-02-13\n",
       "4.0              1953/06/24\n",
       "5.0              1954-10-17\n",
       "6.0              1998-01-03\n",
       "7.0              1979-03-31\n",
       "8.0              1934-01-20\n",
       "9.0     1963-09-23 00 00 00\n",
       "10.0    1970-05-21 00 00 00\n",
       "Name: Date of Birth, dtype: object"
      ]
     },
     "execution_count": 29,
     "metadata": {},
     "output_type": "execute_result"
    }
   ],
   "source": [
    "df_personal[\"Date of Birth\"][:10]"
   ]
  },
  {
   "cell_type": "code",
   "execution_count": 7,
   "metadata": {},
   "outputs": [
    {
     "data": {
      "text/plain": [
       "True"
      ]
     },
     "execution_count": 7,
     "metadata": {},
     "output_type": "execute_result"
    }
   ],
   "source": [
    "#Missing values pre column \"Date of Birth\"\n",
    "from dateutil import parser \n",
    "df_personal[\"Date of Birth\"].isnull().any()"
   ]
  },
  {
   "cell_type": "code",
   "execution_count": 26,
   "metadata": {},
   "outputs": [
    {
     "data": {
      "text/plain": [
       "Name             object\n",
       "Address          object\n",
       "Age              object\n",
       "Sex              object\n",
       "Date of Birth    object\n",
       "dtype: object"
      ]
     },
     "execution_count": 26,
     "metadata": {},
     "output_type": "execute_result"
    }
   ],
   "source": [
    "df_personal[\"Date of Birth\"] = pd.to_datetime(df_personal[\"Date of Birth\"], errors=\"ignore\")\n",
    "df_personal.dtypes"
   ]
  },
  {
   "cell_type": "code",
   "execution_count": 8,
   "metadata": {},
   "outputs": [
    {
     "data": {
      "text/plain": [
       "1945-09-13             4\n",
       "1948-04-26             3\n",
       "1990-06-27             2\n",
       "1977-04-29             2\n",
       "1959-12-05             2\n",
       "1945-09-26             2\n",
       "1941-09-19             2\n",
       "1959-11-12             2\n",
       "1982-11-07             2\n",
       "1951-06-02             2\n",
       "1945-01-17             2\n",
       "1948-02-03             2\n",
       "1961-08-19             2\n",
       "1964-03-08             2\n",
       "1951-01-17             2\n",
       "1962-08-09             2\n",
       "55-07-29               2\n",
       "1975-03-07             2\n",
       "1969-05-10             2\n",
       "1948-05-17             2\n",
       "1963-04-17             2\n",
       "1959-08-27 00 00 00    2\n",
       "1945-11-03             2\n",
       "1947-02-02             2\n",
       "1998-12-24             2\n",
       "1964-01-15             2\n",
       "1959-07-07             2\n",
       "1950-03-14             2\n",
       "1963-04-07             2\n",
       "1954-09-17             2\n",
       "                      ..\n",
       "1980-11-18             1\n",
       "1968-03-20             1\n",
       "1956-10-02             1\n",
       "2008-02-28             1\n",
       "1992-11-16             1\n",
       "1942-10-18             1\n",
       "1973-01-16             1\n",
       "1972-06-27             1\n",
       "1969-05-26             1\n",
       "1973-01-31             1\n",
       "1924-10-10 00:00:00    1\n",
       "1986-01-22             1\n",
       "1953-03-27             1\n",
       "1995-05-20 00 00 00    1\n",
       "1970-06-29             1\n",
       "1958-11-01             1\n",
       "1959-03-22             1\n",
       "1999-08-12 00:00:00    1\n",
       "27/02/1975             1\n",
       "07/08/1978             1\n",
       "1954-06-15             1\n",
       "1950/11/21             1\n",
       "1945-04-25             1\n",
       "1934-09-16             1\n",
       "78-07-31               1\n",
       "1955-06-28             1\n",
       "1981-07-23             1\n",
       "1981-01-21             1\n",
       "1973-01-15             1\n",
       "1944-04-09             1\n",
       "Name: Date of Birth, Length: 2191, dtype: int64"
      ]
     },
     "execution_count": 8,
     "metadata": {},
     "output_type": "execute_result"
    }
   ],
   "source": [
    "#Zlý formát dátumov!!!!!\n",
    "df_personal[\"Date of Birth\"].value_counts()"
   ]
  }
 ],
 "metadata": {
  "kernelspec": {
   "display_name": "Python 3",
   "language": "python",
   "name": "python3"
  },
  "language_info": {
   "codemirror_mode": {
    "name": "ipython",
    "version": 3
   },
   "file_extension": ".py",
   "mimetype": "text/x-python",
   "name": "python",
   "nbconvert_exporter": "python",
   "pygments_lexer": "ipython3",
   "version": "3.7.0"
  }
 },
 "nbformat": 4,
 "nbformat_minor": 2
}
