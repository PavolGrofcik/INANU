{
 "cells": [
  {
   "cell_type": "markdown",
   "metadata": {},
   "source": [
    "<p style=\"font-family: Arial; font-size:3.95em;color:green; font-style:bold\"><br>\n",
    "Inteligentná analýza údajov</p><br>"
   ]
  },
  {
   "cell_type": "markdown",
   "metadata": {},
   "source": [
    "## Dataset č. 79\n",
    "Pavol Grofčík  \n",
    "Dennis Sobolev"
   ]
  },
  {
   "cell_type": "code",
   "execution_count": 3,
   "metadata": {},
   "outputs": [],
   "source": [
    "#Import knižníc \n",
    "import numpy as np\n",
    "import pandas as pd\n",
    "import matplotlib.pyplot as plt\n",
    "import seaborn as sns\n",
    "import warnings\n",
    "warnings.simplefilter(action='ignore', category=FutureWarning)\n",
    "\n",
    "%matplotlib inline"
   ]
  },
  {
   "cell_type": "markdown",
   "metadata": {},
   "source": [
    "### Dataset Personal_train.csv\n",
    "\n",
    "Najprv preskúmame dataset s názvom `Personal_train.csv`, pretože obsahuje pomerne menej dát a zobrazíme si zistené hodnoty pomocou deskriptívnej štatistky a pomocné vizualizácie."
   ]
  },
  {
   "cell_type": "code",
   "execution_count": null,
   "metadata": {},
   "outputs": [],
   "source": [
    "path = \"./Datasets/personal_train.csv\""
   ]
  },
  {
   "cell_type": "code",
   "execution_count": null,
   "metadata": {},
   "outputs": [],
   "source": [
    "df_personal = pd.read_csv(path, names = [\"Name\", \"Address\", \"Age\", \"Sex\", \"Date_of_Birth\"])\n",
    "df_personal = df_personal.drop(df_personal.index[0])\n",
    "df_personal.head()"
   ]
  },
  {
   "cell_type": "code",
   "execution_count": null,
   "metadata": {},
   "outputs": [],
   "source": [
    "df_personal.info()"
   ]
  },
  {
   "cell_type": "code",
   "execution_count": null,
   "metadata": {},
   "outputs": [],
   "source": [
    "df_personal.dtypes"
   ]
  },
  {
   "cell_type": "code",
   "execution_count": null,
   "metadata": {},
   "outputs": [],
   "source": [
    "df_personal.shape"
   ]
  },
  {
   "cell_type": "markdown",
   "metadata": {},
   "source": [
    "### Analýza po jednotlivých stĺpcoch"
   ]
  },
  {
   "cell_type": "code",
   "execution_count": null,
   "metadata": {
    "scrolled": true
   },
   "outputs": [],
   "source": [
    "data = pd.to_numeric(df_personal.Age,downcast=\"integer\")\n",
    "data.describe()"
   ]
  },
  {
   "cell_type": "markdown",
   "metadata": {},
   "source": [
    "### Chyba 1-2\n",
    "- **_Age_** vychýlené hodnoty  \n",
    "- **_Date__of__Birth_** - neplatná hodnota"
   ]
  },
  {
   "cell_type": "code",
   "execution_count": null,
   "metadata": {},
   "outputs": [],
   "source": [
    "#Out of range hodnoty\n",
    "df_personal.iloc[1821]"
   ]
  },
  {
   "cell_type": "code",
   "execution_count": null,
   "metadata": {},
   "outputs": [],
   "source": [
    "#Duplicity mien - \"Terry Murphy\"\n",
    "df_personal.Name.astype(dtype=str)\n",
    "df_personal.Name.value_counts().head()"
   ]
  },
  {
   "cell_type": "markdown",
   "metadata": {},
   "source": [
    "### Chyba 3\n",
    "- **_Date_of_Birth_** rôzny formát dátumov"
   ]
  },
  {
   "cell_type": "code",
   "execution_count": null,
   "metadata": {},
   "outputs": [],
   "source": [
    "#Rôzny formát dátumov + datetime\n",
    "df_personal.Date_of_Birth.tail(10)"
   ]
  },
  {
   "cell_type": "code",
   "execution_count": null,
   "metadata": {},
   "outputs": [],
   "source": [
    "# Znečistené dáta\n",
    "df_personal.Sex.value_counts()"
   ]
  },
  {
   "cell_type": "markdown",
   "metadata": {},
   "source": [
    "## Dataset Other_train.csv"
   ]
  },
  {
   "cell_type": "code",
   "execution_count": 4,
   "metadata": {},
   "outputs": [
    {
     "name": "stdout",
     "output_type": "stream",
     "text": [
      "/home/pavol/Desktop/INANU\n",
      "total 6.8M\n",
      "-rw-r--r-- 1 pavol pavol  16K Oct 20 19:37 Analysis.ipynb\n",
      "-rw-r--r-- 1 pavol pavol  46K Oct 20 19:37 Analysis - other.ipynb\n",
      "-rw-r--r-- 1 pavol pavol  55K Oct 21 11:13 Data_Analysis.ipynb\n",
      "drwxr-xr-x 2 pavol pavol 4.0K Oct 21 10:37 Datasets\n",
      "-rw-r--r-- 1 pavol pavol 1.4K Oct 20 19:38 Errors.txt\n",
      "-rw-rw-r-- 1 pavol pavol 6.6M Oct 20 21:30 PythonGraphs.ipynb\n",
      "-rw-r--r-- 1 pavol pavol   62 Oct 16 18:46 README.md\n"
     ]
    }
   ],
   "source": [
    "#Načítanie path k datasetu\n",
    "!pwd\n",
    "!ls -lh\n",
    "path2 = \"./Datasets/other_train.csv\""
   ]
  },
  {
   "cell_type": "code",
   "execution_count": 5,
   "metadata": {},
   "outputs": [
    {
     "data": {
      "text/html": [
       "<div>\n",
       "<style scoped>\n",
       "    .dataframe tbody tr th:only-of-type {\n",
       "        vertical-align: middle;\n",
       "    }\n",
       "\n",
       "    .dataframe tbody tr th {\n",
       "        vertical-align: top;\n",
       "    }\n",
       "\n",
       "    .dataframe thead th {\n",
       "        text-align: right;\n",
       "    }\n",
       "</style>\n",
       "<table border=\"1\" class=\"dataframe\">\n",
       "  <thead>\n",
       "    <tr style=\"text-align: right;\">\n",
       "      <th></th>\n",
       "      <th>Unnamed: 0</th>\n",
       "      <th>name</th>\n",
       "      <th>address</th>\n",
       "      <th>query hyperthyroid</th>\n",
       "      <th>FTI measured</th>\n",
       "      <th>education</th>\n",
       "      <th>lithium</th>\n",
       "      <th>TT4</th>\n",
       "      <th>T4U</th>\n",
       "      <th>capital-loss</th>\n",
       "      <th>...</th>\n",
       "      <th>hypopituitary</th>\n",
       "      <th>medical_info</th>\n",
       "      <th>on antithyroid medication</th>\n",
       "      <th>referral source</th>\n",
       "      <th>education-num</th>\n",
       "      <th>occupation</th>\n",
       "      <th>TBG measured</th>\n",
       "      <th>TBG</th>\n",
       "      <th>race</th>\n",
       "      <th>FTI</th>\n",
       "    </tr>\n",
       "  </thead>\n",
       "  <tbody>\n",
       "    <tr>\n",
       "      <th>0</th>\n",
       "      <td>0</td>\n",
       "      <td>John Kasprzak</td>\n",
       "      <td>3856 Kayla Track\\nLake Sara, HI 31241</td>\n",
       "      <td>f</td>\n",
       "      <td>t</td>\n",
       "      <td>HS-grad</td>\n",
       "      <td>f</td>\n",
       "      <td>118.0</td>\n",
       "      <td>1.42</td>\n",
       "      <td>0.0</td>\n",
       "      <td>...</td>\n",
       "      <td>f</td>\n",
       "      <td>{'query hypothyroid':'f','T4U measured':'t','p...</td>\n",
       "      <td>f</td>\n",
       "      <td>other</td>\n",
       "      <td>9.0</td>\n",
       "      <td>Craft-repair</td>\n",
       "      <td>f</td>\n",
       "      <td>?</td>\n",
       "      <td>White</td>\n",
       "      <td>83</td>\n",
       "    </tr>\n",
       "    <tr>\n",
       "      <th>1</th>\n",
       "      <td>1</td>\n",
       "      <td>Stephen Harvey</td>\n",
       "      <td>34782 Kayla Field\\nSarahmouth, VT 75984</td>\n",
       "      <td>f</td>\n",
       "      <td>t</td>\n",
       "      <td>HS-grad</td>\n",
       "      <td>f</td>\n",
       "      <td>112.0</td>\n",
       "      <td>1.03</td>\n",
       "      <td>0.0</td>\n",
       "      <td>...</td>\n",
       "      <td>f</td>\n",
       "      <td>{'query hypothyroid':'f','T4U measured':'t','p...</td>\n",
       "      <td>FALSE</td>\n",
       "      <td>other</td>\n",
       "      <td>-900.0</td>\n",
       "      <td>Adm-clerical</td>\n",
       "      <td>f</td>\n",
       "      <td>?</td>\n",
       "      <td>White</td>\n",
       "      <td>109</td>\n",
       "    </tr>\n",
       "    <tr>\n",
       "      <th>2</th>\n",
       "      <td>2</td>\n",
       "      <td>Paul Moe</td>\n",
       "      <td>USNV Mooney\\nFPO AE 29375</td>\n",
       "      <td>f</td>\n",
       "      <td>t</td>\n",
       "      <td>Some-college</td>\n",
       "      <td>f</td>\n",
       "      <td>87.0</td>\n",
       "      <td>0.96</td>\n",
       "      <td>0.0</td>\n",
       "      <td>...</td>\n",
       "      <td>f</td>\n",
       "      <td>{'query hypothyroid':'f','T4U measured':'t','p...</td>\n",
       "      <td>f</td>\n",
       "      <td>SVI</td>\n",
       "      <td>10.0</td>\n",
       "      <td>Other-service</td>\n",
       "      <td>f</td>\n",
       "      <td>?</td>\n",
       "      <td>White</td>\n",
       "      <td>90</td>\n",
       "    </tr>\n",
       "    <tr>\n",
       "      <th>3</th>\n",
       "      <td>3</td>\n",
       "      <td>Sarah Johnson</td>\n",
       "      <td>3633 Bryan Isle\\nNorth Jamesshire, HI 69484</td>\n",
       "      <td>f</td>\n",
       "      <td>t</td>\n",
       "      <td>Doctorate</td>\n",
       "      <td>f</td>\n",
       "      <td>102.0</td>\n",
       "      <td>0.85</td>\n",
       "      <td>0.0</td>\n",
       "      <td>...</td>\n",
       "      <td>f</td>\n",
       "      <td>{'query hypothyroid':'t','T4U measured':'t','p...</td>\n",
       "      <td>f</td>\n",
       "      <td>SVI</td>\n",
       "      <td>16.0</td>\n",
       "      <td>Prof-specialty</td>\n",
       "      <td>f</td>\n",
       "      <td>?</td>\n",
       "      <td>White</td>\n",
       "      <td>119</td>\n",
       "    </tr>\n",
       "    <tr>\n",
       "      <th>4</th>\n",
       "      <td>4</td>\n",
       "      <td>Stacy Martinson</td>\n",
       "      <td>65701 Choi Course Apt. 280\\nNorth Williamton, ...</td>\n",
       "      <td>f</td>\n",
       "      <td>t</td>\n",
       "      <td>Some-college</td>\n",
       "      <td>f</td>\n",
       "      <td>129.0</td>\n",
       "      <td>0.97</td>\n",
       "      <td>0.0</td>\n",
       "      <td>...</td>\n",
       "      <td>f</td>\n",
       "      <td>{'query hypothyroid':'f','T4U measured':'t','p...</td>\n",
       "      <td>F</td>\n",
       "      <td>SVI</td>\n",
       "      <td>10.0</td>\n",
       "      <td>Other-service</td>\n",
       "      <td>f</td>\n",
       "      <td>?</td>\n",
       "      <td>White</td>\n",
       "      <td>133</td>\n",
       "    </tr>\n",
       "  </tbody>\n",
       "</table>\n",
       "<p>5 rows × 34 columns</p>\n",
       "</div>"
      ],
      "text/plain": [
       "   Unnamed: 0             name  \\\n",
       "0           0    John Kasprzak   \n",
       "1           1   Stephen Harvey   \n",
       "2           2         Paul Moe   \n",
       "3           3    Sarah Johnson   \n",
       "4           4  Stacy Martinson   \n",
       "\n",
       "                                             address query hyperthyroid  \\\n",
       "0              3856 Kayla Track\\nLake Sara, HI 31241                  f   \n",
       "1            34782 Kayla Field\\nSarahmouth, VT 75984                  f   \n",
       "2                          USNV Mooney\\nFPO AE 29375                  f   \n",
       "3        3633 Bryan Isle\\nNorth Jamesshire, HI 69484                  f   \n",
       "4  65701 Choi Course Apt. 280\\nNorth Williamton, ...                  f   \n",
       "\n",
       "  FTI measured      education lithium    TT4   T4U  capital-loss ...   \\\n",
       "0            t        HS-grad       f  118.0  1.42           0.0 ...    \n",
       "1            t        HS-grad       f  112.0  1.03           0.0 ...    \n",
       "2            t   Some-college       f   87.0  0.96           0.0 ...    \n",
       "3            t      Doctorate       f  102.0  0.85           0.0 ...    \n",
       "4            t   Some-college       f  129.0  0.97           0.0 ...    \n",
       "\n",
       "   hypopituitary                                       medical_info  \\\n",
       "0              f  {'query hypothyroid':'f','T4U measured':'t','p...   \n",
       "1              f  {'query hypothyroid':'f','T4U measured':'t','p...   \n",
       "2              f  {'query hypothyroid':'f','T4U measured':'t','p...   \n",
       "3              f  {'query hypothyroid':'t','T4U measured':'t','p...   \n",
       "4              f  {'query hypothyroid':'f','T4U measured':'t','p...   \n",
       "\n",
       "   on antithyroid medication  referral source  education-num       occupation  \\\n",
       "0                          f            other            9.0     Craft-repair   \n",
       "1                      FALSE            other         -900.0     Adm-clerical   \n",
       "2                          f              SVI           10.0    Other-service   \n",
       "3                          f              SVI           16.0   Prof-specialty   \n",
       "4                          F              SVI           10.0    Other-service   \n",
       "\n",
       "  TBG measured TBG    race  FTI  \n",
       "0            f   ?   White   83  \n",
       "1            f   ?   White  109  \n",
       "2            f   ?   White   90  \n",
       "3            f   ?   White  119  \n",
       "4            f   ?   White  133  \n",
       "\n",
       "[5 rows x 34 columns]"
      ]
     },
     "execution_count": 5,
     "metadata": {},
     "output_type": "execute_result"
    }
   ],
   "source": [
    "pd_other = pd.read_csv(path2)\n",
    "pd_other.head()"
   ]
  },
  {
   "cell_type": "code",
   "execution_count": 6,
   "metadata": {},
   "outputs": [
    {
     "data": {
      "text/plain": [
       "Unnamed: 0                     int64\n",
       "name                          object\n",
       "address                       object\n",
       "query hyperthyroid            object\n",
       "FTI measured                  object\n",
       "education                     object\n",
       "lithium                       object\n",
       "TT4                          float64\n",
       "T4U                          float64\n",
       "capital-loss                 float64\n",
       "capital-gain                 float64\n",
       "tumor                         object\n",
       "TSH                          float64\n",
       "T3                           float64\n",
       "fnlwgt                       float64\n",
       "hours-per-week               float64\n",
       "relationship                  object\n",
       "sick                          object\n",
       "workclass                     object\n",
       "TT4 measured                  object\n",
       "class                         object\n",
       "marital-status                object\n",
       "goitre                        object\n",
       "native-country                object\n",
       "hypopituitary                 object\n",
       "medical_info                  object\n",
       "on antithyroid medication     object\n",
       "referral source               object\n",
       "education-num                float64\n",
       "occupation                    object\n",
       "TBG measured                  object\n",
       "TBG                           object\n",
       "race                          object\n",
       "FTI                           object\n",
       "dtype: object"
      ]
     },
     "execution_count": 6,
     "metadata": {},
     "output_type": "execute_result"
    }
   ],
   "source": [
    "pd_other.dtypes"
   ]
  },
  {
   "cell_type": "code",
   "execution_count": 7,
   "metadata": {},
   "outputs": [
    {
     "data": {
      "text/plain": [
       "Unnamed: 0                     0\n",
       "name                           0\n",
       "address                        0\n",
       "query hyperthyroid            10\n",
       "FTI measured                   9\n",
       "education                      7\n",
       "lithium                       10\n",
       "TT4                          162\n",
       "T4U                          245\n",
       "capital-loss                 238\n",
       "capital-gain                   5\n",
       "tumor                         10\n",
       "TSH                          247\n",
       "T3                           482\n",
       "fnlwgt                         8\n",
       "hours-per-week                 9\n",
       "relationship                   9\n",
       "sick                          10\n",
       "workclass                    147\n",
       "TT4 measured                   9\n",
       "class                          8\n",
       "marital-status                10\n",
       "goitre                         8\n",
       "native-country                 6\n",
       "hypopituitary                  8\n",
       "medical_info                  10\n",
       "on antithyroid medication      9\n",
       "referral source               11\n",
       "education-num                 10\n",
       "occupation                    13\n",
       "TBG measured                   7\n",
       "TBG                           12\n",
       "race                           8\n",
       "FTI                           11\n",
       "dtype: int64"
      ]
     },
     "execution_count": 7,
     "metadata": {},
     "output_type": "execute_result"
    }
   ],
   "source": [
    "#Null hodnoty\n",
    "pd_other.isnull().sum()"
   ]
  },
  {
   "cell_type": "markdown",
   "metadata": {},
   "source": [
    "## Chyba 4\n",
    "- **education-num** záporné hodnoty"
   ]
  },
  {
   "cell_type": "code",
   "execution_count": 8,
   "metadata": {
    "scrolled": true
   },
   "outputs": [
    {
     "data": {
      "text/plain": [
       "count    2277.000000\n",
       "mean        8.742644\n",
       "std       331.789219\n",
       "min     -1600.000000\n",
       "25%         9.000000\n",
       "50%        10.000000\n",
       "75%        12.000000\n",
       "max      1400.000000\n",
       "Name: education-num, dtype: float64"
      ]
     },
     "execution_count": 8,
     "metadata": {},
     "output_type": "execute_result"
    }
   ],
   "source": [
    "pd_other[\"education-num\"].describe()"
   ]
  },
  {
   "cell_type": "code",
   "execution_count": 9,
   "metadata": {},
   "outputs": [
    {
     "data": {
      "text/plain": [
       "<matplotlib.axes._subplots.AxesSubplot at 0x7f8e3181ea90>"
      ]
     },
     "execution_count": 9,
     "metadata": {},
     "output_type": "execute_result"
    },
    {
     "data": {
      "image/png": "[encoded data removed]",
      "text/plain": [
       "<Figure size 432x288 with 1 Axes>"
      ]
     },
     "metadata": {
      "needs_background": "light"
     },
     "output_type": "display_data"
    }
   ],
   "source": [
    "sns.distplot(pd_other[\"education-num\"].describe())"
   ]
  },
  {
   "cell_type": "markdown",
   "metadata": {},
   "source": [
    "Z distribúcie hodnôt môžno vidieť aj záporné hodnoty, ktoré sú neočakávané pri education-num"
   ]
  },
  {
   "cell_type": "markdown",
   "metadata": {},
   "source": [
    "## Chyba 5 \n",
    "- **capital-gain** vysoká varianca hodnôt"
   ]
  },
  {
   "cell_type": "code",
   "execution_count": 10,
   "metadata": {
    "scrolled": true
   },
   "outputs": [
    {
     "data": {
      "text/plain": [
       "<matplotlib.axes._subplots.AxesSubplot at 0x7f8e314f4780>"
      ]
     },
     "execution_count": 10,
     "metadata": {},
     "output_type": "execute_result"
    },
    {
     "data": {
      "image/png": "[encoded data removed]",
      "text/plain": [
       "<Figure size 432x288 with 1 Axes>"
      ]
     },
     "metadata": {
      "needs_background": "light"
     },
     "output_type": "display_data"
    }
   ],
   "source": [
    "sns.distplot(pd_other[\"capital-gain\"].describe())"
   ]
  },
  {
   "cell_type": "markdown",
   "metadata": {},
   "source": [
    "## Chyba 6\n",
    "- **on antithyroid medication** Nesprávny formát: f, F, FALSE, f.2  ..."
   ]
  },
  {
   "cell_type": "code",
   "execution_count": 11,
   "metadata": {
    "scrolled": true
   },
   "outputs": [
    {
     "data": {
      "text/plain": [
       "array(['f', 'FALSE', 'F', 'f.2', nan, 'T', 't', 'TRUE'], dtype=object)"
      ]
     },
     "execution_count": 11,
     "metadata": {},
     "output_type": "execute_result"
    }
   ],
   "source": [
    "pd_other[\"on antithyroid medication\"].unique()"
   ]
  },
  {
   "cell_type": "markdown",
   "metadata": {},
   "source": [
    "## Chyba 7\n",
    "- **medical_info** json formát"
   ]
  },
  {
   "cell_type": "code",
   "execution_count": 12,
   "metadata": {},
   "outputs": [
    {
     "data": {
      "text/plain": [
       "0    {'query hypothyroid':'f','T4U measured':'t','p...\n",
       "1    {'query hypothyroid':'f','T4U measured':'t','p...\n",
       "2    {'query hypothyroid':'f','T4U measured':'t','p...\n",
       "3    {'query hypothyroid':'t','T4U measured':'t','p...\n",
       "4    {'query hypothyroid':'f','T4U measured':'t','p...\n",
       "Name: medical_info, dtype: object"
      ]
     },
     "execution_count": 12,
     "metadata": {},
     "output_type": "execute_result"
    }
   ],
   "source": [
    "pd_other[\"medical_info\"].head()"
   ]
  },
  {
   "cell_type": "markdown",
   "metadata": {},
   "source": [
    "## Chyba 8\n",
    "- **workclass** nesprávny formát + whitespace ?, ??"
   ]
  },
  {
   "cell_type": "code",
   "execution_count": 15,
   "metadata": {},
   "outputs": [
    {
     "data": {
      "text/plain": [
       "array([' Private', nan, '??', ' ?', ' Self-emp-not-inc', ' Local-gov',\n",
       "       ' State-gov', ' Self-emp-inc', 'federal-gov', 'private',\n",
       "       ' Federal-gov', 'local-gov', '?', 'self-emp-not-inc', 'Nan',\n",
       "       'state-gov', 'self-emp-inc', ' Without-pay'], dtype=object)"
      ]
     },
     "execution_count": 15,
     "metadata": {},
     "output_type": "execute_result"
    }
   ],
   "source": [
    "pd_other[\"workclass\"].unique()"
   ]
  },
  {
   "cell_type": "markdown",
   "metadata": {},
   "source": [
    "## Chyba 9\n",
    "- **class** nesprávny formát: negative.| , negative._"
   ]
  },
  {
   "cell_type": "code",
   "execution_count": 18,
   "metadata": {},
   "outputs": [
    {
     "data": {
      "text/plain": [
       "negative.|3147    2\n",
       "negative.|2151    2\n",
       "negative.|2583    2\n",
       "negative._3170    2\n",
       "negative._2109    2\n",
       "negative.|1147    2\n",
       "negative.|2090    2\n",
       "negative.|1215    2\n",
       "negative.|3395    2\n",
       "negative._2609    2\n",
       "Name: class, dtype: int64"
      ]
     },
     "execution_count": 18,
     "metadata": {},
     "output_type": "execute_result"
    }
   ],
   "source": [
    "pd_other[\"class\"].value_counts().head(10)"
   ]
  },
  {
   "cell_type": "markdown",
   "metadata": {},
   "source": [
    "## Chyba 10\n",
    "- **on antithyroid medication** nesprávny formát: f, FALSE, F, f.2, T, t, TRUE ..."
   ]
  },
  {
   "cell_type": "code",
   "execution_count": 30,
   "metadata": {},
   "outputs": [
    {
     "data": {
      "text/plain": [
       "array(['f', 'FALSE', 'F', 'f.2', nan, 'T', 't', 'TRUE'], dtype=object)"
      ]
     },
     "execution_count": 30,
     "metadata": {},
     "output_type": "execute_result"
    }
   ],
   "source": [
    "pd_other[\"on antithyroid medication\"].unique()"
   ]
  },
  {
   "cell_type": "markdown",
   "metadata": {},
   "source": [
    "## Ďalšie zaujímavé zistenia"
   ]
  },
  {
   "cell_type": "code",
   "execution_count": 72,
   "metadata": {},
   "outputs": [
    {
     "data": {
      "text/plain": [
       "other    1326\n",
       "SVI       640\n",
       "SVHC      216\n",
       "STMW       68\n",
       "SVHD       26\n",
       "Name: referral source, dtype: int64"
      ]
     },
     "execution_count": 72,
     "metadata": {},
     "output_type": "execute_result"
    }
   ],
   "source": [
    "#Other hodnota - prilíš veľká početnost\n",
    "pd_other[\"referral source\"].value_counts()"
   ]
  },
  {
   "cell_type": "code",
   "execution_count": 26,
   "metadata": {},
   "outputs": [
    {
     "data": {
      "text/plain": [
       "Jennifer Emery       2\n",
       "Tamara Holmes        2\n",
       "Elaine Ruiz          2\n",
       "Sandra Stcyr         2\n",
       "Leila Gray           2\n",
       "Harry Calvin         2\n",
       "Jacqueline Hassan    2\n",
       "Margaret Mccann      2\n",
       "Marcus Haecker       2\n",
       "Carmela Respress     2\n",
       "Name: name, dtype: int64"
      ]
     },
     "execution_count": 26,
     "metadata": {},
     "output_type": "execute_result"
    }
   ],
   "source": [
    "#Duplikácia mien\n",
    "pd_other[\"name\"].value_counts().head(10)"
   ]
  },
  {
   "cell_type": "code",
   "execution_count": 33,
   "metadata": {},
   "outputs": [
    {
     "data": {
      "text/plain": [
       "?    2275\n",
       "Name: TBG, dtype: int64"
      ]
     },
     "execution_count": 33,
     "metadata": {},
     "output_type": "execute_result"
    }
   ],
   "source": [
    "#Celý stĺpec obsahuje iba ? hodnoty\n",
    "pd_other[\"TBG\"].value_counts()"
   ]
  },
  {
   "cell_type": "code",
   "execution_count": 34,
   "metadata": {},
   "outputs": [
    {
     "data": {
      "text/plain": [
       "array([' Husband', ' Not-in-family', ' Own-child', ' Wife',\n",
       "       ' Other-relative', ' Unmarried', nan], dtype=object)"
      ]
     },
     "execution_count": 34,
     "metadata": {},
     "output_type": "execute_result"
    }
   ],
   "source": [
    "#Nesprávny formát - whitespace pred marital_status\n",
    "pd_other.relationship.unique()"
   ]
  },
  {
   "cell_type": "code",
   "execution_count": 36,
   "metadata": {},
   "outputs": [
    {
     "data": {
      "text/plain": [
       "array([' Married-civ-spouse', ' Never-married', ' Widowed', ' Divorced',\n",
       "       ' Married-spouse-absent', ' Separated', nan, ' Married-AF-spouse'],\n",
       "      dtype=object)"
      ]
     },
     "execution_count": 36,
     "metadata": {},
     "output_type": "execute_result"
    }
   ],
   "source": [
    "#Podobnosť so stĺpcom relationships, Married-...\n",
    "pd_other[\"marital-status\"].unique()"
   ]
  },
  {
   "cell_type": "code",
   "execution_count": 32,
   "metadata": {},
   "outputs": [
    {
     "data": {
      "text/plain": [
       "array(['t', 'f', 't.4', nan], dtype=object)"
      ]
     },
     "execution_count": 32,
     "metadata": {},
     "output_type": "execute_result"
    }
   ],
   "source": [
    "#Zvláštne hodnoty - t.4 ???\n",
    "pd_other[\"FTI measured\"].unique()"
   ]
  },
  {
   "cell_type": "code",
   "execution_count": 71,
   "metadata": {},
   "outputs": [
    {
     "data": {
      "text/plain": [
       "<matplotlib.axes._subplots.AxesSubplot at 0x7f8e30d523c8>"
      ]
     },
     "execution_count": 71,
     "metadata": {},
     "output_type": "execute_result"
    },
    {
     "data": {
      "image/png": "[encoded data removed]",
      "text/plain": [
       "<Figure size 432x288 with 1 Axes>"
      ]
     },
     "metadata": {
      "needs_background": "light"
     },
     "output_type": "display_data"
    }
   ],
   "source": [
    "#Vysoká variancia hodnôt pre stĺpec FTI\n",
    "tmp = pd_other.FTI\n",
    "tmp = tmp.apply(pd.to_numeric, errors='coerce').dropna()\n",
    "tmp = tmp.describe()\n",
    "sns.distplot(tmp)"
   ]
  }
 ],
 "metadata": {
  "kernelspec": {
   "display_name": "Python 3",
   "language": "python",
   "name": "python3"
  },
  "language_info": {
   "codemirror_mode": {
    "name": "ipython",
    "version": 3
   },
   "file_extension": ".py",
   "mimetype": "text/x-python",
   "name": "python",
   "nbconvert_exporter": "python",
   "pygments_lexer": "ipython3",
   "version": "3.7.0"
  }
 },
 "nbformat": 4,
 "nbformat_minor": 2
}
