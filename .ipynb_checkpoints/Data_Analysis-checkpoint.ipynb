{
 "cells": [
  {
   "cell_type": "markdown",
   "metadata": {},
   "source": [
    "<p style=\"font-family: Arial; font-size:3.95em;color:green; font-style:bold\"><br>\n",
    "Inteligentná analýza údajov</p><br>"
   ]
  },
  {
   "cell_type": "markdown",
   "metadata": {},
   "source": [
    "## Dataset č. 79\n",
    "Pavol Grofčík  \n",
    "Dennis Sobolev"
   ]
  },
  {
   "cell_type": "code",
   "execution_count": 1,
   "metadata": {},
   "outputs": [],
   "source": [
    "#Import knižníc \n",
    "import numpy as np\n",
    "import pandas as pd\n",
    "import matplotlib.pyplot as plt\n",
    "import seaborn as sns\n",
    "import holoviews as hl\n",
    "import warnings\n",
    "warnings.simplefilter(action='ignore', category=FutureWarning)\n",
    "\n",
    "%matplotlib inline"
   ]
  },
  {
   "cell_type": "markdown",
   "metadata": {},
   "source": [
    "### Dataset Personal_train.csv\n",
    "\n",
    "Najprv preskúmame dataset s názvom `Personal_train.csv`, pretože obsahuje pomerne menej dát a zobrazíme si zistené hodnoty pomocou deskriptívnej štatistky a pomocné vizualizácie."
   ]
  },
  {
   "cell_type": "code",
   "execution_count": null,
   "metadata": {},
   "outputs": [],
   "source": [
    "path = \"./Datasets/personal_train.csv\""
   ]
  },
  {
   "cell_type": "code",
   "execution_count": null,
   "metadata": {},
   "outputs": [],
   "source": [
    "df_personal = pd.read_csv(path, names = [\"Name\", \"Address\", \"Age\", \"Sex\", \"Date_of_Birth\"])\n",
    "df_personal = df_personal.drop(df_personal.index[0])\n",
    "df_personal.head()"
   ]
  },
  {
   "cell_type": "code",
   "execution_count": null,
   "metadata": {},
   "outputs": [],
   "source": [
    "df_personal.info()"
   ]
  },
  {
   "cell_type": "code",
   "execution_count": null,
   "metadata": {},
   "outputs": [],
   "source": [
    "df_personal.dtypes"
   ]
  },
  {
   "cell_type": "code",
   "execution_count": null,
   "metadata": {},
   "outputs": [],
   "source": [
    "df_personal.shape"
   ]
  },
  {
   "cell_type": "code",
   "execution_count": null,
   "metadata": {},
   "outputs": [],
   "source": [
    "#Počet NULL values v stĺpci Age\n",
    "sum(df_personal.Age.isnull())"
   ]
  },
  {
   "cell_type": "markdown",
   "metadata": {},
   "source": [
    "### Analýza po jednotlivých stĺpcoch"
   ]
  },
  {
   "cell_type": "code",
   "execution_count": null,
   "metadata": {
    "scrolled": true
   },
   "outputs": [],
   "source": [
    "data = pd.to_numeric(df_personal.Age,downcast=\"integer\")\n",
    "data.describe()"
   ]
  },
  {
   "cell_type": "markdown",
   "metadata": {},
   "source": [
    "### Chyba 1-2\n",
    "- **_Age_** vychýlené hodnoty  \n",
    "- **_Date__of__Birth_** - neplatná hodnota"
   ]
  },
  {
   "cell_type": "code",
   "execution_count": null,
   "metadata": {},
   "outputs": [],
   "source": [
    "#Out of range hodnoty\n",
    "df_personal.iloc[1821]"
   ]
  },
  {
   "cell_type": "code",
   "execution_count": null,
   "metadata": {},
   "outputs": [],
   "source": [
    "#Duplicity mien - \"Terry Murphy\"\n",
    "df_personal.Name.astype(dtype=str)\n",
    "df_personal.Name.value_counts().head()"
   ]
  },
  {
   "cell_type": "markdown",
   "metadata": {},
   "source": [
    "### Chyba 3\n",
    "- **_Date_of_Birth_** rôzny formát dátumov"
   ]
  },
  {
   "cell_type": "code",
   "execution_count": null,
   "metadata": {},
   "outputs": [],
   "source": [
    "#Rôzny formát dátumov + datetime\n",
    "df_personal.Date_of_Birth.tail(10)"
   ]
  },
  {
   "cell_type": "code",
   "execution_count": null,
   "metadata": {},
   "outputs": [],
   "source": [
    "# Znečistené dáta\n",
    "df_personal.Sex.value_counts()"
   ]
  },
  {
   "cell_type": "markdown",
   "metadata": {},
   "source": [
    "## Dataset Other_train.csv"
   ]
  },
  {
   "cell_type": "code",
   "execution_count": 2,
   "metadata": {},
   "outputs": [
    {
     "name": "stdout",
     "output_type": "stream",
     "text": [
      "/home/pavol/Plocha/INANU\n",
      "total 6,9M\n",
      "-rw-r--r-- 1 pavol pavol  16K okt 25  2018  Analysis.ipynb\n",
      "-rw-r--r-- 1 pavol pavol  46K okt 25  2018 'Analysis - other.ipynb'\n",
      "-rw-r--r-- 1 pavol pavol 171K okt 25 21:46  Data_Analysis.ipynb\n",
      "drwxr-xr-x 2 pavol pavol 4,0K okt 25  2018  Datasets\n",
      "-rw-r--r-- 1 pavol pavol 1,4K okt 25  2018  Errors.txt\n",
      "-rw-r--r-- 1 pavol pavol 6,6M okt 25  2018  PythonGraphs.ipynb\n",
      "-rw-r--r-- 1 pavol pavol   62 okt 25  2018  README.md\n"
     ]
    }
   ],
   "source": [
    "#Načítanie path k datasetu\n",
    "!pwd\n",
    "!ls -lh\n",
    "path2 = \"./Datasets/other_train.csv\""
   ]
  },
  {
   "cell_type": "code",
   "execution_count": 3,
   "metadata": {
    "scrolled": true
   },
   "outputs": [
    {
     "data": {
      "text/html": [
       "<div>\n",
       "<style scoped>\n",
       "    .dataframe tbody tr th:only-of-type {\n",
       "        vertical-align: middle;\n",
       "    }\n",
       "\n",
       "    .dataframe tbody tr th {\n",
       "        vertical-align: top;\n",
       "    }\n",
       "\n",
       "    .dataframe thead th {\n",
       "        text-align: right;\n",
       "    }\n",
       "</style>\n",
       "<table border=\"1\" class=\"dataframe\">\n",
       "  <thead>\n",
       "    <tr style=\"text-align: right;\">\n",
       "      <th></th>\n",
       "      <th>name</th>\n",
       "      <th>address</th>\n",
       "      <th>query hyperthyroid</th>\n",
       "      <th>FTI measured</th>\n",
       "      <th>education</th>\n",
       "      <th>lithium</th>\n",
       "      <th>TT4</th>\n",
       "      <th>T4U</th>\n",
       "      <th>capital-loss</th>\n",
       "      <th>capital-gain</th>\n",
       "      <th>...</th>\n",
       "      <th>hypopituitary</th>\n",
       "      <th>medical_info</th>\n",
       "      <th>on antithyroid medication</th>\n",
       "      <th>referral source</th>\n",
       "      <th>education-num</th>\n",
       "      <th>occupation</th>\n",
       "      <th>TBG measured</th>\n",
       "      <th>TBG</th>\n",
       "      <th>race</th>\n",
       "      <th>FTI</th>\n",
       "    </tr>\n",
       "  </thead>\n",
       "  <tbody>\n",
       "    <tr>\n",
       "      <th>0</th>\n",
       "      <td>John Kasprzak</td>\n",
       "      <td>3856 Kayla Track\\nLake Sara, HI 31241</td>\n",
       "      <td>f</td>\n",
       "      <td>t</td>\n",
       "      <td>HS-grad</td>\n",
       "      <td>f</td>\n",
       "      <td>118.0</td>\n",
       "      <td>1.42</td>\n",
       "      <td>0.0</td>\n",
       "      <td>0.0</td>\n",
       "      <td>...</td>\n",
       "      <td>f</td>\n",
       "      <td>{'query hypothyroid':'f','T4U measured':'t','p...</td>\n",
       "      <td>f</td>\n",
       "      <td>other</td>\n",
       "      <td>9.0</td>\n",
       "      <td>Craft-repair</td>\n",
       "      <td>f</td>\n",
       "      <td>?</td>\n",
       "      <td>White</td>\n",
       "      <td>83</td>\n",
       "    </tr>\n",
       "    <tr>\n",
       "      <th>1</th>\n",
       "      <td>Stephen Harvey</td>\n",
       "      <td>34782 Kayla Field\\nSarahmouth, VT 75984</td>\n",
       "      <td>f</td>\n",
       "      <td>t</td>\n",
       "      <td>HS-grad</td>\n",
       "      <td>f</td>\n",
       "      <td>112.0</td>\n",
       "      <td>1.03</td>\n",
       "      <td>0.0</td>\n",
       "      <td>0.0</td>\n",
       "      <td>...</td>\n",
       "      <td>f</td>\n",
       "      <td>{'query hypothyroid':'f','T4U measured':'t','p...</td>\n",
       "      <td>FALSE</td>\n",
       "      <td>other</td>\n",
       "      <td>-900.0</td>\n",
       "      <td>Adm-clerical</td>\n",
       "      <td>f</td>\n",
       "      <td>?</td>\n",
       "      <td>White</td>\n",
       "      <td>109</td>\n",
       "    </tr>\n",
       "    <tr>\n",
       "      <th>2</th>\n",
       "      <td>Paul Moe</td>\n",
       "      <td>USNV Mooney\\nFPO AE 29375</td>\n",
       "      <td>f</td>\n",
       "      <td>t</td>\n",
       "      <td>Some-college</td>\n",
       "      <td>f</td>\n",
       "      <td>87.0</td>\n",
       "      <td>0.96</td>\n",
       "      <td>0.0</td>\n",
       "      <td>0.0</td>\n",
       "      <td>...</td>\n",
       "      <td>f</td>\n",
       "      <td>{'query hypothyroid':'f','T4U measured':'t','p...</td>\n",
       "      <td>f</td>\n",
       "      <td>SVI</td>\n",
       "      <td>10.0</td>\n",
       "      <td>Other-service</td>\n",
       "      <td>f</td>\n",
       "      <td>?</td>\n",
       "      <td>White</td>\n",
       "      <td>90</td>\n",
       "    </tr>\n",
       "    <tr>\n",
       "      <th>3</th>\n",
       "      <td>Sarah Johnson</td>\n",
       "      <td>3633 Bryan Isle\\nNorth Jamesshire, HI 69484</td>\n",
       "      <td>f</td>\n",
       "      <td>t</td>\n",
       "      <td>Doctorate</td>\n",
       "      <td>f</td>\n",
       "      <td>102.0</td>\n",
       "      <td>0.85</td>\n",
       "      <td>0.0</td>\n",
       "      <td>0.0</td>\n",
       "      <td>...</td>\n",
       "      <td>f</td>\n",
       "      <td>{'query hypothyroid':'t','T4U measured':'t','p...</td>\n",
       "      <td>f</td>\n",
       "      <td>SVI</td>\n",
       "      <td>16.0</td>\n",
       "      <td>Prof-specialty</td>\n",
       "      <td>f</td>\n",
       "      <td>?</td>\n",
       "      <td>White</td>\n",
       "      <td>119</td>\n",
       "    </tr>\n",
       "    <tr>\n",
       "      <th>4</th>\n",
       "      <td>Stacy Martinson</td>\n",
       "      <td>65701 Choi Course Apt. 280\\nNorth Williamton, ...</td>\n",
       "      <td>f</td>\n",
       "      <td>t</td>\n",
       "      <td>Some-college</td>\n",
       "      <td>f</td>\n",
       "      <td>129.0</td>\n",
       "      <td>0.97</td>\n",
       "      <td>0.0</td>\n",
       "      <td>0.0</td>\n",
       "      <td>...</td>\n",
       "      <td>f</td>\n",
       "      <td>{'query hypothyroid':'f','T4U measured':'t','p...</td>\n",
       "      <td>F</td>\n",
       "      <td>SVI</td>\n",
       "      <td>10.0</td>\n",
       "      <td>Other-service</td>\n",
       "      <td>f</td>\n",
       "      <td>?</td>\n",
       "      <td>White</td>\n",
       "      <td>133</td>\n",
       "    </tr>\n",
       "  </tbody>\n",
       "</table>\n",
       "<p>5 rows × 33 columns</p>\n",
       "</div>"
      ],
      "text/plain": [
       "              name                                            address  \\\n",
       "0    John Kasprzak              3856 Kayla Track\\nLake Sara, HI 31241   \n",
       "1   Stephen Harvey            34782 Kayla Field\\nSarahmouth, VT 75984   \n",
       "2         Paul Moe                          USNV Mooney\\nFPO AE 29375   \n",
       "3    Sarah Johnson        3633 Bryan Isle\\nNorth Jamesshire, HI 69484   \n",
       "4  Stacy Martinson  65701 Choi Course Apt. 280\\nNorth Williamton, ...   \n",
       "\n",
       "  query hyperthyroid FTI measured      education lithium    TT4   T4U  \\\n",
       "0                  f            t        HS-grad       f  118.0  1.42   \n",
       "1                  f            t        HS-grad       f  112.0  1.03   \n",
       "2                  f            t   Some-college       f   87.0  0.96   \n",
       "3                  f            t      Doctorate       f  102.0  0.85   \n",
       "4                  f            t   Some-college       f  129.0  0.97   \n",
       "\n",
       "   capital-loss  capital-gain ...  hypopituitary  \\\n",
       "0           0.0           0.0 ...              f   \n",
       "1           0.0           0.0 ...              f   \n",
       "2           0.0           0.0 ...              f   \n",
       "3           0.0           0.0 ...              f   \n",
       "4           0.0           0.0 ...              f   \n",
       "\n",
       "                                        medical_info  \\\n",
       "0  {'query hypothyroid':'f','T4U measured':'t','p...   \n",
       "1  {'query hypothyroid':'f','T4U measured':'t','p...   \n",
       "2  {'query hypothyroid':'f','T4U measured':'t','p...   \n",
       "3  {'query hypothyroid':'t','T4U measured':'t','p...   \n",
       "4  {'query hypothyroid':'f','T4U measured':'t','p...   \n",
       "\n",
       "   on antithyroid medication  referral source  education-num       occupation  \\\n",
       "0                          f            other            9.0     Craft-repair   \n",
       "1                      FALSE            other         -900.0     Adm-clerical   \n",
       "2                          f              SVI           10.0    Other-service   \n",
       "3                          f              SVI           16.0   Prof-specialty   \n",
       "4                          F              SVI           10.0    Other-service   \n",
       "\n",
       "  TBG measured TBG    race  FTI  \n",
       "0            f   ?   White   83  \n",
       "1            f   ?   White  109  \n",
       "2            f   ?   White   90  \n",
       "3            f   ?   White  119  \n",
       "4            f   ?   White  133  \n",
       "\n",
       "[5 rows x 33 columns]"
      ]
     },
     "execution_count": 3,
     "metadata": {},
     "output_type": "execute_result"
    }
   ],
   "source": [
    "pd_other = pd.read_csv(path2,index_col=0)\n",
    "pd_other.head()"
   ]
  },
  {
   "cell_type": "code",
   "execution_count": null,
   "metadata": {},
   "outputs": [],
   "source": [
    "len(pd_other.columns)"
   ]
  },
  {
   "cell_type": "code",
   "execution_count": null,
   "metadata": {},
   "outputs": [],
   "source": [
    "pd_other.dtypes"
   ]
  },
  {
   "cell_type": "code",
   "execution_count": null,
   "metadata": {},
   "outputs": [],
   "source": [
    "#Null hodnoty\n",
    "pd_other.isnull().sum()"
   ]
  },
  {
   "cell_type": "markdown",
   "metadata": {},
   "source": [
    "## Chyba 4\n",
    "- **education-num** záporné hodnoty"
   ]
  },
  {
   "cell_type": "code",
   "execution_count": null,
   "metadata": {
    "scrolled": true
   },
   "outputs": [],
   "source": [
    "pd_other[\"education-num\"].describe()"
   ]
  },
  {
   "cell_type": "code",
   "execution_count": null,
   "metadata": {},
   "outputs": [],
   "source": [
    "sns.distplot(pd_other[\"education-num\"].describe())"
   ]
  },
  {
   "cell_type": "markdown",
   "metadata": {},
   "source": [
    "Z distribúcie hodnôt môžno vidieť aj záporné hodnoty, ktoré sú neočakávané pri education-num"
   ]
  },
  {
   "cell_type": "markdown",
   "metadata": {},
   "source": [
    "## Chyba 5 \n",
    "- **capital-gain** vysoká varianca hodnôt"
   ]
  },
  {
   "cell_type": "code",
   "execution_count": null,
   "metadata": {
    "scrolled": true
   },
   "outputs": [],
   "source": [
    "sns.distplot(pd_other[\"capital-gain\"].describe())"
   ]
  },
  {
   "cell_type": "markdown",
   "metadata": {},
   "source": [
    "## Chyba 6\n",
    "- **on antithyroid medication** Nesprávny formát: f, F, FALSE, f.2  ..."
   ]
  },
  {
   "cell_type": "code",
   "execution_count": null,
   "metadata": {
    "scrolled": true
   },
   "outputs": [],
   "source": [
    "pd_other[\"on antithyroid medication\"].unique()"
   ]
  },
  {
   "cell_type": "markdown",
   "metadata": {},
   "source": [
    "## Chyba 7\n",
    "- **medical_info** json formát"
   ]
  },
  {
   "cell_type": "code",
   "execution_count": null,
   "metadata": {},
   "outputs": [],
   "source": [
    "pd_other[\"medical_info\"].head()"
   ]
  },
  {
   "cell_type": "markdown",
   "metadata": {},
   "source": [
    "## Chyba 8\n",
    "- **workclass** nesprávny formát + whitespace ?, ??"
   ]
  },
  {
   "cell_type": "code",
   "execution_count": null,
   "metadata": {},
   "outputs": [],
   "source": [
    "pd_other[\"workclass\"].unique()"
   ]
  },
  {
   "cell_type": "markdown",
   "metadata": {},
   "source": [
    "## Chyba 9\n",
    "- **class** nesprávny formát: negative.| , negative._"
   ]
  },
  {
   "cell_type": "code",
   "execution_count": null,
   "metadata": {},
   "outputs": [],
   "source": [
    "pd_other[\"class\"].value_counts().head(10)"
   ]
  },
  {
   "cell_type": "markdown",
   "metadata": {},
   "source": [
    "## Chyba 10\n",
    "- **on antithyroid medication** nesprávny formát: f, FALSE, F, f.2, T, t, TRUE ..."
   ]
  },
  {
   "cell_type": "code",
   "execution_count": null,
   "metadata": {},
   "outputs": [],
   "source": [
    "pd_other[\"on antithyroid medication\"].unique()"
   ]
  },
  {
   "cell_type": "markdown",
   "metadata": {},
   "source": [
    "## Ďalšie zaujímavé zistenia"
   ]
  },
  {
   "cell_type": "code",
   "execution_count": null,
   "metadata": {},
   "outputs": [],
   "source": [
    "#Other hodnota - prilíš veľká početnost\n",
    "pd_other[\"referral source\"].value_counts()"
   ]
  },
  {
   "cell_type": "code",
   "execution_count": null,
   "metadata": {},
   "outputs": [],
   "source": [
    "#Duplikácia mien\n",
    "pd_other[\"name\"].value_counts().head(10)"
   ]
  },
  {
   "cell_type": "code",
   "execution_count": null,
   "metadata": {},
   "outputs": [],
   "source": [
    "#Celý stĺpec obsahuje iba ? hodnoty\n",
    "pd_other[\"TBG\"].value_counts()"
   ]
  },
  {
   "cell_type": "code",
   "execution_count": null,
   "metadata": {},
   "outputs": [],
   "source": [
    "#Nesprávny formát - whitespace pred marital_status\n",
    "pd_other.relationship.unique()"
   ]
  },
  {
   "cell_type": "code",
   "execution_count": null,
   "metadata": {},
   "outputs": [],
   "source": [
    "#Podobnosť so stĺpcom relationships, Married-...\n",
    "pd_other[\"marital-status\"].unique()"
   ]
  },
  {
   "cell_type": "code",
   "execution_count": null,
   "metadata": {},
   "outputs": [],
   "source": [
    "#Zvláštne hodnoty - t.4 ???\n",
    "pd_other[\"FTI measured\"].unique()"
   ]
  },
  {
   "cell_type": "code",
   "execution_count": null,
   "metadata": {},
   "outputs": [],
   "source": [
    "#Vysoká variancia hodnôt pre stĺpec FTI\n",
    "tmp = pd_other.FTI\n",
    "tmp = tmp.apply(pd.to_numeric, errors='coerce').dropna()\n",
    "tmp = tmp.describe()\n",
    "sns.distplot(tmp)"
   ]
  },
  {
   "cell_type": "code",
   "execution_count": null,
   "metadata": {
    "scrolled": true
   },
   "outputs": [],
   "source": [
    "pd.scatter_matrix(pd_other, figsize = (40, 40))\n",
    "plt.show()"
   ]
  },
  {
   "cell_type": "markdown",
   "metadata": {},
   "source": [
    "Duplicitné hodnoty s rovnakými/rôznymi adresami"
   ]
  },
  {
   "cell_type": "markdown",
   "metadata": {},
   "source": [
    "## Hormóny - tyreotropín\n",
    "**TSH** - stimuluje výrobu iných hormónov v štítnej žľaze - T3/T4  \n",
    "Ak **T4** je nedostatok -TSH sa zvýši  \n",
    "Nízky stupeň T4 vs autoimúnny -> imunitný systém zabraňuje produkcie T4  \n",
    "\n",
    "Delí sa na dve skupiny T4U - unboud\n",
    "TT4 - total tyreotropín\n",
    "\n",
    "T3 analýza sa uskutočnuje po TSH a TT4, pretože TT4 sa dá sekundárne transformovať na T3 => málo signifikatná\n",
    "\n",
    "TBG - ignorujeme, pretože obsahuje prázdny\n",
    "\n",
    "***Tumor***  výsledok hypoprodukcie alebo ***goitre***(med. struna/hrvoľ)\n",
    "\n",
    "Poruchy štítnej žľazy\n",
    ">**increased** - hyperfunkcia  \n",
    ">**decreased** - hypofunkcia  \n",
    "\n",
    "On anthyroid medication - medikanty proti tvorbe hormónov štítnej žlazy\n"
   ]
  },
  {
   "cell_type": "markdown",
   "metadata": {},
   "source": [
    "### Splitting the class column into 2 "
   ]
  },
  {
   "cell_type": "code",
   "execution_count": 4,
   "metadata": {},
   "outputs": [
    {
     "data": {
      "text/plain": [
       "0    increased binding protein.2384\n",
       "1                      negative.358\n",
       "2                     negative.1247\n",
       "3                     negative.1829\n",
       "4                     negative.3531\n",
       "Name: class, dtype: object"
      ]
     },
     "execution_count": 4,
     "metadata": {},
     "output_type": "execute_result"
    }
   ],
   "source": [
    "pd_other[\"class\"] = pd_other[\"class\"].str.replace(\"_\",\"\")\n",
    "pd_other[\"class\"] = pd_other[\"class\"].str.replace(\"|\", \"\")\n",
    "pd_other[\"class\"].head()"
   ]
  },
  {
   "cell_type": "code",
   "execution_count": 5,
   "metadata": {},
   "outputs": [],
   "source": [
    "pd_other[[\"class\", \"class_protein\"]] = pd_other[\"class\"].str.split(\".\",expand = True)"
   ]
  },
  {
   "cell_type": "code",
   "execution_count": 6,
   "metadata": {
    "scrolled": true
   },
   "outputs": [
    {
     "data": {
      "text/html": [
       "<div>\n",
       "<style scoped>\n",
       "    .dataframe tbody tr th:only-of-type {\n",
       "        vertical-align: middle;\n",
       "    }\n",
       "\n",
       "    .dataframe tbody tr th {\n",
       "        vertical-align: top;\n",
       "    }\n",
       "\n",
       "    .dataframe thead th {\n",
       "        text-align: right;\n",
       "    }\n",
       "</style>\n",
       "<table border=\"1\" class=\"dataframe\">\n",
       "  <thead>\n",
       "    <tr style=\"text-align: right;\">\n",
       "      <th></th>\n",
       "      <th>class</th>\n",
       "      <th>class_protein</th>\n",
       "    </tr>\n",
       "  </thead>\n",
       "  <tbody>\n",
       "    <tr>\n",
       "      <th>0</th>\n",
       "      <td>increased binding protein</td>\n",
       "      <td>2384</td>\n",
       "    </tr>\n",
       "    <tr>\n",
       "      <th>1</th>\n",
       "      <td>negative</td>\n",
       "      <td>358</td>\n",
       "    </tr>\n",
       "    <tr>\n",
       "      <th>2</th>\n",
       "      <td>negative</td>\n",
       "      <td>1247</td>\n",
       "    </tr>\n",
       "    <tr>\n",
       "      <th>3</th>\n",
       "      <td>negative</td>\n",
       "      <td>1829</td>\n",
       "    </tr>\n",
       "    <tr>\n",
       "      <th>4</th>\n",
       "      <td>negative</td>\n",
       "      <td>3531</td>\n",
       "    </tr>\n",
       "    <tr>\n",
       "      <th>5</th>\n",
       "      <td>negative</td>\n",
       "      <td>2179</td>\n",
       "    </tr>\n",
       "    <tr>\n",
       "      <th>6</th>\n",
       "      <td>negative</td>\n",
       "      <td>2651</td>\n",
       "    </tr>\n",
       "    <tr>\n",
       "      <th>7</th>\n",
       "      <td>negative</td>\n",
       "      <td>3111</td>\n",
       "    </tr>\n",
       "    <tr>\n",
       "      <th>8</th>\n",
       "      <td>negative</td>\n",
       "      <td>3738</td>\n",
       "    </tr>\n",
       "    <tr>\n",
       "      <th>9</th>\n",
       "      <td>negative</td>\n",
       "      <td>2001</td>\n",
       "    </tr>\n",
       "  </tbody>\n",
       "</table>\n",
       "</div>"
      ],
      "text/plain": [
       "                       class class_protein\n",
       "0  increased binding protein          2384\n",
       "1                   negative           358\n",
       "2                   negative          1247\n",
       "3                   negative          1829\n",
       "4                   negative          3531\n",
       "5                   negative          2179\n",
       "6                   negative          2651\n",
       "7                   negative          3111\n",
       "8                   negative          3738\n",
       "9                   negative          2001"
      ]
     },
     "execution_count": 6,
     "metadata": {},
     "output_type": "execute_result"
    }
   ],
   "source": [
    "pd_other[[\"class\", \"class_protein\"]].head(10)"
   ]
  },
  {
   "cell_type": "code",
   "execution_count": null,
   "metadata": {},
   "outputs": [],
   "source": [
    "pd_other.columns"
   ]
  },
  {
   "cell_type": "code",
   "execution_count": null,
   "metadata": {},
   "outputs": [],
   "source": [
    "x = pd_other[\"sick\"].isna().dropna()\n",
    "x.unique()"
   ]
  },
  {
   "cell_type": "code",
   "execution_count": null,
   "metadata": {},
   "outputs": [],
   "source": [
    "pd_other[\"hours-per-week\"].isna().dropna()"
   ]
  },
  {
   "cell_type": "code",
   "execution_count": null,
   "metadata": {},
   "outputs": [],
   "source": [
    "pd_other.race.isna().dropna()\n"
   ]
  },
  {
   "cell_type": "code",
   "execution_count": 7,
   "metadata": {},
   "outputs": [
    {
     "data": {
      "text/plain": [
       "Text(0.5, 1.0, 'Hormone TSH vs T4U Correlation')"
      ]
     },
     "execution_count": 7,
     "metadata": {},
     "output_type": "execute_result"
    },
    {
     "data": {
      "image/png": "[encoded data removed]",
      "text/plain": [
       "<Figure size 887.5x720 with 1 Axes>"
      ]
     },
     "metadata": {
      "needs_background": "light"
     },
     "output_type": "display_data"
    }
   ],
   "source": [
    "sns.catplot(x=\"TSH\",y=\"T4U\",hue=\"class\",data=pd_other, height=10)\n",
    "plt.title(\"Hormone TSH vs T4U Correlation\")"
   ]
  },
  {
   "cell_type": "markdown",
   "metadata": {},
   "source": [
    "### Heatmap\n"
   ]
  },
  {
   "cell_type": "code",
   "execution_count": 25,
   "metadata": {},
   "outputs": [
    {
     "data": {
      "text/plain": [
       "Text(0.5, 1.0, 'Correlation of Hormones')"
      ]
     },
     "execution_count": 25,
     "metadata": {},
     "output_type": "execute_result"
    },
    {
     "data": {
      "image/png": "[encoded data removed]",
      "text/plain": [
       "<Figure size 720x504 with 2 Axes>"
      ]
     },
     "metadata": {
      "needs_background": "light"
     },
     "output_type": "display_data"
    }
   ],
   "source": [
    "corr = pd_other.select_dtypes(exclude=\"object\").corr()\n",
    "plt.figure(figsize=(10,7))\n",
    "sns.heatmap(corr,cmap=\"Blues\")\n",
    "plt.title(\"Correlation of Hormones\")\n"
   ]
  },
  {
   "cell_type": "markdown",
   "metadata": {},
   "source": [
    "# Analýza korelácií"
   ]
  },
  {
   "cell_type": "markdown",
   "metadata": {},
   "source": [
    "Z mapy je jasné, že korelujú hormóny **TSH, TT4, T4U, T3**  \n",
    "\n",
    "Zaujímavé je že **klesajúca hodnota hormónu T4 je príčinou rastu TSH**, čo je z medicinálneho pohľadu pravdou, pretože hormón TSH je riadiaci hormón produkovaný hypofýzou, ktorý sa produkuje za podmienku že hladina hormónov T4 a T4 je buď nízka alebo vysoká  \n",
    "\n",
    "Z nášho datasetu je hodnota T4 nízka, čiže hypofýza produkuje TSH, aby zvýšil množstvo hormónu T4"
   ]
  },
  {
   "cell_type": "markdown",
   "metadata": {},
   "source": [
    "Eventuálne, je aj nepriama korelácia pre hormón **T3**, ktorý stimuluje produkciu TSH, hypofýzou, T3 pochádza z ***dejodizáciou hormónu T4***"
   ]
  },
  {
   "cell_type": "markdown",
   "metadata": {},
   "source": [
    "Ďalšou znalosťou je vysoká koncentrácia hormónov T3 je dobrá na **meranie hypertyroidu**.\n",
    "\n",
    "Hormón **T3** sa môže *znížiť* ako dôsledok:  \n",
    ">**Deficit Jódu**  \n",
    ">**I131 - rádioaktívna liečba nuklidom prvku I 131**   \n",
    ">**Neurová Anorexia**\n",
    ">**Hypotyreóza**  \n",
    "\n",
    "Príčiny *zvýšenia* **T3**  \n",
    ">**Disfunkcia štítnej žľazy po tehotenstve**  \n",
    ">**Tumor štítnej žľazy**  \n",
    ">**Goitre - zvýšenie veľkosti štítnej žľazy**"
   ]
  },
  {
   "cell_type": "markdown",
   "metadata": {},
   "source": [
    "## Analýza hormónu T4"
   ]
  },
  {
   "cell_type": "markdown",
   "metadata": {},
   "source": [
    "Hormón **T4U** zvýšený:  \n",
    ">**Goitre**  \n",
    ">**Tyrióza**  \n",
    ">**Dysfunckia štítnej žľazy po tehotenstve**\n",
    "\n",
    "Príčiny zníženia:  \n",
    ">**Začiatočná hypoterióza**  \n",
    ">**Autoimúnna tyrióza**  \n",
    ">**Deficit Jódu**  \n",
    ">**Goitre**\n"
   ]
  },
  {
   "cell_type": "markdown",
   "metadata": {},
   "source": []
  }
 ],
 "metadata": {
  "kernelspec": {
   "display_name": "Python 3",
   "language": "python",
   "name": "python3"
  },
  "language_info": {
   "codemirror_mode": {
    "name": "ipython",
    "version": 3
   },
   "file_extension": ".py",
   "mimetype": "text/x-python",
   "name": "python",
   "nbconvert_exporter": "python",
   "pygments_lexer": "ipython3",
   "version": "3.6.6"
  }
 },
 "nbformat": 4,
 "nbformat_minor": 2
}
