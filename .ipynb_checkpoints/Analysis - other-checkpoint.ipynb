{
 "cells": [
  {
   "cell_type": "markdown",
   "metadata": {},
   "source": [
    "# Inteligentá Analýza Údajov"
   ]
  },
  {
   "cell_type": "markdown",
   "metadata": {},
   "source": [
    "### other_train.csv"
   ]
  },
  {
   "cell_type": "code",
   "execution_count": 1,
   "metadata": {},
   "outputs": [],
   "source": [
    "#Načítanie knižníc\n",
    "import pandas as pd\n",
    "import numpy as np\n",
    "import matplotlib.pyplot as plt\n",
    "import seaborn as sns"
   ]
  },
  {
   "cell_type": "code",
   "execution_count": 2,
   "metadata": {},
   "outputs": [
    {
     "name": "stdout",
     "output_type": "stream",
     "text": [
      "/home/pavol/Desktop/INANU\n",
      "total 1672\n",
      "-rw-r--r-- 1 pavol pavol 992968 Oct 16 18:46 other_train.csv\n",
      "-rw-r--r-- 1 pavol pavol 442310 Oct 16 18:46 other_valid.csv\n",
      "-rw-r--r-- 1 pavol pavol 189504 Oct 16 18:46 personal_train.csv\n",
      "-rw-r--r-- 1 pavol pavol  79445 Oct 16 18:46 personal_valid.csv\n"
     ]
    }
   ],
   "source": [
    "#Načítanie cesty\n",
    "!pwd\n",
    "!ls -l Datasets/\n",
    "\n",
    "other_train = \"Datasets/other_train.csv\""
   ]
  },
  {
   "cell_type": "code",
   "execution_count": 3,
   "metadata": {},
   "outputs": [],
   "source": [
    "df_other = pd.read_csv(other_train, header= 0)"
   ]
  },
  {
   "cell_type": "code",
   "execution_count": 4,
   "metadata": {},
   "outputs": [
    {
     "name": "stdout",
     "output_type": "stream",
     "text": [
      "<class 'pandas.core.frame.DataFrame'>\n",
      "RangeIndex: 2287 entries, 0 to 2286\n",
      "Data columns (total 34 columns):\n",
      "Unnamed: 0                   2287 non-null int64\n",
      "name                         2287 non-null object\n",
      "address                      2287 non-null object\n",
      "query hyperthyroid           2277 non-null object\n",
      "FTI measured                 2278 non-null object\n",
      "education                    2280 non-null object\n",
      "lithium                      2277 non-null object\n",
      "TT4                          2125 non-null float64\n",
      "T4U                          2042 non-null float64\n",
      "capital-loss                 2049 non-null float64\n",
      "capital-gain                 2282 non-null float64\n",
      "tumor                        2277 non-null object\n",
      "TSH                          2040 non-null float64\n",
      "T3                           1805 non-null float64\n",
      "fnlwgt                       2279 non-null float64\n",
      "hours-per-week               2278 non-null float64\n",
      "relationship                 2278 non-null object\n",
      "sick                         2277 non-null object\n",
      "workclass                    2140 non-null object\n",
      "TT4 measured                 2278 non-null object\n",
      "class                        2279 non-null object\n",
      "marital-status               2277 non-null object\n",
      "goitre                       2279 non-null object\n",
      "native-country               2281 non-null object\n",
      "hypopituitary                2279 non-null object\n",
      "medical_info                 2277 non-null object\n",
      "on antithyroid medication    2278 non-null object\n",
      "referral source              2276 non-null object\n",
      "education-num                2277 non-null float64\n",
      "occupation                   2274 non-null object\n",
      "TBG measured                 2280 non-null object\n",
      "TBG                          2275 non-null object\n",
      "race                         2279 non-null object\n",
      "FTI                          2276 non-null object\n",
      "dtypes: float64(9), int64(1), object(24)\n",
      "memory usage: 607.6+ KB\n"
     ]
    }
   ],
   "source": [
    "df_other.info()"
   ]
  },
  {
   "cell_type": "code",
   "execution_count": 9,
   "metadata": {},
   "outputs": [
    {
     "data": {
      "text/plain": [
       "Index(['Unnamed: 0', 'name', 'address', 'query hyperthyroid', 'FTI measured',\n",
       "       'education', 'lithium', 'TT4', 'T4U', 'capital-loss', 'capital-gain',\n",
       "       'tumor', 'TSH', 'T3', 'fnlwgt', 'hours-per-week', 'relationship',\n",
       "       'sick', 'workclass', 'TT4 measured', 'class', 'marital-status',\n",
       "       'goitre', 'native-country', 'hypopituitary', 'medical_info',\n",
       "       'on antithyroid medication', 'referral source', 'education-num',\n",
       "       'occupation', 'TBG measured', 'TBG', 'race', 'FTI'],\n",
       "      dtype='object')"
      ]
     },
     "execution_count": 9,
     "metadata": {},
     "output_type": "execute_result"
    }
   ],
   "source": [
    "df_other.columns"
   ]
  },
  {
   "cell_type": "code",
   "execution_count": 11,
   "metadata": {},
   "outputs": [
    {
     "data": {
      "text/html": [
       "<div>\n",
       "<style scoped>\n",
       "    .dataframe tbody tr th:only-of-type {\n",
       "        vertical-align: middle;\n",
       "    }\n",
       "\n",
       "    .dataframe tbody tr th {\n",
       "        vertical-align: top;\n",
       "    }\n",
       "\n",
       "    .dataframe thead th {\n",
       "        text-align: right;\n",
       "    }\n",
       "</style>\n",
       "<table border=\"1\" class=\"dataframe\">\n",
       "  <thead>\n",
       "    <tr style=\"text-align: right;\">\n",
       "      <th></th>\n",
       "      <th>Unnamed: 0</th>\n",
       "      <th>name</th>\n",
       "      <th>address</th>\n",
       "      <th>query hyperthyroid</th>\n",
       "      <th>FTI measured</th>\n",
       "      <th>education</th>\n",
       "      <th>lithium</th>\n",
       "      <th>TT4</th>\n",
       "      <th>T4U</th>\n",
       "      <th>capital-loss</th>\n",
       "      <th>...</th>\n",
       "      <th>hypopituitary</th>\n",
       "      <th>medical_info</th>\n",
       "      <th>on antithyroid medication</th>\n",
       "      <th>referral source</th>\n",
       "      <th>education-num</th>\n",
       "      <th>occupation</th>\n",
       "      <th>TBG measured</th>\n",
       "      <th>TBG</th>\n",
       "      <th>race</th>\n",
       "      <th>FTI</th>\n",
       "    </tr>\n",
       "  </thead>\n",
       "  <tbody>\n",
       "    <tr>\n",
       "      <th>0</th>\n",
       "      <td>0</td>\n",
       "      <td>John Kasprzak</td>\n",
       "      <td>3856 Kayla Track\\nLake Sara, HI 31241</td>\n",
       "      <td>f</td>\n",
       "      <td>t</td>\n",
       "      <td>HS-grad</td>\n",
       "      <td>f</td>\n",
       "      <td>118.0</td>\n",
       "      <td>1.42</td>\n",
       "      <td>0.0</td>\n",
       "      <td>...</td>\n",
       "      <td>f</td>\n",
       "      <td>{'query hypothyroid':'f','T4U measured':'t','p...</td>\n",
       "      <td>f</td>\n",
       "      <td>other</td>\n",
       "      <td>9.0</td>\n",
       "      <td>Craft-repair</td>\n",
       "      <td>f</td>\n",
       "      <td>?</td>\n",
       "      <td>White</td>\n",
       "      <td>83</td>\n",
       "    </tr>\n",
       "    <tr>\n",
       "      <th>1</th>\n",
       "      <td>1</td>\n",
       "      <td>Stephen Harvey</td>\n",
       "      <td>34782 Kayla Field\\nSarahmouth, VT 75984</td>\n",
       "      <td>f</td>\n",
       "      <td>t</td>\n",
       "      <td>HS-grad</td>\n",
       "      <td>f</td>\n",
       "      <td>112.0</td>\n",
       "      <td>1.03</td>\n",
       "      <td>0.0</td>\n",
       "      <td>...</td>\n",
       "      <td>f</td>\n",
       "      <td>{'query hypothyroid':'f','T4U measured':'t','p...</td>\n",
       "      <td>FALSE</td>\n",
       "      <td>other</td>\n",
       "      <td>-900.0</td>\n",
       "      <td>Adm-clerical</td>\n",
       "      <td>f</td>\n",
       "      <td>?</td>\n",
       "      <td>White</td>\n",
       "      <td>109</td>\n",
       "    </tr>\n",
       "    <tr>\n",
       "      <th>2</th>\n",
       "      <td>2</td>\n",
       "      <td>Paul Moe</td>\n",
       "      <td>USNV Mooney\\nFPO AE 29375</td>\n",
       "      <td>f</td>\n",
       "      <td>t</td>\n",
       "      <td>Some-college</td>\n",
       "      <td>f</td>\n",
       "      <td>87.0</td>\n",
       "      <td>0.96</td>\n",
       "      <td>0.0</td>\n",
       "      <td>...</td>\n",
       "      <td>f</td>\n",
       "      <td>{'query hypothyroid':'f','T4U measured':'t','p...</td>\n",
       "      <td>f</td>\n",
       "      <td>SVI</td>\n",
       "      <td>10.0</td>\n",
       "      <td>Other-service</td>\n",
       "      <td>f</td>\n",
       "      <td>?</td>\n",
       "      <td>White</td>\n",
       "      <td>90</td>\n",
       "    </tr>\n",
       "    <tr>\n",
       "      <th>3</th>\n",
       "      <td>3</td>\n",
       "      <td>Sarah Johnson</td>\n",
       "      <td>3633 Bryan Isle\\nNorth Jamesshire, HI 69484</td>\n",
       "      <td>f</td>\n",
       "      <td>t</td>\n",
       "      <td>Doctorate</td>\n",
       "      <td>f</td>\n",
       "      <td>102.0</td>\n",
       "      <td>0.85</td>\n",
       "      <td>0.0</td>\n",
       "      <td>...</td>\n",
       "      <td>f</td>\n",
       "      <td>{'query hypothyroid':'t','T4U measured':'t','p...</td>\n",
       "      <td>f</td>\n",
       "      <td>SVI</td>\n",
       "      <td>16.0</td>\n",
       "      <td>Prof-specialty</td>\n",
       "      <td>f</td>\n",
       "      <td>?</td>\n",
       "      <td>White</td>\n",
       "      <td>119</td>\n",
       "    </tr>\n",
       "    <tr>\n",
       "      <th>4</th>\n",
       "      <td>4</td>\n",
       "      <td>Stacy Martinson</td>\n",
       "      <td>65701 Choi Course Apt. 280\\nNorth Williamton, ...</td>\n",
       "      <td>f</td>\n",
       "      <td>t</td>\n",
       "      <td>Some-college</td>\n",
       "      <td>f</td>\n",
       "      <td>129.0</td>\n",
       "      <td>0.97</td>\n",
       "      <td>0.0</td>\n",
       "      <td>...</td>\n",
       "      <td>f</td>\n",
       "      <td>{'query hypothyroid':'f','T4U measured':'t','p...</td>\n",
       "      <td>F</td>\n",
       "      <td>SVI</td>\n",
       "      <td>10.0</td>\n",
       "      <td>Other-service</td>\n",
       "      <td>f</td>\n",
       "      <td>?</td>\n",
       "      <td>White</td>\n",
       "      <td>133</td>\n",
       "    </tr>\n",
       "  </tbody>\n",
       "</table>\n",
       "<p>5 rows × 34 columns</p>\n",
       "</div>"
      ],
      "text/plain": [
       "   Unnamed: 0             name  \\\n",
       "0           0    John Kasprzak   \n",
       "1           1   Stephen Harvey   \n",
       "2           2         Paul Moe   \n",
       "3           3    Sarah Johnson   \n",
       "4           4  Stacy Martinson   \n",
       "\n",
       "                                             address query hyperthyroid  \\\n",
       "0              3856 Kayla Track\\nLake Sara, HI 31241                  f   \n",
       "1            34782 Kayla Field\\nSarahmouth, VT 75984                  f   \n",
       "2                          USNV Mooney\\nFPO AE 29375                  f   \n",
       "3        3633 Bryan Isle\\nNorth Jamesshire, HI 69484                  f   \n",
       "4  65701 Choi Course Apt. 280\\nNorth Williamton, ...                  f   \n",
       "\n",
       "  FTI measured      education lithium    TT4   T4U  capital-loss ...   \\\n",
       "0            t        HS-grad       f  118.0  1.42           0.0 ...    \n",
       "1            t        HS-grad       f  112.0  1.03           0.0 ...    \n",
       "2            t   Some-college       f   87.0  0.96           0.0 ...    \n",
       "3            t      Doctorate       f  102.0  0.85           0.0 ...    \n",
       "4            t   Some-college       f  129.0  0.97           0.0 ...    \n",
       "\n",
       "   hypopituitary                                       medical_info  \\\n",
       "0              f  {'query hypothyroid':'f','T4U measured':'t','p...   \n",
       "1              f  {'query hypothyroid':'f','T4U measured':'t','p...   \n",
       "2              f  {'query hypothyroid':'f','T4U measured':'t','p...   \n",
       "3              f  {'query hypothyroid':'t','T4U measured':'t','p...   \n",
       "4              f  {'query hypothyroid':'f','T4U measured':'t','p...   \n",
       "\n",
       "   on antithyroid medication  referral source  education-num       occupation  \\\n",
       "0                          f            other            9.0     Craft-repair   \n",
       "1                      FALSE            other         -900.0     Adm-clerical   \n",
       "2                          f              SVI           10.0    Other-service   \n",
       "3                          f              SVI           16.0   Prof-specialty   \n",
       "4                          F              SVI           10.0    Other-service   \n",
       "\n",
       "  TBG measured TBG    race  FTI  \n",
       "0            f   ?   White   83  \n",
       "1            f   ?   White  109  \n",
       "2            f   ?   White   90  \n",
       "3            f   ?   White  119  \n",
       "4            f   ?   White  133  \n",
       "\n",
       "[5 rows x 34 columns]"
      ]
     },
     "execution_count": 11,
     "metadata": {},
     "output_type": "execute_result"
    }
   ],
   "source": [
    "df_other.head()"
   ]
  },
  {
   "cell_type": "markdown",
   "metadata": {},
   "source": [
    "## Analýza po stĺpcoch"
   ]
  },
  {
   "cell_type": "code",
   "execution_count": null,
   "metadata": {},
   "outputs": [],
   "source": [
    "#Duplicity mien!!!\n",
    "df_other.name.value_counts()"
   ]
  },
  {
   "cell_type": "code",
   "execution_count": 16,
   "metadata": {},
   "outputs": [
    {
     "data": {
      "text/plain": [
       "False"
      ]
     },
     "execution_count": 16,
     "metadata": {},
     "output_type": "execute_result"
    }
   ],
   "source": [
    "df_other.name.isnull().any()"
   ]
  },
  {
   "cell_type": "code",
   "execution_count": 19,
   "metadata": {},
   "outputs": [
    {
     "data": {
      "text/plain": [
       "False"
      ]
     },
     "execution_count": 19,
     "metadata": {},
     "output_type": "execute_result"
    }
   ],
   "source": [
    "df_other.address.isnull().any()"
   ]
  },
  {
   "cell_type": "code",
   "execution_count": 20,
   "metadata": {},
   "outputs": [
    {
     "data": {
      "text/plain": [
       "f      2137\n",
       "t       139\n",
       "f.8       1\n",
       "Name: query hyperthyroid, dtype: int64"
      ]
     },
     "execution_count": 20,
     "metadata": {},
     "output_type": "execute_result"
    }
   ],
   "source": [
    "#Neplatné hodnoty - f.8 !!!!!!\n",
    "df_other[\"query hyperthyroid\"].value_counts()"
   ]
  },
  {
   "cell_type": "code",
   "execution_count": 22,
   "metadata": {},
   "outputs": [
    {
     "data": {
      "text/plain": [
       "True"
      ]
     },
     "execution_count": 22,
     "metadata": {},
     "output_type": "execute_result"
    }
   ],
   "source": [
    "#Nachádzajú sa aj prázdne hodnoty\n",
    "df_other[\"query hyperthyroid\"].isnull().any()"
   ]
  },
  {
   "cell_type": "code",
   "execution_count": 24,
   "metadata": {},
   "outputs": [
    {
     "data": {
      "text/plain": [
       "t      2041\n",
       "f       236\n",
       "t.4       1\n",
       "Name: FTI measured, dtype: int64"
      ]
     },
     "execution_count": 24,
     "metadata": {},
     "output_type": "execute_result"
    }
   ],
   "source": [
    "#Neplatné hodnoty - t.4 !!!!!!\n",
    "df_other[\"FTI measured\"].value_counts()"
   ]
  },
  {
   "cell_type": "code",
   "execution_count": 26,
   "metadata": {},
   "outputs": [
    {
     "data": {
      "text/plain": [
       "True"
      ]
     },
     "execution_count": 26,
     "metadata": {},
     "output_type": "execute_result"
    }
   ],
   "source": [
    "#Nachádzajú sa aj prázdne hodnoty\n",
    "df_other[\"FTI measured\"].isnull().any()"
   ]
  },
  {
   "cell_type": "code",
   "execution_count": 30,
   "metadata": {},
   "outputs": [
    {
     "data": {
      "text/plain": [
       " HS-grad         724\n",
       " Some-college    572\n",
       " Bachelors       361\n",
       " Assoc-voc       106\n",
       " Masters          99\n",
       " 11th             93\n",
       " Assoc-acdm       86\n",
       " 10th             63\n",
       " 7th-8th          38\n",
       " 9th              32\n",
       " 12th             30\n",
       " 5th-6th          30\n",
       " Prof-school      24\n",
       " Doctorate        14\n",
       " 1st-4th           7\n",
       " Preschool         1\n",
       "Name: education, dtype: int64"
      ]
     },
     "execution_count": 30,
     "metadata": {},
     "output_type": "execute_result"
    }
   ],
   "source": [
    "df_other.education.value_counts()"
   ]
  },
  {
   "cell_type": "code",
   "execution_count": 32,
   "metadata": {},
   "outputs": [
    {
     "data": {
      "text/plain": [
       "True"
      ]
     },
     "execution_count": 32,
     "metadata": {},
     "output_type": "execute_result"
    }
   ],
   "source": [
    "#Nachádzajú sa prázdne hodnoty\n",
    "df_other.education.isnull().any()"
   ]
  },
  {
   "cell_type": "code",
   "execution_count": 33,
   "metadata": {},
   "outputs": [
    {
     "data": {
      "text/plain": [
       "f      2264\n",
       "t        12\n",
       "f.9       1\n",
       "Name: lithium, dtype: int64"
      ]
     },
     "execution_count": 33,
     "metadata": {},
     "output_type": "execute_result"
    }
   ],
   "source": [
    "#Neplatné hodnoty - f.9 !!!!!!\n",
    "df_other.lithium.value_counts()"
   ]
  },
  {
   "cell_type": "code",
   "execution_count": 35,
   "metadata": {},
   "outputs": [
    {
     "data": {
      "text/plain": [
       "True"
      ]
     },
     "execution_count": 35,
     "metadata": {},
     "output_type": "execute_result"
    }
   ],
   "source": [
    "#Nachádzajú sa prázdne hodnoty\n",
    "df_other.lithium.isnull().any()"
   ]
  },
  {
   "cell_type": "code",
   "execution_count": 41,
   "metadata": {},
   "outputs": [
    {
     "data": {
      "text/plain": [
       "True"
      ]
     },
     "execution_count": 41,
     "metadata": {},
     "output_type": "execute_result"
    }
   ],
   "source": [
    "#Nachádzajú sa prázdne hodnoty NaN\n",
    "df_other.TT4.isna().any() "
   ]
  },
  {
   "cell_type": "code",
   "execution_count": 43,
   "metadata": {},
   "outputs": [
    {
     "data": {
      "text/plain": [
       "True"
      ]
     },
     "execution_count": 43,
     "metadata": {},
     "output_type": "execute_result"
    }
   ],
   "source": [
    "#Nachádzajú sa prázdne hodnoty NULL\n",
    "df_other.TT4.isnull().any()"
   ]
  },
  {
   "cell_type": "code",
   "execution_count": 48,
   "metadata": {},
   "outputs": [
    {
     "data": {
      "text/plain": [
       "True"
      ]
     },
     "execution_count": 48,
     "metadata": {},
     "output_type": "execute_result"
    }
   ],
   "source": [
    "#Nachádzajú sa prázdne hodnoty NaN\n",
    "df_other.T4U.isna().any()"
   ]
  },
  {
   "cell_type": "code",
   "execution_count": 44,
   "metadata": {},
   "outputs": [
    {
     "data": {
      "text/plain": [
       "True"
      ]
     },
     "execution_count": 44,
     "metadata": {},
     "output_type": "execute_result"
    }
   ],
   "source": [
    "#Nachádzajú sa prázdne hodnoty NULL\n",
    "df_other.T4U.isnull().any()"
   ]
  },
  {
   "cell_type": "code",
   "execution_count": 5,
   "metadata": {},
   "outputs": [
    {
     "data": {
      "text/plain": [
       "0.0       1981\n",
       "1902.0      10\n",
       "1977.0       6\n",
       "1602.0       5\n",
       "1669.0       3\n",
       "1721.0       3\n",
       "1485.0       3\n",
       "625.0        2\n",
       "1579.0       2\n",
       "2001.0       2\n",
       "1504.0       2\n",
       "2377.0       2\n",
       "2339.0       2\n",
       "1762.0       2\n",
       "1740.0       2\n",
       "1980.0       2\n",
       "2002.0       1\n",
       "2824.0       1\n",
       "1408.0       1\n",
       "1848.0       1\n",
       "1719.0       1\n",
       "2129.0       1\n",
       "1380.0       1\n",
       "3770.0       1\n",
       "1741.0       1\n",
       "1594.0       1\n",
       "2051.0       1\n",
       "3004.0       1\n",
       "1668.0       1\n",
       "2080.0       1\n",
       "2258.0       1\n",
       "213.0        1\n",
       "1617.0       1\n",
       "1340.0       1\n",
       "2415.0       1\n",
       "1974.0       1\n",
       "Name: capital-loss, dtype: int64"
      ]
     },
     "execution_count": 5,
     "metadata": {},
     "output_type": "execute_result"
    }
   ],
   "source": [
    "#High range values????\n",
    "df_other[\"capital-loss\"].value_counts()"
   ]
  },
  {
   "cell_type": "code",
   "execution_count": 50,
   "metadata": {},
   "outputs": [
    {
     "data": {
      "text/plain": [
       "True"
      ]
     },
     "execution_count": 50,
     "metadata": {},
     "output_type": "execute_result"
    }
   ],
   "source": [
    "df_other[\"capital-loss\"].isnull().any()"
   ]
  },
  {
   "cell_type": "code",
   "execution_count": 52,
   "metadata": {
    "scrolled": true
   },
   "outputs": [
    {
     "data": {
      "text/plain": [
       "True"
      ]
     },
     "execution_count": 52,
     "metadata": {},
     "output_type": "execute_result"
    }
   ],
   "source": [
    "df_other[\"capital-loss\"].isna().any()"
   ]
  },
  {
   "cell_type": "code",
   "execution_count": null,
   "metadata": {},
   "outputs": [],
   "source": [
    "#High range values\n",
    "df_other[\"capital-gain\"].value_counts()"
   ]
  },
  {
   "cell_type": "code",
   "execution_count": 54,
   "metadata": {},
   "outputs": [
    {
     "data": {
      "text/plain": [
       "array([' White', ' Amer-Indian-Eskimo', ' Black', ' Other',\n",
       "       ' Asian-Pac-Islander', nan], dtype=object)"
      ]
     },
     "execution_count": 54,
     "metadata": {},
     "output_type": "execute_result"
    }
   ],
   "source": [
    "#Nan values!!!!!\n",
    "df_other.race.unique()"
   ]
  },
  {
   "cell_type": "code",
   "execution_count": 55,
   "metadata": {},
   "outputs": [
    {
     "data": {
      "text/plain": [
       "array(['f', nan, 'f.12'], dtype=object)"
      ]
     },
     "execution_count": 55,
     "metadata": {},
     "output_type": "execute_result"
    }
   ],
   "source": [
    "##Neplatné hodnoty - f.12 !!!!!!\n",
    "df_other.hypopituitary.unique()"
   ]
  },
  {
   "cell_type": "code",
   "execution_count": 9,
   "metadata": {
    "scrolled": true
   },
   "outputs": [
    {
     "data": {
      "text/html": [
       "<div>\n",
       "<style scoped>\n",
       "    .dataframe tbody tr th:only-of-type {\n",
       "        vertical-align: middle;\n",
       "    }\n",
       "\n",
       "    .dataframe tbody tr th {\n",
       "        vertical-align: top;\n",
       "    }\n",
       "\n",
       "    .dataframe thead th {\n",
       "        text-align: right;\n",
       "    }\n",
       "</style>\n",
       "<table border=\"1\" class=\"dataframe\">\n",
       "  <thead>\n",
       "    <tr style=\"text-align: right;\">\n",
       "      <th></th>\n",
       "      <th>Unnamed: 0</th>\n",
       "      <th>name</th>\n",
       "      <th>address</th>\n",
       "      <th>query hyperthyroid</th>\n",
       "      <th>FTI measured</th>\n",
       "      <th>education</th>\n",
       "      <th>lithium</th>\n",
       "      <th>TT4</th>\n",
       "      <th>T4U</th>\n",
       "      <th>capital-loss</th>\n",
       "      <th>...</th>\n",
       "      <th>hypopituitary</th>\n",
       "      <th>medical_info</th>\n",
       "      <th>on antithyroid medication</th>\n",
       "      <th>referral source</th>\n",
       "      <th>education-num</th>\n",
       "      <th>occupation</th>\n",
       "      <th>TBG measured</th>\n",
       "      <th>TBG</th>\n",
       "      <th>race</th>\n",
       "      <th>FTI</th>\n",
       "    </tr>\n",
       "  </thead>\n",
       "  <tbody>\n",
       "    <tr>\n",
       "      <th>0</th>\n",
       "      <td>0</td>\n",
       "      <td>John Kasprzak</td>\n",
       "      <td>3856 Kayla Track\\nLake Sara, HI 31241</td>\n",
       "      <td>f</td>\n",
       "      <td>t</td>\n",
       "      <td>HS-grad</td>\n",
       "      <td>f</td>\n",
       "      <td>118.0</td>\n",
       "      <td>1.42</td>\n",
       "      <td>0.0</td>\n",
       "      <td>...</td>\n",
       "      <td>f</td>\n",
       "      <td>{'query hypothyroid':'f','T4U measured':'t','p...</td>\n",
       "      <td>f</td>\n",
       "      <td>other</td>\n",
       "      <td>9.0</td>\n",
       "      <td>Craft-repair</td>\n",
       "      <td>f</td>\n",
       "      <td>?</td>\n",
       "      <td>White</td>\n",
       "      <td>83</td>\n",
       "    </tr>\n",
       "    <tr>\n",
       "      <th>1</th>\n",
       "      <td>1</td>\n",
       "      <td>Stephen Harvey</td>\n",
       "      <td>34782 Kayla Field\\nSarahmouth, VT 75984</td>\n",
       "      <td>f</td>\n",
       "      <td>t</td>\n",
       "      <td>HS-grad</td>\n",
       "      <td>f</td>\n",
       "      <td>112.0</td>\n",
       "      <td>1.03</td>\n",
       "      <td>0.0</td>\n",
       "      <td>...</td>\n",
       "      <td>f</td>\n",
       "      <td>{'query hypothyroid':'f','T4U measured':'t','p...</td>\n",
       "      <td>FALSE</td>\n",
       "      <td>other</td>\n",
       "      <td>-900.0</td>\n",
       "      <td>Adm-clerical</td>\n",
       "      <td>f</td>\n",
       "      <td>?</td>\n",
       "      <td>White</td>\n",
       "      <td>109</td>\n",
       "    </tr>\n",
       "    <tr>\n",
       "      <th>2</th>\n",
       "      <td>2</td>\n",
       "      <td>Paul Moe</td>\n",
       "      <td>USNV Mooney\\nFPO AE 29375</td>\n",
       "      <td>f</td>\n",
       "      <td>t</td>\n",
       "      <td>Some-college</td>\n",
       "      <td>f</td>\n",
       "      <td>87.0</td>\n",
       "      <td>0.96</td>\n",
       "      <td>0.0</td>\n",
       "      <td>...</td>\n",
       "      <td>f</td>\n",
       "      <td>{'query hypothyroid':'f','T4U measured':'t','p...</td>\n",
       "      <td>f</td>\n",
       "      <td>SVI</td>\n",
       "      <td>10.0</td>\n",
       "      <td>Other-service</td>\n",
       "      <td>f</td>\n",
       "      <td>?</td>\n",
       "      <td>White</td>\n",
       "      <td>90</td>\n",
       "    </tr>\n",
       "    <tr>\n",
       "      <th>3</th>\n",
       "      <td>3</td>\n",
       "      <td>Sarah Johnson</td>\n",
       "      <td>3633 Bryan Isle\\nNorth Jamesshire, HI 69484</td>\n",
       "      <td>f</td>\n",
       "      <td>t</td>\n",
       "      <td>Doctorate</td>\n",
       "      <td>f</td>\n",
       "      <td>102.0</td>\n",
       "      <td>0.85</td>\n",
       "      <td>0.0</td>\n",
       "      <td>...</td>\n",
       "      <td>f</td>\n",
       "      <td>{'query hypothyroid':'t','T4U measured':'t','p...</td>\n",
       "      <td>f</td>\n",
       "      <td>SVI</td>\n",
       "      <td>16.0</td>\n",
       "      <td>Prof-specialty</td>\n",
       "      <td>f</td>\n",
       "      <td>?</td>\n",
       "      <td>White</td>\n",
       "      <td>119</td>\n",
       "    </tr>\n",
       "    <tr>\n",
       "      <th>4</th>\n",
       "      <td>4</td>\n",
       "      <td>Stacy Martinson</td>\n",
       "      <td>65701 Choi Course Apt. 280\\nNorth Williamton, ...</td>\n",
       "      <td>f</td>\n",
       "      <td>t</td>\n",
       "      <td>Some-college</td>\n",
       "      <td>f</td>\n",
       "      <td>129.0</td>\n",
       "      <td>0.97</td>\n",
       "      <td>0.0</td>\n",
       "      <td>...</td>\n",
       "      <td>f</td>\n",
       "      <td>{'query hypothyroid':'f','T4U measured':'t','p...</td>\n",
       "      <td>F</td>\n",
       "      <td>SVI</td>\n",
       "      <td>10.0</td>\n",
       "      <td>Other-service</td>\n",
       "      <td>f</td>\n",
       "      <td>?</td>\n",
       "      <td>White</td>\n",
       "      <td>133</td>\n",
       "    </tr>\n",
       "    <tr>\n",
       "      <th>5</th>\n",
       "      <td>5</td>\n",
       "      <td>Roxanne Benitez</td>\n",
       "      <td>8892 Powell Lock Suite 509\\nDunnview, CT 49939</td>\n",
       "      <td>f</td>\n",
       "      <td>f</td>\n",
       "      <td>Assoc-acdm</td>\n",
       "      <td>f</td>\n",
       "      <td>NaN</td>\n",
       "      <td>NaN</td>\n",
       "      <td>0.0</td>\n",
       "      <td>...</td>\n",
       "      <td>f</td>\n",
       "      <td>{'query hypothyroid':'f','T4U measured':'f','p...</td>\n",
       "      <td>f</td>\n",
       "      <td>other</td>\n",
       "      <td>12.0</td>\n",
       "      <td>?</td>\n",
       "      <td>f</td>\n",
       "      <td>?</td>\n",
       "      <td>White</td>\n",
       "      <td>?</td>\n",
       "    </tr>\n",
       "    <tr>\n",
       "      <th>6</th>\n",
       "      <td>6</td>\n",
       "      <td>Timothy Selman</td>\n",
       "      <td>74186 Scott Lights\\nWest Joshuahaven, WV 02694</td>\n",
       "      <td>f</td>\n",
       "      <td>t</td>\n",
       "      <td>Bachelors</td>\n",
       "      <td>f</td>\n",
       "      <td>135.0</td>\n",
       "      <td>0.97</td>\n",
       "      <td>0.0</td>\n",
       "      <td>...</td>\n",
       "      <td>f</td>\n",
       "      <td>{'query hypothyroid':'f','T4U measured':'t','p...</td>\n",
       "      <td>f</td>\n",
       "      <td>SVHC</td>\n",
       "      <td>13.0</td>\n",
       "      <td>?</td>\n",
       "      <td>f</td>\n",
       "      <td>?</td>\n",
       "      <td>White</td>\n",
       "      <td>140</td>\n",
       "    </tr>\n",
       "    <tr>\n",
       "      <th>7</th>\n",
       "      <td>7</td>\n",
       "      <td>Wallace Nicholas</td>\n",
       "      <td>706 Dawn Brooks\\nWalkerfort, CA 08964</td>\n",
       "      <td>f</td>\n",
       "      <td>f</td>\n",
       "      <td>Bachelors</td>\n",
       "      <td>f</td>\n",
       "      <td>101.0</td>\n",
       "      <td>NaN</td>\n",
       "      <td>0.0</td>\n",
       "      <td>...</td>\n",
       "      <td>f</td>\n",
       "      <td>{'query hypothyroid':'f','T4U measured':'f','p...</td>\n",
       "      <td>f</td>\n",
       "      <td>SVI</td>\n",
       "      <td>1300.0</td>\n",
       "      <td>Exec-managerial</td>\n",
       "      <td>f</td>\n",
       "      <td>?</td>\n",
       "      <td>White</td>\n",
       "      <td>?</td>\n",
       "    </tr>\n",
       "    <tr>\n",
       "      <th>8</th>\n",
       "      <td>8</td>\n",
       "      <td>Joanne Mcneil</td>\n",
       "      <td>65114 Rodriguez River Suite 382\\nSouth Jessica...</td>\n",
       "      <td>f</td>\n",
       "      <td>t</td>\n",
       "      <td>Some-college</td>\n",
       "      <td>f</td>\n",
       "      <td>182.0</td>\n",
       "      <td>1.04</td>\n",
       "      <td>0.0</td>\n",
       "      <td>...</td>\n",
       "      <td>f</td>\n",
       "      <td>{'query hypothyroid':'f','T4U measured':'t','p...</td>\n",
       "      <td>f</td>\n",
       "      <td>other</td>\n",
       "      <td>10.0</td>\n",
       "      <td>Adm-clerical</td>\n",
       "      <td>f</td>\n",
       "      <td>?</td>\n",
       "      <td>White</td>\n",
       "      <td>175</td>\n",
       "    </tr>\n",
       "    <tr>\n",
       "      <th>9</th>\n",
       "      <td>9</td>\n",
       "      <td>Wayne Hudgins</td>\n",
       "      <td>1481 Bush Manors Apt. 378\\nHostad, MN 26966</td>\n",
       "      <td>f</td>\n",
       "      <td>t</td>\n",
       "      <td>Masters</td>\n",
       "      <td>f</td>\n",
       "      <td>65.0</td>\n",
       "      <td>0.93</td>\n",
       "      <td>0.0</td>\n",
       "      <td>...</td>\n",
       "      <td>f</td>\n",
       "      <td>{'query hypothyroid':'f','T4U measured':'t','p...</td>\n",
       "      <td>F</td>\n",
       "      <td>other</td>\n",
       "      <td>14.0</td>\n",
       "      <td>Adm-clerical</td>\n",
       "      <td>f</td>\n",
       "      <td>?</td>\n",
       "      <td>White</td>\n",
       "      <td>70</td>\n",
       "    </tr>\n",
       "  </tbody>\n",
       "</table>\n",
       "<p>10 rows × 34 columns</p>\n",
       "</div>"
      ],
      "text/plain": [
       "   Unnamed: 0              name  \\\n",
       "0           0     John Kasprzak   \n",
       "1           1    Stephen Harvey   \n",
       "2           2          Paul Moe   \n",
       "3           3     Sarah Johnson   \n",
       "4           4   Stacy Martinson   \n",
       "5           5   Roxanne Benitez   \n",
       "6           6    Timothy Selman   \n",
       "7           7  Wallace Nicholas   \n",
       "8           8     Joanne Mcneil   \n",
       "9           9     Wayne Hudgins   \n",
       "\n",
       "                                             address query hyperthyroid  \\\n",
       "0              3856 Kayla Track\\nLake Sara, HI 31241                  f   \n",
       "1            34782 Kayla Field\\nSarahmouth, VT 75984                  f   \n",
       "2                          USNV Mooney\\nFPO AE 29375                  f   \n",
       "3        3633 Bryan Isle\\nNorth Jamesshire, HI 69484                  f   \n",
       "4  65701 Choi Course Apt. 280\\nNorth Williamton, ...                  f   \n",
       "5     8892 Powell Lock Suite 509\\nDunnview, CT 49939                  f   \n",
       "6     74186 Scott Lights\\nWest Joshuahaven, WV 02694                  f   \n",
       "7              706 Dawn Brooks\\nWalkerfort, CA 08964                  f   \n",
       "8  65114 Rodriguez River Suite 382\\nSouth Jessica...                  f   \n",
       "9        1481 Bush Manors Apt. 378\\nHostad, MN 26966                  f   \n",
       "\n",
       "  FTI measured      education lithium    TT4   T4U  capital-loss ...   \\\n",
       "0            t        HS-grad       f  118.0  1.42           0.0 ...    \n",
       "1            t        HS-grad       f  112.0  1.03           0.0 ...    \n",
       "2            t   Some-college       f   87.0  0.96           0.0 ...    \n",
       "3            t      Doctorate       f  102.0  0.85           0.0 ...    \n",
       "4            t   Some-college       f  129.0  0.97           0.0 ...    \n",
       "5            f     Assoc-acdm       f    NaN   NaN           0.0 ...    \n",
       "6            t      Bachelors       f  135.0  0.97           0.0 ...    \n",
       "7            f      Bachelors       f  101.0   NaN           0.0 ...    \n",
       "8            t   Some-college       f  182.0  1.04           0.0 ...    \n",
       "9            t        Masters       f   65.0  0.93           0.0 ...    \n",
       "\n",
       "   hypopituitary                                       medical_info  \\\n",
       "0              f  {'query hypothyroid':'f','T4U measured':'t','p...   \n",
       "1              f  {'query hypothyroid':'f','T4U measured':'t','p...   \n",
       "2              f  {'query hypothyroid':'f','T4U measured':'t','p...   \n",
       "3              f  {'query hypothyroid':'t','T4U measured':'t','p...   \n",
       "4              f  {'query hypothyroid':'f','T4U measured':'t','p...   \n",
       "5              f  {'query hypothyroid':'f','T4U measured':'f','p...   \n",
       "6              f  {'query hypothyroid':'f','T4U measured':'t','p...   \n",
       "7              f  {'query hypothyroid':'f','T4U measured':'f','p...   \n",
       "8              f  {'query hypothyroid':'f','T4U measured':'t','p...   \n",
       "9              f  {'query hypothyroid':'f','T4U measured':'t','p...   \n",
       "\n",
       "   on antithyroid medication  referral source  education-num  \\\n",
       "0                          f            other            9.0   \n",
       "1                      FALSE            other         -900.0   \n",
       "2                          f              SVI           10.0   \n",
       "3                          f              SVI           16.0   \n",
       "4                          F              SVI           10.0   \n",
       "5                          f            other           12.0   \n",
       "6                          f             SVHC           13.0   \n",
       "7                          f              SVI         1300.0   \n",
       "8                          f            other           10.0   \n",
       "9                          F            other           14.0   \n",
       "\n",
       "         occupation TBG measured TBG    race  FTI  \n",
       "0      Craft-repair            f   ?   White   83  \n",
       "1      Adm-clerical            f   ?   White  109  \n",
       "2     Other-service            f   ?   White   90  \n",
       "3    Prof-specialty            f   ?   White  119  \n",
       "4     Other-service            f   ?   White  133  \n",
       "5                 ?            f   ?   White    ?  \n",
       "6                 ?            f   ?   White  140  \n",
       "7   Exec-managerial            f   ?   White    ?  \n",
       "8      Adm-clerical            f   ?   White  175  \n",
       "9      Adm-clerical            f   ?   White   70  \n",
       "\n",
       "[10 rows x 34 columns]"
      ]
     },
     "execution_count": 9,
     "metadata": {},
     "output_type": "execute_result"
    }
   ],
   "source": [
    "df_other.head(10)"
   ]
  },
  {
   "cell_type": "code",
   "execution_count": 10,
   "metadata": {},
   "outputs": [
    {
     "data": {
      "text/plain": [
       "f        2020\n",
       "F         133\n",
       "FALSE      95\n",
       "t          25\n",
       "T           2\n",
       "TRUE        2\n",
       "f.2         1\n",
       "Name: on antithyroid medication, dtype: int64"
      ]
     },
     "execution_count": 10,
     "metadata": {},
     "output_type": "execute_result"
    }
   ],
   "source": [
    "df_other[\"on antithyroid medication\"].value_counts()"
   ]
  },
  {
   "cell_type": "code",
   "execution_count": 11,
   "metadata": {},
   "outputs": [
    {
     "data": {
      "text/plain": [
       "other    1326\n",
       "SVI       640\n",
       "SVHC      216\n",
       "STMW       68\n",
       "SVHD       26\n",
       "Name: referral source, dtype: int64"
      ]
     },
     "execution_count": 11,
     "metadata": {},
     "output_type": "execute_result"
    }
   ],
   "source": [
    "df_other[\"referral source\"].value_counts()"
   ]
  },
  {
   "cell_type": "code",
   "execution_count": null,
   "metadata": {},
   "outputs": [],
   "source": [
    "df_other[\"education-num\"].value_counts()"
   ]
  },
  {
   "cell_type": "code",
   "execution_count": 14,
   "metadata": {},
   "outputs": [
    {
     "data": {
      "text/plain": [
       " Adm-clerical         398\n",
       " Other-service        357\n",
       " Exec-managerial      284\n",
       " Prof-specialty       274\n",
       " Sales                246\n",
       " Craft-repair         170\n",
       " ?                    165\n",
       " Machine-op-inspct    119\n",
       " Transport-moving      63\n",
       " Tech-support          60\n",
       " Handlers-cleaners     59\n",
       " Farming-fishing       36\n",
       " Protective-serv       23\n",
       " Priv-house-serv       20\n",
       "Name: occupation, dtype: int64"
      ]
     },
     "execution_count": 14,
     "metadata": {},
     "output_type": "execute_result"
    }
   ],
   "source": [
    "df_other[\"occupation\"].value_counts()"
   ]
  },
  {
   "cell_type": "code",
   "execution_count": 15,
   "metadata": {},
   "outputs": [
    {
     "data": {
      "text/plain": [
       "f       2279\n",
       "f.14       1\n",
       "Name: TBG measured, dtype: int64"
      ]
     },
     "execution_count": 15,
     "metadata": {},
     "output_type": "execute_result"
    }
   ],
   "source": [
    "df_other[\"TBG measured\"].value_counts()"
   ]
  },
  {
   "cell_type": "code",
   "execution_count": 16,
   "metadata": {},
   "outputs": [
    {
     "data": {
      "text/plain": [
       "?    2275\n",
       "Name: TBG, dtype: int64"
      ]
     },
     "execution_count": 16,
     "metadata": {},
     "output_type": "execute_result"
    }
   ],
   "source": [
    "df_other.TBG.value_counts()"
   ]
  },
  {
   "cell_type": "code",
   "execution_count": 17,
   "metadata": {},
   "outputs": [
    {
     "data": {
      "text/plain": [
       "Index(['Unnamed: 0', 'name', 'address', 'query hyperthyroid', 'FTI measured',\n",
       "       'education', 'lithium', 'TT4', 'T4U', 'capital-loss', 'capital-gain',\n",
       "       'tumor', 'TSH', 'T3', 'fnlwgt', 'hours-per-week', 'relationship',\n",
       "       'sick', 'workclass', 'TT4 measured', 'class', 'marital-status',\n",
       "       'goitre', 'native-country', 'hypopituitary', 'medical_info',\n",
       "       'on antithyroid medication', 'referral source', 'education-num',\n",
       "       'occupation', 'TBG measured', 'TBG', 'race', 'FTI'],\n",
       "      dtype='object')"
      ]
     },
     "execution_count": 17,
     "metadata": {},
     "output_type": "execute_result"
    }
   ],
   "source": [
    "df_other.columns"
   ]
  },
  {
   "cell_type": "code",
   "execution_count": 18,
   "metadata": {},
   "outputs": [
    {
     "data": {
      "text/plain": [
       "f       2222\n",
       "t         54\n",
       "f.11       1\n",
       "Name: tumor, dtype: int64"
      ]
     },
     "execution_count": 18,
     "metadata": {},
     "output_type": "execute_result"
    }
   ],
   "source": [
    "df_other.tumor.value_counts()"
   ]
  },
  {
   "cell_type": "code",
   "execution_count": null,
   "metadata": {},
   "outputs": [],
   "source": [
    "df_other.TSH.value_counts()"
   ]
  },
  {
   "cell_type": "code",
   "execution_count": 24,
   "metadata": {},
   "outputs": [
    {
     "data": {
      "text/plain": [
       "array([' Husband', ' Not-in-family', ' Own-child', ' Wife',\n",
       "       ' Other-relative', ' Unmarried', nan], dtype=object)"
      ]
     },
     "execution_count": 24,
     "metadata": {},
     "output_type": "execute_result"
    }
   ],
   "source": [
    "df_other.relationship.unique()"
   ]
  },
  {
   "cell_type": "code",
   "execution_count": 26,
   "metadata": {},
   "outputs": [
    {
     "data": {
      "text/plain": [
       "f      2187\n",
       "t        89\n",
       "f.3       1\n",
       "Name: sick, dtype: int64"
      ]
     },
     "execution_count": 26,
     "metadata": {},
     "output_type": "execute_result"
    }
   ],
   "source": [
    "df_other.sick.value_counts()"
   ]
  },
  {
   "cell_type": "code",
   "execution_count": 27,
   "metadata": {},
   "outputs": [
    {
     "data": {
      "text/plain": [
       "array([' Private', nan, '??', ' ?', ' Self-emp-not-inc', ' Local-gov',\n",
       "       ' State-gov', ' Self-emp-inc', 'federal-gov', 'private',\n",
       "       ' Federal-gov', 'local-gov', '?', 'self-emp-not-inc', 'Nan',\n",
       "       'state-gov', 'self-emp-inc', ' Without-pay'], dtype=object)"
      ]
     },
     "execution_count": 27,
     "metadata": {},
     "output_type": "execute_result"
    }
   ],
   "source": [
    "df_other.workclass.unique()"
   ]
  },
  {
   "cell_type": "code",
   "execution_count": null,
   "metadata": {},
   "outputs": [],
   "source": [
    "#Nesprávny formát\n",
    "df_other[\"class\"].value_counts()"
   ]
  },
  {
   "cell_type": "code",
   "execution_count": 33,
   "metadata": {
    "scrolled": true
   },
   "outputs": [
    {
     "data": {
      "text/plain": [
       "array([' Married-civ-spouse', ' Never-married', ' Widowed', ' Divorced',\n",
       "       ' Married-spouse-absent', ' Separated', nan, ' Married-AF-spouse'],\n",
       "      dtype=object)"
      ]
     },
     "execution_count": 33,
     "metadata": {},
     "output_type": "execute_result"
    }
   ],
   "source": [
    "df_other[\"marital-status\"].unique()"
   ]
  },
  {
   "cell_type": "code",
   "execution_count": 36,
   "metadata": {},
   "outputs": [
    {
     "data": {
      "text/plain": [
       "array([' United-States', ' Canada', ' ?', ' India', ' Jamaica',\n",
       "       ' Germany', ' Japan', nan, ' Mexico', ' Puerto-Rico',\n",
       "       ' Trinadad&Tobago', ' Portugal', ' Iran', ' England',\n",
       "       ' Dominican-Republic', ' Cuba', ' Haiti', ' Columbia', ' Vietnam',\n",
       "       ' Taiwan', ' China', ' El-Salvador', ' Cambodia', ' Philippines',\n",
       "       ' Ecuador', ' Poland', ' Nicaragua', ' Guatemala', ' Peru',\n",
       "       ' South', ' Italy', ' Yugoslavia', ' Honduras', ' Hong', ' Greece'],\n",
       "      dtype=object)"
      ]
     },
     "execution_count": 36,
     "metadata": {},
     "output_type": "execute_result"
    }
   ],
   "source": [
    "df_other[\"native-country\"].unique()"
   ]
  },
  {
   "cell_type": "code",
   "execution_count": null,
   "metadata": {},
   "outputs": [],
   "source": [
    "df_other[\"native-country\"].value_counts()"
   ]
  },
  {
   "cell_type": "code",
   "execution_count": null,
   "metadata": {},
   "outputs": [],
   "source": [
    "df_other.FTI.value_counts()"
   ]
  }
 ],
 "metadata": {
  "kernelspec": {
   "display_name": "Python 3",
   "language": "python",
   "name": "python3"
  },
  "language_info": {
   "codemirror_mode": {
    "name": "ipython",
    "version": 3
   },
   "file_extension": ".py",
   "mimetype": "text/x-python",
   "name": "python",
   "nbconvert_exporter": "python",
   "pygments_lexer": "ipython3",
   "version": "3.7.0"
  }
 },
 "nbformat": 4,
 "nbformat_minor": 2
}
