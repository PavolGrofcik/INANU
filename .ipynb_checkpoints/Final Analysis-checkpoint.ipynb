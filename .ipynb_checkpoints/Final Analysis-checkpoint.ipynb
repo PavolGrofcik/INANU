{
 "cells": [
  {
   "cell_type": "markdown",
   "metadata": {},
   "source": [
    "<p style=\"font-family: Arial; font-size:4.05em; color:darkblue; font-style:bold\"><br>\n",
    "Intelligent Data Analysis</p><br>"
   ]
  },
  {
   "cell_type": "markdown",
   "metadata": {},
   "source": [
    "## Part I - Exploratory Analysis \\#79  \n",
    "Pavol Grofčík  \n",
    "Denis Sobolev"
   ]
  },
  {
   "cell_type": "code",
   "execution_count": 2,
   "metadata": {},
   "outputs": [],
   "source": [
    "#Importing of used libraries\n",
    "import numpy as np\n",
    "import pandas as pd\n",
    "import matplotlib.pyplot as plt\n",
    "import seaborn as sns\n",
    "import holoviews as hw\n",
    "import statsmodels.api as sm\n",
    "import warnings\n",
    "warnings.simplefilter(action='ignore', category=FutureWarning)\n",
    "\n",
    "#Showing graphs in a browser env\n",
    "%matplotlib inline"
   ]
  },
  {
   "cell_type": "markdown",
   "metadata": {},
   "source": [
    "<p style=\"font-family: Arial; font-size:2.95em; color:purple; font-style:bold\"><br>\n",
    "Content</p><br>"
   ]
  },
  {
   "cell_type": "markdown",
   "metadata": {},
   "source": [
    "## Sections  \n",
    "Analysis of each train dataset is divided into sections, shown below\n",
    "* __Introduction__\n",
    "* __Personal_train__\n",
    "    * Reading & descriptive statistics upon data\n",
    "    * Datatypes, Null/Nan values\n",
    "    * Column distributions\n",
    "    * Revealing intentional faults  \n",
    "    \n",
    "* __Other_train__\n",
    "    * Reading & descriptive statistics upon data\n",
    "    * Datatypes, Null/Nan values\n",
    "    * Revealing intentional faults\n",
    "    * Column distributions \n",
    "    * Analysis of Hormones\n",
    "    * Formulated Hypothesis\n",
    "    * Hormone correlation\n",
    "    * Vizualization of results\n",
    "    * Proposed methods of the next step - data cleansings & preprocessing\n",
    "* __Conclusion__"
   ]
  },
  {
   "cell_type": "markdown",
   "metadata": {},
   "source": [
    "<p style=\"font-family: Arial; font-size:2.95em; color:orange; font-style:bold\"><br>\n",
    "Introduction</p><br>"
   ]
  },
  {
   "cell_type": "markdown",
   "metadata": {},
   "source": [
    "**Thyroid disease (THD)** is disease that affects mainly Thyroid gland - butterfly-shaped gland in the front of the neck (see below) and stimulates hormones production, which is important for body in a way it controls metabolism and other hormone production, even your heartbeats.  \n",
    "Symptoms of the disease vary depending on the type. In general, there are two main types:\n",
    "> **Hypothyroidsm** - as result of hormone deficit  \n",
    "> **Hyperthyroidsm** - as result of hormone overproduction  \n"
   ]
  },
  {
   "cell_type": "markdown",
   "metadata": {},
   "source": [
    "![image](http://wholehealthweb.com/wp-content/uploads/2016/11/bigstock-d-rendered-medically-accurat-136052459-thyroid-627x376.jpg)"
   ]
  },
  {
   "cell_type": "markdown",
   "metadata": {},
   "source": [
    "### Hypothyroidism\n",
    "Your thyroid does not make enough thyroid hormones. It is also called underactive thyroid. This slows down many of your body's functions, like your metabolism."
   ]
  },
  {
   "cell_type": "markdown",
   "metadata": {},
   "source": [
    "In order to prevent Hypothyroidsm, our hypophysis located in front cerebral, stimulates production of TSH - *thyroid stimulating hormone*, which affects secretion of T4 hormone, which divides into two types: \n",
    "> **TT4** - Total amount  \n",
    "> **T4U** - Unbound amount"
   ]
  },
  {
   "cell_type": "markdown",
   "metadata": {},
   "source": [
    "### Hyperthyroidsm  \n",
    "Means overactivation of thyroid, causes your thyroid to make more thyroid hormone than your body needs. This speeds up many of your body's functions, like your metabolism and heart rate."
   ]
  },
  {
   "cell_type": "markdown",
   "metadata": {},
   "source": [
    "**In this analysis, we will explore our datasets, especially hormone levels and finally, we will test proposed hypothesis to prove correlation and dependencies among them and verify them based on medical literature & physician's utterance.**"
   ]
  },
  {
   "cell_type": "markdown",
   "metadata": {},
   "source": [
    "<p style=\"font-family: Arial; font-size:2.95em; color:purple; font-style:bold\"><br>\n",
    "Personal_train dataset</p><br>"
   ]
  },
  {
   "cell_type": "markdown",
   "metadata": {},
   "source": [
    "### Reading & descriptive statistics"
   ]
  },
  {
   "cell_type": "code",
   "execution_count": 3,
   "metadata": {},
   "outputs": [
    {
     "data": {
      "text/html": [
       "<div>\n",
       "<style scoped>\n",
       "    .dataframe tbody tr th:only-of-type {\n",
       "        vertical-align: middle;\n",
       "    }\n",
       "\n",
       "    .dataframe tbody tr th {\n",
       "        vertical-align: top;\n",
       "    }\n",
       "\n",
       "    .dataframe thead th {\n",
       "        text-align: right;\n",
       "    }\n",
       "</style>\n",
       "<table border=\"1\" class=\"dataframe\">\n",
       "  <thead>\n",
       "    <tr style=\"text-align: right;\">\n",
       "      <th></th>\n",
       "      <th>name</th>\n",
       "      <th>address</th>\n",
       "      <th>age</th>\n",
       "      <th>sex</th>\n",
       "      <th>date_of_birth</th>\n",
       "    </tr>\n",
       "  </thead>\n",
       "  <tbody>\n",
       "    <tr>\n",
       "      <th>0</th>\n",
       "      <td>Terry Terry</td>\n",
       "      <td>11818 Lori Crossing Apt. 802\\nPughstad, DC 78165</td>\n",
       "      <td>68.0</td>\n",
       "      <td>M</td>\n",
       "      <td>1949-11-16</td>\n",
       "    </tr>\n",
       "    <tr>\n",
       "      <th>1</th>\n",
       "      <td>Edith Boudreaux</td>\n",
       "      <td>PSC 4657, Box 5446\\nAPO AP 58412</td>\n",
       "      <td>75.0</td>\n",
       "      <td>F</td>\n",
       "      <td>1943-08-10</td>\n",
       "    </tr>\n",
       "    <tr>\n",
       "      <th>2</th>\n",
       "      <td>Stephen Lalk</td>\n",
       "      <td>Unit 9759 Box 9470\\nDPO AP 45549</td>\n",
       "      <td>67.0</td>\n",
       "      <td>M</td>\n",
       "      <td>1951-05-28</td>\n",
       "    </tr>\n",
       "    <tr>\n",
       "      <th>3</th>\n",
       "      <td>Abraham Bruce</td>\n",
       "      <td>137 Lewis Flat Suite 762\\nWest Elizabeth, AL 3...</td>\n",
       "      <td>34.0</td>\n",
       "      <td>?</td>\n",
       "      <td>1984-02-13</td>\n",
       "    </tr>\n",
       "    <tr>\n",
       "      <th>4</th>\n",
       "      <td>Janet Washington</td>\n",
       "      <td>995 Frank Stravenue\\nSouth Matthewport, TX 81402</td>\n",
       "      <td>65.0</td>\n",
       "      <td>F</td>\n",
       "      <td>1953/06/24</td>\n",
       "    </tr>\n",
       "  </tbody>\n",
       "</table>\n",
       "</div>"
      ],
      "text/plain": [
       "               name                                            address   age  \\\n",
       "0       Terry Terry   11818 Lori Crossing Apt. 802\\nPughstad, DC 78165  68.0   \n",
       "1   Edith Boudreaux                   PSC 4657, Box 5446\\nAPO AP 58412  75.0   \n",
       "2      Stephen Lalk                   Unit 9759 Box 9470\\nDPO AP 45549  67.0   \n",
       "3     Abraham Bruce  137 Lewis Flat Suite 762\\nWest Elizabeth, AL 3...  34.0   \n",
       "4  Janet Washington   995 Frank Stravenue\\nSouth Matthewport, TX 81402  65.0   \n",
       "\n",
       "  sex date_of_birth  \n",
       "0   M    1949-11-16  \n",
       "1   F    1943-08-10  \n",
       "2   M    1951-05-28  \n",
       "3   ?    1984-02-13  \n",
       "4   F    1953/06/24  "
      ]
     },
     "execution_count": 3,
     "metadata": {},
     "output_type": "execute_result"
    }
   ],
   "source": [
    "df_personal = pd.read_csv(\"Datasets/personal_train.csv\", index_col=0)\n",
    "df_personal.head()"
   ]
  },
  {
   "cell_type": "code",
   "execution_count": 4,
   "metadata": {
    "scrolled": true
   },
   "outputs": [
    {
     "name": "stdout",
     "output_type": "stream",
     "text": [
      "<class 'pandas.core.frame.DataFrame'>\n",
      "Int64Index: 2237 entries, 0 to 2236\n",
      "Data columns (total 5 columns):\n",
      "name             2237 non-null object\n",
      "address          2237 non-null object\n",
      "age              2236 non-null float64\n",
      "sex              2237 non-null object\n",
      "date_of_birth    2236 non-null object\n",
      "dtypes: float64(1), object(4)\n",
      "memory usage: 104.9+ KB\n"
     ]
    }
   ],
   "source": [
    "df_personal.info()"
   ]
  },
  {
   "cell_type": "markdown",
   "metadata": {},
   "source": [
    "**Info()** is showing us *NULL* values in **age** and **date_of_birth** columns, column datatypes, number of rows, columns... See above for more information."
   ]
  },
  {
   "cell_type": "markdown",
   "metadata": {},
   "source": [
    "## Column distributions & analysis"
   ]
  },
  {
   "cell_type": "code",
   "execution_count": 5,
   "metadata": {},
   "outputs": [
    {
     "name": "stdout",
     "output_type": "stream",
     "text": [
      "count    2236.000000\n",
      "mean       51.822004\n",
      "std        20.884439\n",
      "min         1.000000\n",
      "25%        36.000000\n",
      "50%        54.000000\n",
      "75%        67.000000\n",
      "max       455.000000\n",
      "Name: age, dtype: float64\n"
     ]
    }
   ],
   "source": [
    "stats = df_personal.age.describe().dropna()\n",
    "print(stats)"
   ]
  },
  {
   "cell_type": "code",
   "execution_count": 15,
   "metadata": {},
   "outputs": [
    {
     "data": {
      "text/plain": [
       "<matplotlib.axes._subplots.AxesSubplot at 0x7fa4c9731e10>"
      ]
     },
     "execution_count": 15,
     "metadata": {},
     "output_type": "execute_result"
    },
    {
     "data": {
      "image/png": "[encoded data removed]",
      "text/plain": [
       "<Figure size 432x288 with 1 Axes>"
      ]
     },
     "metadata": {
      "needs_background": "light"
     },
     "output_type": "display_data"
    }
   ],
   "source": [
    "sns.distplot(stats)"
   ]
  },
  {
   "cell_type": "code",
   "execution_count": 75,
   "metadata": {},
   "outputs": [
    {
     "data": {
      "image/png": "[encoded data removed]",
      "text/plain": [
       "<Figure size 432x288 with 1 Axes>"
      ]
     },
     "metadata": {
      "needs_background": "light"
     },
     "output_type": "display_data"
    }
   ],
   "source": [
    "_ = sm.ProbPlot(stats,fit=True).qqplot(line='45')"
   ]
  },
  {
   "cell_type": "code",
   "execution_count": 6,
   "metadata": {},
   "outputs": [
    {
     "data": {
      "text/plain": [
       "<matplotlib.axes._subplots.AxesSubplot at 0x7f01799eda58>"
      ]
     },
     "execution_count": 6,
     "metadata": {},
     "output_type": "execute_result"
    },
    {
     "data": {
      "image/png": "[encoded data removed]",
      "text/plain": [
       "<Figure size 432x288 with 1 Axes>"
      ]
     },
     "metadata": {
      "needs_background": "light"
     },
     "output_type": "display_data"
    }
   ],
   "source": [
    "sns.boxplot(x = \"age\", data=df_personal.dropna(),saturation=True)"
   ]
  },
  {
   "cell_type": "code",
   "execution_count": 73,
   "metadata": {},
   "outputs": [
    {
     "data": {
      "text/plain": [
       "455.0"
      ]
     },
     "execution_count": 73,
     "metadata": {},
     "output_type": "execute_result"
    }
   ],
   "source": [
    "#Probably an outlier in the right parf of boxplot graph\n",
    "max(df_personal.age)"
   ]
  },
  {
   "cell_type": "markdown",
   "metadata": {},
   "source": [
    "In the pictures above, we can see **uneven distribution** of values from the Age column. From QQ plot visualization, we can assume right skewed distribution, which holds true(See sns.displot graph). Also there is an **outlier** in the right part of boxplot, which lies in the abnormal distance from others."
   ]
  },
  {
   "cell_type": "code",
   "execution_count": 63,
   "metadata": {
    "scrolled": true
   },
   "outputs": [
    {
     "data": {
      "text/plain": [
       "1945-09-13             4\n",
       "1948-04-26             3\n",
       "1953-05-08             2\n",
       "1954-09-17             2\n",
       "1959-08-27 00 00 00    2\n",
       "13/11/1960             2\n",
       "1948-02-03             2\n",
       "1975-03-07             2\n",
       "1958-04-04             2\n",
       "1959-12-05             2\n",
       "1947-12-02             2\n",
       "1998-12-24             2\n",
       "1971-11-08             2\n",
       "55-07-29               2\n",
       "1964-01-15             2\n",
       "Name: date_of_birth, dtype: int64"
      ]
     },
     "execution_count": 63,
     "metadata": {},
     "output_type": "execute_result"
    }
   ],
   "source": [
    "df_personal.date_of_birth.value_counts().head(15)"
   ]
  },
  {
   "cell_type": "markdown",
   "metadata": {},
   "source": [
    "We can see, that **date_of_birth** column format is *dirty*, there are various types of date format, even with time - datetime."
   ]
  },
  {
   "cell_type": "markdown",
   "metadata": {},
   "source": [
    "<p style=\"font-family: Arial; font-size:2.95em; color:orange; font-style:bold\"><br>\n",
    "Other_train dataset</p><br>"
   ]
  },
  {
   "cell_type": "markdown",
   "metadata": {},
   "source": [
    "### Reading & descriptive statistics"
   ]
  },
  {
   "cell_type": "code",
   "execution_count": 7,
   "metadata": {
    "scrolled": true
   },
   "outputs": [
    {
     "data": {
      "text/html": [
       "<div>\n",
       "<style scoped>\n",
       "    .dataframe tbody tr th:only-of-type {\n",
       "        vertical-align: middle;\n",
       "    }\n",
       "\n",
       "    .dataframe tbody tr th {\n",
       "        vertical-align: top;\n",
       "    }\n",
       "\n",
       "    .dataframe thead th {\n",
       "        text-align: right;\n",
       "    }\n",
       "</style>\n",
       "<table border=\"1\" class=\"dataframe\">\n",
       "  <thead>\n",
       "    <tr style=\"text-align: right;\">\n",
       "      <th></th>\n",
       "      <th>name</th>\n",
       "      <th>address</th>\n",
       "      <th>query hyperthyroid</th>\n",
       "      <th>FTI measured</th>\n",
       "      <th>education</th>\n",
       "      <th>lithium</th>\n",
       "      <th>TT4</th>\n",
       "      <th>T4U</th>\n",
       "      <th>capital-loss</th>\n",
       "      <th>capital-gain</th>\n",
       "      <th>...</th>\n",
       "      <th>hypopituitary</th>\n",
       "      <th>medical_info</th>\n",
       "      <th>on antithyroid medication</th>\n",
       "      <th>referral source</th>\n",
       "      <th>education-num</th>\n",
       "      <th>occupation</th>\n",
       "      <th>TBG measured</th>\n",
       "      <th>TBG</th>\n",
       "      <th>race</th>\n",
       "      <th>FTI</th>\n",
       "    </tr>\n",
       "  </thead>\n",
       "  <tbody>\n",
       "    <tr>\n",
       "      <th>0</th>\n",
       "      <td>John Kasprzak</td>\n",
       "      <td>3856 Kayla Track\\nLake Sara, HI 31241</td>\n",
       "      <td>f</td>\n",
       "      <td>t</td>\n",
       "      <td>HS-grad</td>\n",
       "      <td>f</td>\n",
       "      <td>118.0</td>\n",
       "      <td>1.42</td>\n",
       "      <td>0.0</td>\n",
       "      <td>0.0</td>\n",
       "      <td>...</td>\n",
       "      <td>f</td>\n",
       "      <td>{'query hypothyroid':'f','T4U measured':'t','p...</td>\n",
       "      <td>f</td>\n",
       "      <td>other</td>\n",
       "      <td>9.0</td>\n",
       "      <td>Craft-repair</td>\n",
       "      <td>f</td>\n",
       "      <td>?</td>\n",
       "      <td>White</td>\n",
       "      <td>83</td>\n",
       "    </tr>\n",
       "    <tr>\n",
       "      <th>1</th>\n",
       "      <td>Stephen Harvey</td>\n",
       "      <td>34782 Kayla Field\\nSarahmouth, VT 75984</td>\n",
       "      <td>f</td>\n",
       "      <td>t</td>\n",
       "      <td>HS-grad</td>\n",
       "      <td>f</td>\n",
       "      <td>112.0</td>\n",
       "      <td>1.03</td>\n",
       "      <td>0.0</td>\n",
       "      <td>0.0</td>\n",
       "      <td>...</td>\n",
       "      <td>f</td>\n",
       "      <td>{'query hypothyroid':'f','T4U measured':'t','p...</td>\n",
       "      <td>FALSE</td>\n",
       "      <td>other</td>\n",
       "      <td>-900.0</td>\n",
       "      <td>Adm-clerical</td>\n",
       "      <td>f</td>\n",
       "      <td>?</td>\n",
       "      <td>White</td>\n",
       "      <td>109</td>\n",
       "    </tr>\n",
       "    <tr>\n",
       "      <th>2</th>\n",
       "      <td>Paul Moe</td>\n",
       "      <td>USNV Mooney\\nFPO AE 29375</td>\n",
       "      <td>f</td>\n",
       "      <td>t</td>\n",
       "      <td>Some-college</td>\n",
       "      <td>f</td>\n",
       "      <td>87.0</td>\n",
       "      <td>0.96</td>\n",
       "      <td>0.0</td>\n",
       "      <td>0.0</td>\n",
       "      <td>...</td>\n",
       "      <td>f</td>\n",
       "      <td>{'query hypothyroid':'f','T4U measured':'t','p...</td>\n",
       "      <td>f</td>\n",
       "      <td>SVI</td>\n",
       "      <td>10.0</td>\n",
       "      <td>Other-service</td>\n",
       "      <td>f</td>\n",
       "      <td>?</td>\n",
       "      <td>White</td>\n",
       "      <td>90</td>\n",
       "    </tr>\n",
       "    <tr>\n",
       "      <th>3</th>\n",
       "      <td>Sarah Johnson</td>\n",
       "      <td>3633 Bryan Isle\\nNorth Jamesshire, HI 69484</td>\n",
       "      <td>f</td>\n",
       "      <td>t</td>\n",
       "      <td>Doctorate</td>\n",
       "      <td>f</td>\n",
       "      <td>102.0</td>\n",
       "      <td>0.85</td>\n",
       "      <td>0.0</td>\n",
       "      <td>0.0</td>\n",
       "      <td>...</td>\n",
       "      <td>f</td>\n",
       "      <td>{'query hypothyroid':'t','T4U measured':'t','p...</td>\n",
       "      <td>f</td>\n",
       "      <td>SVI</td>\n",
       "      <td>16.0</td>\n",
       "      <td>Prof-specialty</td>\n",
       "      <td>f</td>\n",
       "      <td>?</td>\n",
       "      <td>White</td>\n",
       "      <td>119</td>\n",
       "    </tr>\n",
       "    <tr>\n",
       "      <th>4</th>\n",
       "      <td>Stacy Martinson</td>\n",
       "      <td>65701 Choi Course Apt. 280\\nNorth Williamton, ...</td>\n",
       "      <td>f</td>\n",
       "      <td>t</td>\n",
       "      <td>Some-college</td>\n",
       "      <td>f</td>\n",
       "      <td>129.0</td>\n",
       "      <td>0.97</td>\n",
       "      <td>0.0</td>\n",
       "      <td>0.0</td>\n",
       "      <td>...</td>\n",
       "      <td>f</td>\n",
       "      <td>{'query hypothyroid':'f','T4U measured':'t','p...</td>\n",
       "      <td>F</td>\n",
       "      <td>SVI</td>\n",
       "      <td>10.0</td>\n",
       "      <td>Other-service</td>\n",
       "      <td>f</td>\n",
       "      <td>?</td>\n",
       "      <td>White</td>\n",
       "      <td>133</td>\n",
       "    </tr>\n",
       "  </tbody>\n",
       "</table>\n",
       "<p>5 rows × 33 columns</p>\n",
       "</div>"
      ],
      "text/plain": [
       "              name                                            address  \\\n",
       "0    John Kasprzak              3856 Kayla Track\\nLake Sara, HI 31241   \n",
       "1   Stephen Harvey            34782 Kayla Field\\nSarahmouth, VT 75984   \n",
       "2         Paul Moe                          USNV Mooney\\nFPO AE 29375   \n",
       "3    Sarah Johnson        3633 Bryan Isle\\nNorth Jamesshire, HI 69484   \n",
       "4  Stacy Martinson  65701 Choi Course Apt. 280\\nNorth Williamton, ...   \n",
       "\n",
       "  query hyperthyroid FTI measured      education lithium    TT4   T4U  \\\n",
       "0                  f            t        HS-grad       f  118.0  1.42   \n",
       "1                  f            t        HS-grad       f  112.0  1.03   \n",
       "2                  f            t   Some-college       f   87.0  0.96   \n",
       "3                  f            t      Doctorate       f  102.0  0.85   \n",
       "4                  f            t   Some-college       f  129.0  0.97   \n",
       "\n",
       "   capital-loss  capital-gain ...  hypopituitary  \\\n",
       "0           0.0           0.0 ...              f   \n",
       "1           0.0           0.0 ...              f   \n",
       "2           0.0           0.0 ...              f   \n",
       "3           0.0           0.0 ...              f   \n",
       "4           0.0           0.0 ...              f   \n",
       "\n",
       "                                        medical_info  \\\n",
       "0  {'query hypothyroid':'f','T4U measured':'t','p...   \n",
       "1  {'query hypothyroid':'f','T4U measured':'t','p...   \n",
       "2  {'query hypothyroid':'f','T4U measured':'t','p...   \n",
       "3  {'query hypothyroid':'t','T4U measured':'t','p...   \n",
       "4  {'query hypothyroid':'f','T4U measured':'t','p...   \n",
       "\n",
       "   on antithyroid medication  referral source  education-num       occupation  \\\n",
       "0                          f            other            9.0     Craft-repair   \n",
       "1                      FALSE            other         -900.0     Adm-clerical   \n",
       "2                          f              SVI           10.0    Other-service   \n",
       "3                          f              SVI           16.0   Prof-specialty   \n",
       "4                          F              SVI           10.0    Other-service   \n",
       "\n",
       "  TBG measured TBG    race  FTI  \n",
       "0            f   ?   White   83  \n",
       "1            f   ?   White  109  \n",
       "2            f   ?   White   90  \n",
       "3            f   ?   White  119  \n",
       "4            f   ?   White  133  \n",
       "\n",
       "[5 rows x 33 columns]"
      ]
     },
     "execution_count": 7,
     "metadata": {},
     "output_type": "execute_result"
    }
   ],
   "source": [
    "df_other = pd.read_csv(\"Datasets/other_train.csv\", index_col=0)\n",
    "df_other.head()"
   ]
  },
  {
   "cell_type": "code",
   "execution_count": 69,
   "metadata": {},
   "outputs": [
    {
     "name": "stdout",
     "output_type": "stream",
     "text": [
      "<class 'pandas.core.frame.DataFrame'>\n",
      "Int64Index: 2287 entries, 0 to 2286\n",
      "Data columns (total 33 columns):\n",
      "name                         2287 non-null object\n",
      "address                      2287 non-null object\n",
      "query hyperthyroid           2277 non-null object\n",
      "FTI measured                 2278 non-null object\n",
      "education                    2280 non-null object\n",
      "lithium                      2277 non-null object\n",
      "TT4                          2125 non-null float64\n",
      "T4U                          2042 non-null float64\n",
      "capital-loss                 2049 non-null float64\n",
      "capital-gain                 2282 non-null float64\n",
      "tumor                        2277 non-null object\n",
      "TSH                          2040 non-null float64\n",
      "T3                           1805 non-null float64\n",
      "fnlwgt                       2279 non-null float64\n",
      "hours-per-week               2278 non-null float64\n",
      "relationship                 2278 non-null object\n",
      "sick                         2277 non-null object\n",
      "workclass                    2140 non-null object\n",
      "TT4 measured                 2278 non-null object\n",
      "class                        2279 non-null object\n",
      "marital-status               2277 non-null object\n",
      "goitre                       2279 non-null object\n",
      "native-country               2281 non-null object\n",
      "hypopituitary                2279 non-null object\n",
      "medical_info                 2277 non-null object\n",
      "on antithyroid medication    2278 non-null object\n",
      "referral source              2276 non-null object\n",
      "education-num                2277 non-null float64\n",
      "occupation                   2274 non-null object\n",
      "TBG measured                 2280 non-null object\n",
      "TBG                          2275 non-null object\n",
      "race                         2279 non-null object\n",
      "FTI                          2276 non-null object\n",
      "dtypes: float64(9), object(24)\n",
      "memory usage: 607.5+ KB\n"
     ]
    }
   ],
   "source": [
    "df_other.info()"
   ]
  },
  {
   "cell_type": "code",
   "execution_count": 79,
   "metadata": {},
   "outputs": [
    {
     "data": {
      "text/plain": [
       "name                           0\n",
       "address                        0\n",
       "query hyperthyroid            10\n",
       "FTI measured                   9\n",
       "education                      7\n",
       "lithium                       10\n",
       "TT4                          162\n",
       "T4U                          245\n",
       "capital-loss                 238\n",
       "capital-gain                   5\n",
       "tumor                         10\n",
       "TSH                          247\n",
       "T3                           482\n",
       "fnlwgt                         8\n",
       "hours-per-week                 9\n",
       "relationship                   9\n",
       "sick                          10\n",
       "workclass                    147\n",
       "TT4 measured                   9\n",
       "class                          8\n",
       "marital-status                10\n",
       "goitre                         8\n",
       "native-country                 6\n",
       "hypopituitary                  8\n",
       "medical_info                  10\n",
       "on antithyroid medication      9\n",
       "referral source               11\n",
       "education-num                 10\n",
       "occupation                    13\n",
       "TBG measured                   7\n",
       "TBG                           12\n",
       "race                           8\n",
       "FTI                           11\n",
       "dtype: int64"
      ]
     },
     "execution_count": 79,
     "metadata": {},
     "output_type": "execute_result"
    }
   ],
   "source": [
    "df_other.isnull().sum()"
   ]
  },
  {
   "cell_type": "code",
   "execution_count": 132,
   "metadata": {},
   "outputs": [
    {
     "data": {
      "text/plain": [
       "Gregory Conaway      2\n",
       "Cynthia Searles      2\n",
       "Ronda Cummings       2\n",
       "Ann Hernandez        2\n",
       "Jeanette Marshall    2\n",
       "Name: name, dtype: int64"
      ]
     },
     "execution_count": 132,
     "metadata": {},
     "output_type": "execute_result"
    }
   ],
   "source": [
    "df_other.name.value_counts().head()"
   ]
  },
  {
   "cell_type": "code",
   "execution_count": 134,
   "metadata": {},
   "outputs": [
    {
     "data": {
      "text/html": [
       "<div>\n",
       "<style scoped>\n",
       "    .dataframe tbody tr th:only-of-type {\n",
       "        vertical-align: middle;\n",
       "    }\n",
       "\n",
       "    .dataframe tbody tr th {\n",
       "        vertical-align: top;\n",
       "    }\n",
       "\n",
       "    .dataframe thead th {\n",
       "        text-align: right;\n",
       "    }\n",
       "</style>\n",
       "<table border=\"1\" class=\"dataframe\">\n",
       "  <thead>\n",
       "    <tr style=\"text-align: right;\">\n",
       "      <th></th>\n",
       "      <th>name</th>\n",
       "      <th>address</th>\n",
       "    </tr>\n",
       "  </thead>\n",
       "  <tbody>\n",
       "    <tr>\n",
       "      <th>1507</th>\n",
       "      <td>Gregory Conaway</td>\n",
       "      <td>4583 Carter Ports\\nJasonview, ID 39896</td>\n",
       "    </tr>\n",
       "    <tr>\n",
       "      <th>1701</th>\n",
       "      <td>Gregory Conaway</td>\n",
       "      <td>4583 Carter Ports\\nJasonview, ID 39896</td>\n",
       "    </tr>\n",
       "  </tbody>\n",
       "</table>\n",
       "</div>"
      ],
      "text/plain": [
       "                 name                                 address\n",
       "1507  Gregory Conaway  4583 Carter Ports\\nJasonview, ID 39896\n",
       "1701  Gregory Conaway  4583 Carter Ports\\nJasonview, ID 39896"
      ]
     },
     "execution_count": 134,
     "metadata": {},
     "output_type": "execute_result"
    }
   ],
   "source": [
    "df_other.iloc[[1507,1701]][[\"name\", \"address\"]]"
   ]
  },
  {
   "cell_type": "markdown",
   "metadata": {},
   "source": [
    "Many **duplicates** in name column with the same addresses - probably un/intentional faults?  \n",
    "Solution is in dropping others duplicates and leaving only **one** record from duplicates."
   ]
  },
  {
   "cell_type": "markdown",
   "metadata": {},
   "source": [
    "## Revealing intentional faults"
   ]
  },
  {
   "cell_type": "code",
   "execution_count": 9,
   "metadata": {},
   "outputs": [],
   "source": [
    "education_num = df_other[\"education-num\"].dropna().describe()"
   ]
  },
  {
   "cell_type": "code",
   "execution_count": 12,
   "metadata": {},
   "outputs": [
    {
     "data": {
      "text/plain": [
       "<matplotlib.axes._subplots.AxesSubplot at 0x7f017929d198>"
      ]
     },
     "execution_count": 12,
     "metadata": {},
     "output_type": "execute_result"
    },
    {
     "data": {
      "image/png": "[encoded data removed]",
      "text/plain": [
       "<Figure size 432x288 with 1 Axes>"
      ]
     },
     "metadata": {
      "needs_background": "light"
     },
     "output_type": "display_data"
    }
   ],
   "source": [
    "sns.distplot(education_num,kde=True)"
   ]
  },
  {
   "cell_type": "code",
   "execution_count": 1,
   "metadata": {},
   "outputs": [
    {
     "ename": "NameError",
     "evalue": "name 'sns' is not defined",
     "output_type": "error",
     "traceback": [
      "\u001b[0;31m---------------------------------------------------------------------------\u001b[0m",
      "\u001b[0;31mNameError\u001b[0m                                 Traceback (most recent call last)",
      "\u001b[0;32m<ipython-input-1-b42d3d2390ab>\u001b[0m in \u001b[0;36m<module>\u001b[0;34m\u001b[0m\n\u001b[0;32m----> 1\u001b[0;31m \u001b[0msns\u001b[0m\u001b[0;34m.\u001b[0m\u001b[0mboxplot\u001b[0m\u001b[0;34m(\u001b[0m\u001b[0mdata\u001b[0m\u001b[0;34m=\u001b[0m\u001b[0meducation_num\u001b[0m\u001b[0;34m,\u001b[0m\u001b[0msaturation\u001b[0m \u001b[0;34m=\u001b[0m \u001b[0;32mTrue\u001b[0m\u001b[0;34m)\u001b[0m\u001b[0;34m\u001b[0m\u001b[0m\n\u001b[0m",
      "\u001b[0;31mNameError\u001b[0m: name 'sns' is not defined"
     ]
    }
   ],
   "source": [
    "sns.boxplot(data=education_num,saturation = True)"
   ]
  },
  {
   "cell_type": "markdown",
   "metadata": {},
   "source": [
    "**Education-num** is normally distributed, however it contains also non-positive numbers, which can be thought as intentional fault"
   ]
  },
  {
   "cell_type": "code",
   "execution_count": 14,
   "metadata": {},
   "outputs": [
    {
     "data": {
      "text/plain": [
       "<matplotlib.axes._subplots.AxesSubplot at 0x7f017927b668>"
      ]
     },
     "execution_count": 14,
     "metadata": {},
     "output_type": "execute_result"
    },
    {
     "data": {
      "image/png": "[encoded data removed]",
      "text/plain": [
       "<Figure size 432x288 with 1 Axes>"
      ]
     },
     "metadata": {
      "needs_background": "light"
     },
     "output_type": "display_data"
    }
   ],
   "source": [
    "capt_gain = df_other[\"capital-gain\"].dropna().describe()\n",
    "sns.distplot(capt_gain)"
   ]
  },
  {
   "cell_type": "code",
   "execution_count": 16,
   "metadata": {},
   "outputs": [
    {
     "data": {
      "text/plain": [
       "<matplotlib.axes._subplots.AxesSubplot at 0x7f0179177630>"
      ]
     },
     "execution_count": 16,
     "metadata": {},
     "output_type": "execute_result"
    },
    {
     "data": {
      "image/png": "[encoded data removed]",
      "text/plain": [
       "<Figure size 432x288 with 1 Axes>"
      ]
     },
     "metadata": {
      "needs_background": "light"
     },
     "output_type": "display_data"
    }
   ],
   "source": [
    "sns.boxplot(data=capt_gain,saturation=True)"
   ]
  },
  {
   "cell_type": "markdown",
   "metadata": {},
   "source": [
    "From the graphs above, we can *see high level of variance* of **Capital-gain** column, which we assume to be as int. fault."
   ]
  },
  {
   "cell_type": "code",
   "execution_count": 89,
   "metadata": {},
   "outputs": [
    {
     "name": "stdout",
     "output_type": "stream",
     "text": [
      "['f' 'FALSE' 'F' 'f.2' nan 'T' 't' 'TRUE']\n"
     ]
    }
   ],
   "source": [
    "print(df_other[\"on antithyroid medication\"].unique())"
   ]
  },
  {
   "cell_type": "markdown",
   "metadata": {},
   "source": [
    "Incorrect format of True/False values in **on antithyroid medication** column.  \n",
    "Proposed solution for this problem is in normalization as follows:\n",
    "\n",
    "> **f,f.2,FALSE** for F  \n",
    "> **t,TRUE** for T  \n",
    "> **nan** - dropout or include to results at the end of observation"
   ]
  },
  {
   "cell_type": "code",
   "execution_count": 91,
   "metadata": {},
   "outputs": [
    {
     "name": "stdout",
     "output_type": "stream",
     "text": [
      "0    {'query hypothyroid':'f','T4U measured':'t','p...\n",
      "1    {'query hypothyroid':'f','T4U measured':'t','p...\n",
      "2    {'query hypothyroid':'f','T4U measured':'t','p...\n",
      "3    {'query hypothyroid':'t','T4U measured':'t','p...\n",
      "4    {'query hypothyroid':'f','T4U measured':'t','p...\n",
      "Name: medical_info, dtype: object\n"
     ]
    }
   ],
   "source": [
    "print(df_other[\"medical_info\"].head())"
   ]
  },
  {
   "cell_type": "markdown",
   "metadata": {},
   "source": [
    "As we can see, it is **JSON** format, so we will have to split it into many columns using json encoder"
   ]
  },
  {
   "cell_type": "code",
   "execution_count": 92,
   "metadata": {},
   "outputs": [
    {
     "name": "stdout",
     "output_type": "stream",
     "text": [
      "[' Private' nan '??' ' ?' ' Self-emp-not-inc' ' Local-gov' ' State-gov'\n",
      " ' Self-emp-inc' 'federal-gov' 'private' ' Federal-gov' 'local-gov' '?'\n",
      " 'self-emp-not-inc' 'Nan' 'state-gov' 'self-emp-inc' ' Without-pay']\n"
     ]
    }
   ],
   "source": [
    "print(df_other[\"workclass\"].unique())"
   ]
  },
  {
   "cell_type": "markdown",
   "metadata": {},
   "source": [
    "The same incorrect format again in questionmarks - **'??',' ?'**  \n",
    "Also, it is worth to mention **underscore** at the very beginning of the items."
   ]
  },
  {
   "cell_type": "code",
   "execution_count": 97,
   "metadata": {},
   "outputs": [
    {
     "name": "stdout",
     "output_type": "stream",
     "text": [
      "negative.|992                     1\n",
      "negative.|448                     1\n",
      "negative._2532                    1\n",
      "increased binding protein.|579    1\n",
      "negative._468                     1\n",
      "negative.|2179                    1\n",
      "negative.|1130                    1\n",
      "negative.|1068                    1\n",
      "negative._2133                    1\n",
      "negative.|2607                    1\n",
      "Name: class, dtype: int64\n"
     ]
    }
   ],
   "source": [
    "print(df_other[\"class\"].value_counts().tail(10))"
   ]
  },
  {
   "cell_type": "markdown",
   "metadata": {},
   "source": [
    "Column **class** is probably merged together with values, so we will need to split and strip into two new columns *class_status* & *class_val*.  \n",
    "Stripping will be based on '|' and '_'"
   ]
  },
  {
   "cell_type": "markdown",
   "metadata": {},
   "source": [
    "## Column distributions & Hormone analysis"
   ]
  },
  {
   "cell_type": "markdown",
   "metadata": {},
   "source": [
    "![synapsa](https://www.charlottesbook.com/wp-content/uploads/2014/10/hormones-skincare.jpg)"
   ]
  },
  {
   "cell_type": "code",
   "execution_count": 105,
   "metadata": {},
   "outputs": [
    {
     "data": {
      "text/plain": [
       "<matplotlib.axes._subplots.AxesSubplot at 0x7fa4c60b27b8>"
      ]
     },
     "execution_count": 105,
     "metadata": {},
     "output_type": "execute_result"
    },
    {
     "data": {
      "image/png": "[encoded data removed]",
      "text/plain": [
       "<Figure size 432x288 with 1 Axes>"
      ]
     },
     "metadata": {
      "needs_background": "light"
     },
     "output_type": "display_data"
    }
   ],
   "source": [
    "tsh = df_other[\"TSH\"].dropna().describe()\n",
    "sns.kdeplot(tsh,shade=True)"
   ]
  },
  {
   "cell_type": "code",
   "execution_count": 111,
   "metadata": {},
   "outputs": [
    {
     "data": {
      "text/plain": [
       "<matplotlib.axes._subplots.AxesSubplot at 0x7fa4c5defb00>"
      ]
     },
     "execution_count": 111,
     "metadata": {},
     "output_type": "execute_result"
    },
    {
     "data": {
      "image/png": "[encoded data removed]",
      "text/plain": [
       "<Figure size 432x288 with 1 Axes>"
      ]
     },
     "metadata": {
      "needs_background": "light"
     },
     "output_type": "display_data"
    }
   ],
   "source": [
    "t4u = df_other[\"T4U\"].dropna().describe()\n",
    "sns.kdeplot(t4u,shade=True)"
   ]
  },
  {
   "cell_type": "code",
   "execution_count": 127,
   "metadata": {
    "scrolled": true
   },
   "outputs": [
    {
     "data": {
      "text/plain": [
       "<matplotlib.axes._subplots.AxesSubplot at 0x7fa4c5c1acc0>"
      ]
     },
     "execution_count": 127,
     "metadata": {},
     "output_type": "execute_result"
    },
    {
     "data": {
      "image/png": "[encoded data removed]",
      "text/plain": [
       "<Figure size 432x288 with 1 Axes>"
      ]
     },
     "metadata": {
      "needs_background": "light"
     },
     "output_type": "display_data"
    }
   ],
   "source": [
    "t3 = df_other[\"T3\"].dropna().describe()\n",
    "sns.kdeplot(t3,shade=True)"
   ]
  },
  {
   "cell_type": "markdown",
   "metadata": {},
   "source": [
    "## Preprocessing a class column"
   ]
  },
  {
   "cell_type": "code",
   "execution_count": 135,
   "metadata": {},
   "outputs": [
    {
     "data": {
      "text/plain": [
       "0    increased binding protein.|2384\n",
       "1                      negative.|358\n",
       "2                     negative.|1247\n",
       "3                     negative.|1829\n",
       "4                     negative.|3531\n",
       "Name: class, dtype: object"
      ]
     },
     "execution_count": 135,
     "metadata": {},
     "output_type": "execute_result"
    }
   ],
   "source": [
    "df_other[\"class\"].head()"
   ]
  },
  {
   "cell_type": "code",
   "execution_count": 138,
   "metadata": {},
   "outputs": [
    {
     "data": {
      "text/plain": [
       "0    increased binding protein.2384\n",
       "1                      negative.358\n",
       "2                     negative.1247\n",
       "3                     negative.1829\n",
       "4                     negative.3531\n",
       "Name: class, dtype: object"
      ]
     },
     "execution_count": 138,
     "metadata": {},
     "output_type": "execute_result"
    }
   ],
   "source": [
    "df_other[\"class\"] = df_other[\"class\"].str.replace(\"_\",\"\")\n",
    "df_other[\"class\"] = df_other[\"class\"].str.replace(\"|\", \"\")\n",
    "df_other[\"class\"].head()"
   ]
  },
  {
   "cell_type": "code",
   "execution_count": 140,
   "metadata": {},
   "outputs": [
    {
     "data": {
      "text/html": [
       "<div>\n",
       "<style scoped>\n",
       "    .dataframe tbody tr th:only-of-type {\n",
       "        vertical-align: middle;\n",
       "    }\n",
       "\n",
       "    .dataframe tbody tr th {\n",
       "        vertical-align: top;\n",
       "    }\n",
       "\n",
       "    .dataframe thead th {\n",
       "        text-align: right;\n",
       "    }\n",
       "</style>\n",
       "<table border=\"1\" class=\"dataframe\">\n",
       "  <thead>\n",
       "    <tr style=\"text-align: right;\">\n",
       "      <th></th>\n",
       "      <th>class</th>\n",
       "      <th>class_protein</th>\n",
       "    </tr>\n",
       "  </thead>\n",
       "  <tbody>\n",
       "    <tr>\n",
       "      <th>0</th>\n",
       "      <td>increased binding protein</td>\n",
       "      <td>2384</td>\n",
       "    </tr>\n",
       "    <tr>\n",
       "      <th>1</th>\n",
       "      <td>negative</td>\n",
       "      <td>358</td>\n",
       "    </tr>\n",
       "    <tr>\n",
       "      <th>2</th>\n",
       "      <td>negative</td>\n",
       "      <td>1247</td>\n",
       "    </tr>\n",
       "    <tr>\n",
       "      <th>3</th>\n",
       "      <td>negative</td>\n",
       "      <td>1829</td>\n",
       "    </tr>\n",
       "    <tr>\n",
       "      <th>4</th>\n",
       "      <td>negative</td>\n",
       "      <td>3531</td>\n",
       "    </tr>\n",
       "  </tbody>\n",
       "</table>\n",
       "</div>"
      ],
      "text/plain": [
       "                       class class_protein\n",
       "0  increased binding protein          2384\n",
       "1                   negative           358\n",
       "2                   negative          1247\n",
       "3                   negative          1829\n",
       "4                   negative          3531"
      ]
     },
     "execution_count": 140,
     "metadata": {},
     "output_type": "execute_result"
    }
   ],
   "source": [
    "df_other[[\"class\", \"class_protein\"]] = df_other[\"class\"].str.split(\".\",expand = True)\n",
    "df_other[[\"class\", \"class_protein\"]].head()"
   ]
  },
  {
   "cell_type": "code",
   "execution_count": 142,
   "metadata": {},
   "outputs": [
    {
     "data": {
      "text/plain": [
       "Text(0.5, 1.0, 'Hormone TSH vs T4U Correlation')"
      ]
     },
     "execution_count": 142,
     "metadata": {},
     "output_type": "execute_result"
    },
    {
     "data": {
      "image/png": "[encoded data removed]",
      "text/plain": [
       "<Figure size 887.5x720 with 1 Axes>"
      ]
     },
     "metadata": {
      "needs_background": "light"
     },
     "output_type": "display_data"
    }
   ],
   "source": [
    "sns.catplot(x=\"TSH\", y=\"T4U\", hue = \"class\", data=df_other.dropna(),height=10)\n",
    "plt.title(\"Hormone TSH vs T4U Correlation\")"
   ]
  }
 ],
 "metadata": {
  "kernelspec": {
   "display_name": "Python 3",
   "language": "python",
   "name": "python3"
  },
  "language_info": {
   "codemirror_mode": {
    "name": "ipython",
    "version": 3
   },
   "file_extension": ".py",
   "mimetype": "text/x-python",
   "name": "python",
   "nbconvert_exporter": "python",
   "pygments_lexer": "ipython3",
   "version": "3.6.6"
  }
 },
 "nbformat": 4,
 "nbformat_minor": 2
}
